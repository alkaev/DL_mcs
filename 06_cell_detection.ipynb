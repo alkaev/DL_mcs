{
 "cells": [
  {
   "cell_type": "markdown",
   "metadata": {},
   "source": [
    "## Детекция клеток"
   ]
  },
  {
   "cell_type": "markdown",
   "metadata": {},
   "source": [
    "Ваша задача: обучить YOLO для детекции дрожжевых клеток и микроструктур (см. [07_object_detection.ipynb](../workshops/07_object_detection.ipynb)). Всё необходимое для запуска обучения вы можете взять из ноутбука с практикой, доделать нужно будет самую малость:\n",
    "- реализовать расчёт Mean Average Precision для всего валидационного сета\n",
    "- попробовать привести regression loss к виду, который используется в Yolo9000 и YoloV3\n",
    "- подобрать лучшие размеры якорных рамок с помощью кластеризации\n",
    "\n",
    "Основная цель: любыми средствами добиться $mAP > 0.6$ на валидации.\n",
    "\n",
    "Используйте класс `torchmetrics.detection.MeanAveragePrecision` для расчёта $mAP$.\n",
    "\n",
    "Нас будет интересовать именно значение `map` в словаре со всеми метриками - это mean average precision, усреднённый по всем отсечкам intersection over union в диапазоне $[0.5, 0.95]$ (см. документацию к классу).\n",
    "\n",
    "При решении можно пользоваться `lightning` или писать цикл обучения вручную. В последнем случае не забудьте вручную отправить модель и батчи на GPU, чтобы обучалось быстрее"
   ]
  },
  {
   "cell_type": "markdown",
   "metadata": {},
   "source": [
    "### Задание 1 (3 балла). Цикл обучения с расчётом Mean Average Precision\n",
    "\n",
    "Запустите обучение модели из практики на всём обучающем датасете, выведите значение $mAP$ на валидационном датасете после окончания обучения.\n",
    "\n",
    "В этом задании добейтесь $mAP > 0.3$, если всё сделано правильно - для этого должно хватать 30-50 эпох."
   ]
  },
  {
   "cell_type": "code",
   "execution_count": 1,
   "metadata": {},
   "outputs": [],
   "source": [
    "from pathlib import Path\n",
    "\n",
    "import matplotlib.patches as patches\n",
    "import matplotlib.pyplot as plt\n",
    "import numpy as np\n",
    "import torch\n",
    "from matplotlib.figure import Figure\n",
    "from torch import Tensor, nn\n",
    "from torch.utils.data import DataLoader, Dataset\n",
    "from torchmetrics.functional.detection import intersection_over_union\n",
    "from torchvision.ops.boxes import box_convert"
   ]
  },
  {
   "cell_type": "code",
   "execution_count": 2,
   "metadata": {},
   "outputs": [],
   "source": [
    "\n",
    "torch.manual_seed(42)\n",
    "device = torch.device(\"cuda\")"
   ]
  },
  {
   "cell_type": "code",
   "execution_count": 3,
   "metadata": {},
   "outputs": [],
   "source": [
    "def process_yolo_preds(preds: Tensor, rescaled_anchors: Tensor) -> tuple[Tensor, Tensor, Tensor]:\n",
    "    \"\"\"\n",
    "    Преобразование выходов модели в\n",
    "    1. Логит наличия объекта (вероятность получается применением сигмоиды)\n",
    "    2. Положение рамки относительно ячейки в формате cxcywh\n",
    "    3. Логиты классов (вероятности получаются применением softmax)\n",
    "    \"\"\"\n",
    "    rescaled_anchors = rescaled_anchors.view(1, len(rescaled_anchors), 1, 1, 2)\n",
    "    box_predictions = preds[..., 1:5].clone()\n",
    "\n",
    "    box_predictions[..., 0:2] = torch.sigmoid(box_predictions[..., 0:2])\n",
    "    box_predictions[..., 2:] = torch.exp(box_predictions[..., 2:]) * rescaled_anchors\n",
    "\n",
    "    scores = preds[..., 0:1]\n",
    "    return scores, box_predictions, preds[..., 5:]"
   ]
  },
  {
   "cell_type": "code",
   "execution_count": 4,
   "metadata": {},
   "outputs": [],
   "source": [
    "GRID_SIZE = 8\n",
    "IMAGE_SIZE = 256\n",
    "ANCHORS = [\n",
    "    [48, 72],\n",
    "    # [64, 64],\n",
    "    # [72, 48],\n",
    "]\n",
    "\n",
    "rescaled_anchors = torch.tensor(ANCHORS).to(device=device) / IMAGE_SIZE * GRID_SIZE"
   ]
  },
  {
   "cell_type": "code",
   "execution_count": 5,
   "metadata": {},
   "outputs": [
    {
     "name": "stdout",
     "output_type": "stream",
     "text": [
      "109431\n"
     ]
    },
    {
     "data": {
      "text/plain": [
       "torch.Size([2, 1, 8, 8, 7])"
      ]
     },
     "execution_count": 5,
     "metadata": {},
     "output_type": "execute_result"
    }
   ],
   "source": [
    "class CNNBlock(nn.Module):\n",
    "    def __init__(self, in_channels: int, out_channels: int, **kwargs):\n",
    "        super().__init__()\n",
    "        self.conv = nn.Conv2d(in_channels, out_channels, bias=False, **kwargs)\n",
    "        self.bn = nn.BatchNorm2d(out_channels)\n",
    "        self.activation = nn.LeakyReLU(0.1)\n",
    "\n",
    "    def forward(self, x):\n",
    "        x = self.conv(x)\n",
    "        x = self.bn(x)\n",
    "        return self.activation(x)\n",
    "\n",
    "class TinyYOLO(nn.Module):\n",
    "    def __init__(self, num_classes: int = 2, num_anchors: int = 1, in_channels: int = 1) -> None:\n",
    "        super().__init__()\n",
    "        self.num_classes = num_classes\n",
    "        self.in_channels = in_channels\n",
    "        self.num_anchors = num_anchors\n",
    "        self.layers = nn.Sequential(\n",
    "            CNNBlock(1, 16, kernel_size=3, stride=2, padding=1, dilation=2),\n",
    "            CNNBlock(16, 32, kernel_size=3, stride=2, padding=1, dilation=2),\n",
    "            CNNBlock(32, 64, kernel_size=3, stride=2, padding=1, dilation=2),\n",
    "            CNNBlock(64, 128, kernel_size=3, stride=2, padding=1, groups=8),\n",
    "            CNNBlock(128, 256, kernel_size=3, stride=1, padding=1, groups=8),\n",
    "            CNNBlock(256, 256, kernel_size=3, stride=1, padding=1, groups=16),\n",
    "            nn.MaxPool2d(2, 2),\n",
    "            nn.Conv2d(256, num_anchors * (num_classes + 5), kernel_size=1)\n",
    "        )\n",
    "    \n",
    "    def forward(self, x: Tensor) -> Tensor:\n",
    "        x = self.layers(x)\n",
    "        B, _, W, H = x.shape\n",
    "        x = x.view(B, self.num_anchors, self.num_classes + 5, W, H)  # B A F W H\n",
    "        x = x.permute(0, 1, 3, 4, 2)  # B A W H F\n",
    "        return x\n",
    "\n",
    "\n",
    "model = TinyYOLO(in_channels=1, num_anchors=1, num_classes=2)\n",
    "print(sum(p.numel() for p in model.parameters()))\n",
    "model.forward(torch.randn(2, 1, 256, 256)).shape"
   ]
  },
  {
   "cell_type": "code",
   "execution_count": 6,
   "metadata": {},
   "outputs": [],
   "source": [
    "def iou_wh(wh1: Tensor, wh2: Tensor) -> Tensor:\n",
    "    # IoU based on width and height of bboxes\n",
    "\n",
    "    # intersection\n",
    "    intersection_area = torch.min(wh1[..., 0], wh2[..., 0]) * torch.min(wh1[..., 1], wh2[..., 1])\n",
    "\n",
    "    # union\n",
    "    box1_area = wh1[..., 0] * wh1[..., 1]\n",
    "    box2_area = wh2[..., 0] * wh2[..., 1]\n",
    "    union_area = box1_area + box2_area - intersection_area\n",
    "\n",
    "    iou_score = intersection_area / union_area\n",
    "    return iou_score\n",
    "\n",
    "\n",
    "def boxes_to_cells(\n",
    "    boxes: Tensor,\n",
    "    classes: Tensor,\n",
    "    rescaled_anchors: Tensor,\n",
    "    grid_size: int = 8,\n",
    "    ignore_iou_thresh: float = 0.5,\n",
    ") -> Tensor:\n",
    "    \"\"\"\n",
    "    Переводит bbox представление в клеточное представление, где каждая рамка -\n",
    "    (id класса, вероятность нахождения объекта, cx, cy, w, h), а клеточное представление\n",
    "    имеет размер (batch_size, n_anchors, grid_size, grid_size, 6), в последней размерности\n",
    "    хранятся признаки ячейки: класс объекта, вероятность объекта, координаты и размеры рамки\n",
    "    относительно ячейки\n",
    "\n",
    "    Args:\n",
    "        boxes (Tensor): тензор со всеми рамками\n",
    "        classes (Tensor): тензор с id классов объектов\n",
    "        rescaled_anchors (Tensor): тензор размера (n_anchors, 2) с размерами якорей в долях от размеров ячейки\n",
    "        grid_size (int): размер сетки,\n",
    "        ignore_iou_thresh (float, optional): значение IoU для рамок, при котором ячейка,\n",
    "            занятая более чем одним объектом, будет специально помечена для игнорирования\n",
    "    \"\"\"\n",
    "    targets = torch.zeros((len(rescaled_anchors), grid_size, grid_size, 6))\n",
    "\n",
    "    # Каждой рамке сопоставляем клетку и наиболее подходящий якорь\n",
    "    for box, class_label in zip(boxes, classes):\n",
    "        iou_anchors = iou_wh(box[2:4], rescaled_anchors / grid_size)\n",
    "        anchor_indices = iou_anchors.argsort(descending=True, dim=0)\n",
    "        x, y, width, height = box\n",
    "\n",
    "        # Относим рамку к наиболее подходящему якорю\n",
    "        has_anchor = False\n",
    "        for anchor_idx in anchor_indices:\n",
    "            s = grid_size\n",
    "\n",
    "            # Определяем клетку, к которой относится рамка\n",
    "            i, j = int(s * y), int(s * x)\n",
    "            anchor_taken = targets[anchor_idx, i, j, 0]\n",
    "\n",
    "            # Проверяем, доступен ли якорная рамка для текущей ячейки\n",
    "            if not anchor_taken and not has_anchor:\n",
    "                # Пересчитываем координаты по отношению к клетке\n",
    "                x_cell, y_cell = s * x - j, s * y - i\n",
    "                width_cell, height_cell = (width * s, height * s)\n",
    "                box_coordinates = torch.tensor([x_cell, y_cell, width_cell, height_cell])\n",
    "\n",
    "                # Заполняем содержимое для выбранной клетки\n",
    "                targets[anchor_idx, i, j, 0] = 1  # указатель, что в клетке есть объект\n",
    "                targets[anchor_idx, i, j, 1:5] = box_coordinates\n",
    "                targets[anchor_idx, i, j, 5] = int(class_label)\n",
    "\n",
    "                has_anchor = True\n",
    "\n",
    "            # Если якорь уже выбран, проверим IoU, если больше threshold - пометим клетку -1\n",
    "            elif not anchor_taken and iou_anchors[anchor_idx] > ignore_iou_thresh:\n",
    "                targets[anchor_idx, i, j, 0] = -1\n",
    "\n",
    "    return targets"
   ]
  },
  {
   "cell_type": "code",
   "execution_count": null,
   "metadata": {},
   "outputs": [],
   "source": []
  },
  {
   "cell_type": "code",
   "execution_count": 7,
   "metadata": {},
   "outputs": [],
   "source": [
    "class YeastDetectionDataset(Dataset):\n",
    "    def __init__(\n",
    "        self, subset_dir: Path, anchors: list[tuple[int, int]], image_size: int, grid_size: int = 8\n",
    "    ) -> None:\n",
    "        super().__init__()\n",
    "        self.subset_dir = subset_dir\n",
    "        self.items = list((self.subset_dir / \"inputs\").glob(\"*.pt\"))\n",
    "        # Ignore IoU threshold\n",
    "        self.ignore_iou_thresh = 0.5\n",
    "        self.rescaled_anchors = torch.tensor(anchors) / image_size * grid_size\n",
    "        self.grid_size = grid_size\n",
    "        self.image_size = image_size\n",
    "\n",
    "    def __len__(self) -> int:\n",
    "        return len(self.items)\n",
    "\n",
    "    def __getitem__(self, index: int) -> tuple[Tensor, Tensor]:\n",
    "        image_path = self.items[index]\n",
    "        # load everything\n",
    "        image = torch.load(image_path, weights_only=True).unsqueeze(0)\n",
    "        classes = (\n",
    "            torch.load(self.subset_dir / \"classes\" / image_path.parts[-1], weights_only=True) + 1\n",
    "        )\n",
    "        boxes = torch.load(\n",
    "            self.subset_dir / \"bounding_boxes\" / image_path.parts[-1], weights_only=True\n",
    "        )\n",
    "        boxes = box_convert(boxes, \"xyxy\", \"cxcywh\") / self.image_size\n",
    "\n",
    "        # convert boxes to cells\n",
    "        targets = boxes_to_cells(\n",
    "            boxes, classes, self.rescaled_anchors, self.grid_size, self.ignore_iou_thresh\n",
    "        )\n",
    "        return image, targets"
   ]
  },
  {
   "cell_type": "code",
   "execution_count": 8,
   "metadata": {},
   "outputs": [],
   "source": [
    "train_dataset = YeastDetectionDataset(\n",
    "    Path(\"yeast_cell_in_microstructures_dataset/train\"), anchors=ANCHORS, image_size=256\n",
    ")\n",
    "val_dataset = YeastDetectionDataset(Path(\"yeast_cell_in_microstructures_dataset/val\"), anchors=ANCHORS, image_size=256)\n",
    "\n",
    "batch_size = 32\n",
    "train_loader = DataLoader(dataset=train_dataset, batch_size=batch_size, shuffle=True)\n",
    "val_loader = DataLoader(dataset=val_dataset, batch_size=batch_size, shuffle=False)"
   ]
  },
  {
   "cell_type": "code",
   "execution_count": 9,
   "metadata": {},
   "outputs": [],
   "source": [
    "def cells_to_bboxes(cells: Tensor, rescaled_anchors: Tensor, is_predictions=False) -> Tensor:\n",
    "    \"\"\"\n",
    "    Переводит клеточное представление в bbox представление, где каждая рамка -\n",
    "    (id класса, вероятность нахождения объекта, cx, cy, w, h), а клеточное представление\n",
    "    имеет размер (batch_size, n_anchors, grid_size, grid_size, 6), в последней размерности\n",
    "    хранятся признаки ячейки: класс объекта, вероятность объекта, координаты и размеры рамки\n",
    "    относительно ячейки\n",
    "\n",
    "    Args:\n",
    "        cells (Tensor): тензор размера (batch_size, n_anchors, width, height, 6)\n",
    "        rescaled_anchors (Tensor): тензор размера (n_anchors, 2) с размерами якорей в долях от размеров ячейки\n",
    "        is_predictions (bool, optional): являются ли входные ячейки предсказаниями или верной аннотацией.\n",
    "    \"\"\"\n",
    "\n",
    "    if is_predictions:\n",
    "        scores, box_predictions, logits = process_yolo_preds(cells, rescaled_anchors)\n",
    "        scores = torch.sigmoid(scores)\n",
    "        best_class = torch.argmax(logits, dim=-1).unsqueeze(-1) + 1\n",
    "\n",
    "    else:\n",
    "        box_predictions = cells[..., 1:5].clone()\n",
    "        scores = cells[..., 0:1]\n",
    "        best_class = cells[..., 5:6]\n",
    "\n",
    "    # масштабируем размер рамок [0, grid_size] -> [0, 1]\n",
    "    _, _, H, W, _ = cells.shape\n",
    "    range_y, range_x = torch.meshgrid(\n",
    "        torch.arange(H, dtype=cells.dtype, device=cells.device),\n",
    "        torch.arange(W, dtype=cells.dtype, device=cells.device),\n",
    "        indexing=\"ij\",\n",
    "    )\n",
    "    x = torch.cat(\n",
    "        [\n",
    "            best_class,\n",
    "            scores,\n",
    "            (box_predictions[..., 0:1] + range_x[None, None, :, :, None]) / W,  # X center\n",
    "            (box_predictions[..., 1:2] + range_y[None, None, :, :, None]) / H,  # Y center\n",
    "            box_predictions[..., 2:3] / W,  # Width\n",
    "            box_predictions[..., 3:4] / H,  # Height\n",
    "        ],\n",
    "        -1,\n",
    "    )\n",
    "\n",
    "    return x.view(-1, 6)"
   ]
  },
  {
   "cell_type": "code",
   "execution_count": 10,
   "metadata": {},
   "outputs": [],
   "source": [
    "def plot_image(image: Tensor, boxes: Tensor, class_labels: list[str]) -> Figure:\n",
    "    # назначим цвета для классов\n",
    "    colour_map = plt.get_cmap(\"tab20b\")\n",
    "    colors = [colour_map(i) for i in np.linspace(0, 1, len(class_labels))]\n",
    "\n",
    "    fig, ax = plt.subplots(1)\n",
    "    ax.imshow(image, cmap=\"gray\")\n",
    "    h, w = image.shape\n",
    "    for box in boxes:\n",
    "        # добавляем прямоугольник\n",
    "        class_pred = box[0] - 1\n",
    "        box = box[2:]\n",
    "        upper_left_x = box[0] - box[2] / 2\n",
    "        upper_left_y = box[1] - box[3] / 2\n",
    "\n",
    "        rect = patches.Rectangle(\n",
    "            (upper_left_x * w, upper_left_y * h),\n",
    "            box[2] * w,\n",
    "            box[3] * h,\n",
    "            linewidth=2,\n",
    "            edgecolor=colors[int(class_pred)],\n",
    "            facecolor=\"none\",\n",
    "        )\n",
    "        ax.add_patch(rect)\n",
    "\n",
    "        # добавляем подпись\n",
    "        ax.text(\n",
    "            upper_left_x * w,\n",
    "            upper_left_y * h,\n",
    "            s=class_labels[int(class_pred)],\n",
    "            color=\"white\",\n",
    "            verticalalignment=\"top\",\n",
    "            bbox={\"color\": colors[int(class_pred)], \"pad\": 0},\n",
    "        )\n",
    "\n",
    "    return fig"
   ]
  },
  {
   "cell_type": "code",
   "execution_count": 11,
   "metadata": {},
   "outputs": [
    {
     "name": "stdout",
     "output_type": "stream",
     "text": [
      "109431\n",
      "1.695744276046753\n"
     ]
    }
   ],
   "source": [
    "class YOLOLoss(nn.Module):\n",
    "    def __init__(self):\n",
    "        super().__init__()\n",
    "        self.mse = nn.MSELoss()\n",
    "        self.bce = nn.BCEWithLogitsLoss()\n",
    "        self.cross_entropy = nn.CrossEntropyLoss()\n",
    "\n",
    "    def forward(self, pred: Tensor, target: Tensor, anchors: Tensor) -> Tensor:\n",
    "        # ниже входные тензоры будут меняться на месте, так что склонируем их\n",
    "        pred = pred.clone()\n",
    "        target = target.clone()\n",
    "\n",
    "        # разделяем рамки на содержащие объекты и не содержащие\n",
    "        # NB: ещё могут быть -1, куда отнеслось более 1 объекта - их не учитываем\n",
    "        obj = target[..., 0] == 1\n",
    "        no_obj = target[..., 0] == 0\n",
    "\n",
    "        # преобразуем предсказания bbox\n",
    "        scores, pred_boxes, logits = process_yolo_preds(pred, anchors)\n",
    "\n",
    "        # no object loss: кросс-энтропия вместо MSE\n",
    "        no_object_loss = self.bce(\n",
    "            (scores[no_obj]),\n",
    "            (target[..., 0:1][no_obj]),\n",
    "        )\n",
    "\n",
    "        # object loss: учим предсказывать IoU\n",
    "        ious = intersection_over_union(pred_boxes[obj], target[..., 1:5][obj]).detach()\n",
    "        object_loss = self.mse(scores[obj].sigmoid(), ious * target[..., 0:1][obj])\n",
    "\n",
    "        # box coordinate loss: логарифмируем размеры рамок перед расчётом MSE\n",
    "        anchors = anchors.reshape(1, len(anchors), 1, 1, 2)\n",
    "        pred[..., 1:3] = pred[..., 1:3].sigmoid()\n",
    "        target[..., 3:5] = torch.log(1e-6 + target[..., 3:5] / anchors)\n",
    "        box_loss = self.mse(pred[..., 1:5][obj], target[..., 1:5][obj])\n",
    "\n",
    "        # class loss: здесь всё обычно\n",
    "        class_loss = self.cross_entropy(logits[obj], target[..., 5][obj].long() - 1)\n",
    "\n",
    "        # Total loss\n",
    "        return box_loss + object_loss + no_object_loss + class_loss\n",
    "\n",
    "rescaled_anchors = rescaled_anchors.to(device)  \n",
    "\n",
    "torch.manual_seed(42)\n",
    "x, y = next(iter(train_loader))\n",
    "device = torch.device(\"cuda\")\n",
    "x, y = x.to(device), y.to(device)\n",
    "\n",
    "model = TinyYOLO(in_channels=1, num_classes=2, num_anchors=len(rescaled_anchors)).to(device)\n",
    "print(sum(p.numel() for p in model.parameters()))\n",
    "\n",
    "preds = model(x)\n",
    "\n",
    "loss_fn = YOLOLoss().to(device)\n",
    "\n",
    "# Убеждаемся, что anchors тоже на CUDA\n",
    "rescaled_anchors = rescaled_anchors.to(device)\n",
    "\n",
    "# Теперь вызываем функцию потерь\n",
    "loss = loss_fn(preds, y, rescaled_anchors)\n",
    "print(loss.item())\n"
   ]
  },
  {
   "cell_type": "code",
   "execution_count": 12,
   "metadata": {},
   "outputs": [],
   "source": [
    "from typing import Callable, Type, Any\n",
    "import lightning as L\n",
    "\n",
    "from lightning.pytorch.utilities.types import EVAL_DATALOADERS, TRAIN_DATALOADERS\n",
    "from PIL.Image import Image\n",
    "from torch.utils.data import DataLoader\n",
    "from torchvision import datasets, transforms\n",
    "\n",
    "_collate_fn_t = Callable[[list[tuple[Tensor, Any]]], Any]\n",
    "\n",
    "class Datamodule(L.LightningDataModule):\n",
    "    def __init__(\n",
    "        self,\n",
    "        datadir: Path,\n",
    "        dataset_class: Type[Dataset],\n",
    "        batch_size: int,\n",
    "        train_subdir: str = \"train\",\n",
    "        val_subdir: str = \"val\",\n",
    "        test_subdir: str = \"test\",\n",
    "    ) -> None:\n",
    "        super().__init__()\n",
    "        self.batch_size = batch_size\n",
    "        self.dataset_class = dataset_class\n",
    "        self.train_dir = datadir / train_subdir\n",
    "        self.val_dir = datadir / val_subdir\n",
    "        self.test_dir = datadir / test_subdir\n",
    "\n",
    "    @property\n",
    "    def collate_fn(self) -> _collate_fn_t | None:\n",
    "        if self.dataset_class == YeastDetectionDataset:\n",
    "            return None\n",
    "        else:\n",
    "            return lambda batch: tuple(zip(*batch))\n",
    "\n",
    "    def setup(self, stage: str) -> None:\n",
    "        if stage in (\"fit\", \"validate\"):\n",
    "            self.val_dataset = self.dataset_class(self.val_dir, anchors=ANCHORS, image_size=256)\n",
    "        if stage == \"fit\":\n",
    "            self.train_dataset = self.dataset_class(self.train_dir, anchors=ANCHORS, image_size=256)\n",
    "        elif stage == \"test\":\n",
    "            self.test_dataset = self.dataset_class(self.test_dir, anchors=ANCHORS, image_size=256)\n",
    "\n",
    "    def train_dataloader(self) -> TRAIN_DATALOADERS:\n",
    "        return DataLoader(\n",
    "            self.train_dataset,\n",
    "            batch_size=self.batch_size,\n",
    "            shuffle=True,\n",
    "            collate_fn=self.collate_fn,\n",
    "        )\n",
    "\n",
    "    def val_dataloader(self) -> EVAL_DATALOADERS:\n",
    "        return DataLoader(\n",
    "            self.val_dataset,\n",
    "            batch_size=self.batch_size,\n",
    "            shuffle=False,\n",
    "            collate_fn=self.collate_fn,\n",
    "        )\n",
    "\n",
    "    def test_dataloader(self) -> EVAL_DATALOADERS:\n",
    "        return DataLoader(\n",
    "            self.test_dataset,\n",
    "            batch_size=self.batch_size,\n",
    "            shuffle=False,\n",
    "            collate_fn=self.collate_fn,\n",
    "        )"
   ]
  },
  {
   "cell_type": "code",
   "execution_count": 13,
   "metadata": {},
   "outputs": [],
   "source": [
    "from typing import Any\n",
    "from torchvision.ops.boxes import nms\n",
    "from lightning.pytorch.utilities.types import STEP_OUTPUT\n",
    "import torchmetrics.classification\n",
    "from torchmetrics.detection import MeanAveragePrecision\n",
    "\n",
    "\n",
    "class Lit(L.LightningModule):\n",
    "    def __init__(self, model: nn.Module, learning_rate: float) -> None:\n",
    "        super().__init__()\n",
    "        self.save_hyperparameters()\n",
    "        self.model = model\n",
    "        self.learning_rate = learning_rate\n",
    "        self.loss_fn = YOLOLoss()\n",
    "\n",
    "    def training_step(\n",
    "        self, batch: tuple[Tensor, Tensor], batch_idx: int\n",
    "    ) -> STEP_OUTPUT:\n",
    "        x, y = batch\n",
    "        y_hat = self.model(x)\n",
    "        loss = self.loss_fn.forward(y_hat, y, rescaled_anchors)\n",
    "        self.log(\"train_loss\", loss, on_epoch=True, on_step=False)\n",
    "        # обновляем метрики и логируем раз в эпоху\n",
    "\n",
    "        return loss\n",
    "\n",
    "    def validation_step(\n",
    "        self, batch: tuple[Tensor, Tensor], batch_idx: int\n",
    "    ) -> STEP_OUTPUT | None:\n",
    "        x, y = batch\n",
    "        y_hat = self.model(x)\n",
    "        loss = self.loss_fn.forward(y_hat, y, rescaled_anchors)\n",
    "        self.log(\"val_loss\", loss, on_epoch=True, on_step=False)\n",
    "        # обновляем метрики и логируем раз в эпоху\n",
    "        return {\n",
    "            \"loss\": loss,\n",
    "            \"preds\": y_hat,\n",
    "        }\n",
    "    \n",
    "    def on_validation_epoch_end(self) -> None:\n",
    "        val_loss = self.trainer.callback_metrics[\"val_loss\"]\n",
    "        print(f\" Val. Loss: {val_loss:.4f}\")\n",
    "    \n",
    "\n",
    "    def configure_optimizers(self) -> dict[str, Any]:\n",
    "        optimizer = torch.optim.AdamW(self.model.parameters(), lr=self.learning_rate)\n",
    "        # давайте кроме оптимизатора создадим ещё расписание для шага оптимизации\n",
    "        return {\n",
    "            \"optimizer\": optimizer,\n",
    "            \"lr_scheduler\": torch.optim.lr_scheduler.MultiStepLR(\n",
    "                optimizer, milestones=[5, 10, 15]\n",
    "            ),\n",
    "        }"
   ]
  },
  {
   "cell_type": "code",
   "execution_count": 14,
   "metadata": {},
   "outputs": [
    {
     "name": "stderr",
     "output_type": "stream",
     "text": [
      "GPU available: True (cuda), used: True\n",
      "TPU available: False, using: 0 TPU cores\n",
      "HPU available: False, using: 0 HPUs\n",
      "/home/ne_ravilka/miniconda3/envs/dl-mcs/lib/python3.12/site-packages/lightning/pytorch/utilities/parsing.py:209: Attribute 'model' is an instance of `nn.Module` and is already saved during checkpointing. It is recommended to ignore them using `self.save_hyperparameters(ignore=['model'])`.\n",
      "You are using a CUDA device ('NVIDIA GeForce RTX 3060 Laptop GPU') that has Tensor Cores. To properly utilize them, you should set `torch.set_float32_matmul_precision('medium' | 'high')` which will trade-off precision for performance. For more details, read https://pytorch.org/docs/stable/generated/torch.set_float32_matmul_precision.html#torch.set_float32_matmul_precision\n",
      "LOCAL_RANK: 0 - CUDA_VISIBLE_DEVICES: [0]\n",
      "\n",
      "  | Name    | Type     | Params | Mode \n",
      "---------------------------------------------\n",
      "0 | model   | TinyYOLO | 109 K  | train\n",
      "1 | loss_fn | YOLOLoss | 0      | train\n",
      "---------------------------------------------\n",
      "109 K     Trainable params\n",
      "0         Non-trainable params\n",
      "109 K     Total params\n",
      "0.438     Total estimated model params size (MB)\n",
      "32        Modules in train mode\n",
      "0         Modules in eval mode\n"
     ]
    },
    {
     "data": {
      "application/vnd.jupyter.widget-view+json": {
       "model_id": "89226a3de5cb4f92bb9d6fed2cfd82f5",
       "version_major": 2,
       "version_minor": 0
      },
      "text/plain": [
       "Sanity Checking: |          | 0/? [00:00<?, ?it/s]"
      ]
     },
     "metadata": {},
     "output_type": "display_data"
    },
    {
     "name": "stderr",
     "output_type": "stream",
     "text": [
      "/home/ne_ravilka/miniconda3/envs/dl-mcs/lib/python3.12/site-packages/lightning/pytorch/trainer/connectors/data_connector.py:425: The 'val_dataloader' does not have many workers which may be a bottleneck. Consider increasing the value of the `num_workers` argument` to `num_workers=11` in the `DataLoader` to improve performance.\n"
     ]
    },
    {
     "name": "stdout",
     "output_type": "stream",
     "text": [
      " Val. Loss: 1.4646\n"
     ]
    },
    {
     "name": "stderr",
     "output_type": "stream",
     "text": [
      "/home/ne_ravilka/miniconda3/envs/dl-mcs/lib/python3.12/site-packages/lightning/pytorch/trainer/connectors/data_connector.py:425: The 'train_dataloader' does not have many workers which may be a bottleneck. Consider increasing the value of the `num_workers` argument` to `num_workers=11` in the `DataLoader` to improve performance.\n"
     ]
    },
    {
     "data": {
      "application/vnd.jupyter.widget-view+json": {
       "model_id": "378a4506a2aa496e8ed7c30eb1812557",
       "version_major": 2,
       "version_minor": 0
      },
      "text/plain": [
       "Training: |          | 0/? [00:00<?, ?it/s]"
      ]
     },
     "metadata": {},
     "output_type": "display_data"
    },
    {
     "data": {
      "application/vnd.jupyter.widget-view+json": {
       "model_id": "5d2594ac3cc14cd79642f9dadaa2eaa2",
       "version_major": 2,
       "version_minor": 0
      },
      "text/plain": [
       "Validation: |          | 0/? [00:00<?, ?it/s]"
      ]
     },
     "metadata": {},
     "output_type": "display_data"
    },
    {
     "name": "stdout",
     "output_type": "stream",
     "text": [
      " Val. Loss: 0.2550\n"
     ]
    },
    {
     "data": {
      "application/vnd.jupyter.widget-view+json": {
       "model_id": "052b543dd2064b2e99aacec696679615",
       "version_major": 2,
       "version_minor": 0
      },
      "text/plain": [
       "Validation: |          | 0/? [00:00<?, ?it/s]"
      ]
     },
     "metadata": {},
     "output_type": "display_data"
    },
    {
     "name": "stdout",
     "output_type": "stream",
     "text": [
      " Val. Loss: 0.1614\n"
     ]
    },
    {
     "data": {
      "application/vnd.jupyter.widget-view+json": {
       "model_id": "bd6e603fd80e42b8a765f651b9658004",
       "version_major": 2,
       "version_minor": 0
      },
      "text/plain": [
       "Validation: |          | 0/? [00:00<?, ?it/s]"
      ]
     },
     "metadata": {},
     "output_type": "display_data"
    },
    {
     "name": "stdout",
     "output_type": "stream",
     "text": [
      " Val. Loss: 0.1368\n"
     ]
    },
    {
     "data": {
      "application/vnd.jupyter.widget-view+json": {
       "model_id": "a320d83fee26415591fff599ef6aa400",
       "version_major": 2,
       "version_minor": 0
      },
      "text/plain": [
       "Validation: |          | 0/? [00:00<?, ?it/s]"
      ]
     },
     "metadata": {},
     "output_type": "display_data"
    },
    {
     "name": "stdout",
     "output_type": "stream",
     "text": [
      " Val. Loss: 0.1328\n"
     ]
    },
    {
     "data": {
      "application/vnd.jupyter.widget-view+json": {
       "model_id": "667edf939cef44cca012665f85a2a8e3",
       "version_major": 2,
       "version_minor": 0
      },
      "text/plain": [
       "Validation: |          | 0/? [00:00<?, ?it/s]"
      ]
     },
     "metadata": {},
     "output_type": "display_data"
    },
    {
     "name": "stdout",
     "output_type": "stream",
     "text": [
      " Val. Loss: 0.1107\n"
     ]
    },
    {
     "data": {
      "application/vnd.jupyter.widget-view+json": {
       "model_id": "32413cedf23c486e960a33625a479628",
       "version_major": 2,
       "version_minor": 0
      },
      "text/plain": [
       "Validation: |          | 0/? [00:00<?, ?it/s]"
      ]
     },
     "metadata": {},
     "output_type": "display_data"
    },
    {
     "name": "stdout",
     "output_type": "stream",
     "text": [
      " Val. Loss: 0.1174\n"
     ]
    },
    {
     "data": {
      "application/vnd.jupyter.widget-view+json": {
       "model_id": "bb46a9f0e374428485523b3333ac33a7",
       "version_major": 2,
       "version_minor": 0
      },
      "text/plain": [
       "Validation: |          | 0/? [00:00<?, ?it/s]"
      ]
     },
     "metadata": {},
     "output_type": "display_data"
    },
    {
     "name": "stdout",
     "output_type": "stream",
     "text": [
      " Val. Loss: 0.1173\n"
     ]
    },
    {
     "data": {
      "application/vnd.jupyter.widget-view+json": {
       "model_id": "f5b6117735eb4c9d8c6dd8f2dd0e82a9",
       "version_major": 2,
       "version_minor": 0
      },
      "text/plain": [
       "Validation: |          | 0/? [00:00<?, ?it/s]"
      ]
     },
     "metadata": {},
     "output_type": "display_data"
    },
    {
     "name": "stdout",
     "output_type": "stream",
     "text": [
      " Val. Loss: 0.1167\n"
     ]
    },
    {
     "data": {
      "application/vnd.jupyter.widget-view+json": {
       "model_id": "05f20df33258476886b028586d59a931",
       "version_major": 2,
       "version_minor": 0
      },
      "text/plain": [
       "Validation: |          | 0/? [00:00<?, ?it/s]"
      ]
     },
     "metadata": {},
     "output_type": "display_data"
    },
    {
     "name": "stdout",
     "output_type": "stream",
     "text": [
      " Val. Loss: 0.1207\n"
     ]
    },
    {
     "data": {
      "application/vnd.jupyter.widget-view+json": {
       "model_id": "5e1a46e4ede743ab8fbed07c2f3422c2",
       "version_major": 2,
       "version_minor": 0
      },
      "text/plain": [
       "Validation: |          | 0/? [00:00<?, ?it/s]"
      ]
     },
     "metadata": {},
     "output_type": "display_data"
    },
    {
     "name": "stdout",
     "output_type": "stream",
     "text": [
      " Val. Loss: 0.1197\n"
     ]
    },
    {
     "data": {
      "application/vnd.jupyter.widget-view+json": {
       "model_id": "786a48c960bf4e4b8f5eefbfb03df7dd",
       "version_major": 2,
       "version_minor": 0
      },
      "text/plain": [
       "Validation: |          | 0/? [00:00<?, ?it/s]"
      ]
     },
     "metadata": {},
     "output_type": "display_data"
    },
    {
     "name": "stdout",
     "output_type": "stream",
     "text": [
      " Val. Loss: 0.1217\n"
     ]
    },
    {
     "data": {
      "application/vnd.jupyter.widget-view+json": {
       "model_id": "ffd922f60b544fca8dec9986840e2d72",
       "version_major": 2,
       "version_minor": 0
      },
      "text/plain": [
       "Validation: |          | 0/? [00:00<?, ?it/s]"
      ]
     },
     "metadata": {},
     "output_type": "display_data"
    },
    {
     "name": "stdout",
     "output_type": "stream",
     "text": [
      " Val. Loss: 0.1221\n"
     ]
    },
    {
     "data": {
      "application/vnd.jupyter.widget-view+json": {
       "model_id": "a8d5f4f1ae1347c884128d6cc8832a93",
       "version_major": 2,
       "version_minor": 0
      },
      "text/plain": [
       "Validation: |          | 0/? [-1:59:58<?, ?it/s]"
      ]
     },
     "metadata": {},
     "output_type": "display_data"
    },
    {
     "name": "stdout",
     "output_type": "stream",
     "text": [
      " Val. Loss: 0.1223\n"
     ]
    },
    {
     "data": {
      "application/vnd.jupyter.widget-view+json": {
       "model_id": "8df9cf2520554b63853017e2f1b37c3a",
       "version_major": 2,
       "version_minor": 0
      },
      "text/plain": [
       "Validation: |          | 0/? [00:00<?, ?it/s]"
      ]
     },
     "metadata": {},
     "output_type": "display_data"
    },
    {
     "name": "stdout",
     "output_type": "stream",
     "text": [
      " Val. Loss: 0.1224\n"
     ]
    },
    {
     "data": {
      "application/vnd.jupyter.widget-view+json": {
       "model_id": "28b6c2ba9bd14b8cb615eee259aade4e",
       "version_major": 2,
       "version_minor": 0
      },
      "text/plain": [
       "Validation: |          | 0/? [00:00<?, ?it/s]"
      ]
     },
     "metadata": {},
     "output_type": "display_data"
    },
    {
     "name": "stdout",
     "output_type": "stream",
     "text": [
      " Val. Loss: 0.1225\n"
     ]
    },
    {
     "data": {
      "application/vnd.jupyter.widget-view+json": {
       "model_id": "bb3c0bd15fc54352ae606875398b3876",
       "version_major": 2,
       "version_minor": 0
      },
      "text/plain": [
       "Validation: |          | 0/? [00:00<?, ?it/s]"
      ]
     },
     "metadata": {},
     "output_type": "display_data"
    },
    {
     "name": "stdout",
     "output_type": "stream",
     "text": [
      " Val. Loss: 0.1256\n"
     ]
    },
    {
     "data": {
      "application/vnd.jupyter.widget-view+json": {
       "model_id": "ef3321c517e740fd96ef16731483adf5",
       "version_major": 2,
       "version_minor": 0
      },
      "text/plain": [
       "Validation: |          | 0/? [00:00<?, ?it/s]"
      ]
     },
     "metadata": {},
     "output_type": "display_data"
    },
    {
     "name": "stdout",
     "output_type": "stream",
     "text": [
      " Val. Loss: 0.1257\n"
     ]
    },
    {
     "data": {
      "application/vnd.jupyter.widget-view+json": {
       "model_id": "b6c0c04a23c74e07990805fc3c481fc4",
       "version_major": 2,
       "version_minor": 0
      },
      "text/plain": [
       "Validation: |          | 0/? [00:00<?, ?it/s]"
      ]
     },
     "metadata": {},
     "output_type": "display_data"
    },
    {
     "name": "stdout",
     "output_type": "stream",
     "text": [
      " Val. Loss: 0.1225\n"
     ]
    },
    {
     "data": {
      "application/vnd.jupyter.widget-view+json": {
       "model_id": "1a576b55e400456fade2ed98a6891d8d",
       "version_major": 2,
       "version_minor": 0
      },
      "text/plain": [
       "Validation: |          | 0/? [00:00<?, ?it/s]"
      ]
     },
     "metadata": {},
     "output_type": "display_data"
    },
    {
     "name": "stdout",
     "output_type": "stream",
     "text": [
      " Val. Loss: 0.1236\n"
     ]
    },
    {
     "data": {
      "application/vnd.jupyter.widget-view+json": {
       "model_id": "bfa24796e23d4501b505e228aa52cdf3",
       "version_major": 2,
       "version_minor": 0
      },
      "text/plain": [
       "Validation: |          | 0/? [00:00<?, ?it/s]"
      ]
     },
     "metadata": {},
     "output_type": "display_data"
    },
    {
     "name": "stdout",
     "output_type": "stream",
     "text": [
      " Val. Loss: 0.1249\n"
     ]
    },
    {
     "data": {
      "application/vnd.jupyter.widget-view+json": {
       "model_id": "8f6b69d052ae478abd01c880a4d5d4ab",
       "version_major": 2,
       "version_minor": 0
      },
      "text/plain": [
       "Validation: |          | 0/? [00:00<?, ?it/s]"
      ]
     },
     "metadata": {},
     "output_type": "display_data"
    },
    {
     "name": "stdout",
     "output_type": "stream",
     "text": [
      " Val. Loss: 0.1221\n"
     ]
    },
    {
     "data": {
      "application/vnd.jupyter.widget-view+json": {
       "model_id": "5e1b349770c64e9c87f6125719c1dd6e",
       "version_major": 2,
       "version_minor": 0
      },
      "text/plain": [
       "Validation: |          | 0/? [00:00<?, ?it/s]"
      ]
     },
     "metadata": {},
     "output_type": "display_data"
    },
    {
     "name": "stdout",
     "output_type": "stream",
     "text": [
      " Val. Loss: 0.1237\n"
     ]
    },
    {
     "data": {
      "application/vnd.jupyter.widget-view+json": {
       "model_id": "53eb4a477d9a42e4ae03f1838fc68d75",
       "version_major": 2,
       "version_minor": 0
      },
      "text/plain": [
       "Validation: |          | 0/? [00:00<?, ?it/s]"
      ]
     },
     "metadata": {},
     "output_type": "display_data"
    },
    {
     "name": "stdout",
     "output_type": "stream",
     "text": [
      " Val. Loss: 0.1267\n"
     ]
    },
    {
     "data": {
      "application/vnd.jupyter.widget-view+json": {
       "model_id": "e7cf1e3f621447b3a0471aaf4966b9c7",
       "version_major": 2,
       "version_minor": 0
      },
      "text/plain": [
       "Validation: |          | 0/? [00:00<?, ?it/s]"
      ]
     },
     "metadata": {},
     "output_type": "display_data"
    },
    {
     "name": "stdout",
     "output_type": "stream",
     "text": [
      " Val. Loss: 0.1232\n"
     ]
    },
    {
     "data": {
      "application/vnd.jupyter.widget-view+json": {
       "model_id": "f31aabd11a9843eea8f6ffff2c1471e8",
       "version_major": 2,
       "version_minor": 0
      },
      "text/plain": [
       "Validation: |          | 0/? [00:00<?, ?it/s]"
      ]
     },
     "metadata": {},
     "output_type": "display_data"
    },
    {
     "name": "stdout",
     "output_type": "stream",
     "text": [
      " Val. Loss: 0.1229\n"
     ]
    },
    {
     "data": {
      "application/vnd.jupyter.widget-view+json": {
       "model_id": "02dbce569f2f4615a359ec7006b1c32e",
       "version_major": 2,
       "version_minor": 0
      },
      "text/plain": [
       "Validation: |          | 0/? [00:00<?, ?it/s]"
      ]
     },
     "metadata": {},
     "output_type": "display_data"
    },
    {
     "name": "stdout",
     "output_type": "stream",
     "text": [
      " Val. Loss: 0.1232\n"
     ]
    },
    {
     "data": {
      "application/vnd.jupyter.widget-view+json": {
       "model_id": "b8bb03a5ede442d6b15e9c916bbc692c",
       "version_major": 2,
       "version_minor": 0
      },
      "text/plain": [
       "Validation: |          | 0/? [00:00<?, ?it/s]"
      ]
     },
     "metadata": {},
     "output_type": "display_data"
    },
    {
     "name": "stdout",
     "output_type": "stream",
     "text": [
      " Val. Loss: 0.1238\n"
     ]
    },
    {
     "data": {
      "application/vnd.jupyter.widget-view+json": {
       "model_id": "337c197028a54635812f4a53d332f9b4",
       "version_major": 2,
       "version_minor": 0
      },
      "text/plain": [
       "Validation: |          | 0/? [00:00<?, ?it/s]"
      ]
     },
     "metadata": {},
     "output_type": "display_data"
    },
    {
     "name": "stdout",
     "output_type": "stream",
     "text": [
      " Val. Loss: 0.1242\n"
     ]
    },
    {
     "data": {
      "application/vnd.jupyter.widget-view+json": {
       "model_id": "0acdad0330b7438eab131d05e66f7175",
       "version_major": 2,
       "version_minor": 0
      },
      "text/plain": [
       "Validation: |          | 0/? [00:00<?, ?it/s]"
      ]
     },
     "metadata": {},
     "output_type": "display_data"
    },
    {
     "name": "stdout",
     "output_type": "stream",
     "text": [
      " Val. Loss: 0.1250\n"
     ]
    },
    {
     "data": {
      "application/vnd.jupyter.widget-view+json": {
       "model_id": "2b1f4bc0788b4bee9548a3f996c21d6a",
       "version_major": 2,
       "version_minor": 0
      },
      "text/plain": [
       "Validation: |          | 0/? [00:00<?, ?it/s]"
      ]
     },
     "metadata": {},
     "output_type": "display_data"
    },
    {
     "name": "stdout",
     "output_type": "stream",
     "text": [
      " Val. Loss: 0.1267\n"
     ]
    },
    {
     "data": {
      "application/vnd.jupyter.widget-view+json": {
       "model_id": "b9b33ecc190e437c8bf7dc9653689730",
       "version_major": 2,
       "version_minor": 0
      },
      "text/plain": [
       "Validation: |          | 0/? [00:00<?, ?it/s]"
      ]
     },
     "metadata": {},
     "output_type": "display_data"
    },
    {
     "name": "stdout",
     "output_type": "stream",
     "text": [
      " Val. Loss: 0.1209\n"
     ]
    },
    {
     "data": {
      "application/vnd.jupyter.widget-view+json": {
       "model_id": "bcbbc3d296dc4d2f85b90a18f239fa50",
       "version_major": 2,
       "version_minor": 0
      },
      "text/plain": [
       "Validation: |          | 0/? [00:00<?, ?it/s]"
      ]
     },
     "metadata": {},
     "output_type": "display_data"
    },
    {
     "name": "stdout",
     "output_type": "stream",
     "text": [
      " Val. Loss: 0.1226\n"
     ]
    },
    {
     "data": {
      "application/vnd.jupyter.widget-view+json": {
       "model_id": "f46e8f024008467fa5329d02b5629359",
       "version_major": 2,
       "version_minor": 0
      },
      "text/plain": [
       "Validation: |          | 0/? [00:00<?, ?it/s]"
      ]
     },
     "metadata": {},
     "output_type": "display_data"
    },
    {
     "name": "stdout",
     "output_type": "stream",
     "text": [
      " Val. Loss: 0.1250\n"
     ]
    },
    {
     "data": {
      "application/vnd.jupyter.widget-view+json": {
       "model_id": "3bc60b6fb9274d65bf1a86f91e4cefae",
       "version_major": 2,
       "version_minor": 0
      },
      "text/plain": [
       "Validation: |          | 0/? [00:00<?, ?it/s]"
      ]
     },
     "metadata": {},
     "output_type": "display_data"
    },
    {
     "name": "stdout",
     "output_type": "stream",
     "text": [
      " Val. Loss: 0.1236\n"
     ]
    },
    {
     "data": {
      "application/vnd.jupyter.widget-view+json": {
       "model_id": "af4cbe272e294ab8ad8ac6a22e96f88e",
       "version_major": 2,
       "version_minor": 0
      },
      "text/plain": [
       "Validation: |          | 0/? [00:00<?, ?it/s]"
      ]
     },
     "metadata": {},
     "output_type": "display_data"
    },
    {
     "name": "stdout",
     "output_type": "stream",
     "text": [
      " Val. Loss: 0.1254\n"
     ]
    },
    {
     "data": {
      "application/vnd.jupyter.widget-view+json": {
       "model_id": "92e6464ec3904d63a30fad75403e5578",
       "version_major": 2,
       "version_minor": 0
      },
      "text/plain": [
       "Validation: |          | 0/? [00:00<?, ?it/s]"
      ]
     },
     "metadata": {},
     "output_type": "display_data"
    },
    {
     "name": "stdout",
     "output_type": "stream",
     "text": [
      " Val. Loss: 0.1234\n"
     ]
    },
    {
     "data": {
      "application/vnd.jupyter.widget-view+json": {
       "model_id": "9fb878aa3f8e4bf195dc0a47855075e7",
       "version_major": 2,
       "version_minor": 0
      },
      "text/plain": [
       "Validation: |          | 0/? [00:00<?, ?it/s]"
      ]
     },
     "metadata": {},
     "output_type": "display_data"
    },
    {
     "name": "stdout",
     "output_type": "stream",
     "text": [
      " Val. Loss: 0.1217\n"
     ]
    },
    {
     "data": {
      "application/vnd.jupyter.widget-view+json": {
       "model_id": "08639faf1f8c44ae80e767e2a0958b97",
       "version_major": 2,
       "version_minor": 0
      },
      "text/plain": [
       "Validation: |          | 0/? [00:00<?, ?it/s]"
      ]
     },
     "metadata": {},
     "output_type": "display_data"
    },
    {
     "name": "stdout",
     "output_type": "stream",
     "text": [
      " Val. Loss: 0.1230\n"
     ]
    },
    {
     "data": {
      "application/vnd.jupyter.widget-view+json": {
       "model_id": "f8bcf40c6aa94f498e202bc976f81b79",
       "version_major": 2,
       "version_minor": 0
      },
      "text/plain": [
       "Validation: |          | 0/? [00:00<?, ?it/s]"
      ]
     },
     "metadata": {},
     "output_type": "display_data"
    },
    {
     "name": "stdout",
     "output_type": "stream",
     "text": [
      " Val. Loss: 0.1224\n"
     ]
    },
    {
     "data": {
      "application/vnd.jupyter.widget-view+json": {
       "model_id": "e14ae91d76ee453183bd1811e817cba3",
       "version_major": 2,
       "version_minor": 0
      },
      "text/plain": [
       "Validation: |          | 0/? [00:00<?, ?it/s]"
      ]
     },
     "metadata": {},
     "output_type": "display_data"
    },
    {
     "name": "stderr",
     "output_type": "stream",
     "text": [
      "`Trainer.fit` stopped: `max_epochs=40` reached.\n",
      "LOCAL_RANK: 0 - CUDA_VISIBLE_DEVICES: [0]\n"
     ]
    },
    {
     "name": "stdout",
     "output_type": "stream",
     "text": [
      " Val. Loss: 0.1237\n"
     ]
    },
    {
     "data": {
      "application/vnd.jupyter.widget-view+json": {
       "model_id": "347a06b153e946498501e80e54965ccd",
       "version_major": 2,
       "version_minor": 0
      },
      "text/plain": [
       "Validation: |          | 0/? [00:00<?, ?it/s]"
      ]
     },
     "metadata": {},
     "output_type": "display_data"
    },
    {
     "name": "stdout",
     "output_type": "stream",
     "text": [
      " Val. Loss: 0.1237\n",
      "────────────────────────────────────────────────────────────────────────────────────────────────────────────────────────\n",
      "     Validate metric           DataLoader 0\n",
      "────────────────────────────────────────────────────────────────────────────────────────────────────────────────────────\n",
      "        val_loss            0.12369412928819656\n",
      "────────────────────────────────────────────────────────────────────────────────────────────────────────────────────────\n"
     ]
    },
    {
     "data": {
      "text/plain": [
       "[{'val_loss': 0.12369412928819656}]"
      ]
     },
     "execution_count": 14,
     "metadata": {},
     "output_type": "execute_result"
    }
   ],
   "source": [
    "from lightning.pytorch.loggers import TensorBoardLogger\n",
    "\n",
    "datamodule = Datamodule(\n",
    "    datadir=Path(\"yeast_cell_in_microstructures_dataset\"),\n",
    "    dataset_class=YeastDetectionDataset,\n",
    "    batch_size=8,\n",
    ")\n",
    "\n",
    "datamodule.setup(\"fit\")\n",
    "\n",
    "trainer = L.Trainer(\n",
    "    accelerator=\"auto\",\n",
    "    max_epochs=40,\n",
    "    limit_train_batches=None,\n",
    "    limit_val_batches=None,\n",
    "    log_every_n_steps=10\n",
    ")\n",
    "lit_module = Lit(\n",
    "    model=TinyYOLO(in_channels=1, num_anchors=len(rescaled_anchors), num_classes=2),\n",
    "    learning_rate=1e-3,\n",
    ")\n",
    "trainer.fit(\n",
    "    model=lit_module,\n",
    "    datamodule=datamodule,\n",
    ")\n",
    "\n",
    "trainer.validate(model=lit_module, dataloaders=datamodule.val_dataloader())"
   ]
  },
  {
   "cell_type": "code",
   "execution_count": 15,
   "metadata": {},
   "outputs": [
    {
     "name": "stdout",
     "output_type": "stream",
     "text": [
      "{'map': tensor(0.3783), 'map_50': tensor(0.8432), 'map_75': tensor(0.2950), 'map_small': tensor(0.3783), 'map_medium': tensor(-1.), 'map_large': tensor(-1.), 'mar_1': tensor(0.2395), 'mar_10': tensor(0.4675), 'mar_100': tensor(0.4675), 'mar_small': tensor(0.4675), 'mar_medium': tensor(-1.), 'mar_large': tensor(-1.), 'map_per_class': tensor([0.4923, 0.2643]), 'mar_100_per_class': tensor([0.5786, 0.3565]), 'classes': tensor([1, 2], dtype=torch.int32)}\n"
     ]
    }
   ],
   "source": [
    "from pprint import pprint\n",
    "from torchmetrics.detection import MeanAveragePrecision \n",
    "\n",
    "val_loader = DataLoader(dataset=val_dataset, batch_size=batch_size, shuffle=False)\n",
    "\n",
    "metric = MeanAveragePrecision(iou_type=\"bbox\", box_format=\"cxcywh\", class_metrics=True).to(device)\n",
    "\n",
    "for x, y in val_loader:\n",
    "    predicted_boxes = []\n",
    "    target_boxes = []\n",
    "\n",
    "    preds = lit_module.model.to(device)(x.to(device))\n",
    "\n",
    "    for i in range(len(y)):\n",
    "        pred_boxes = cells_to_bboxes(preds[i:i+1], rescaled_anchors.to(device), is_predictions=True)\n",
    "        pred_boxes = pred_boxes.to(device)  \n",
    "\n",
    "        \n",
    "        pred_boxes = pred_boxes[nms(\n",
    "            box_convert(pred_boxes[:, 2:], \"cxcywh\", \"xyxy\"),\n",
    "            pred_boxes[:, 1],\n",
    "            iou_threshold=0.3\n",
    "        )]\n",
    "\n",
    "        predicted_boxes.append(\n",
    "            dict(\n",
    "                boxes=pred_boxes[:, 2:].to(device),  \n",
    "                scores=pred_boxes[:, 1].to(device),  \n",
    "                labels=pred_boxes[:, 0].long().to(device),  \n",
    "            )\n",
    "        )\n",
    "\n",
    "        true_boxes = cells_to_bboxes(y[i:i+1].to(device), rescaled_anchors.to(device))\n",
    "        true_boxes = true_boxes[true_boxes[:, 1] == 1]\n",
    "\n",
    "        target_boxes.append(\n",
    "            dict(\n",
    "                boxes=true_boxes[:, 2:].to(device), \n",
    "                labels=true_boxes[:, 0].long().to(device),  \n",
    "            )\n",
    "        )\n",
    "\n",
    "    metric.update(predicted_boxes, target_boxes)\n",
    "\n",
    "print(metric.compute())\n"
   ]
  },
  {
   "cell_type": "markdown",
   "metadata": {},
   "source": [
    "### Задание 2 (2 балла). YoloV3 loss\n",
    "\n",
    "Мы упоминали, что на практике использовалась не совсем та же самая ошибка, что и в YOLO. В этом задании исправьте в классе YoloLoss ошибку регрессии, приведя её в соответствие с тем, как она описана в статье [YOLOv3: An Incremental Improvement](https://arxiv.org/abs/1804.02767) (см. раздел 2.1. Bounding Box Prediction).\n",
    "\n",
    "Запустите обучение с изменённой ошибкой, добейтесь $mAP > 0.3$"
   ]
  },
  {
   "cell_type": "code",
   "execution_count": 16,
   "metadata": {},
   "outputs": [],
   "source": [
    "class YOLOLoss(nn.Module):\n",
    "    def __init__(self):\n",
    "        super().__init__()\n",
    "        self.mse = nn.MSELoss()\n",
    "        self.bce = nn.BCEWithLogitsLoss()\n",
    "        self.ce = nn.CrossEntropyLoss()\n",
    "\n",
    "    def forward(self, pred: Tensor, target: Tensor, anchors: Tensor) -> Tensor:\n",
    "        # ниже входные тензоры будут меняться на месте, так что склонируем их\n",
    "        pred = pred.clone()\n",
    "        target = target.clone()\n",
    "\n",
    "        # разделяем рамки на содержащие объекты и не содержащие\n",
    "        # NB: ещё могут быть -1, куда отнеслось более 1 объекта - их не учитываем\n",
    "        obj = target[..., 0] == 1\n",
    "        no_obj = target[..., 0] == 0\n",
    "\n",
    "        # преобразуем предсказания bbox\n",
    "        scores, pred_boxes, logits = process_yolo_preds(pred, anchors)\n",
    "\n",
    "        # no object loss: кросс-энтропия вместо MSE\n",
    "        no_object_loss = self.bce(\n",
    "            (scores[no_obj]),\n",
    "            (target[..., 0:1][no_obj]),\n",
    "        )\n",
    "\n",
    "        # object loss: учим предсказывать IoU\n",
    "        ious = intersection_over_union(pred_boxes[obj], target[..., 1:5][obj]).detach()\n",
    "        object_loss = self.mse(scores[obj].sigmoid(), ious * target[..., 0:1][obj])\n",
    "\n",
    "        # box coordinate loss: логарифмируем размеры рамок перед расчётом MSE\n",
    "        anchors = anchors.reshape(1, len(anchors), 1, 1, 2)\n",
    "        pred[..., 1:3] = pred[..., 1:3].sigmoid()\n",
    "        pred[..., 3:5] = torch.sqrt(anchors * torch.exp(pred[..., 3:5]))\n",
    "        target[..., 3:5] = torch.sqrt(target[..., 3:5])\n",
    "        box_loss = self.mse(pred[..., 1:5][obj], target[..., 1:5][obj])\n",
    "\n",
    "        # class loss: здесь всё обычно\n",
    "        class_loss = self.ce(logits[obj], target[..., 5][obj].long() - 1)\n",
    "\n",
    "        # Total loss\n",
    "        return box_loss + object_loss + no_object_loss + class_loss"
   ]
  },
  {
   "cell_type": "code",
   "execution_count": 17,
   "metadata": {},
   "outputs": [
    {
     "name": "stderr",
     "output_type": "stream",
     "text": [
      "GPU available: True (cuda), used: True\n",
      "TPU available: False, using: 0 TPU cores\n",
      "HPU available: False, using: 0 HPUs\n",
      "LOCAL_RANK: 0 - CUDA_VISIBLE_DEVICES: [0]\n",
      "\n",
      "  | Name    | Type     | Params | Mode \n",
      "---------------------------------------------\n",
      "0 | model   | TinyYOLO | 109 K  | train\n",
      "1 | loss_fn | YOLOLoss | 0      | train\n",
      "---------------------------------------------\n",
      "109 K     Trainable params\n",
      "0         Non-trainable params\n",
      "109 K     Total params\n",
      "0.438     Total estimated model params size (MB)\n",
      "32        Modules in train mode\n",
      "0         Modules in eval mode\n"
     ]
    },
    {
     "data": {
      "application/vnd.jupyter.widget-view+json": {
       "model_id": "cb7a649963ed49b4902030acab34d3a8",
       "version_major": 2,
       "version_minor": 0
      },
      "text/plain": [
       "Sanity Checking: |          | 0/? [00:00<?, ?it/s]"
      ]
     },
     "metadata": {},
     "output_type": "display_data"
    },
    {
     "name": "stdout",
     "output_type": "stream",
     "text": [
      " Val. Loss: 1.4873\n"
     ]
    },
    {
     "data": {
      "application/vnd.jupyter.widget-view+json": {
       "model_id": "0acee5d3ec1e451995166330d46c09c0",
       "version_major": 2,
       "version_minor": 0
      },
      "text/plain": [
       "Training: |          | 0/? [00:00<?, ?it/s]"
      ]
     },
     "metadata": {},
     "output_type": "display_data"
    },
    {
     "data": {
      "application/vnd.jupyter.widget-view+json": {
       "model_id": "9d9c467fd117474e8fb7b7f0d9d6f19e",
       "version_major": 2,
       "version_minor": 0
      },
      "text/plain": [
       "Validation: |          | 0/? [00:00<?, ?it/s]"
      ]
     },
     "metadata": {},
     "output_type": "display_data"
    },
    {
     "name": "stdout",
     "output_type": "stream",
     "text": [
      " Val. Loss: 0.2633\n"
     ]
    },
    {
     "data": {
      "application/vnd.jupyter.widget-view+json": {
       "model_id": "72fe64f024aa4d9991a2135cfbcfb908",
       "version_major": 2,
       "version_minor": 0
      },
      "text/plain": [
       "Validation: |          | 0/? [00:00<?, ?it/s]"
      ]
     },
     "metadata": {},
     "output_type": "display_data"
    },
    {
     "name": "stdout",
     "output_type": "stream",
     "text": [
      " Val. Loss: 0.4092\n"
     ]
    },
    {
     "data": {
      "application/vnd.jupyter.widget-view+json": {
       "model_id": "e831bd21f1dc4d5a8cf539a90f5afcb8",
       "version_major": 2,
       "version_minor": 0
      },
      "text/plain": [
       "Validation: |          | 0/? [00:00<?, ?it/s]"
      ]
     },
     "metadata": {},
     "output_type": "display_data"
    },
    {
     "name": "stdout",
     "output_type": "stream",
     "text": [
      " Val. Loss: 0.4046\n"
     ]
    },
    {
     "data": {
      "application/vnd.jupyter.widget-view+json": {
       "model_id": "f80bcdb93254414e82db374883e5cf4a",
       "version_major": 2,
       "version_minor": 0
      },
      "text/plain": [
       "Validation: |          | 0/? [00:00<?, ?it/s]"
      ]
     },
     "metadata": {},
     "output_type": "display_data"
    },
    {
     "name": "stdout",
     "output_type": "stream",
     "text": [
      " Val. Loss: 0.1065\n"
     ]
    },
    {
     "data": {
      "application/vnd.jupyter.widget-view+json": {
       "model_id": "8fd30caf6a6b4eb3baa9e28029171d04",
       "version_major": 2,
       "version_minor": 0
      },
      "text/plain": [
       "Validation: |          | 0/? [00:00<?, ?it/s]"
      ]
     },
     "metadata": {},
     "output_type": "display_data"
    },
    {
     "name": "stdout",
     "output_type": "stream",
     "text": [
      " Val. Loss: 0.0886\n"
     ]
    },
    {
     "data": {
      "application/vnd.jupyter.widget-view+json": {
       "model_id": "4993c88b8ffe4a5e9a0c2928951abb26",
       "version_major": 2,
       "version_minor": 0
      },
      "text/plain": [
       "Validation: |          | 0/? [00:00<?, ?it/s]"
      ]
     },
     "metadata": {},
     "output_type": "display_data"
    },
    {
     "name": "stdout",
     "output_type": "stream",
     "text": [
      " Val. Loss: 0.0875\n"
     ]
    },
    {
     "data": {
      "application/vnd.jupyter.widget-view+json": {
       "model_id": "b6ef33d815f24692bdf5422fc83dab06",
       "version_major": 2,
       "version_minor": 0
      },
      "text/plain": [
       "Validation: |          | 0/? [00:00<?, ?it/s]"
      ]
     },
     "metadata": {},
     "output_type": "display_data"
    },
    {
     "name": "stdout",
     "output_type": "stream",
     "text": [
      " Val. Loss: 0.0846\n"
     ]
    },
    {
     "data": {
      "application/vnd.jupyter.widget-view+json": {
       "model_id": "ca169461742c4899b427569a369d403e",
       "version_major": 2,
       "version_minor": 0
      },
      "text/plain": [
       "Validation: |          | 0/? [00:00<?, ?it/s]"
      ]
     },
     "metadata": {},
     "output_type": "display_data"
    },
    {
     "name": "stdout",
     "output_type": "stream",
     "text": [
      " Val. Loss: 0.0818\n"
     ]
    },
    {
     "data": {
      "application/vnd.jupyter.widget-view+json": {
       "model_id": "616e4869066d4a5b8d02fc26ebfd1e35",
       "version_major": 2,
       "version_minor": 0
      },
      "text/plain": [
       "Validation: |          | 0/? [00:00<?, ?it/s]"
      ]
     },
     "metadata": {},
     "output_type": "display_data"
    },
    {
     "name": "stdout",
     "output_type": "stream",
     "text": [
      " Val. Loss: 0.0814\n"
     ]
    },
    {
     "data": {
      "application/vnd.jupyter.widget-view+json": {
       "model_id": "455495cefd9c4a7f9026525107fe7831",
       "version_major": 2,
       "version_minor": 0
      },
      "text/plain": [
       "Validation: |          | 0/? [00:00<?, ?it/s]"
      ]
     },
     "metadata": {},
     "output_type": "display_data"
    },
    {
     "name": "stdout",
     "output_type": "stream",
     "text": [
      " Val. Loss: 0.0790\n"
     ]
    },
    {
     "data": {
      "application/vnd.jupyter.widget-view+json": {
       "model_id": "47d53a8d5b2f4ad2bc7b87fa22711c04",
       "version_major": 2,
       "version_minor": 0
      },
      "text/plain": [
       "Validation: |          | 0/? [00:00<?, ?it/s]"
      ]
     },
     "metadata": {},
     "output_type": "display_data"
    },
    {
     "name": "stdout",
     "output_type": "stream",
     "text": [
      " Val. Loss: 0.0782\n"
     ]
    },
    {
     "data": {
      "application/vnd.jupyter.widget-view+json": {
       "model_id": "08962d6f3157486481604d92828bdb58",
       "version_major": 2,
       "version_minor": 0
      },
      "text/plain": [
       "Validation: |          | 0/? [00:00<?, ?it/s]"
      ]
     },
     "metadata": {},
     "output_type": "display_data"
    },
    {
     "name": "stdout",
     "output_type": "stream",
     "text": [
      " Val. Loss: 0.0779\n"
     ]
    },
    {
     "data": {
      "application/vnd.jupyter.widget-view+json": {
       "model_id": "04cfd4c9bce64ccb9d6362725b5bbaa6",
       "version_major": 2,
       "version_minor": 0
      },
      "text/plain": [
       "Validation: |          | 0/? [00:00<?, ?it/s]"
      ]
     },
     "metadata": {},
     "output_type": "display_data"
    },
    {
     "name": "stdout",
     "output_type": "stream",
     "text": [
      " Val. Loss: 0.0774\n"
     ]
    },
    {
     "data": {
      "application/vnd.jupyter.widget-view+json": {
       "model_id": "da5d31ebb08b42e3a80635ce3adecb7b",
       "version_major": 2,
       "version_minor": 0
      },
      "text/plain": [
       "Validation: |          | 0/? [00:00<?, ?it/s]"
      ]
     },
     "metadata": {},
     "output_type": "display_data"
    },
    {
     "name": "stdout",
     "output_type": "stream",
     "text": [
      " Val. Loss: 0.0775\n"
     ]
    },
    {
     "data": {
      "application/vnd.jupyter.widget-view+json": {
       "model_id": "9f165839ea7d4264a02f45d9ebe40465",
       "version_major": 2,
       "version_minor": 0
      },
      "text/plain": [
       "Validation: |          | 0/? [00:00<?, ?it/s]"
      ]
     },
     "metadata": {},
     "output_type": "display_data"
    },
    {
     "name": "stdout",
     "output_type": "stream",
     "text": [
      " Val. Loss: 0.0774\n"
     ]
    },
    {
     "data": {
      "application/vnd.jupyter.widget-view+json": {
       "model_id": "79375098574246e7a154f09d8666eced",
       "version_major": 2,
       "version_minor": 0
      },
      "text/plain": [
       "Validation: |          | 0/? [00:00<?, ?it/s]"
      ]
     },
     "metadata": {},
     "output_type": "display_data"
    },
    {
     "name": "stdout",
     "output_type": "stream",
     "text": [
      " Val. Loss: 0.0774\n"
     ]
    },
    {
     "data": {
      "application/vnd.jupyter.widget-view+json": {
       "model_id": "0e36bb542edc4585a0d0c34958d070db",
       "version_major": 2,
       "version_minor": 0
      },
      "text/plain": [
       "Validation: |          | 0/? [00:00<?, ?it/s]"
      ]
     },
     "metadata": {},
     "output_type": "display_data"
    },
    {
     "name": "stdout",
     "output_type": "stream",
     "text": [
      " Val. Loss: 0.0777\n"
     ]
    },
    {
     "data": {
      "application/vnd.jupyter.widget-view+json": {
       "model_id": "b612c6ee034c43c7b3f1b6103d818cce",
       "version_major": 2,
       "version_minor": 0
      },
      "text/plain": [
       "Validation: |          | 0/? [00:00<?, ?it/s]"
      ]
     },
     "metadata": {},
     "output_type": "display_data"
    },
    {
     "name": "stdout",
     "output_type": "stream",
     "text": [
      " Val. Loss: 0.0770\n"
     ]
    },
    {
     "data": {
      "application/vnd.jupyter.widget-view+json": {
       "model_id": "389a83f92bc844c0b15826abd33abf1c",
       "version_major": 2,
       "version_minor": 0
      },
      "text/plain": [
       "Validation: |          | 0/? [00:00<?, ?it/s]"
      ]
     },
     "metadata": {},
     "output_type": "display_data"
    },
    {
     "name": "stdout",
     "output_type": "stream",
     "text": [
      " Val. Loss: 0.0770\n"
     ]
    },
    {
     "data": {
      "application/vnd.jupyter.widget-view+json": {
       "model_id": "84c0ecabfb004d1d947b4608b67b0193",
       "version_major": 2,
       "version_minor": 0
      },
      "text/plain": [
       "Validation: |          | 0/? [00:00<?, ?it/s]"
      ]
     },
     "metadata": {},
     "output_type": "display_data"
    },
    {
     "name": "stdout",
     "output_type": "stream",
     "text": [
      " Val. Loss: 0.0773\n"
     ]
    },
    {
     "data": {
      "application/vnd.jupyter.widget-view+json": {
       "model_id": "d4cec0f8100940669e7c442f06695456",
       "version_major": 2,
       "version_minor": 0
      },
      "text/plain": [
       "Validation: |          | 0/? [00:00<?, ?it/s]"
      ]
     },
     "metadata": {},
     "output_type": "display_data"
    },
    {
     "name": "stdout",
     "output_type": "stream",
     "text": [
      " Val. Loss: 0.0771\n"
     ]
    },
    {
     "data": {
      "application/vnd.jupyter.widget-view+json": {
       "model_id": "e19ac033968741968abd6863b4e76c45",
       "version_major": 2,
       "version_minor": 0
      },
      "text/plain": [
       "Validation: |          | 0/? [00:00<?, ?it/s]"
      ]
     },
     "metadata": {},
     "output_type": "display_data"
    },
    {
     "name": "stdout",
     "output_type": "stream",
     "text": [
      " Val. Loss: 0.0774\n"
     ]
    },
    {
     "data": {
      "application/vnd.jupyter.widget-view+json": {
       "model_id": "5e2f6406873c4424bec009a5033a5b22",
       "version_major": 2,
       "version_minor": 0
      },
      "text/plain": [
       "Validation: |          | 0/? [00:00<?, ?it/s]"
      ]
     },
     "metadata": {},
     "output_type": "display_data"
    },
    {
     "name": "stdout",
     "output_type": "stream",
     "text": [
      " Val. Loss: 0.0771\n"
     ]
    },
    {
     "data": {
      "application/vnd.jupyter.widget-view+json": {
       "model_id": "c35f75c1e294495dbcaadb0d70e8866d",
       "version_major": 2,
       "version_minor": 0
      },
      "text/plain": [
       "Validation: |          | 0/? [00:00<?, ?it/s]"
      ]
     },
     "metadata": {},
     "output_type": "display_data"
    },
    {
     "name": "stdout",
     "output_type": "stream",
     "text": [
      " Val. Loss: 0.0771\n"
     ]
    },
    {
     "data": {
      "application/vnd.jupyter.widget-view+json": {
       "model_id": "d6492169e464438f90b1080c354d3ed6",
       "version_major": 2,
       "version_minor": 0
      },
      "text/plain": [
       "Validation: |          | 0/? [00:00<?, ?it/s]"
      ]
     },
     "metadata": {},
     "output_type": "display_data"
    },
    {
     "name": "stdout",
     "output_type": "stream",
     "text": [
      " Val. Loss: 0.0771\n"
     ]
    },
    {
     "data": {
      "application/vnd.jupyter.widget-view+json": {
       "model_id": "47e1991b14c0449abd4c95032056fb30",
       "version_major": 2,
       "version_minor": 0
      },
      "text/plain": [
       "Validation: |          | 0/? [00:00<?, ?it/s]"
      ]
     },
     "metadata": {},
     "output_type": "display_data"
    },
    {
     "name": "stdout",
     "output_type": "stream",
     "text": [
      " Val. Loss: 0.0770\n"
     ]
    },
    {
     "data": {
      "application/vnd.jupyter.widget-view+json": {
       "model_id": "a967e6a5f7614783be5208bcfe3cc25a",
       "version_major": 2,
       "version_minor": 0
      },
      "text/plain": [
       "Validation: |          | 0/? [00:00<?, ?it/s]"
      ]
     },
     "metadata": {},
     "output_type": "display_data"
    },
    {
     "name": "stdout",
     "output_type": "stream",
     "text": [
      " Val. Loss: 0.0769\n"
     ]
    },
    {
     "data": {
      "application/vnd.jupyter.widget-view+json": {
       "model_id": "0acae5f921dc43df80c5eb2144b9157b",
       "version_major": 2,
       "version_minor": 0
      },
      "text/plain": [
       "Validation: |          | 0/? [00:00<?, ?it/s]"
      ]
     },
     "metadata": {},
     "output_type": "display_data"
    },
    {
     "name": "stdout",
     "output_type": "stream",
     "text": [
      " Val. Loss: 0.0776\n"
     ]
    },
    {
     "data": {
      "application/vnd.jupyter.widget-view+json": {
       "model_id": "86cc177d3a1345e388bbb4fe1bd77fe4",
       "version_major": 2,
       "version_minor": 0
      },
      "text/plain": [
       "Validation: |          | 0/? [00:00<?, ?it/s]"
      ]
     },
     "metadata": {},
     "output_type": "display_data"
    },
    {
     "name": "stdout",
     "output_type": "stream",
     "text": [
      " Val. Loss: 0.0776\n"
     ]
    },
    {
     "data": {
      "application/vnd.jupyter.widget-view+json": {
       "model_id": "7eb6a53991964bc594517153824e3f98",
       "version_major": 2,
       "version_minor": 0
      },
      "text/plain": [
       "Validation: |          | 0/? [00:00<?, ?it/s]"
      ]
     },
     "metadata": {},
     "output_type": "display_data"
    },
    {
     "name": "stdout",
     "output_type": "stream",
     "text": [
      " Val. Loss: 0.0772\n"
     ]
    },
    {
     "data": {
      "application/vnd.jupyter.widget-view+json": {
       "model_id": "05f7a0751c59450ab30eac2a7fd1fd57",
       "version_major": 2,
       "version_minor": 0
      },
      "text/plain": [
       "Validation: |          | 0/? [00:00<?, ?it/s]"
      ]
     },
     "metadata": {},
     "output_type": "display_data"
    },
    {
     "name": "stdout",
     "output_type": "stream",
     "text": [
      " Val. Loss: 0.0769\n"
     ]
    },
    {
     "data": {
      "application/vnd.jupyter.widget-view+json": {
       "model_id": "e2ddeafc0ff64d7c8a636910d489a27f",
       "version_major": 2,
       "version_minor": 0
      },
      "text/plain": [
       "Validation: |          | 0/? [00:00<?, ?it/s]"
      ]
     },
     "metadata": {},
     "output_type": "display_data"
    },
    {
     "name": "stdout",
     "output_type": "stream",
     "text": [
      " Val. Loss: 0.0770\n"
     ]
    },
    {
     "data": {
      "application/vnd.jupyter.widget-view+json": {
       "model_id": "2b29980873604af5b4f4766c3204c11f",
       "version_major": 2,
       "version_minor": 0
      },
      "text/plain": [
       "Validation: |          | 0/? [00:00<?, ?it/s]"
      ]
     },
     "metadata": {},
     "output_type": "display_data"
    },
    {
     "name": "stdout",
     "output_type": "stream",
     "text": [
      " Val. Loss: 0.0771\n"
     ]
    },
    {
     "data": {
      "application/vnd.jupyter.widget-view+json": {
       "model_id": "23e27041095f4816990093f15f77f0d6",
       "version_major": 2,
       "version_minor": 0
      },
      "text/plain": [
       "Validation: |          | 0/? [00:00<?, ?it/s]"
      ]
     },
     "metadata": {},
     "output_type": "display_data"
    },
    {
     "name": "stdout",
     "output_type": "stream",
     "text": [
      " Val. Loss: 0.0766\n"
     ]
    },
    {
     "data": {
      "application/vnd.jupyter.widget-view+json": {
       "model_id": "4d511e0b8c9e4d4992ad205e9515762d",
       "version_major": 2,
       "version_minor": 0
      },
      "text/plain": [
       "Validation: |          | 0/? [00:00<?, ?it/s]"
      ]
     },
     "metadata": {},
     "output_type": "display_data"
    },
    {
     "name": "stdout",
     "output_type": "stream",
     "text": [
      " Val. Loss: 0.0767\n"
     ]
    },
    {
     "data": {
      "application/vnd.jupyter.widget-view+json": {
       "model_id": "72104c8b73bf4b7087b355c89773e29e",
       "version_major": 2,
       "version_minor": 0
      },
      "text/plain": [
       "Validation: |          | 0/? [00:00<?, ?it/s]"
      ]
     },
     "metadata": {},
     "output_type": "display_data"
    },
    {
     "name": "stdout",
     "output_type": "stream",
     "text": [
      " Val. Loss: 0.0774\n"
     ]
    },
    {
     "data": {
      "application/vnd.jupyter.widget-view+json": {
       "model_id": "0bb20da8ecb24268bdfb17a860d1843e",
       "version_major": 2,
       "version_minor": 0
      },
      "text/plain": [
       "Validation: |          | 0/? [00:00<?, ?it/s]"
      ]
     },
     "metadata": {},
     "output_type": "display_data"
    },
    {
     "name": "stdout",
     "output_type": "stream",
     "text": [
      " Val. Loss: 0.0770\n"
     ]
    },
    {
     "data": {
      "application/vnd.jupyter.widget-view+json": {
       "model_id": "29eae8768a674d8db8bd2b9a12dbdd5c",
       "version_major": 2,
       "version_minor": 0
      },
      "text/plain": [
       "Validation: |          | 0/? [00:00<?, ?it/s]"
      ]
     },
     "metadata": {},
     "output_type": "display_data"
    },
    {
     "name": "stdout",
     "output_type": "stream",
     "text": [
      " Val. Loss: 0.0771\n"
     ]
    },
    {
     "data": {
      "application/vnd.jupyter.widget-view+json": {
       "model_id": "e0d96b6c21924b9ab1c682ab7e1cfc8b",
       "version_major": 2,
       "version_minor": 0
      },
      "text/plain": [
       "Validation: |          | 0/? [00:00<?, ?it/s]"
      ]
     },
     "metadata": {},
     "output_type": "display_data"
    },
    {
     "name": "stdout",
     "output_type": "stream",
     "text": [
      " Val. Loss: 0.0766\n"
     ]
    },
    {
     "data": {
      "application/vnd.jupyter.widget-view+json": {
       "model_id": "e603190bd09c43f4a4ab1232bc0a7512",
       "version_major": 2,
       "version_minor": 0
      },
      "text/plain": [
       "Validation: |          | 0/? [00:00<?, ?it/s]"
      ]
     },
     "metadata": {},
     "output_type": "display_data"
    },
    {
     "name": "stderr",
     "output_type": "stream",
     "text": [
      "`Trainer.fit` stopped: `max_epochs=40` reached.\n",
      "LOCAL_RANK: 0 - CUDA_VISIBLE_DEVICES: [0]\n"
     ]
    },
    {
     "name": "stdout",
     "output_type": "stream",
     "text": [
      " Val. Loss: 0.0765\n"
     ]
    },
    {
     "data": {
      "application/vnd.jupyter.widget-view+json": {
       "model_id": "c3b40fc8e60e46a29d4fb303f6deaefb",
       "version_major": 2,
       "version_minor": 0
      },
      "text/plain": [
       "Validation: |          | 0/? [00:00<?, ?it/s]"
      ]
     },
     "metadata": {},
     "output_type": "display_data"
    },
    {
     "name": "stdout",
     "output_type": "stream",
     "text": [
      " Val. Loss: 0.0765\n",
      "────────────────────────────────────────────────────────────────────────────────────────────────────────────────────────\n",
      "     Validate metric           DataLoader 0\n",
      "────────────────────────────────────────────────────────────────────────────────────────────────────────────────────────\n",
      "        val_loss            0.07654141634702682\n",
      "────────────────────────────────────────────────────────────────────────────────────────────────────────────────────────\n"
     ]
    },
    {
     "data": {
      "text/plain": [
       "[{'val_loss': 0.07654141634702682}]"
      ]
     },
     "execution_count": 17,
     "metadata": {},
     "output_type": "execute_result"
    }
   ],
   "source": [
    "datamodule = Datamodule(\n",
    "    datadir=Path(\"yeast_cell_in_microstructures_dataset\"),\n",
    "    dataset_class=YeastDetectionDataset,\n",
    "    batch_size=8,\n",
    ")\n",
    "\n",
    "datamodule.setup(\"fit\")\n",
    "\n",
    "trainer = L.Trainer(\n",
    "    accelerator=\"auto\",\n",
    "    max_epochs=40,\n",
    "    limit_train_batches=None,\n",
    "    limit_val_batches=None,\n",
    "    log_every_n_steps=10\n",
    ")\n",
    "lit_module = Lit(\n",
    "    model=TinyYOLO(in_channels=1, num_anchors=len(rescaled_anchors), num_classes=2),\n",
    "    learning_rate=0.005,\n",
    ")\n",
    "trainer.fit(\n",
    "    model=lit_module,\n",
    "    datamodule=datamodule,\n",
    ")\n",
    "\n",
    "trainer.validate(model=lit_module, dataloaders=datamodule.val_dataloader())"
   ]
  },
  {
   "cell_type": "code",
   "execution_count": 18,
   "metadata": {},
   "outputs": [
    {
     "name": "stdout",
     "output_type": "stream",
     "text": [
      "{'map': tensor(0.5705), 'map_50': tensor(0.9297), 'map_75': tensor(0.6186), 'map_small': tensor(0.5705), 'map_medium': tensor(-1.), 'map_large': tensor(-1.), 'mar_1': tensor(0.3159), 'mar_10': tensor(0.6283), 'mar_100': tensor(0.6297), 'mar_small': tensor(0.6297), 'mar_medium': tensor(-1.), 'mar_large': tensor(-1.), 'map_per_class': tensor([0.7433, 0.3978]), 'mar_100_per_class': tensor([0.7918, 0.4676]), 'classes': tensor([1, 2], dtype=torch.int32)}\n"
     ]
    }
   ],
   "source": [
    "val_loader = DataLoader(dataset=val_dataset, batch_size=batch_size, shuffle=False)\n",
    "\n",
    "metric = MeanAveragePrecision(iou_type=\"bbox\", box_format=\"cxcywh\", class_metrics=True).to(device)\n",
    "\n",
    "for x, y in val_loader:\n",
    "    predicted_boxes = []\n",
    "    target_boxes = []\n",
    "\n",
    "    preds = lit_module.model.to(device)(x.to(device))\n",
    "\n",
    "    # итерируемся по элементам батча, собирая пердсказанные и верные рамки\n",
    "    for i in range(len(y)):\n",
    "        # получаем предсказанные рамки\n",
    "        pred_boxes = cells_to_bboxes(preds[i:i+1], rescaled_anchors.to(device), is_predictions=True)\n",
    "        # ВАЖНО: делаем non-max suppression ДО расчёта метрик\n",
    "        pred_boxes = pred_boxes[nms(box_convert(pred_boxes[:, 2:], \"cxcywh\", \"xyxy\"), pred_boxes[:, 1], iou_threshold=0.3)]\n",
    "        predicted_boxes.append(\n",
    "            dict(\n",
    "                boxes=pred_boxes[:, 2:],\n",
    "                scores=pred_boxes[:, 1],\n",
    "                labels=pred_boxes[:, 0].long(),\n",
    "            )\n",
    "        )\n",
    "        # достаём правильные рамки\n",
    "        true_boxes = cells_to_bboxes(y[i:i+1], rescaled_anchors)\n",
    "        true_boxes = true_boxes[true_boxes[:, 1] == 1]\n",
    "\n",
    "        target_boxes.append(\n",
    "            dict(\n",
    "                boxes=true_boxes[:, 2:],\n",
    "                labels=true_boxes[:, 0].long(),\n",
    "            )\n",
    "        )\n",
    "    metric.update(predicted_boxes, target_boxes)\n",
    "    \n",
    "metric = metric.to(device)\n",
    "print(metric.compute())"
   ]
  },
  {
   "cell_type": "markdown",
   "metadata": {},
   "source": [
    "### Задание 3 (3 балла). Выбор anchors с помощью кластеризации\n",
    "\n",
    "В статье [YOLO9000: Better, Faster, Stronger](https://arxiv.org/abs/1612.08242) в разделе 2. Better. Dimension clusters описан способ выбора anchor boxes через кластеризацию обучающего датасета.\n",
    "\n",
    "Проделайте то же самое с вашим обучающим датасетом, чтобы выбрать несколько anchor boxes.\n",
    "\n",
    "В качестве результата выведите получившиеся размеры anchors для # Clusters = 5"
   ]
  },
  {
   "cell_type": "code",
   "execution_count": 19,
   "metadata": {},
   "outputs": [
    {
     "data": {
      "text/plain": [
       "[[61.81124496459961, 62.1164665222168],\n",
       " [43.63218307495117, 48.04597854614258],\n",
       " [70.28755187988281, 105.5622329711914],\n",
       " [57.12345504760742, 84.88888549804688],\n",
       " [91.29850769042969, 88.31343078613281]]"
      ]
     },
     "execution_count": 19,
     "metadata": {},
     "output_type": "execute_result"
    }
   ],
   "source": [
    "from pyclustering.utils.metric import type_metric, distance_metric\n",
    "from pyclustering.cluster.center_initializer import kmeans_plusplus_initializer\n",
    "from pyclustering.cluster.kmeans import kmeans\n",
    "import warnings\n",
    "np.warnings = warnings\n",
    "\n",
    "class YeastDetectionDataset(Dataset):\n",
    "    def __init__(\n",
    "        self, subset_dir: Path, image_size: int, grid_size: int = GRID_SIZE\n",
    "    ) -> None:\n",
    "        super().__init__()\n",
    "        self.subset_dir = subset_dir\n",
    "        self.items = list((self.subset_dir / \"inputs\").glob(\"*.pt\"))\n",
    "        # Ignore IoU threshold\n",
    "        self.ignore_iou_thresh = 0.5\n",
    "        self.grid_size = grid_size\n",
    "        self.image_size = image_size\n",
    "\n",
    "    def __len__(self) -> int:\n",
    "        return len(self.items)\n",
    "\n",
    "    def __getitem__(self, index: int) -> Tensor:\n",
    "        image_path = self.items[index]\n",
    "        boxes = torch.load(\n",
    "            self.subset_dir / \"bounding_boxes\" / image_path.parts[-1], weights_only=True\n",
    "        )\n",
    "        boxes = box_convert(boxes, \"xyxy\", \"cxcywh\")\n",
    "        return boxes\n",
    "\n",
    "train_dataset = YeastDetectionDataset(\n",
    "    Path(\"yeast_cell_in_microstructures_dataset/train\"), image_size=256\n",
    ")\n",
    "\n",
    "our_p_w_p_h = list()\n",
    "for i in range(len(train_dataset)):\n",
    "  for j in range(len(train_dataset[i])):\n",
    "    our_p_w_p_h.append([train_dataset[i][j][2], train_dataset[i][j][3]])\n",
    "\n",
    "\n",
    "def metric(x, y):\n",
    "  return 1 - (min(x[0], y[0]) * min(x[1], y[1]) / (x[0] * x[1] + y[0] * y[1] - (min(x[0], y[0]) * min(x[1], y[1]))))\n",
    "\n",
    "manhattan_metric = distance_metric(type_metric.USER_DEFINED, func=metric)\n",
    "initial_centers = kmeans_plusplus_initializer(our_p_w_p_h, 5).initialize()\n",
    "\n",
    "kmeans_instance = kmeans(our_p_w_p_h, initial_centers, metric=manhattan_metric)\n",
    "\n",
    "kmeans_instance.process()\n",
    "clusters = kmeans_instance.get_clusters()\n",
    "kmeans_instance.process()\n",
    "clusters = kmeans_instance.get_clusters()\n",
    "\n",
    "final_centers = kmeans_instance.get_centers()\n",
    "\n",
    "ANCHORS = final_centers\n",
    "\n",
    "rescaled_anchors = torch.tensor(ANCHORS).to(device=device) / IMAGE_SIZE * GRID_SIZE\n",
    "ANCHORS"
   ]
  },
  {
   "cell_type": "markdown",
   "metadata": {},
   "source": [
    "### Задание 4 (4 балла + бонусы за лучшую точность). Обучите модель\n",
    "\n",
    "\n",
    "Ваша цель: $mAP > 0.6$ на валидации.\n",
    "\n",
    "Можете использовать весь арсенал:\n",
    "- использование множества якорных рамок (сформированных вручную или в результате кластеризации)\n",
    "- любые изменения функции ошибки\n",
    "- любые изменения архитектуры модели и регуляризация\n",
    "- аугментации (вспоминаем `torchvision.transforms` и `albumentations`)\n",
    "- любая длительность обучения, оптимизатор, расписание для learning rate\n",
    "\n",
    "Бонусы за повышенную точность:\n",
    "- **5 баллов**: $mAP > 0.65$\n",
    "- **1 балл** за каждые следующие $0.01$ (т. е. за $mAP > 0.72$ в этом задании вы получите $4 + 12 = 16$ баллов)\n",
    "\n",
    "**Важно**: перез запуском обучения зафиксируйте `torch.manual_seed()`"
   ]
  },
  {
   "cell_type": "code",
   "execution_count": 20,
   "metadata": {},
   "outputs": [],
   "source": [
    "class YeastDetectionDataset(Dataset):\n",
    "    def __init__(\n",
    "        self, subset_dir: Path, anchors: list[tuple[int, int]], image_size: int, grid_size: int = GRID_SIZE\n",
    "    ) -> None:\n",
    "        super().__init__()\n",
    "        self.subset_dir = subset_dir\n",
    "        self.items = list((self.subset_dir / \"inputs\").glob(\"*.pt\"))\n",
    "        # Ignore IoU threshold\n",
    "        self.ignore_iou_thresh = 0.5\n",
    "        self.rescaled_anchors = torch.tensor(anchors) / image_size * grid_size\n",
    "        self.grid_size = grid_size\n",
    "        self.image_size = image_size\n",
    "\n",
    "    def __len__(self) -> int:\n",
    "        return len(self.items)\n",
    "\n",
    "    def __getitem__(self, index: int) -> tuple[Tensor, Tensor]:\n",
    "        image_path = self.items[index]\n",
    "        # load everything\n",
    "        image = torch.load(image_path, weights_only=True).unsqueeze(0)\n",
    "        classes = (\n",
    "            torch.load(self.subset_dir / \"classes\" / image_path.parts[-1], weights_only=True) + 1\n",
    "        )\n",
    "        boxes = torch.load(\n",
    "            self.subset_dir / \"bounding_boxes\" / image_path.parts[-1], weights_only=True\n",
    "        )\n",
    "        boxes = box_convert(boxes, \"xyxy\", \"cxcywh\") / self.image_size\n",
    "\n",
    "        # convert boxes to cells\n",
    "        targets = boxes_to_cells(\n",
    "            boxes, classes, self.rescaled_anchors, self.grid_size, self.ignore_iou_thresh\n",
    "        )\n",
    "        return image.to(device), targets.to(device)"
   ]
  },
  {
   "cell_type": "code",
   "execution_count": 22,
   "metadata": {},
   "outputs": [],
   "source": [
    "class YOLOLoss(nn.Module):\n",
    "    def __init__(self):\n",
    "        super().__init__()\n",
    "        self.mse = nn.MSELoss()\n",
    "        self.bce = nn.BCEWithLogitsLoss()\n",
    "        self.cross_entropy = nn.CrossEntropyLoss()\n",
    "\n",
    "    def forward(self, pred: Tensor, target: Tensor, anchors: Tensor) -> Tensor:\n",
    "        # ниже входные тензоры будут меняться на месте, так что склонируем их\n",
    "        pred = pred.clone()\n",
    "        target = target.clone()\n",
    "\n",
    "        # разделяем рамки на содержащие объекты и не содержащие\n",
    "        # NB: ещё могут быть -1, куда отнеслось более 1 объекта - их не учитываем\n",
    "        obj = target[..., 0] == 1\n",
    "        no_obj = target[..., 0] == 0\n",
    "\n",
    "        # преобразуем предсказания bbox\n",
    "        scores, pred_boxes, logits = process_yolo_preds(pred, anchors)\n",
    "\n",
    "        # no object loss: кросс-энтропия вместо MSE\n",
    "        no_object_loss = self.bce(\n",
    "            (scores[no_obj]),\n",
    "            (target[..., 0:1][no_obj]),\n",
    "        )\n",
    "\n",
    "        # object loss: учим предсказывать IoU\n",
    "        ious = intersection_over_union(pred_boxes[obj], target[..., 1:5][obj]).detach()\n",
    "        object_loss = self.mse(scores[obj].sigmoid(), ious * target[..., 0:1][obj])\n",
    "\n",
    "        # box coordinate loss: логарифмируем размеры рамок перед расчётом MSE\n",
    "        anchors = anchors.reshape(1, len(anchors), 1, 1, 2)\n",
    "        pred[..., 1:3] = pred[..., 1:3].sigmoid()\n",
    "        target[..., 3:5] = torch.log(1e-6 + target[..., 3:5] / anchors)\n",
    "        box_loss = self.mse(pred[..., 1:5][obj], target[..., 1:5][obj])\n",
    "\n",
    "        # class loss: здесь всё обычно\n",
    "        class_loss = self.cross_entropy(logits[obj], target[..., 5][obj].long() - 1)\n",
    "\n",
    "        # Total loss\n",
    "        return box_loss + object_loss + no_object_loss + class_loss"
   ]
  },
  {
   "cell_type": "code",
   "execution_count": 23,
   "metadata": {},
   "outputs": [],
   "source": [
    "class Lit(L.LightningModule):\n",
    "    def __init__(self, model: nn.Module, learning_rate: float) -> None:\n",
    "        super().__init__()\n",
    "        self.save_hyperparameters()\n",
    "        self.model = model\n",
    "        self.learning_rate = learning_rate\n",
    "        self.loss_fn = YOLOLoss()\n",
    "\n",
    "    def training_step(\n",
    "        self, batch: tuple[Tensor, Tensor], batch_idx: int\n",
    "    ) -> STEP_OUTPUT:\n",
    "        x, y = batch\n",
    "        y_hat = self.model(x)\n",
    "        loss = self.loss_fn.forward(y_hat, y, rescaled_anchors)\n",
    "        self.log(\"train_loss\", loss, on_epoch=True, on_step=False)\n",
    "       \n",
    "\n",
    "        return loss\n",
    "\n",
    "    def validation_step(\n",
    "        self, batch: tuple[Tensor, Tensor], batch_idx: int\n",
    "    ) -> STEP_OUTPUT | None:\n",
    "        x, y = batch\n",
    "        y_hat = self.model(x)\n",
    "        loss = self.loss_fn.forward(y_hat, y, rescaled_anchors)\n",
    "        self.log(\"val_loss\", loss, on_epoch=True, on_step=False)\n",
    "        return {\n",
    "            \"loss\": loss,\n",
    "            \"preds\": y_hat,\n",
    "        }\n",
    "    \n",
    "    def on_validation_epoch_end(self) -> None:\n",
    "        val_loss = self.trainer.callback_metrics[\"val_loss\"]\n",
    "        print(f\" Val. Loss: {val_loss:.4f}\")\n",
    "    \n",
    "\n",
    "    def configure_optimizers(self) -> dict[str, Any]:\n",
    "        optimizer = torch.optim.Adam(self.model.parameters(), lr=self.learning_rate, weight_decay=1e-5)\n",
    "        return {\n",
    "            \"optimizer\": optimizer,\n",
    "            \"lr_scheduler\": torch.optim.lr_scheduler.MultiStepLR(\n",
    "                optimizer, milestones=[5, 10, 15]\n",
    "            ),\n",
    "        }"
   ]
  },
  {
   "cell_type": "code",
   "execution_count": 24,
   "metadata": {},
   "outputs": [
    {
     "name": "stdout",
     "output_type": "stream",
     "text": [
      "109431\n"
     ]
    },
    {
     "data": {
      "text/plain": [
       "torch.Size([2, 1, 8, 8, 7])"
      ]
     },
     "execution_count": 24,
     "metadata": {},
     "output_type": "execute_result"
    }
   ],
   "source": [
    "class CNNBlock(nn.Module):\n",
    "    def __init__(self, in_channels: int, out_channels: int, **kwargs):\n",
    "        super().__init__()\n",
    "        self.conv = nn.Conv2d(in_channels, out_channels, bias=False, **kwargs)\n",
    "        self.bn = nn.BatchNorm2d(out_channels)\n",
    "        self.activation = nn.LogSigmoid()\n",
    "\n",
    "    def forward(self, x):\n",
    "        x = self.conv(x)\n",
    "        x = self.bn(x)\n",
    "        return self.activation(x)\n",
    "\n",
    "class TinyYOLO(nn.Module):\n",
    "    def __init__(self, num_classes: int = 2, num_anchors: int = 1, in_channels: int = 1) -> None:\n",
    "        super().__init__()\n",
    "        self.num_classes = num_classes\n",
    "        self.in_channels = in_channels\n",
    "        self.num_anchors = num_anchors\n",
    "        self.layers = nn.Sequential(\n",
    "            CNNBlock(1, 16, kernel_size=3, stride=2, padding=1, dilation=2),\n",
    "            CNNBlock(16, 32, kernel_size=3, stride=2, padding=1, dilation=2),\n",
    "            CNNBlock(32, 64, kernel_size=3, stride=2, padding=1, dilation=2),\n",
    "            CNNBlock(64, 128, kernel_size=3, stride=2, padding=1, groups=8),\n",
    "            CNNBlock(128, 256, kernel_size=3, stride=1, padding=1, groups=8),\n",
    "            CNNBlock(256, 256, kernel_size=3, stride=1, padding=1, groups=16),\n",
    "            nn.MaxPool2d(2, 2),\n",
    "            nn.Conv2d(256, num_anchors * (num_classes + 5), kernel_size=1)\n",
    "        )\n",
    "    \n",
    "    def forward(self, x: Tensor) -> Tensor:\n",
    "        x = self.layers(x)\n",
    "        B, _, W, H = x.shape\n",
    "        x = x.view(B, self.num_anchors, self.num_classes + 5, W, H)  # B A F W H\n",
    "        x = x.permute(0, 1, 3, 4, 2)  # B A W H F\n",
    "        return x\n",
    "\n",
    "\n",
    "model = TinyYOLO(in_channels=1, num_anchors=1, num_classes=2)\n",
    "print(sum(p.numel() for p in model.parameters()))\n",
    "model.forward(torch.randn(2, 1, 256, 256)).shape"
   ]
  },
  {
   "cell_type": "code",
   "execution_count": 37,
   "metadata": {},
   "outputs": [
    {
     "name": "stderr",
     "output_type": "stream",
     "text": [
      "GPU available: True (cuda), used: True\n",
      "TPU available: False, using: 0 TPU cores\n",
      "HPU available: False, using: 0 HPUs\n",
      "LOCAL_RANK: 0 - CUDA_VISIBLE_DEVICES: [0]\n",
      "\n",
      "  | Name    | Type     | Params | Mode \n",
      "---------------------------------------------\n",
      "0 | model   | TinyYOLO | 116 K  | train\n",
      "1 | loss_fn | YOLOLoss | 0      | train\n",
      "---------------------------------------------\n",
      "116 K     Trainable params\n",
      "0         Non-trainable params\n",
      "116 K     Total params\n",
      "0.467     Total estimated model params size (MB)\n",
      "32        Modules in train mode\n",
      "0         Modules in eval mode\n"
     ]
    },
    {
     "data": {
      "application/vnd.jupyter.widget-view+json": {
       "model_id": "5dd12811c2a3460d875bad8dc1bd1878",
       "version_major": 2,
       "version_minor": 0
      },
      "text/plain": [
       "Sanity Checking: |          | 0/? [00:00<?, ?it/s]"
      ]
     },
     "metadata": {},
     "output_type": "display_data"
    },
    {
     "name": "stdout",
     "output_type": "stream",
     "text": [
      " Val. Loss: 1.5890\n"
     ]
    },
    {
     "data": {
      "application/vnd.jupyter.widget-view+json": {
       "model_id": "11abe8d2e4944c22b9a9e770797cd089",
       "version_major": 2,
       "version_minor": 0
      },
      "text/plain": [
       "Training: |          | 0/? [00:00<?, ?it/s]"
      ]
     },
     "metadata": {},
     "output_type": "display_data"
    },
    {
     "data": {
      "application/vnd.jupyter.widget-view+json": {
       "model_id": "cd2f7976fc56425fbdcb1687d8e28c0e",
       "version_major": 2,
       "version_minor": 0
      },
      "text/plain": [
       "Validation: |          | 0/? [00:00<?, ?it/s]"
      ]
     },
     "metadata": {},
     "output_type": "display_data"
    },
    {
     "name": "stdout",
     "output_type": "stream",
     "text": [
      " Val. Loss: 0.1848\n"
     ]
    },
    {
     "data": {
      "application/vnd.jupyter.widget-view+json": {
       "model_id": "0437fd566b3d4ceeb2cf7c3c6858f7c7",
       "version_major": 2,
       "version_minor": 0
      },
      "text/plain": [
       "Validation: |          | 0/? [00:00<?, ?it/s]"
      ]
     },
     "metadata": {},
     "output_type": "display_data"
    },
    {
     "name": "stdout",
     "output_type": "stream",
     "text": [
      " Val. Loss: 0.1853\n"
     ]
    },
    {
     "data": {
      "application/vnd.jupyter.widget-view+json": {
       "model_id": "387631801bc245a0a102d841b8f95967",
       "version_major": 2,
       "version_minor": 0
      },
      "text/plain": [
       "Validation: |          | 0/? [00:00<?, ?it/s]"
      ]
     },
     "metadata": {},
     "output_type": "display_data"
    },
    {
     "name": "stdout",
     "output_type": "stream",
     "text": [
      " Val. Loss: 0.1089\n"
     ]
    },
    {
     "data": {
      "application/vnd.jupyter.widget-view+json": {
       "model_id": "7e8d2a18a85148b08f5dfe3ec158f396",
       "version_major": 2,
       "version_minor": 0
      },
      "text/plain": [
       "Validation: |          | 0/? [00:00<?, ?it/s]"
      ]
     },
     "metadata": {},
     "output_type": "display_data"
    },
    {
     "name": "stdout",
     "output_type": "stream",
     "text": [
      " Val. Loss: 0.0843\n"
     ]
    },
    {
     "data": {
      "application/vnd.jupyter.widget-view+json": {
       "model_id": "71e81d19b303451ba446f4168ae7b959",
       "version_major": 2,
       "version_minor": 0
      },
      "text/plain": [
       "Validation: |          | 0/? [00:00<?, ?it/s]"
      ]
     },
     "metadata": {},
     "output_type": "display_data"
    },
    {
     "name": "stdout",
     "output_type": "stream",
     "text": [
      " Val. Loss: 0.0724\n"
     ]
    },
    {
     "data": {
      "application/vnd.jupyter.widget-view+json": {
       "model_id": "0b15292608cd468ab7d736a6b7d8eeaf",
       "version_major": 2,
       "version_minor": 0
      },
      "text/plain": [
       "Validation: |          | 0/? [00:00<?, ?it/s]"
      ]
     },
     "metadata": {},
     "output_type": "display_data"
    },
    {
     "name": "stdout",
     "output_type": "stream",
     "text": [
      " Val. Loss: 0.0647\n"
     ]
    },
    {
     "data": {
      "application/vnd.jupyter.widget-view+json": {
       "model_id": "d49d93a0cf514b84b88adc3183db9c93",
       "version_major": 2,
       "version_minor": 0
      },
      "text/plain": [
       "Validation: |          | 0/? [00:00<?, ?it/s]"
      ]
     },
     "metadata": {},
     "output_type": "display_data"
    },
    {
     "name": "stdout",
     "output_type": "stream",
     "text": [
      " Val. Loss: 0.0670\n"
     ]
    },
    {
     "data": {
      "application/vnd.jupyter.widget-view+json": {
       "model_id": "ee170245c98b42f5ad757a1f66c00b5b",
       "version_major": 2,
       "version_minor": 0
      },
      "text/plain": [
       "Validation: |          | 0/? [00:00<?, ?it/s]"
      ]
     },
     "metadata": {},
     "output_type": "display_data"
    },
    {
     "name": "stdout",
     "output_type": "stream",
     "text": [
      " Val. Loss: 0.0636\n"
     ]
    },
    {
     "data": {
      "application/vnd.jupyter.widget-view+json": {
       "model_id": "483b389b2605478f8b66c12ac1ced859",
       "version_major": 2,
       "version_minor": 0
      },
      "text/plain": [
       "Validation: |          | 0/? [00:00<?, ?it/s]"
      ]
     },
     "metadata": {},
     "output_type": "display_data"
    },
    {
     "name": "stdout",
     "output_type": "stream",
     "text": [
      " Val. Loss: 0.0626\n"
     ]
    },
    {
     "data": {
      "application/vnd.jupyter.widget-view+json": {
       "model_id": "2e119962684c493dbd4dab0911bc26d5",
       "version_major": 2,
       "version_minor": 0
      },
      "text/plain": [
       "Validation: |          | 0/? [00:00<?, ?it/s]"
      ]
     },
     "metadata": {},
     "output_type": "display_data"
    },
    {
     "name": "stdout",
     "output_type": "stream",
     "text": [
      " Val. Loss: 0.0643\n"
     ]
    },
    {
     "data": {
      "application/vnd.jupyter.widget-view+json": {
       "model_id": "d5ae3b9e4bbe4915a12994b22d8e593e",
       "version_major": 2,
       "version_minor": 0
      },
      "text/plain": [
       "Validation: |          | 0/? [00:00<?, ?it/s]"
      ]
     },
     "metadata": {},
     "output_type": "display_data"
    },
    {
     "name": "stdout",
     "output_type": "stream",
     "text": [
      " Val. Loss: 0.0651\n"
     ]
    },
    {
     "data": {
      "application/vnd.jupyter.widget-view+json": {
       "model_id": "8c46c862290e4976ba6a235746f31eb1",
       "version_major": 2,
       "version_minor": 0
      },
      "text/plain": [
       "Validation: |          | 0/? [00:00<?, ?it/s]"
      ]
     },
     "metadata": {},
     "output_type": "display_data"
    },
    {
     "name": "stdout",
     "output_type": "stream",
     "text": [
      " Val. Loss: 0.0657\n"
     ]
    },
    {
     "data": {
      "application/vnd.jupyter.widget-view+json": {
       "model_id": "2d498142a3594f83b1f0c7468e987f56",
       "version_major": 2,
       "version_minor": 0
      },
      "text/plain": [
       "Validation: |          | 0/? [00:00<?, ?it/s]"
      ]
     },
     "metadata": {},
     "output_type": "display_data"
    },
    {
     "name": "stdout",
     "output_type": "stream",
     "text": [
      " Val. Loss: 0.0659\n"
     ]
    },
    {
     "data": {
      "application/vnd.jupyter.widget-view+json": {
       "model_id": "187078e46b8c4ee3910e2f5bc1f34a8e",
       "version_major": 2,
       "version_minor": 0
      },
      "text/plain": [
       "Validation: |          | 0/? [00:00<?, ?it/s]"
      ]
     },
     "metadata": {},
     "output_type": "display_data"
    },
    {
     "name": "stdout",
     "output_type": "stream",
     "text": [
      " Val. Loss: 0.0650\n"
     ]
    },
    {
     "data": {
      "application/vnd.jupyter.widget-view+json": {
       "model_id": "7d1658cd78c040ba8439a80aca5f4625",
       "version_major": 2,
       "version_minor": 0
      },
      "text/plain": [
       "Validation: |          | 0/? [00:00<?, ?it/s]"
      ]
     },
     "metadata": {},
     "output_type": "display_data"
    },
    {
     "name": "stdout",
     "output_type": "stream",
     "text": [
      " Val. Loss: 0.0652\n"
     ]
    },
    {
     "data": {
      "application/vnd.jupyter.widget-view+json": {
       "model_id": "5b7de546c1a546b1aecc45d1da957cea",
       "version_major": 2,
       "version_minor": 0
      },
      "text/plain": [
       "Validation: |          | 0/? [00:00<?, ?it/s]"
      ]
     },
     "metadata": {},
     "output_type": "display_data"
    },
    {
     "name": "stdout",
     "output_type": "stream",
     "text": [
      " Val. Loss: 0.0647\n"
     ]
    },
    {
     "data": {
      "application/vnd.jupyter.widget-view+json": {
       "model_id": "be0c31056e70438795cab89dd0e2e53a",
       "version_major": 2,
       "version_minor": 0
      },
      "text/plain": [
       "Validation: |          | 0/? [00:00<?, ?it/s]"
      ]
     },
     "metadata": {},
     "output_type": "display_data"
    },
    {
     "name": "stdout",
     "output_type": "stream",
     "text": [
      " Val. Loss: 0.0652\n"
     ]
    },
    {
     "data": {
      "application/vnd.jupyter.widget-view+json": {
       "model_id": "a73e18e40f24457182e639da9fd615ae",
       "version_major": 2,
       "version_minor": 0
      },
      "text/plain": [
       "Validation: |          | 0/? [00:00<?, ?it/s]"
      ]
     },
     "metadata": {},
     "output_type": "display_data"
    },
    {
     "name": "stdout",
     "output_type": "stream",
     "text": [
      " Val. Loss: 0.0650\n"
     ]
    },
    {
     "data": {
      "application/vnd.jupyter.widget-view+json": {
       "model_id": "98099532cf034fd1804e48369f429fa9",
       "version_major": 2,
       "version_minor": 0
      },
      "text/plain": [
       "Validation: |          | 0/? [00:00<?, ?it/s]"
      ]
     },
     "metadata": {},
     "output_type": "display_data"
    },
    {
     "name": "stdout",
     "output_type": "stream",
     "text": [
      " Val. Loss: 0.0656\n"
     ]
    },
    {
     "data": {
      "application/vnd.jupyter.widget-view+json": {
       "model_id": "4c19036a6eaf4a65bd112db04302053d",
       "version_major": 2,
       "version_minor": 0
      },
      "text/plain": [
       "Validation: |          | 0/? [00:00<?, ?it/s]"
      ]
     },
     "metadata": {},
     "output_type": "display_data"
    },
    {
     "name": "stdout",
     "output_type": "stream",
     "text": [
      " Val. Loss: 0.0656\n"
     ]
    },
    {
     "data": {
      "application/vnd.jupyter.widget-view+json": {
       "model_id": "32e5f57742e0460bae23987a0d78891d",
       "version_major": 2,
       "version_minor": 0
      },
      "text/plain": [
       "Validation: |          | 0/? [00:00<?, ?it/s]"
      ]
     },
     "metadata": {},
     "output_type": "display_data"
    },
    {
     "name": "stdout",
     "output_type": "stream",
     "text": [
      " Val. Loss: 0.0646\n"
     ]
    },
    {
     "data": {
      "application/vnd.jupyter.widget-view+json": {
       "model_id": "c4cc4c8e7300405cab983c6dfe02a877",
       "version_major": 2,
       "version_minor": 0
      },
      "text/plain": [
       "Validation: |          | 0/? [00:00<?, ?it/s]"
      ]
     },
     "metadata": {},
     "output_type": "display_data"
    },
    {
     "name": "stdout",
     "output_type": "stream",
     "text": [
      " Val. Loss: 0.0650\n"
     ]
    },
    {
     "data": {
      "application/vnd.jupyter.widget-view+json": {
       "model_id": "99137672fad54ec195c0eb7a32312692",
       "version_major": 2,
       "version_minor": 0
      },
      "text/plain": [
       "Validation: |          | 0/? [00:00<?, ?it/s]"
      ]
     },
     "metadata": {},
     "output_type": "display_data"
    },
    {
     "name": "stdout",
     "output_type": "stream",
     "text": [
      " Val. Loss: 0.0662\n"
     ]
    },
    {
     "data": {
      "application/vnd.jupyter.widget-view+json": {
       "model_id": "c20c925f0e7b42dca7ad772653ed01b5",
       "version_major": 2,
       "version_minor": 0
      },
      "text/plain": [
       "Validation: |          | 0/? [00:00<?, ?it/s]"
      ]
     },
     "metadata": {},
     "output_type": "display_data"
    },
    {
     "name": "stdout",
     "output_type": "stream",
     "text": [
      " Val. Loss: 0.0650\n"
     ]
    },
    {
     "data": {
      "application/vnd.jupyter.widget-view+json": {
       "model_id": "2e396b8d34704da28c26b56c1cc1622f",
       "version_major": 2,
       "version_minor": 0
      },
      "text/plain": [
       "Validation: |          | 0/? [00:00<?, ?it/s]"
      ]
     },
     "metadata": {},
     "output_type": "display_data"
    },
    {
     "name": "stdout",
     "output_type": "stream",
     "text": [
      " Val. Loss: 0.0652\n"
     ]
    },
    {
     "data": {
      "application/vnd.jupyter.widget-view+json": {
       "model_id": "a26a5072fe1d465babf447a4bd87b351",
       "version_major": 2,
       "version_minor": 0
      },
      "text/plain": [
       "Validation: |          | 0/? [00:00<?, ?it/s]"
      ]
     },
     "metadata": {},
     "output_type": "display_data"
    },
    {
     "name": "stdout",
     "output_type": "stream",
     "text": [
      " Val. Loss: 0.0662\n"
     ]
    },
    {
     "data": {
      "application/vnd.jupyter.widget-view+json": {
       "model_id": "78c80e9224a1476c8e704dbf50dc8406",
       "version_major": 2,
       "version_minor": 0
      },
      "text/plain": [
       "Validation: |          | 0/? [00:00<?, ?it/s]"
      ]
     },
     "metadata": {},
     "output_type": "display_data"
    },
    {
     "name": "stdout",
     "output_type": "stream",
     "text": [
      " Val. Loss: 0.0650\n"
     ]
    },
    {
     "data": {
      "application/vnd.jupyter.widget-view+json": {
       "model_id": "0f349dd064404fe8b53b707b8d623593",
       "version_major": 2,
       "version_minor": 0
      },
      "text/plain": [
       "Validation: |          | 0/? [00:00<?, ?it/s]"
      ]
     },
     "metadata": {},
     "output_type": "display_data"
    },
    {
     "name": "stdout",
     "output_type": "stream",
     "text": [
      " Val. Loss: 0.0658\n"
     ]
    },
    {
     "data": {
      "application/vnd.jupyter.widget-view+json": {
       "model_id": "38f968869514495e95351d2a2796e32c",
       "version_major": 2,
       "version_minor": 0
      },
      "text/plain": [
       "Validation: |          | 0/? [00:00<?, ?it/s]"
      ]
     },
     "metadata": {},
     "output_type": "display_data"
    },
    {
     "name": "stdout",
     "output_type": "stream",
     "text": [
      " Val. Loss: 0.0660\n"
     ]
    },
    {
     "data": {
      "application/vnd.jupyter.widget-view+json": {
       "model_id": "4d16b49246ab48f59d90b12ca55db8d3",
       "version_major": 2,
       "version_minor": 0
      },
      "text/plain": [
       "Validation: |          | 0/? [00:00<?, ?it/s]"
      ]
     },
     "metadata": {},
     "output_type": "display_data"
    },
    {
     "name": "stderr",
     "output_type": "stream",
     "text": [
      "`Trainer.fit` stopped: `max_epochs=30` reached.\n",
      "LOCAL_RANK: 0 - CUDA_VISIBLE_DEVICES: [0]\n"
     ]
    },
    {
     "name": "stdout",
     "output_type": "stream",
     "text": [
      " Val. Loss: 0.0655\n"
     ]
    },
    {
     "data": {
      "application/vnd.jupyter.widget-view+json": {
       "model_id": "dda76c5024f541918f0ee805d99ab434",
       "version_major": 2,
       "version_minor": 0
      },
      "text/plain": [
       "Validation: |          | 0/? [00:00<?, ?it/s]"
      ]
     },
     "metadata": {},
     "output_type": "display_data"
    },
    {
     "name": "stdout",
     "output_type": "stream",
     "text": [
      " Val. Loss: 0.0655\n",
      "────────────────────────────────────────────────────────────────────────────────────────────────────────────────────────\n",
      "     Validate metric           DataLoader 0\n",
      "────────────────────────────────────────────────────────────────────────────────────────────────────────────────────────\n",
      "        val_loss            0.06549600511789322\n",
      "────────────────────────────────────────────────────────────────────────────────────────────────────────────────────────\n"
     ]
    },
    {
     "data": {
      "text/plain": [
       "[{'val_loss': 0.06549600511789322}]"
      ]
     },
     "execution_count": 37,
     "metadata": {},
     "output_type": "execute_result"
    }
   ],
   "source": [
    "datamodule = Datamodule(\n",
    "    datadir=Path(\"yeast_cell_in_microstructures_dataset\"),\n",
    "    dataset_class=YeastDetectionDataset,\n",
    "    batch_size=6,\n",
    ")\n",
    "\n",
    "datamodule.setup(\"fit\")\n",
    "\n",
    "trainer = L.Trainer(\n",
    "    accelerator=\"auto\",\n",
    "    max_epochs=30,\n",
    "    limit_train_batches=None,\n",
    "    limit_val_batches=None,\n",
    "    log_every_n_steps=10,\n",
    ")\n",
    "lit_module = Lit(\n",
    "    model=TinyYOLO(in_channels=1, num_anchors=len(rescaled_anchors), num_classes=2),\n",
    "    learning_rate=0.005,\n",
    ")\n",
    "trainer.fit(\n",
    "    model=lit_module,\n",
    "    datamodule=datamodule,\n",
    ")\n",
    "trainer.validate(model=lit_module, datamodule=datamodule,)"
   ]
  },
  {
   "cell_type": "code",
   "execution_count": 38,
   "metadata": {},
   "outputs": [
    {
     "data": {
      "text/plain": [
       "{'map': tensor(0.6622),\n",
       " 'map_50': tensor(0.9516),\n",
       " 'map_75': tensor(0.7335),\n",
       " 'map_small': tensor(0.6622),\n",
       " 'map_medium': tensor(-1.),\n",
       " 'map_large': tensor(-1.),\n",
       " 'mar_1': tensor(0.3434),\n",
       " 'mar_10': tensor(0.7170),\n",
       " 'mar_100': tensor(0.7212),\n",
       " 'mar_small': tensor(0.7212),\n",
       " 'mar_medium': tensor(-1.),\n",
       " 'mar_large': tensor(-1.),\n",
       " 'map_per_class': tensor([0.8227, 0.5018]),\n",
       " 'mar_100_per_class': tensor([0.8571, 0.5852]),\n",
       " 'classes': tensor([1, 2], dtype=torch.int32)}"
      ]
     },
     "execution_count": 38,
     "metadata": {},
     "output_type": "execute_result"
    }
   ],
   "source": [
    "val_loader = DataLoader(dataset=val_dataset, batch_size=batch_size, shuffle=False)\n",
    "\n",
    "metric = MeanAveragePrecision(iou_type=\"bbox\", box_format=\"cxcywh\", class_metrics=True).to(device)\n",
    "\n",
    "for x, y in val_loader:\n",
    "    predicted_boxes = []\n",
    "    target_boxes = []\n",
    "\n",
    "    preds = lit_module.model.to(device)(x.to(device))\n",
    "\n",
    "    # итерируемся по элементам батча, собирая пердсказанные и верные рамки\n",
    "    for i in range(len(y)):\n",
    "        # получаем предсказанные рамки\n",
    "        pred_boxes = cells_to_bboxes(preds[i:i+1], rescaled_anchors.to(device), is_predictions=True)\n",
    "        # ВАЖНО: делаем non-max suppression ДО расчёта метрик\n",
    "        pred_boxes = pred_boxes[nms(box_convert(pred_boxes[:, 2:], \"cxcywh\", \"xyxy\"), pred_boxes[:, 1], iou_threshold=0.3)]\n",
    "        predicted_boxes.append(\n",
    "            dict(\n",
    "                boxes=pred_boxes[:, 2:],\n",
    "                scores=pred_boxes[:, 1],\n",
    "                labels=pred_boxes[:, 0].long(),\n",
    "            )\n",
    "        )\n",
    "        # достаём правильные рамки\n",
    "        true_boxes = cells_to_bboxes(y[i:i+1], rescaled_anchors)\n",
    "        true_boxes = true_boxes[true_boxes[:, 1] == 1]\n",
    "\n",
    "        target_boxes.append(\n",
    "            dict(\n",
    "                boxes=true_boxes[:, 2:].to(device),\n",
    "                labels=true_boxes[:, 0].long().to(device),\n",
    "            )\n",
    "        )\n",
    "    metric.update(predicted_boxes, target_boxes)\n",
    "\n",
    "metric.compute()"
   ]
  }
 ],
 "metadata": {
  "kernelspec": {
   "display_name": "dl-mcs",
   "language": "python",
   "name": "python3"
  },
  "language_info": {
   "codemirror_mode": {
    "name": "ipython",
    "version": 3
   },
   "file_extension": ".py",
   "mimetype": "text/x-python",
   "name": "python",
   "nbconvert_exporter": "python",
   "pygments_lexer": "ipython3",
   "version": "3.12.9"
  }
 },
 "nbformat": 4,
 "nbformat_minor": 2
}
