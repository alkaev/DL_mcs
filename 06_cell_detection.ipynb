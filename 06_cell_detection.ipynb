{
 "cells": [
  {
   "cell_type": "markdown",
   "metadata": {},
   "source": [
    "## Детекция клеток"
   ]
  },
  {
   "cell_type": "markdown",
   "metadata": {},
   "source": [
    "Ваша задача: обучить YOLO для детекции дрожжевых клеток и микроструктур (см. [07_object_detection.ipynb](../workshops/07_object_detection.ipynb)). Всё необходимое для запуска обучения вы можете взять из ноутбука с практикой, доделать нужно будет самую малость:\n",
    "- реализовать расчёт Mean Average Precision для всего валидационного сета\n",
    "- попробовать привести regression loss к виду, который используется в Yolo9000 и YoloV3\n",
    "- подобрать лучшие размеры якорных рамок с помощью кластеризации\n",
    "\n",
    "Основная цель: любыми средствами добиться $mAP > 0.6$ на валидации.\n",
    "\n",
    "Используйте класс `torchmetrics.detection.MeanAveragePrecision` для расчёта $mAP$.\n",
    "\n",
    "Нас будет интересовать именно значение `map` в словаре со всеми метриками - это mean average precision, усреднённый по всем отсечкам intersection over union в диапазоне $[0.5, 0.95]$ (см. документацию к классу).\n",
    "\n",
    "При решении можно пользоваться `lightning` или писать цикл обучения вручную. В последнем случае не забудьте вручную отправить модель и батчи на GPU, чтобы обучалось быстрее"
   ]
  },
  {
   "cell_type": "markdown",
   "metadata": {},
   "source": [
    "### Задание 1 (3 балла). Цикл обучения с расчётом Mean Average Precision\n",
    "\n",
    "Запустите обучение модели из практики на всём обучающем датасете, выведите значение $mAP$ на валидационном датасете после окончания обучения.\n",
    "\n",
    "В этом задании добейтесь $mAP > 0.3$, если всё сделано правильно - для этого должно хватать 30-50 эпох."
   ]
  },
  {
   "cell_type": "code",
   "execution_count": 48,
   "metadata": {},
   "outputs": [],
   "source": [
    "from pathlib import Path\n",
    "\n",
    "import matplotlib.patches as patches\n",
    "import matplotlib.pyplot as plt\n",
    "import numpy as np\n",
    "import torch\n",
    "from matplotlib.figure import Figure\n",
    "from torch import Tensor, nn\n",
    "from torch.utils.data import DataLoader, Dataset\n",
    "from torchmetrics.functional.detection import intersection_over_union\n",
    "from torchvision.ops.boxes import box_convert"
   ]
  },
  {
   "cell_type": "code",
   "execution_count": 49,
   "metadata": {},
   "outputs": [],
   "source": [
    "\n",
    "torch.manual_seed(42)\n",
    "device = torch.device(\"cuda\")"
   ]
  },
  {
   "cell_type": "code",
   "execution_count": 50,
   "metadata": {},
   "outputs": [],
   "source": [
    "def process_yolo_preds(preds: Tensor, rescaled_anchors: Tensor) -> tuple[Tensor, Tensor, Tensor]:\n",
    "    \"\"\"\n",
    "    Преобразование выходов модели в\n",
    "    1. Логит наличия объекта (вероятность получается применением сигмоиды)\n",
    "    2. Положение рамки относительно ячейки в формате cxcywh\n",
    "    3. Логиты классов (вероятности получаются применением softmax)\n",
    "    \"\"\"\n",
    "    rescaled_anchors = rescaled_anchors.view(1, len(rescaled_anchors), 1, 1, 2)\n",
    "    box_predictions = preds[..., 1:5].clone()\n",
    "\n",
    "    box_predictions[..., 0:2] = torch.sigmoid(box_predictions[..., 0:2])\n",
    "    box_predictions[..., 2:] = torch.exp(box_predictions[..., 2:]) * rescaled_anchors\n",
    "\n",
    "    scores = preds[..., 0:1]\n",
    "    return scores, box_predictions, preds[..., 5:]"
   ]
  },
  {
   "cell_type": "code",
   "execution_count": 51,
   "metadata": {},
   "outputs": [],
   "source": [
    "GRID_SIZE = 8\n",
    "IMAGE_SIZE = 256\n",
    "ANCHORS = [\n",
    "    [48, 72],\n",
    "    # [64, 64],\n",
    "    # [72, 48],\n",
    "]\n",
    "\n",
    "rescaled_anchors = torch.tensor(ANCHORS).to(device=device) / IMAGE_SIZE * GRID_SIZE"
   ]
  },
  {
   "cell_type": "code",
   "execution_count": 52,
   "metadata": {},
   "outputs": [
    {
     "name": "stdout",
     "output_type": "stream",
     "text": [
      "109431\n"
     ]
    },
    {
     "data": {
      "text/plain": [
       "torch.Size([2, 1, 8, 8, 7])"
      ]
     },
     "execution_count": 52,
     "metadata": {},
     "output_type": "execute_result"
    }
   ],
   "source": [
    "class CNNBlock(nn.Module):\n",
    "    def __init__(self, in_channels: int, out_channels: int, **kwargs):\n",
    "        super().__init__()\n",
    "        self.conv = nn.Conv2d(in_channels, out_channels, bias=False, **kwargs)\n",
    "        self.bn = nn.BatchNorm2d(out_channels)\n",
    "        self.activation = nn.LeakyReLU(0.1)\n",
    "\n",
    "    def forward(self, x):\n",
    "        x = self.conv(x)\n",
    "        x = self.bn(x)\n",
    "        return self.activation(x)\n",
    "\n",
    "class TinyYOLO(nn.Module):\n",
    "    def __init__(self, num_classes: int = 2, num_anchors: int = 1, in_channels: int = 1) -> None:\n",
    "        super().__init__()\n",
    "        self.num_classes = num_classes\n",
    "        self.in_channels = in_channels\n",
    "        self.num_anchors = num_anchors\n",
    "        self.layers = nn.Sequential(\n",
    "            CNNBlock(1, 16, kernel_size=3, stride=2, padding=1, dilation=2),\n",
    "            CNNBlock(16, 32, kernel_size=3, stride=2, padding=1, dilation=2),\n",
    "            CNNBlock(32, 64, kernel_size=3, stride=2, padding=1, dilation=2),\n",
    "            CNNBlock(64, 128, kernel_size=3, stride=2, padding=1, groups=8),\n",
    "            CNNBlock(128, 256, kernel_size=3, stride=1, padding=1, groups=8),\n",
    "            CNNBlock(256, 256, kernel_size=3, stride=1, padding=1, groups=16),\n",
    "            nn.MaxPool2d(2, 2),\n",
    "            nn.Conv2d(256, num_anchors * (num_classes + 5), kernel_size=1)\n",
    "        )\n",
    "    \n",
    "    def forward(self, x: Tensor) -> Tensor:\n",
    "        x = self.layers(x)\n",
    "        B, _, W, H = x.shape\n",
    "        x = x.view(B, self.num_anchors, self.num_classes + 5, W, H)  # B A F W H\n",
    "        x = x.permute(0, 1, 3, 4, 2)  # B A W H F\n",
    "        return x\n",
    "\n",
    "\n",
    "model = TinyYOLO(in_channels=1, num_anchors=1, num_classes=2)\n",
    "print(sum(p.numel() for p in model.parameters()))\n",
    "model.forward(torch.randn(2, 1, 256, 256)).shape"
   ]
  },
  {
   "cell_type": "code",
   "execution_count": 53,
   "metadata": {},
   "outputs": [],
   "source": [
    "def iou_wh(wh1: Tensor, wh2: Tensor) -> Tensor:\n",
    "    # IoU based on width and height of bboxes\n",
    "\n",
    "    # intersection\n",
    "    intersection_area = torch.min(wh1[..., 0], wh2[..., 0]) * torch.min(wh1[..., 1], wh2[..., 1])\n",
    "\n",
    "    # union\n",
    "    box1_area = wh1[..., 0] * wh1[..., 1]\n",
    "    box2_area = wh2[..., 0] * wh2[..., 1]\n",
    "    union_area = box1_area + box2_area - intersection_area\n",
    "\n",
    "    iou_score = intersection_area / union_area\n",
    "    return iou_score\n",
    "\n",
    "\n",
    "def boxes_to_cells(\n",
    "    boxes: Tensor,\n",
    "    classes: Tensor,\n",
    "    rescaled_anchors: Tensor,\n",
    "    grid_size: int = 8,\n",
    "    ignore_iou_thresh: float = 0.5,\n",
    ") -> Tensor:\n",
    "    \"\"\"\n",
    "    Переводит bbox представление в клеточное представление, где каждая рамка -\n",
    "    (id класса, вероятность нахождения объекта, cx, cy, w, h), а клеточное представление\n",
    "    имеет размер (batch_size, n_anchors, grid_size, grid_size, 6), в последней размерности\n",
    "    хранятся признаки ячейки: класс объекта, вероятность объекта, координаты и размеры рамки\n",
    "    относительно ячейки\n",
    "\n",
    "    Args:\n",
    "        boxes (Tensor): тензор со всеми рамками\n",
    "        classes (Tensor): тензор с id классов объектов\n",
    "        rescaled_anchors (Tensor): тензор размера (n_anchors, 2) с размерами якорей в долях от размеров ячейки\n",
    "        grid_size (int): размер сетки,\n",
    "        ignore_iou_thresh (float, optional): значение IoU для рамок, при котором ячейка,\n",
    "            занятая более чем одним объектом, будет специально помечена для игнорирования\n",
    "    \"\"\"\n",
    "    targets = torch.zeros((len(rescaled_anchors), grid_size, grid_size, 6))\n",
    "\n",
    "    # Каждой рамке сопоставляем клетку и наиболее подходящий якорь\n",
    "    for box, class_label in zip(boxes, classes):\n",
    "        iou_anchors = iou_wh(box[2:4], rescaled_anchors / grid_size)\n",
    "        anchor_indices = iou_anchors.argsort(descending=True, dim=0)\n",
    "        x, y, width, height = box\n",
    "\n",
    "        # Относим рамку к наиболее подходящему якорю\n",
    "        has_anchor = False\n",
    "        for anchor_idx in anchor_indices:\n",
    "            s = grid_size\n",
    "\n",
    "            # Определяем клетку, к которой относится рамка\n",
    "            i, j = int(s * y), int(s * x)\n",
    "            anchor_taken = targets[anchor_idx, i, j, 0]\n",
    "\n",
    "            # Проверяем, доступен ли якорная рамка для текущей ячейки\n",
    "            if not anchor_taken and not has_anchor:\n",
    "                # Пересчитываем координаты по отношению к клетке\n",
    "                x_cell, y_cell = s * x - j, s * y - i\n",
    "                width_cell, height_cell = (width * s, height * s)\n",
    "                box_coordinates = torch.tensor([x_cell, y_cell, width_cell, height_cell])\n",
    "\n",
    "                # Заполняем содержимое для выбранной клетки\n",
    "                targets[anchor_idx, i, j, 0] = 1  # указатель, что в клетке есть объект\n",
    "                targets[anchor_idx, i, j, 1:5] = box_coordinates\n",
    "                targets[anchor_idx, i, j, 5] = int(class_label)\n",
    "\n",
    "                has_anchor = True\n",
    "\n",
    "            # Если якорь уже выбран, проверим IoU, если больше threshold - пометим клетку -1\n",
    "            elif not anchor_taken and iou_anchors[anchor_idx] > ignore_iou_thresh:\n",
    "                targets[anchor_idx, i, j, 0] = -1\n",
    "\n",
    "    return targets"
   ]
  },
  {
   "cell_type": "code",
   "execution_count": null,
   "metadata": {},
   "outputs": [],
   "source": []
  },
  {
   "cell_type": "code",
   "execution_count": 54,
   "metadata": {},
   "outputs": [],
   "source": [
    "class YeastDetectionDataset(Dataset):\n",
    "    def __init__(\n",
    "        self, subset_dir: Path, anchors: list[tuple[int, int]], image_size: int, grid_size: int = 8\n",
    "    ) -> None:\n",
    "        super().__init__()\n",
    "        self.subset_dir = subset_dir\n",
    "        self.items = list((self.subset_dir / \"inputs\").glob(\"*.pt\"))\n",
    "        # Ignore IoU threshold\n",
    "        self.ignore_iou_thresh = 0.5\n",
    "        self.rescaled_anchors = torch.tensor(anchors) / image_size * grid_size\n",
    "        self.grid_size = grid_size\n",
    "        self.image_size = image_size\n",
    "\n",
    "    def __len__(self) -> int:\n",
    "        return len(self.items)\n",
    "\n",
    "    def __getitem__(self, index: int) -> tuple[Tensor, Tensor]:\n",
    "        image_path = self.items[index]\n",
    "        # load everything\n",
    "        image = torch.load(image_path, weights_only=True).unsqueeze(0)\n",
    "        classes = (\n",
    "            torch.load(self.subset_dir / \"classes\" / image_path.parts[-1], weights_only=True) + 1\n",
    "        )\n",
    "        boxes = torch.load(\n",
    "            self.subset_dir / \"bounding_boxes\" / image_path.parts[-1], weights_only=True\n",
    "        )\n",
    "        boxes = box_convert(boxes, \"xyxy\", \"cxcywh\") / self.image_size\n",
    "\n",
    "        # convert boxes to cells\n",
    "        targets = boxes_to_cells(\n",
    "            boxes, classes, self.rescaled_anchors, self.grid_size, self.ignore_iou_thresh\n",
    "        )\n",
    "        return image, targets"
   ]
  },
  {
   "cell_type": "code",
   "execution_count": 55,
   "metadata": {},
   "outputs": [],
   "source": [
    "train_dataset = YeastDetectionDataset(\n",
    "    Path(\"yeast_cell_in_microstructures_dataset/train\"), anchors=ANCHORS, image_size=256\n",
    ")\n",
    "val_dataset = YeastDetectionDataset(Path(\"yeast_cell_in_microstructures_dataset/val\"), anchors=ANCHORS, image_size=256)\n",
    "\n",
    "batch_size = 32\n",
    "train_loader = DataLoader(dataset=train_dataset, batch_size=batch_size, shuffle=True)\n",
    "val_loader = DataLoader(dataset=val_dataset, batch_size=batch_size, shuffle=False)"
   ]
  },
  {
   "cell_type": "code",
   "execution_count": 59,
   "metadata": {},
   "outputs": [],
   "source": [
    "def cells_to_bboxes(cells: Tensor, rescaled_anchors: Tensor, is_predictions=False) -> Tensor:\n",
    "    \"\"\"\n",
    "    Переводит клеточное представление в bbox представление, где каждая рамка -\n",
    "    (id класса, вероятность нахождения объекта, cx, cy, w, h), а клеточное представление\n",
    "    имеет размер (batch_size, n_anchors, grid_size, grid_size, 6), в последней размерности\n",
    "    хранятся признаки ячейки: класс объекта, вероятность объекта, координаты и размеры рамки\n",
    "    относительно ячейки\n",
    "\n",
    "    Args:\n",
    "        cells (Tensor): тензор размера (batch_size, n_anchors, width, height, 6)\n",
    "        rescaled_anchors (Tensor): тензор размера (n_anchors, 2) с размерами якорей в долях от размеров ячейки\n",
    "        is_predictions (bool, optional): являются ли входные ячейки предсказаниями или верной аннотацией.\n",
    "    \"\"\"\n",
    "\n",
    "    if is_predictions:\n",
    "        scores, box_predictions, logits = process_yolo_preds(cells, rescaled_anchors)\n",
    "        scores = torch.sigmoid(scores)\n",
    "        best_class = torch.argmax(logits, dim=-1).unsqueeze(-1) + 1\n",
    "\n",
    "    else:\n",
    "        box_predictions = cells[..., 1:5].clone()\n",
    "        scores = cells[..., 0:1]\n",
    "        best_class = cells[..., 5:6]\n",
    "\n",
    "    # масштабируем размер рамок [0, grid_size] -> [0, 1]\n",
    "    _, _, H, W, _ = cells.shape\n",
    "    range_y, range_x = torch.meshgrid(\n",
    "        torch.arange(H, dtype=cells.dtype, device=cells.device),\n",
    "        torch.arange(W, dtype=cells.dtype, device=cells.device),\n",
    "        indexing=\"ij\",\n",
    "    )\n",
    "    x = torch.cat(\n",
    "        [\n",
    "            best_class,\n",
    "            scores,\n",
    "            (box_predictions[..., 0:1] + range_x[None, None, :, :, None]) / W,  # X center\n",
    "            (box_predictions[..., 1:2] + range_y[None, None, :, :, None]) / H,  # Y center\n",
    "            box_predictions[..., 2:3] / W,  # Width\n",
    "            box_predictions[..., 3:4] / H,  # Height\n",
    "        ],\n",
    "        -1,\n",
    "    )\n",
    "\n",
    "    return x.view(-1, 6)"
   ]
  },
  {
   "cell_type": "code",
   "execution_count": 60,
   "metadata": {},
   "outputs": [],
   "source": [
    "def plot_image(image: Tensor, boxes: Tensor, class_labels: list[str]) -> Figure:\n",
    "    # назначим цвета для классов\n",
    "    colour_map = plt.get_cmap(\"tab20b\")\n",
    "    colors = [colour_map(i) for i in np.linspace(0, 1, len(class_labels))]\n",
    "\n",
    "    fig, ax = plt.subplots(1)\n",
    "    ax.imshow(image, cmap=\"gray\")\n",
    "    h, w = image.shape\n",
    "    for box in boxes:\n",
    "        # добавляем прямоугольник\n",
    "        class_pred = box[0] - 1\n",
    "        box = box[2:]\n",
    "        upper_left_x = box[0] - box[2] / 2\n",
    "        upper_left_y = box[1] - box[3] / 2\n",
    "\n",
    "        rect = patches.Rectangle(\n",
    "            (upper_left_x * w, upper_left_y * h),\n",
    "            box[2] * w,\n",
    "            box[3] * h,\n",
    "            linewidth=2,\n",
    "            edgecolor=colors[int(class_pred)],\n",
    "            facecolor=\"none\",\n",
    "        )\n",
    "        ax.add_patch(rect)\n",
    "\n",
    "        # добавляем подпись\n",
    "        ax.text(\n",
    "            upper_left_x * w,\n",
    "            upper_left_y * h,\n",
    "            s=class_labels[int(class_pred)],\n",
    "            color=\"white\",\n",
    "            verticalalignment=\"top\",\n",
    "            bbox={\"color\": colors[int(class_pred)], \"pad\": 0},\n",
    "        )\n",
    "\n",
    "    return fig"
   ]
  },
  {
   "cell_type": "code",
   "execution_count": 61,
   "metadata": {},
   "outputs": [
    {
     "name": "stdout",
     "output_type": "stream",
     "text": [
      "109431\n",
      "1.695744276046753\n"
     ]
    }
   ],
   "source": [
    "class YOLOLoss(nn.Module):\n",
    "    def __init__(self):\n",
    "        super().__init__()\n",
    "        self.mse = nn.MSELoss()\n",
    "        self.bce = nn.BCEWithLogitsLoss()\n",
    "        self.cross_entropy = nn.CrossEntropyLoss()\n",
    "\n",
    "    def forward(self, pred: Tensor, target: Tensor, anchors: Tensor) -> Tensor:\n",
    "        # ниже входные тензоры будут меняться на месте, так что склонируем их\n",
    "        pred = pred.clone()\n",
    "        target = target.clone()\n",
    "\n",
    "        # разделяем рамки на содержащие объекты и не содержащие\n",
    "        # NB: ещё могут быть -1, куда отнеслось более 1 объекта - их не учитываем\n",
    "        obj = target[..., 0] == 1\n",
    "        no_obj = target[..., 0] == 0\n",
    "\n",
    "        # преобразуем предсказания bbox\n",
    "        scores, pred_boxes, logits = process_yolo_preds(pred, anchors)\n",
    "\n",
    "        # no object loss: кросс-энтропия вместо MSE\n",
    "        no_object_loss = self.bce(\n",
    "            (scores[no_obj]),\n",
    "            (target[..., 0:1][no_obj]),\n",
    "        )\n",
    "\n",
    "        # object loss: учим предсказывать IoU\n",
    "        ious = intersection_over_union(pred_boxes[obj], target[..., 1:5][obj]).detach()\n",
    "        object_loss = self.mse(scores[obj].sigmoid(), ious * target[..., 0:1][obj])\n",
    "\n",
    "        # box coordinate loss: логарифмируем размеры рамок перед расчётом MSE\n",
    "        anchors = anchors.reshape(1, len(anchors), 1, 1, 2)\n",
    "        pred[..., 1:3] = pred[..., 1:3].sigmoid()\n",
    "        target[..., 3:5] = torch.log(1e-6 + target[..., 3:5] / anchors)\n",
    "        box_loss = self.mse(pred[..., 1:5][obj], target[..., 1:5][obj])\n",
    "\n",
    "        # class loss: здесь всё обычно\n",
    "        class_loss = self.cross_entropy(logits[obj], target[..., 5][obj].long() - 1)\n",
    "\n",
    "        # Total loss\n",
    "        return box_loss + object_loss + no_object_loss + class_loss\n",
    "\n",
    "rescaled_anchors = rescaled_anchors.to(device)  \n",
    "\n",
    "torch.manual_seed(42)\n",
    "x, y = next(iter(train_loader))\n",
    "device = torch.device(\"cuda\")\n",
    "x, y = x.to(device), y.to(device)\n",
    "\n",
    "model = TinyYOLO(in_channels=1, num_classes=2, num_anchors=len(rescaled_anchors)).to(device)\n",
    "print(sum(p.numel() for p in model.parameters()))\n",
    "\n",
    "preds = model(x)\n",
    "\n",
    "loss_fn = YOLOLoss().to(device)\n",
    "\n",
    "# Убеждаемся, что anchors тоже на CUDA\n",
    "rescaled_anchors = rescaled_anchors.to(device)\n",
    "\n",
    "# Теперь вызываем функцию потерь\n",
    "loss = loss_fn(preds, y, rescaled_anchors)\n",
    "print(loss.item())\n"
   ]
  },
  {
   "cell_type": "code",
   "execution_count": 62,
   "metadata": {},
   "outputs": [],
   "source": [
    "from typing import Callable, Type, Any\n",
    "import lightning as L\n",
    "\n",
    "from lightning.pytorch.utilities.types import EVAL_DATALOADERS, TRAIN_DATALOADERS\n",
    "from PIL.Image import Image\n",
    "from torch.utils.data import DataLoader\n",
    "from torchvision import datasets, transforms\n",
    "\n",
    "_collate_fn_t = Callable[[list[tuple[Tensor, Any]]], Any]\n",
    "\n",
    "class Datamodule(L.LightningDataModule):\n",
    "    def __init__(\n",
    "        self,\n",
    "        datadir: Path,\n",
    "        dataset_class: Type[Dataset],\n",
    "        batch_size: int,\n",
    "        train_subdir: str = \"train\",\n",
    "        val_subdir: str = \"val\",\n",
    "        test_subdir: str = \"test\",\n",
    "    ) -> None:\n",
    "        super().__init__()\n",
    "        self.batch_size = batch_size\n",
    "        self.dataset_class = dataset_class\n",
    "        self.train_dir = datadir / train_subdir\n",
    "        self.val_dir = datadir / val_subdir\n",
    "        self.test_dir = datadir / test_subdir\n",
    "\n",
    "    @property\n",
    "    def collate_fn(self) -> _collate_fn_t | None:\n",
    "        if self.dataset_class == YeastDetectionDataset:\n",
    "            return None\n",
    "        else:\n",
    "            return lambda batch: tuple(zip(*batch))\n",
    "\n",
    "    def setup(self, stage: str) -> None:\n",
    "        if stage in (\"fit\", \"validate\"):\n",
    "            self.val_dataset = self.dataset_class(self.val_dir, anchors=ANCHORS, image_size=256)\n",
    "        if stage == \"fit\":\n",
    "            self.train_dataset = self.dataset_class(self.train_dir, anchors=ANCHORS, image_size=256)\n",
    "        elif stage == \"test\":\n",
    "            self.test_dataset = self.dataset_class(self.test_dir, anchors=ANCHORS, image_size=256)\n",
    "\n",
    "    def train_dataloader(self) -> TRAIN_DATALOADERS:\n",
    "        return DataLoader(\n",
    "            self.train_dataset,\n",
    "            batch_size=self.batch_size,\n",
    "            shuffle=True,\n",
    "            collate_fn=self.collate_fn,\n",
    "        )\n",
    "\n",
    "    def val_dataloader(self) -> EVAL_DATALOADERS:\n",
    "        return DataLoader(\n",
    "            self.val_dataset,\n",
    "            batch_size=self.batch_size,\n",
    "            shuffle=False,\n",
    "            collate_fn=self.collate_fn,\n",
    "        )\n",
    "\n",
    "    def test_dataloader(self) -> EVAL_DATALOADERS:\n",
    "        return DataLoader(\n",
    "            self.test_dataset,\n",
    "            batch_size=self.batch_size,\n",
    "            shuffle=False,\n",
    "            collate_fn=self.collate_fn,\n",
    "        )"
   ]
  },
  {
   "cell_type": "code",
   "execution_count": 63,
   "metadata": {},
   "outputs": [],
   "source": [
    "from typing import Any\n",
    "from torchvision.ops.boxes import nms\n",
    "from lightning.pytorch.utilities.types import STEP_OUTPUT\n",
    "import torchmetrics.classification\n",
    "from torchmetrics.detection import MeanAveragePrecision\n",
    "\n",
    "\n",
    "class Lit(L.LightningModule):\n",
    "    def __init__(self, model: nn.Module, learning_rate: float) -> None:\n",
    "        super().__init__()\n",
    "        self.save_hyperparameters()\n",
    "        self.model = model\n",
    "        self.learning_rate = learning_rate\n",
    "        self.loss_fn = YOLOLoss()\n",
    "\n",
    "    def training_step(\n",
    "        self, batch: tuple[Tensor, Tensor], batch_idx: int\n",
    "    ) -> STEP_OUTPUT:\n",
    "        x, y = batch\n",
    "        y_hat = self.model(x)\n",
    "        loss = self.loss_fn.forward(y_hat, y, rescaled_anchors)\n",
    "        self.log(\"train_loss\", loss, on_epoch=True, on_step=False)\n",
    "        # обновляем метрики и логируем раз в эпоху\n",
    "\n",
    "        return loss\n",
    "\n",
    "    def validation_step(\n",
    "        self, batch: tuple[Tensor, Tensor], batch_idx: int\n",
    "    ) -> STEP_OUTPUT | None:\n",
    "        x, y = batch\n",
    "        y_hat = self.model(x)\n",
    "        loss = self.loss_fn.forward(y_hat, y, rescaled_anchors)\n",
    "        self.log(\"val_loss\", loss, on_epoch=True, on_step=False)\n",
    "        # обновляем метрики и логируем раз в эпоху\n",
    "        return {\n",
    "            \"loss\": loss,\n",
    "            \"preds\": y_hat,\n",
    "        }\n",
    "    \n",
    "    def on_validation_epoch_end(self) -> None:\n",
    "        val_loss = self.trainer.callback_metrics[\"val_loss\"]\n",
    "        print(f\" Val. Loss: {val_loss:.4f}\")\n",
    "    \n",
    "\n",
    "    def configure_optimizers(self) -> dict[str, Any]:\n",
    "        optimizer = torch.optim.AdamW(self.model.parameters(), lr=self.learning_rate)\n",
    "        # давайте кроме оптимизатора создадим ещё расписание для шага оптимизации\n",
    "        return {\n",
    "            \"optimizer\": optimizer,\n",
    "            \"lr_scheduler\": torch.optim.lr_scheduler.MultiStepLR(\n",
    "                optimizer, milestones=[5, 10, 15]\n",
    "            ),\n",
    "        }"
   ]
  },
  {
   "cell_type": "code",
   "execution_count": 64,
   "metadata": {},
   "outputs": [
    {
     "name": "stderr",
     "output_type": "stream",
     "text": [
      "GPU available: True (cuda), used: True\n",
      "TPU available: False, using: 0 TPU cores\n",
      "HPU available: False, using: 0 HPUs\n",
      "LOCAL_RANK: 0 - CUDA_VISIBLE_DEVICES: [0]\n",
      "\n",
      "  | Name    | Type     | Params | Mode \n",
      "---------------------------------------------\n",
      "0 | model   | TinyYOLO | 109 K  | train\n",
      "1 | loss_fn | YOLOLoss | 0      | train\n",
      "---------------------------------------------\n",
      "109 K     Trainable params\n",
      "0         Non-trainable params\n",
      "109 K     Total params\n",
      "0.438     Total estimated model params size (MB)\n",
      "32        Modules in train mode\n",
      "0         Modules in eval mode\n"
     ]
    },
    {
     "data": {
      "application/vnd.jupyter.widget-view+json": {
       "model_id": "26cbe2aa0f2b4659a6153b9daca8f322",
       "version_major": 2,
       "version_minor": 0
      },
      "text/plain": [
       "Sanity Checking: |          | 0/? [00:00<?, ?it/s]"
      ]
     },
     "metadata": {},
     "output_type": "display_data"
    },
    {
     "name": "stdout",
     "output_type": "stream",
     "text": [
      " Val. Loss: 1.4646\n"
     ]
    },
    {
     "data": {
      "application/vnd.jupyter.widget-view+json": {
       "model_id": "31f6ed7fb2bb45e99087e11488079061",
       "version_major": 2,
       "version_minor": 0
      },
      "text/plain": [
       "Training: |          | 0/? [00:00<?, ?it/s]"
      ]
     },
     "metadata": {},
     "output_type": "display_data"
    },
    {
     "data": {
      "application/vnd.jupyter.widget-view+json": {
       "model_id": "44ae580b4c654b1e9d019f3472e2c518",
       "version_major": 2,
       "version_minor": 0
      },
      "text/plain": [
       "Validation: |          | 0/? [00:00<?, ?it/s]"
      ]
     },
     "metadata": {},
     "output_type": "display_data"
    },
    {
     "name": "stdout",
     "output_type": "stream",
     "text": [
      " Val. Loss: 0.2504\n"
     ]
    },
    {
     "data": {
      "application/vnd.jupyter.widget-view+json": {
       "model_id": "221e6d30c07146d0b0e3e744d8dc4783",
       "version_major": 2,
       "version_minor": 0
      },
      "text/plain": [
       "Validation: |          | 0/? [00:00<?, ?it/s]"
      ]
     },
     "metadata": {},
     "output_type": "display_data"
    },
    {
     "name": "stdout",
     "output_type": "stream",
     "text": [
      " Val. Loss: 0.1572\n"
     ]
    },
    {
     "data": {
      "application/vnd.jupyter.widget-view+json": {
       "model_id": "15f9c8b3c3aa415db27a431044ab02ec",
       "version_major": 2,
       "version_minor": 0
      },
      "text/plain": [
       "Validation: |          | 0/? [00:00<?, ?it/s]"
      ]
     },
     "metadata": {},
     "output_type": "display_data"
    },
    {
     "name": "stdout",
     "output_type": "stream",
     "text": [
      " Val. Loss: 0.1383\n"
     ]
    },
    {
     "data": {
      "application/vnd.jupyter.widget-view+json": {
       "model_id": "2d0cb9f22d98412b8ee6e13ff93b43e6",
       "version_major": 2,
       "version_minor": 0
      },
      "text/plain": [
       "Validation: |          | 0/? [00:00<?, ?it/s]"
      ]
     },
     "metadata": {},
     "output_type": "display_data"
    },
    {
     "name": "stdout",
     "output_type": "stream",
     "text": [
      " Val. Loss: 0.1309\n"
     ]
    },
    {
     "data": {
      "application/vnd.jupyter.widget-view+json": {
       "model_id": "e837b52314504e39a9d061dadcc1ab45",
       "version_major": 2,
       "version_minor": 0
      },
      "text/plain": [
       "Validation: |          | 0/? [00:00<?, ?it/s]"
      ]
     },
     "metadata": {},
     "output_type": "display_data"
    },
    {
     "name": "stdout",
     "output_type": "stream",
     "text": [
      " Val. Loss: 0.1149\n"
     ]
    },
    {
     "data": {
      "application/vnd.jupyter.widget-view+json": {
       "model_id": "cfd18433b6b94f9f851e814a2b5be063",
       "version_major": 2,
       "version_minor": 0
      },
      "text/plain": [
       "Validation: |          | 0/? [00:00<?, ?it/s]"
      ]
     },
     "metadata": {},
     "output_type": "display_data"
    },
    {
     "name": "stdout",
     "output_type": "stream",
     "text": [
      " Val. Loss: 0.1232\n"
     ]
    },
    {
     "data": {
      "application/vnd.jupyter.widget-view+json": {
       "model_id": "a936a89ea3d945f0afc3b147d352934a",
       "version_major": 2,
       "version_minor": 0
      },
      "text/plain": [
       "Validation: |          | 0/? [00:00<?, ?it/s]"
      ]
     },
     "metadata": {},
     "output_type": "display_data"
    },
    {
     "name": "stdout",
     "output_type": "stream",
     "text": [
      " Val. Loss: 0.1256\n"
     ]
    },
    {
     "data": {
      "application/vnd.jupyter.widget-view+json": {
       "model_id": "474659b95d23416381a8feeee53461c3",
       "version_major": 2,
       "version_minor": 0
      },
      "text/plain": [
       "Validation: |          | 0/? [00:00<?, ?it/s]"
      ]
     },
     "metadata": {},
     "output_type": "display_data"
    },
    {
     "name": "stdout",
     "output_type": "stream",
     "text": [
      " Val. Loss: 0.1208\n"
     ]
    },
    {
     "data": {
      "application/vnd.jupyter.widget-view+json": {
       "model_id": "bf139e66c9464024a38d2c37d0ad993e",
       "version_major": 2,
       "version_minor": 0
      },
      "text/plain": [
       "Validation: |          | 0/? [00:00<?, ?it/s]"
      ]
     },
     "metadata": {},
     "output_type": "display_data"
    },
    {
     "name": "stdout",
     "output_type": "stream",
     "text": [
      " Val. Loss: 0.1271\n"
     ]
    },
    {
     "data": {
      "application/vnd.jupyter.widget-view+json": {
       "model_id": "2ee319716e2e4c619a7799b941ee601e",
       "version_major": 2,
       "version_minor": 0
      },
      "text/plain": [
       "Validation: |          | 0/? [00:00<?, ?it/s]"
      ]
     },
     "metadata": {},
     "output_type": "display_data"
    },
    {
     "name": "stdout",
     "output_type": "stream",
     "text": [
      " Val. Loss: 0.1267\n"
     ]
    },
    {
     "data": {
      "application/vnd.jupyter.widget-view+json": {
       "model_id": "fb546f82ba76418bba565183f0bed615",
       "version_major": 2,
       "version_minor": 0
      },
      "text/plain": [
       "Validation: |          | 0/? [00:00<?, ?it/s]"
      ]
     },
     "metadata": {},
     "output_type": "display_data"
    },
    {
     "name": "stdout",
     "output_type": "stream",
     "text": [
      " Val. Loss: 0.1285\n"
     ]
    },
    {
     "data": {
      "application/vnd.jupyter.widget-view+json": {
       "model_id": "cefd9e4ba0cd4fb082fe1a1e9a9b33d4",
       "version_major": 2,
       "version_minor": 0
      },
      "text/plain": [
       "Validation: |          | 0/? [00:00<?, ?it/s]"
      ]
     },
     "metadata": {},
     "output_type": "display_data"
    },
    {
     "name": "stdout",
     "output_type": "stream",
     "text": [
      " Val. Loss: 0.1292\n"
     ]
    },
    {
     "data": {
      "application/vnd.jupyter.widget-view+json": {
       "model_id": "bd7b264f8f8144979de0a8196db46ffc",
       "version_major": 2,
       "version_minor": 0
      },
      "text/plain": [
       "Validation: |          | 0/? [00:00<?, ?it/s]"
      ]
     },
     "metadata": {},
     "output_type": "display_data"
    },
    {
     "name": "stdout",
     "output_type": "stream",
     "text": [
      " Val. Loss: 0.1290\n"
     ]
    },
    {
     "data": {
      "application/vnd.jupyter.widget-view+json": {
       "model_id": "d29f518bb44842a0885145935ab0024b",
       "version_major": 2,
       "version_minor": 0
      },
      "text/plain": [
       "Validation: |          | 0/? [00:00<?, ?it/s]"
      ]
     },
     "metadata": {},
     "output_type": "display_data"
    },
    {
     "name": "stdout",
     "output_type": "stream",
     "text": [
      " Val. Loss: 0.1291\n"
     ]
    },
    {
     "data": {
      "application/vnd.jupyter.widget-view+json": {
       "model_id": "5c188805b3ed4da59a6fcbcd58499eeb",
       "version_major": 2,
       "version_minor": 0
      },
      "text/plain": [
       "Validation: |          | 0/? [00:00<?, ?it/s]"
      ]
     },
     "metadata": {},
     "output_type": "display_data"
    },
    {
     "name": "stdout",
     "output_type": "stream",
     "text": [
      " Val. Loss: 0.1297\n"
     ]
    },
    {
     "data": {
      "application/vnd.jupyter.widget-view+json": {
       "model_id": "40d120c66af24205b61668cfb01137b3",
       "version_major": 2,
       "version_minor": 0
      },
      "text/plain": [
       "Validation: |          | 0/? [00:00<?, ?it/s]"
      ]
     },
     "metadata": {},
     "output_type": "display_data"
    },
    {
     "name": "stdout",
     "output_type": "stream",
     "text": [
      " Val. Loss: 0.1330\n"
     ]
    },
    {
     "data": {
      "application/vnd.jupyter.widget-view+json": {
       "model_id": "314604d767e04fc98fc5de268d39f74b",
       "version_major": 2,
       "version_minor": 0
      },
      "text/plain": [
       "Validation: |          | 0/? [00:00<?, ?it/s]"
      ]
     },
     "metadata": {},
     "output_type": "display_data"
    },
    {
     "name": "stdout",
     "output_type": "stream",
     "text": [
      " Val. Loss: 0.1331\n"
     ]
    },
    {
     "data": {
      "application/vnd.jupyter.widget-view+json": {
       "model_id": "cd5f28e84a9b44debb06c69770fe9c3a",
       "version_major": 2,
       "version_minor": 0
      },
      "text/plain": [
       "Validation: |          | 0/? [00:00<?, ?it/s]"
      ]
     },
     "metadata": {},
     "output_type": "display_data"
    },
    {
     "name": "stdout",
     "output_type": "stream",
     "text": [
      " Val. Loss: 0.1297\n"
     ]
    },
    {
     "data": {
      "application/vnd.jupyter.widget-view+json": {
       "model_id": "f592cfab863144a48b646ca7f804fa5b",
       "version_major": 2,
       "version_minor": 0
      },
      "text/plain": [
       "Validation: |          | 0/? [00:00<?, ?it/s]"
      ]
     },
     "metadata": {},
     "output_type": "display_data"
    },
    {
     "name": "stdout",
     "output_type": "stream",
     "text": [
      " Val. Loss: 0.1309\n"
     ]
    },
    {
     "data": {
      "application/vnd.jupyter.widget-view+json": {
       "model_id": "4b27e20f24614a22ab074db6b3db8b16",
       "version_major": 2,
       "version_minor": 0
      },
      "text/plain": [
       "Validation: |          | 0/? [00:00<?, ?it/s]"
      ]
     },
     "metadata": {},
     "output_type": "display_data"
    },
    {
     "name": "stdout",
     "output_type": "stream",
     "text": [
      " Val. Loss: 0.1323\n"
     ]
    },
    {
     "data": {
      "application/vnd.jupyter.widget-view+json": {
       "model_id": "1969e53eebf143c4a9f182fcccb90f93",
       "version_major": 2,
       "version_minor": 0
      },
      "text/plain": [
       "Validation: |          | 0/? [00:00<?, ?it/s]"
      ]
     },
     "metadata": {},
     "output_type": "display_data"
    },
    {
     "name": "stdout",
     "output_type": "stream",
     "text": [
      " Val. Loss: 0.1290\n"
     ]
    },
    {
     "data": {
      "application/vnd.jupyter.widget-view+json": {
       "model_id": "5bf64872c68a4e918b7735cf322de2b7",
       "version_major": 2,
       "version_minor": 0
      },
      "text/plain": [
       "Validation: |          | 0/? [00:00<?, ?it/s]"
      ]
     },
     "metadata": {},
     "output_type": "display_data"
    },
    {
     "name": "stdout",
     "output_type": "stream",
     "text": [
      " Val. Loss: 0.1308\n"
     ]
    },
    {
     "data": {
      "application/vnd.jupyter.widget-view+json": {
       "model_id": "0528d23793ca4c6399f917df024793db",
       "version_major": 2,
       "version_minor": 0
      },
      "text/plain": [
       "Validation: |          | 0/? [00:00<?, ?it/s]"
      ]
     },
     "metadata": {},
     "output_type": "display_data"
    },
    {
     "name": "stdout",
     "output_type": "stream",
     "text": [
      " Val. Loss: 0.1339\n"
     ]
    },
    {
     "data": {
      "application/vnd.jupyter.widget-view+json": {
       "model_id": "29b0c926286c4de1aac3df123b38ef2d",
       "version_major": 2,
       "version_minor": 0
      },
      "text/plain": [
       "Validation: |          | 0/? [00:00<?, ?it/s]"
      ]
     },
     "metadata": {},
     "output_type": "display_data"
    },
    {
     "name": "stdout",
     "output_type": "stream",
     "text": [
      " Val. Loss: 0.1304\n"
     ]
    },
    {
     "data": {
      "application/vnd.jupyter.widget-view+json": {
       "model_id": "e1b40d213c5348a086bdfe5e081f4cc8",
       "version_major": 2,
       "version_minor": 0
      },
      "text/plain": [
       "Validation: |          | 0/? [00:00<?, ?it/s]"
      ]
     },
     "metadata": {},
     "output_type": "display_data"
    },
    {
     "name": "stdout",
     "output_type": "stream",
     "text": [
      " Val. Loss: 0.1300\n"
     ]
    },
    {
     "data": {
      "application/vnd.jupyter.widget-view+json": {
       "model_id": "634ed9b1b6bc45a3a3ae8920516595fc",
       "version_major": 2,
       "version_minor": 0
      },
      "text/plain": [
       "Validation: |          | 0/? [00:00<?, ?it/s]"
      ]
     },
     "metadata": {},
     "output_type": "display_data"
    },
    {
     "name": "stdout",
     "output_type": "stream",
     "text": [
      " Val. Loss: 0.1305\n"
     ]
    },
    {
     "data": {
      "application/vnd.jupyter.widget-view+json": {
       "model_id": "6f09243b077745f295f07c5317dd78e9",
       "version_major": 2,
       "version_minor": 0
      },
      "text/plain": [
       "Validation: |          | 0/? [00:00<?, ?it/s]"
      ]
     },
     "metadata": {},
     "output_type": "display_data"
    },
    {
     "name": "stdout",
     "output_type": "stream",
     "text": [
      " Val. Loss: 0.1309\n"
     ]
    },
    {
     "data": {
      "application/vnd.jupyter.widget-view+json": {
       "model_id": "ddaaf17d699b45c5b124e134eac30e2e",
       "version_major": 2,
       "version_minor": 0
      },
      "text/plain": [
       "Validation: |          | 0/? [00:00<?, ?it/s]"
      ]
     },
     "metadata": {},
     "output_type": "display_data"
    },
    {
     "name": "stdout",
     "output_type": "stream",
     "text": [
      " Val. Loss: 0.1316\n"
     ]
    },
    {
     "data": {
      "application/vnd.jupyter.widget-view+json": {
       "model_id": "4e28ca027c9048b381ee023576936c52",
       "version_major": 2,
       "version_minor": 0
      },
      "text/plain": [
       "Validation: |          | 0/? [00:00<?, ?it/s]"
      ]
     },
     "metadata": {},
     "output_type": "display_data"
    },
    {
     "name": "stdout",
     "output_type": "stream",
     "text": [
      " Val. Loss: 0.1319\n"
     ]
    },
    {
     "data": {
      "application/vnd.jupyter.widget-view+json": {
       "model_id": "7b0dbfd4c8444a3bbecc2c068fdef417",
       "version_major": 2,
       "version_minor": 0
      },
      "text/plain": [
       "Validation: |          | 0/? [00:00<?, ?it/s]"
      ]
     },
     "metadata": {},
     "output_type": "display_data"
    },
    {
     "name": "stdout",
     "output_type": "stream",
     "text": [
      " Val. Loss: 0.1338\n"
     ]
    },
    {
     "data": {
      "application/vnd.jupyter.widget-view+json": {
       "model_id": "ab31e18f8ffa4b33a88c2a78596aa287",
       "version_major": 2,
       "version_minor": 0
      },
      "text/plain": [
       "Validation: |          | 0/? [00:00<?, ?it/s]"
      ]
     },
     "metadata": {},
     "output_type": "display_data"
    },
    {
     "name": "stdout",
     "output_type": "stream",
     "text": [
      " Val. Loss: 0.1280\n"
     ]
    },
    {
     "data": {
      "application/vnd.jupyter.widget-view+json": {
       "model_id": "d4bde113e5134720a2cbf6072327d419",
       "version_major": 2,
       "version_minor": 0
      },
      "text/plain": [
       "Validation: |          | 0/? [00:00<?, ?it/s]"
      ]
     },
     "metadata": {},
     "output_type": "display_data"
    },
    {
     "name": "stdout",
     "output_type": "stream",
     "text": [
      " Val. Loss: 0.1298\n"
     ]
    },
    {
     "data": {
      "application/vnd.jupyter.widget-view+json": {
       "model_id": "44242255b36640d895ccc736a63468ad",
       "version_major": 2,
       "version_minor": 0
      },
      "text/plain": [
       "Validation: |          | 0/? [00:00<?, ?it/s]"
      ]
     },
     "metadata": {},
     "output_type": "display_data"
    },
    {
     "name": "stdout",
     "output_type": "stream",
     "text": [
      " Val. Loss: 0.1322\n"
     ]
    },
    {
     "data": {
      "application/vnd.jupyter.widget-view+json": {
       "model_id": "6791071e4763490d88845411cdc783d3",
       "version_major": 2,
       "version_minor": 0
      },
      "text/plain": [
       "Validation: |          | 0/? [00:00<?, ?it/s]"
      ]
     },
     "metadata": {},
     "output_type": "display_data"
    },
    {
     "name": "stdout",
     "output_type": "stream",
     "text": [
      " Val. Loss: 0.1307\n"
     ]
    },
    {
     "data": {
      "application/vnd.jupyter.widget-view+json": {
       "model_id": "90143a68d3974e2c9df4a28ed29f8fad",
       "version_major": 2,
       "version_minor": 0
      },
      "text/plain": [
       "Validation: |          | 0/? [00:00<?, ?it/s]"
      ]
     },
     "metadata": {},
     "output_type": "display_data"
    },
    {
     "name": "stdout",
     "output_type": "stream",
     "text": [
      " Val. Loss: 0.1329\n"
     ]
    },
    {
     "data": {
      "application/vnd.jupyter.widget-view+json": {
       "model_id": "50479db6bd5d4e6597673c21760057bb",
       "version_major": 2,
       "version_minor": 0
      },
      "text/plain": [
       "Validation: |          | 0/? [00:00<?, ?it/s]"
      ]
     },
     "metadata": {},
     "output_type": "display_data"
    },
    {
     "name": "stdout",
     "output_type": "stream",
     "text": [
      " Val. Loss: 0.1303\n"
     ]
    },
    {
     "data": {
      "application/vnd.jupyter.widget-view+json": {
       "model_id": "f447b003ba4a4eb09e88a28d3a17838d",
       "version_major": 2,
       "version_minor": 0
      },
      "text/plain": [
       "Validation: |          | 0/? [00:00<?, ?it/s]"
      ]
     },
     "metadata": {},
     "output_type": "display_data"
    },
    {
     "name": "stdout",
     "output_type": "stream",
     "text": [
      " Val. Loss: 0.1288\n"
     ]
    },
    {
     "data": {
      "application/vnd.jupyter.widget-view+json": {
       "model_id": "bd1bde05a4064763a386907b768e6a14",
       "version_major": 2,
       "version_minor": 0
      },
      "text/plain": [
       "Validation: |          | 0/? [00:00<?, ?it/s]"
      ]
     },
     "metadata": {},
     "output_type": "display_data"
    },
    {
     "name": "stdout",
     "output_type": "stream",
     "text": [
      " Val. Loss: 0.1300\n"
     ]
    },
    {
     "data": {
      "application/vnd.jupyter.widget-view+json": {
       "model_id": "de4a93ed8b2943f08ff7bda6707bca15",
       "version_major": 2,
       "version_minor": 0
      },
      "text/plain": [
       "Validation: |          | 0/? [00:00<?, ?it/s]"
      ]
     },
     "metadata": {},
     "output_type": "display_data"
    },
    {
     "name": "stdout",
     "output_type": "stream",
     "text": [
      " Val. Loss: 0.1297\n"
     ]
    },
    {
     "data": {
      "application/vnd.jupyter.widget-view+json": {
       "model_id": "9fa59ce10fe54c0986d713a96d1056f8",
       "version_major": 2,
       "version_minor": 0
      },
      "text/plain": [
       "Validation: |          | 0/? [00:00<?, ?it/s]"
      ]
     },
     "metadata": {},
     "output_type": "display_data"
    },
    {
     "name": "stderr",
     "output_type": "stream",
     "text": [
      "`Trainer.fit` stopped: `max_epochs=40` reached.\n",
      "LOCAL_RANK: 0 - CUDA_VISIBLE_DEVICES: [0]\n"
     ]
    },
    {
     "name": "stdout",
     "output_type": "stream",
     "text": [
      " Val. Loss: 0.1305\n"
     ]
    },
    {
     "data": {
      "application/vnd.jupyter.widget-view+json": {
       "model_id": "4b45158d354f41a59ec33f766a97f67d",
       "version_major": 2,
       "version_minor": 0
      },
      "text/plain": [
       "Validation: |          | 0/? [00:00<?, ?it/s]"
      ]
     },
     "metadata": {},
     "output_type": "display_data"
    },
    {
     "name": "stdout",
     "output_type": "stream",
     "text": [
      " Val. Loss: 0.1305\n",
      "────────────────────────────────────────────────────────────────────────────────────────────────────────────────────────\n",
      "     Validate metric           DataLoader 0\n",
      "────────────────────────────────────────────────────────────────────────────────────────────────────────────────────────\n",
      "        val_loss            0.1305147260427475\n",
      "────────────────────────────────────────────────────────────────────────────────────────────────────────────────────────\n"
     ]
    },
    {
     "data": {
      "text/plain": [
       "[{'val_loss': 0.1305147260427475}]"
      ]
     },
     "execution_count": 64,
     "metadata": {},
     "output_type": "execute_result"
    }
   ],
   "source": [
    "from lightning.pytorch.loggers import TensorBoardLogger\n",
    "\n",
    "datamodule = Datamodule(\n",
    "    datadir=Path(\"yeast_cell_in_microstructures_dataset\"),\n",
    "    dataset_class=YeastDetectionDataset,\n",
    "    batch_size=8,\n",
    ")\n",
    "\n",
    "datamodule.setup(\"fit\")\n",
    "\n",
    "trainer = L.Trainer(\n",
    "    accelerator=\"auto\",\n",
    "    max_epochs=40,\n",
    "    limit_train_batches=None,\n",
    "    limit_val_batches=None,\n",
    "    log_every_n_steps=10\n",
    ")\n",
    "lit_module = Lit(\n",
    "    model=TinyYOLO(in_channels=1, num_anchors=len(rescaled_anchors), num_classes=2),\n",
    "    learning_rate=1e-3,\n",
    ")\n",
    "trainer.fit(\n",
    "    model=lit_module,\n",
    "    datamodule=datamodule,\n",
    ")\n",
    "\n",
    "trainer.validate(model=lit_module, dataloaders=datamodule.val_dataloader())"
   ]
  },
  {
   "cell_type": "code",
   "execution_count": 65,
   "metadata": {},
   "outputs": [
    {
     "name": "stdout",
     "output_type": "stream",
     "text": [
      "{'map': tensor(0.3362), 'map_50': tensor(0.8014), 'map_75': tensor(0.2633), 'map_small': tensor(0.3362), 'map_medium': tensor(-1.), 'map_large': tensor(-1.), 'mar_1': tensor(0.2130), 'mar_10': tensor(0.4350), 'mar_100': tensor(0.4350), 'mar_small': tensor(0.4350), 'mar_medium': tensor(-1.), 'mar_large': tensor(-1.), 'map_per_class': tensor([0.4520, 0.2204]), 'mar_100_per_class': tensor([0.5469, 0.3231]), 'classes': tensor([1, 2], dtype=torch.int32)}\n"
     ]
    }
   ],
   "source": [
    "from pprint import pprint\n",
    "from torchmetrics.detection import MeanAveragePrecision \n",
    "\n",
    "val_loader = DataLoader(dataset=val_dataset, batch_size=batch_size, shuffle=False)\n",
    "\n",
    "metric = MeanAveragePrecision(iou_type=\"bbox\", box_format=\"cxcywh\", class_metrics=True).to(device)\n",
    "\n",
    "for x, y in val_loader:\n",
    "    predicted_boxes = []\n",
    "    target_boxes = []\n",
    "\n",
    "    preds = lit_module.model.to(device)(x.to(device))\n",
    "\n",
    "    for i in range(len(y)):\n",
    "        pred_boxes = cells_to_bboxes(preds[i:i+1], rescaled_anchors.to(device), is_predictions=True)\n",
    "        pred_boxes = pred_boxes.to(device)  \n",
    "\n",
    "        \n",
    "        pred_boxes = pred_boxes[nms(\n",
    "            box_convert(pred_boxes[:, 2:], \"cxcywh\", \"xyxy\"),\n",
    "            pred_boxes[:, 1],\n",
    "            iou_threshold=0.3\n",
    "        )]\n",
    "\n",
    "        predicted_boxes.append(\n",
    "            dict(\n",
    "                boxes=pred_boxes[:, 2:].to(device),  \n",
    "                scores=pred_boxes[:, 1].to(device),  \n",
    "                labels=pred_boxes[:, 0].long().to(device),  \n",
    "            )\n",
    "        )\n",
    "\n",
    "        true_boxes = cells_to_bboxes(y[i:i+1].to(device), rescaled_anchors.to(device))\n",
    "        true_boxes = true_boxes[true_boxes[:, 1] == 1]\n",
    "\n",
    "        target_boxes.append(\n",
    "            dict(\n",
    "                boxes=true_boxes[:, 2:].to(device), \n",
    "                labels=true_boxes[:, 0].long().to(device),  \n",
    "            )\n",
    "        )\n",
    "\n",
    "    metric.update(predicted_boxes, target_boxes)\n",
    "\n",
    "print(metric.compute())\n"
   ]
  },
  {
   "cell_type": "markdown",
   "metadata": {},
   "source": [
    "### Задание 2 (2 балла). YoloV3 loss\n",
    "\n",
    "Мы упоминали, что на практике использовалась не совсем та же самая ошибка, что и в YOLO. В этом задании исправьте в классе YoloLoss ошибку регрессии, приведя её в соответствие с тем, как она описана в статье [YOLOv3: An Incremental Improvement](https://arxiv.org/abs/1804.02767) (см. раздел 2.1. Bounding Box Prediction).\n",
    "\n",
    "Запустите обучение с изменённой ошибкой, добейтесь $mAP > 0.3$"
   ]
  },
  {
   "cell_type": "code",
   "execution_count": 66,
   "metadata": {},
   "outputs": [],
   "source": [
    "class YOLOLoss(nn.Module):\n",
    "    def __init__(self):\n",
    "        super().__init__()\n",
    "        self.mse = nn.MSELoss()\n",
    "        self.bce = nn.BCEWithLogitsLoss()\n",
    "        self.ce = nn.CrossEntropyLoss()\n",
    "\n",
    "    def forward(self, pred: Tensor, target: Tensor, anchors: Tensor) -> Tensor:\n",
    "        # ниже входные тензоры будут меняться на месте, так что склонируем их\n",
    "        pred = pred.clone()\n",
    "        target = target.clone()\n",
    "\n",
    "        # разделяем рамки на содержащие объекты и не содержащие\n",
    "        # NB: ещё могут быть -1, куда отнеслось более 1 объекта - их не учитываем\n",
    "        obj = target[..., 0] == 1\n",
    "        no_obj = target[..., 0] == 0\n",
    "\n",
    "        # преобразуем предсказания bbox\n",
    "        scores, pred_boxes, logits = process_yolo_preds(pred, anchors)\n",
    "\n",
    "        # no object loss: кросс-энтропия вместо MSE\n",
    "        no_object_loss = self.bce(\n",
    "            (scores[no_obj]),\n",
    "            (target[..., 0:1][no_obj]),\n",
    "        )\n",
    "\n",
    "        # object loss: учим предсказывать IoU\n",
    "        ious = intersection_over_union(pred_boxes[obj], target[..., 1:5][obj]).detach()\n",
    "        object_loss = self.mse(scores[obj].sigmoid(), ious * target[..., 0:1][obj])\n",
    "\n",
    "        # box coordinate loss: логарифмируем размеры рамок перед расчётом MSE\n",
    "        anchors = anchors.reshape(1, len(anchors), 1, 1, 2)\n",
    "        pred[..., 1:3] = pred[..., 1:3].sigmoid()\n",
    "        pred[..., 3:5] = torch.sqrt(anchors * torch.exp(pred[..., 3:5]))\n",
    "        target[..., 3:5] = torch.sqrt(target[..., 3:5])\n",
    "        box_loss = self.mse(pred[..., 1:5][obj], target[..., 1:5][obj])\n",
    "\n",
    "        # class loss: здесь всё обычно\n",
    "        class_loss = self.ce(logits[obj], target[..., 5][obj].long() - 1)\n",
    "\n",
    "        # Total loss\n",
    "        return box_loss + object_loss + no_object_loss + class_loss"
   ]
  },
  {
   "cell_type": "code",
   "execution_count": 67,
   "metadata": {},
   "outputs": [
    {
     "name": "stderr",
     "output_type": "stream",
     "text": [
      "GPU available: True (cuda), used: True\n",
      "TPU available: False, using: 0 TPU cores\n",
      "HPU available: False, using: 0 HPUs\n",
      "/home/ne_ravilka/miniconda3/envs/dl-mcs/lib/python3.12/site-packages/lightning/pytorch/utilities/parsing.py:209: Attribute 'model' is an instance of `nn.Module` and is already saved during checkpointing. It is recommended to ignore them using `self.save_hyperparameters(ignore=['model'])`.\n",
      "LOCAL_RANK: 0 - CUDA_VISIBLE_DEVICES: [0]\n",
      "\n",
      "  | Name    | Type     | Params | Mode \n",
      "---------------------------------------------\n",
      "0 | model   | TinyYOLO | 109 K  | train\n",
      "1 | loss_fn | YOLOLoss | 0      | train\n",
      "---------------------------------------------\n",
      "109 K     Trainable params\n",
      "0         Non-trainable params\n",
      "109 K     Total params\n",
      "0.438     Total estimated model params size (MB)\n",
      "32        Modules in train mode\n",
      "0         Modules in eval mode\n"
     ]
    },
    {
     "data": {
      "application/vnd.jupyter.widget-view+json": {
       "model_id": "6ca410364bfd4956946e215eb4172748",
       "version_major": 2,
       "version_minor": 0
      },
      "text/plain": [
       "Sanity Checking: |          | 0/? [00:00<?, ?it/s]"
      ]
     },
     "metadata": {},
     "output_type": "display_data"
    },
    {
     "name": "stdout",
     "output_type": "stream",
     "text": [
      " Val. Loss: 1.4873\n"
     ]
    },
    {
     "name": "stderr",
     "output_type": "stream",
     "text": [
      "/home/ne_ravilka/miniconda3/envs/dl-mcs/lib/python3.12/site-packages/lightning/pytorch/trainer/connectors/data_connector.py:425: The 'val_dataloader' does not have many workers which may be a bottleneck. Consider increasing the value of the `num_workers` argument` to `num_workers=11` in the `DataLoader` to improve performance.\n",
      "/home/ne_ravilka/miniconda3/envs/dl-mcs/lib/python3.12/site-packages/lightning/pytorch/trainer/connectors/data_connector.py:425: The 'train_dataloader' does not have many workers which may be a bottleneck. Consider increasing the value of the `num_workers` argument` to `num_workers=11` in the `DataLoader` to improve performance.\n"
     ]
    },
    {
     "data": {
      "application/vnd.jupyter.widget-view+json": {
       "model_id": "ba27453fe914411c8ca40fbc721d8703",
       "version_major": 2,
       "version_minor": 0
      },
      "text/plain": [
       "Training: |          | 0/? [00:00<?, ?it/s]"
      ]
     },
     "metadata": {},
     "output_type": "display_data"
    },
    {
     "data": {
      "application/vnd.jupyter.widget-view+json": {
       "model_id": "76a98f62d1bc4025983dabe8346b24f1",
       "version_major": 2,
       "version_minor": 0
      },
      "text/plain": [
       "Validation: |          | 0/? [00:00<?, ?it/s]"
      ]
     },
     "metadata": {},
     "output_type": "display_data"
    },
    {
     "name": "stdout",
     "output_type": "stream",
     "text": [
      " Val. Loss: 0.2616\n"
     ]
    },
    {
     "data": {
      "application/vnd.jupyter.widget-view+json": {
       "model_id": "d84734a5ea424d75a42a21f9e8360027",
       "version_major": 2,
       "version_minor": 0
      },
      "text/plain": [
       "Validation: |          | 0/? [00:00<?, ?it/s]"
      ]
     },
     "metadata": {},
     "output_type": "display_data"
    },
    {
     "name": "stdout",
     "output_type": "stream",
     "text": [
      " Val. Loss: 0.4204\n"
     ]
    },
    {
     "data": {
      "application/vnd.jupyter.widget-view+json": {
       "model_id": "14e2cf52e3564762b96a49c8d06ae7b9",
       "version_major": 2,
       "version_minor": 0
      },
      "text/plain": [
       "Validation: |          | 0/? [00:00<?, ?it/s]"
      ]
     },
     "metadata": {},
     "output_type": "display_data"
    },
    {
     "name": "stdout",
     "output_type": "stream",
     "text": [
      " Val. Loss: 0.4391\n"
     ]
    },
    {
     "data": {
      "application/vnd.jupyter.widget-view+json": {
       "model_id": "8858e63ba69a4711b04fb7a67379f0d2",
       "version_major": 2,
       "version_minor": 0
      },
      "text/plain": [
       "Validation: |          | 0/? [00:00<?, ?it/s]"
      ]
     },
     "metadata": {},
     "output_type": "display_data"
    },
    {
     "name": "stdout",
     "output_type": "stream",
     "text": [
      " Val. Loss: 0.1158\n"
     ]
    },
    {
     "data": {
      "application/vnd.jupyter.widget-view+json": {
       "model_id": "06c3a8aa8b6948d59e63dcdf7c41efd7",
       "version_major": 2,
       "version_minor": 0
      },
      "text/plain": [
       "Validation: |          | 0/? [00:00<?, ?it/s]"
      ]
     },
     "metadata": {},
     "output_type": "display_data"
    },
    {
     "name": "stdout",
     "output_type": "stream",
     "text": [
      " Val. Loss: 0.0881\n"
     ]
    },
    {
     "data": {
      "application/vnd.jupyter.widget-view+json": {
       "model_id": "7aafe05c3ae641eea87ae29aeaedc537",
       "version_major": 2,
       "version_minor": 0
      },
      "text/plain": [
       "Validation: |          | 0/? [00:00<?, ?it/s]"
      ]
     },
     "metadata": {},
     "output_type": "display_data"
    },
    {
     "name": "stdout",
     "output_type": "stream",
     "text": [
      " Val. Loss: 0.0888\n"
     ]
    },
    {
     "data": {
      "application/vnd.jupyter.widget-view+json": {
       "model_id": "c01aa26f4dcd4a33acfce62ab7b09e24",
       "version_major": 2,
       "version_minor": 0
      },
      "text/plain": [
       "Validation: |          | 0/? [00:00<?, ?it/s]"
      ]
     },
     "metadata": {},
     "output_type": "display_data"
    },
    {
     "name": "stdout",
     "output_type": "stream",
     "text": [
      " Val. Loss: 0.0859\n"
     ]
    },
    {
     "data": {
      "application/vnd.jupyter.widget-view+json": {
       "model_id": "7483f54546ba401baa8ee5d4050d319c",
       "version_major": 2,
       "version_minor": 0
      },
      "text/plain": [
       "Validation: |          | 0/? [00:00<?, ?it/s]"
      ]
     },
     "metadata": {},
     "output_type": "display_data"
    },
    {
     "name": "stdout",
     "output_type": "stream",
     "text": [
      " Val. Loss: 0.0841\n"
     ]
    },
    {
     "data": {
      "application/vnd.jupyter.widget-view+json": {
       "model_id": "9f139359c4ff483aa8a58126c6bd09b8",
       "version_major": 2,
       "version_minor": 0
      },
      "text/plain": [
       "Validation: |          | 0/? [00:00<?, ?it/s]"
      ]
     },
     "metadata": {},
     "output_type": "display_data"
    },
    {
     "name": "stdout",
     "output_type": "stream",
     "text": [
      " Val. Loss: 0.0828\n"
     ]
    },
    {
     "data": {
      "application/vnd.jupyter.widget-view+json": {
       "model_id": "dcc474398dfa402f8dbdd8334dec7ec7",
       "version_major": 2,
       "version_minor": 0
      },
      "text/plain": [
       "Validation: |          | 0/? [00:00<?, ?it/s]"
      ]
     },
     "metadata": {},
     "output_type": "display_data"
    },
    {
     "name": "stdout",
     "output_type": "stream",
     "text": [
      " Val. Loss: 0.0810\n"
     ]
    },
    {
     "data": {
      "application/vnd.jupyter.widget-view+json": {
       "model_id": "0fd18f46cd3d410b98b851f3509d3371",
       "version_major": 2,
       "version_minor": 0
      },
      "text/plain": [
       "Validation: |          | 0/? [00:00<?, ?it/s]"
      ]
     },
     "metadata": {},
     "output_type": "display_data"
    },
    {
     "name": "stdout",
     "output_type": "stream",
     "text": [
      " Val. Loss: 0.0805\n"
     ]
    },
    {
     "data": {
      "application/vnd.jupyter.widget-view+json": {
       "model_id": "1ffc2cbcda0d4b6f9b6c701ebad662f7",
       "version_major": 2,
       "version_minor": 0
      },
      "text/plain": [
       "Validation: |          | 0/? [00:00<?, ?it/s]"
      ]
     },
     "metadata": {},
     "output_type": "display_data"
    },
    {
     "name": "stdout",
     "output_type": "stream",
     "text": [
      " Val. Loss: 0.0804\n"
     ]
    },
    {
     "data": {
      "application/vnd.jupyter.widget-view+json": {
       "model_id": "4208f4584b084abcbe5c050b698846a7",
       "version_major": 2,
       "version_minor": 0
      },
      "text/plain": [
       "Validation: |          | 0/? [00:00<?, ?it/s]"
      ]
     },
     "metadata": {},
     "output_type": "display_data"
    },
    {
     "name": "stdout",
     "output_type": "stream",
     "text": [
      " Val. Loss: 0.0799\n"
     ]
    },
    {
     "data": {
      "application/vnd.jupyter.widget-view+json": {
       "model_id": "f250ee92f81a499890676b02bdbcf365",
       "version_major": 2,
       "version_minor": 0
      },
      "text/plain": [
       "Validation: |          | 0/? [00:00<?, ?it/s]"
      ]
     },
     "metadata": {},
     "output_type": "display_data"
    },
    {
     "name": "stdout",
     "output_type": "stream",
     "text": [
      " Val. Loss: 0.0797\n"
     ]
    },
    {
     "data": {
      "application/vnd.jupyter.widget-view+json": {
       "model_id": "eda508b93f9b43ce8f599f107d72dfed",
       "version_major": 2,
       "version_minor": 0
      },
      "text/plain": [
       "Validation: |          | 0/? [00:00<?, ?it/s]"
      ]
     },
     "metadata": {},
     "output_type": "display_data"
    },
    {
     "name": "stdout",
     "output_type": "stream",
     "text": [
      " Val. Loss: 0.0798\n"
     ]
    },
    {
     "data": {
      "application/vnd.jupyter.widget-view+json": {
       "model_id": "66c57fec45c948a694b29aaf060e73eb",
       "version_major": 2,
       "version_minor": 0
      },
      "text/plain": [
       "Validation: |          | 0/? [00:00<?, ?it/s]"
      ]
     },
     "metadata": {},
     "output_type": "display_data"
    },
    {
     "name": "stdout",
     "output_type": "stream",
     "text": [
      " Val. Loss: 0.0798\n"
     ]
    },
    {
     "data": {
      "application/vnd.jupyter.widget-view+json": {
       "model_id": "6f291407cf1c406faa4aeec995cc1628",
       "version_major": 2,
       "version_minor": 0
      },
      "text/plain": [
       "Validation: |          | 0/? [00:00<?, ?it/s]"
      ]
     },
     "metadata": {},
     "output_type": "display_data"
    },
    {
     "name": "stdout",
     "output_type": "stream",
     "text": [
      " Val. Loss: 0.0802\n"
     ]
    },
    {
     "data": {
      "application/vnd.jupyter.widget-view+json": {
       "model_id": "45f0839b252940ae80c89659d7e36df3",
       "version_major": 2,
       "version_minor": 0
      },
      "text/plain": [
       "Validation: |          | 0/? [00:00<?, ?it/s]"
      ]
     },
     "metadata": {},
     "output_type": "display_data"
    },
    {
     "name": "stdout",
     "output_type": "stream",
     "text": [
      " Val. Loss: 0.0795\n"
     ]
    },
    {
     "data": {
      "application/vnd.jupyter.widget-view+json": {
       "model_id": "167ef104cb494f768407242357cab3ff",
       "version_major": 2,
       "version_minor": 0
      },
      "text/plain": [
       "Validation: |          | 0/? [00:00<?, ?it/s]"
      ]
     },
     "metadata": {},
     "output_type": "display_data"
    },
    {
     "name": "stdout",
     "output_type": "stream",
     "text": [
      " Val. Loss: 0.0795\n"
     ]
    },
    {
     "data": {
      "application/vnd.jupyter.widget-view+json": {
       "model_id": "eb390f6ec0c645659367c53f4a5a1a98",
       "version_major": 2,
       "version_minor": 0
      },
      "text/plain": [
       "Validation: |          | 0/? [00:00<?, ?it/s]"
      ]
     },
     "metadata": {},
     "output_type": "display_data"
    },
    {
     "name": "stdout",
     "output_type": "stream",
     "text": [
      " Val. Loss: 0.0797\n"
     ]
    },
    {
     "data": {
      "application/vnd.jupyter.widget-view+json": {
       "model_id": "a208fe7d46c242c6b3762fd55821fd31",
       "version_major": 2,
       "version_minor": 0
      },
      "text/plain": [
       "Validation: |          | 0/? [00:00<?, ?it/s]"
      ]
     },
     "metadata": {},
     "output_type": "display_data"
    },
    {
     "name": "stdout",
     "output_type": "stream",
     "text": [
      " Val. Loss: 0.0795\n"
     ]
    },
    {
     "data": {
      "application/vnd.jupyter.widget-view+json": {
       "model_id": "75e96c0d68354d6999d366650b77727c",
       "version_major": 2,
       "version_minor": 0
      },
      "text/plain": [
       "Validation: |          | 0/? [00:00<?, ?it/s]"
      ]
     },
     "metadata": {},
     "output_type": "display_data"
    },
    {
     "name": "stdout",
     "output_type": "stream",
     "text": [
      " Val. Loss: 0.0799\n"
     ]
    },
    {
     "data": {
      "application/vnd.jupyter.widget-view+json": {
       "model_id": "a1eda3ae12684857806b3ee7cb8433eb",
       "version_major": 2,
       "version_minor": 0
      },
      "text/plain": [
       "Validation: |          | 0/? [00:00<?, ?it/s]"
      ]
     },
     "metadata": {},
     "output_type": "display_data"
    },
    {
     "name": "stdout",
     "output_type": "stream",
     "text": [
      " Val. Loss: 0.0795\n"
     ]
    },
    {
     "data": {
      "application/vnd.jupyter.widget-view+json": {
       "model_id": "c6c83a8ef3ae436e9adaa577505cfc50",
       "version_major": 2,
       "version_minor": 0
      },
      "text/plain": [
       "Validation: |          | 0/? [00:00<?, ?it/s]"
      ]
     },
     "metadata": {},
     "output_type": "display_data"
    },
    {
     "name": "stdout",
     "output_type": "stream",
     "text": [
      " Val. Loss: 0.0795\n"
     ]
    },
    {
     "data": {
      "application/vnd.jupyter.widget-view+json": {
       "model_id": "3a011fecfff849999cf330017ff1fb0a",
       "version_major": 2,
       "version_minor": 0
      },
      "text/plain": [
       "Validation: |          | 0/? [00:00<?, ?it/s]"
      ]
     },
     "metadata": {},
     "output_type": "display_data"
    },
    {
     "name": "stdout",
     "output_type": "stream",
     "text": [
      " Val. Loss: 0.0795\n"
     ]
    },
    {
     "data": {
      "application/vnd.jupyter.widget-view+json": {
       "model_id": "190b545609614bedb8c6636809a92bc1",
       "version_major": 2,
       "version_minor": 0
      },
      "text/plain": [
       "Validation: |          | 0/? [00:00<?, ?it/s]"
      ]
     },
     "metadata": {},
     "output_type": "display_data"
    },
    {
     "name": "stdout",
     "output_type": "stream",
     "text": [
      " Val. Loss: 0.0795\n"
     ]
    },
    {
     "data": {
      "application/vnd.jupyter.widget-view+json": {
       "model_id": "e150d7e34864476d9bb781b190235a2e",
       "version_major": 2,
       "version_minor": 0
      },
      "text/plain": [
       "Validation: |          | 0/? [00:00<?, ?it/s]"
      ]
     },
     "metadata": {},
     "output_type": "display_data"
    },
    {
     "name": "stdout",
     "output_type": "stream",
     "text": [
      " Val. Loss: 0.0792\n"
     ]
    },
    {
     "data": {
      "application/vnd.jupyter.widget-view+json": {
       "model_id": "711ac6b203f24cf3afa561b69bf55c81",
       "version_major": 2,
       "version_minor": 0
      },
      "text/plain": [
       "Validation: |          | 0/? [00:00<?, ?it/s]"
      ]
     },
     "metadata": {},
     "output_type": "display_data"
    },
    {
     "name": "stdout",
     "output_type": "stream",
     "text": [
      " Val. Loss: 0.0800\n"
     ]
    },
    {
     "data": {
      "application/vnd.jupyter.widget-view+json": {
       "model_id": "895a0f76c0454cf0a13da10dec4e645f",
       "version_major": 2,
       "version_minor": 0
      },
      "text/plain": [
       "Validation: |          | 0/? [00:00<?, ?it/s]"
      ]
     },
     "metadata": {},
     "output_type": "display_data"
    },
    {
     "name": "stdout",
     "output_type": "stream",
     "text": [
      " Val. Loss: 0.0800\n"
     ]
    },
    {
     "data": {
      "application/vnd.jupyter.widget-view+json": {
       "model_id": "3f725a2108b34534ac6e89d56bdeee84",
       "version_major": 2,
       "version_minor": 0
      },
      "text/plain": [
       "Validation: |          | 0/? [00:00<?, ?it/s]"
      ]
     },
     "metadata": {},
     "output_type": "display_data"
    },
    {
     "name": "stdout",
     "output_type": "stream",
     "text": [
      " Val. Loss: 0.0797\n"
     ]
    },
    {
     "data": {
      "application/vnd.jupyter.widget-view+json": {
       "model_id": "ecb3491b4dd7457c9e7a3738377389f3",
       "version_major": 2,
       "version_minor": 0
      },
      "text/plain": [
       "Validation: |          | 0/? [00:00<?, ?it/s]"
      ]
     },
     "metadata": {},
     "output_type": "display_data"
    },
    {
     "name": "stdout",
     "output_type": "stream",
     "text": [
      " Val. Loss: 0.0794\n"
     ]
    },
    {
     "data": {
      "application/vnd.jupyter.widget-view+json": {
       "model_id": "a43ae8067044494b9aba7c04ef35d3fe",
       "version_major": 2,
       "version_minor": 0
      },
      "text/plain": [
       "Validation: |          | 0/? [00:00<?, ?it/s]"
      ]
     },
     "metadata": {},
     "output_type": "display_data"
    },
    {
     "name": "stdout",
     "output_type": "stream",
     "text": [
      " Val. Loss: 0.0794\n"
     ]
    },
    {
     "data": {
      "application/vnd.jupyter.widget-view+json": {
       "model_id": "55d50a3bcf5948abb37930b466548fd1",
       "version_major": 2,
       "version_minor": 0
      },
      "text/plain": [
       "Validation: |          | 0/? [00:00<?, ?it/s]"
      ]
     },
     "metadata": {},
     "output_type": "display_data"
    },
    {
     "name": "stdout",
     "output_type": "stream",
     "text": [
      " Val. Loss: 0.0794\n"
     ]
    },
    {
     "data": {
      "application/vnd.jupyter.widget-view+json": {
       "model_id": "25dc210103c94aef9410d07be6b83aa3",
       "version_major": 2,
       "version_minor": 0
      },
      "text/plain": [
       "Validation: |          | 0/? [00:00<?, ?it/s]"
      ]
     },
     "metadata": {},
     "output_type": "display_data"
    },
    {
     "name": "stdout",
     "output_type": "stream",
     "text": [
      " Val. Loss: 0.0790\n"
     ]
    },
    {
     "data": {
      "application/vnd.jupyter.widget-view+json": {
       "model_id": "a3f7178dd4f8404f89101c3f3e9079ec",
       "version_major": 2,
       "version_minor": 0
      },
      "text/plain": [
       "Validation: |          | 0/? [00:00<?, ?it/s]"
      ]
     },
     "metadata": {},
     "output_type": "display_data"
    },
    {
     "name": "stdout",
     "output_type": "stream",
     "text": [
      " Val. Loss: 0.0791\n"
     ]
    },
    {
     "data": {
      "application/vnd.jupyter.widget-view+json": {
       "model_id": "ab2bf6f8a4b94718a4f406fa3040626d",
       "version_major": 2,
       "version_minor": 0
      },
      "text/plain": [
       "Validation: |          | 0/? [00:00<?, ?it/s]"
      ]
     },
     "metadata": {},
     "output_type": "display_data"
    },
    {
     "name": "stdout",
     "output_type": "stream",
     "text": [
      " Val. Loss: 0.0798\n"
     ]
    },
    {
     "data": {
      "application/vnd.jupyter.widget-view+json": {
       "model_id": "990024ce68bd47e1a69736d73c2e593d",
       "version_major": 2,
       "version_minor": 0
      },
      "text/plain": [
       "Validation: |          | 0/? [00:00<?, ?it/s]"
      ]
     },
     "metadata": {},
     "output_type": "display_data"
    },
    {
     "name": "stdout",
     "output_type": "stream",
     "text": [
      " Val. Loss: 0.0793\n"
     ]
    },
    {
     "data": {
      "application/vnd.jupyter.widget-view+json": {
       "model_id": "8271baa4f4b145039c734418c3f26d3b",
       "version_major": 2,
       "version_minor": 0
      },
      "text/plain": [
       "Validation: |          | 0/? [00:00<?, ?it/s]"
      ]
     },
     "metadata": {},
     "output_type": "display_data"
    },
    {
     "name": "stdout",
     "output_type": "stream",
     "text": [
      " Val. Loss: 0.0795\n"
     ]
    },
    {
     "data": {
      "application/vnd.jupyter.widget-view+json": {
       "model_id": "64ccfbc3a2b84334b610aad80d26601e",
       "version_major": 2,
       "version_minor": 0
      },
      "text/plain": [
       "Validation: |          | 0/? [00:00<?, ?it/s]"
      ]
     },
     "metadata": {},
     "output_type": "display_data"
    },
    {
     "name": "stdout",
     "output_type": "stream",
     "text": [
      " Val. Loss: 0.0790\n"
     ]
    },
    {
     "data": {
      "application/vnd.jupyter.widget-view+json": {
       "model_id": "abc7b9bb533b4e9ea65d2440fd937095",
       "version_major": 2,
       "version_minor": 0
      },
      "text/plain": [
       "Validation: |          | 0/? [00:00<?, ?it/s]"
      ]
     },
     "metadata": {},
     "output_type": "display_data"
    },
    {
     "name": "stderr",
     "output_type": "stream",
     "text": [
      "`Trainer.fit` stopped: `max_epochs=40` reached.\n",
      "LOCAL_RANK: 0 - CUDA_VISIBLE_DEVICES: [0]\n"
     ]
    },
    {
     "name": "stdout",
     "output_type": "stream",
     "text": [
      " Val. Loss: 0.0789\n"
     ]
    },
    {
     "data": {
      "application/vnd.jupyter.widget-view+json": {
       "model_id": "038ac03f2442497193bddf4845e7fad3",
       "version_major": 2,
       "version_minor": 0
      },
      "text/plain": [
       "Validation: |          | 0/? [00:00<?, ?it/s]"
      ]
     },
     "metadata": {},
     "output_type": "display_data"
    },
    {
     "name": "stdout",
     "output_type": "stream",
     "text": [
      " Val. Loss: 0.0789\n",
      "────────────────────────────────────────────────────────────────────────────────────────────────────────────────────────\n",
      "     Validate metric           DataLoader 0\n",
      "────────────────────────────────────────────────────────────────────────────────────────────────────────────────────────\n",
      "        val_loss            0.07887491583824158\n",
      "────────────────────────────────────────────────────────────────────────────────────────────────────────────────────────\n"
     ]
    },
    {
     "data": {
      "text/plain": [
       "[{'val_loss': 0.07887491583824158}]"
      ]
     },
     "execution_count": 67,
     "metadata": {},
     "output_type": "execute_result"
    }
   ],
   "source": [
    "datamodule = Datamodule(\n",
    "    datadir=Path(\"yeast_cell_in_microstructures_dataset\"),\n",
    "    dataset_class=YeastDetectionDataset,\n",
    "    batch_size=8,\n",
    ")\n",
    "\n",
    "datamodule.setup(\"fit\")\n",
    "\n",
    "trainer = L.Trainer(\n",
    "    accelerator=\"auto\",\n",
    "    max_epochs=40,\n",
    "    limit_train_batches=None,\n",
    "    limit_val_batches=None,\n",
    "    log_every_n_steps=10\n",
    ")\n",
    "lit_module = Lit(\n",
    "    model=TinyYOLO(in_channels=1, num_anchors=len(rescaled_anchors), num_classes=2),\n",
    "    learning_rate=0.005,\n",
    ")\n",
    "trainer.fit(\n",
    "    model=lit_module,\n",
    "    datamodule=datamodule,\n",
    ")\n",
    "\n",
    "trainer.validate(model=lit_module, dataloaders=datamodule.val_dataloader())"
   ]
  },
  {
   "cell_type": "code",
   "execution_count": 68,
   "metadata": {},
   "outputs": [
    {
     "name": "stdout",
     "output_type": "stream",
     "text": [
      "{'map': tensor(0.5596), 'map_50': tensor(0.9305), 'map_75': tensor(0.6287), 'map_small': tensor(0.5596), 'map_medium': tensor(-1.), 'map_large': tensor(-1.), 'mar_1': tensor(0.3124), 'mar_10': tensor(0.6239), 'mar_100': tensor(0.6248), 'mar_small': tensor(0.6248), 'mar_medium': tensor(-1.), 'mar_large': tensor(-1.), 'map_per_class': tensor([0.7193, 0.3998]), 'mar_100_per_class': tensor([0.7755, 0.4741]), 'classes': tensor([1, 2], dtype=torch.int32)}\n"
     ]
    }
   ],
   "source": [
    "val_loader = DataLoader(dataset=val_dataset, batch_size=batch_size, shuffle=False)\n",
    "\n",
    "metric = MeanAveragePrecision(iou_type=\"bbox\", box_format=\"cxcywh\", class_metrics=True).to(device)\n",
    "\n",
    "for x, y in val_loader:\n",
    "    predicted_boxes = []\n",
    "    target_boxes = []\n",
    "\n",
    "    preds = lit_module.model.to(device)(x.to(device))\n",
    "\n",
    "    # итерируемся по элементам батча, собирая пердсказанные и верные рамки\n",
    "    for i in range(len(y)):\n",
    "        # получаем предсказанные рамки\n",
    "        pred_boxes = cells_to_bboxes(preds[i:i+1], rescaled_anchors.to(device), is_predictions=True)\n",
    "        # ВАЖНО: делаем non-max suppression ДО расчёта метрик\n",
    "        pred_boxes = pred_boxes[nms(box_convert(pred_boxes[:, 2:], \"cxcywh\", \"xyxy\"), pred_boxes[:, 1], iou_threshold=0.3)]\n",
    "        predicted_boxes.append(\n",
    "            dict(\n",
    "                boxes=pred_boxes[:, 2:],\n",
    "                scores=pred_boxes[:, 1],\n",
    "                labels=pred_boxes[:, 0].long(),\n",
    "            )\n",
    "        )\n",
    "        # достаём правильные рамки\n",
    "        true_boxes = cells_to_bboxes(y[i:i+1], rescaled_anchors)\n",
    "        true_boxes = true_boxes[true_boxes[:, 1] == 1]\n",
    "\n",
    "        target_boxes.append(\n",
    "            dict(\n",
    "                boxes=true_boxes[:, 2:],\n",
    "                labels=true_boxes[:, 0].long(),\n",
    "            )\n",
    "        )\n",
    "    metric.update(predicted_boxes, target_boxes)\n",
    "    \n",
    "metric = metric.to(device)\n",
    "print(metric.compute())"
   ]
  },
  {
   "cell_type": "markdown",
   "metadata": {},
   "source": [
    "### Задание 3 (3 балла). Выбор anchors с помощью кластеризации\n",
    "\n",
    "В статье [YOLO9000: Better, Faster, Stronger](https://arxiv.org/abs/1612.08242) в разделе 2. Better. Dimension clusters описан способ выбора anchor boxes через кластеризацию обучающего датасета.\n",
    "\n",
    "Проделайте то же самое с вашим обучающим датасетом, чтобы выбрать несколько anchor boxes.\n",
    "\n",
    "В качестве результата выведите получившиеся размеры anchors для # Clusters = 5"
   ]
  },
  {
   "cell_type": "code",
   "execution_count": 70,
   "metadata": {},
   "outputs": [
    {
     "data": {
      "text/plain": [
       "[[57.22222137451172, 86.61111450195312],\n",
       " [72.55555725097656, 104.40351104736328],\n",
       " [50.23958206176758, 59.40625],\n",
       " [41.61538314819336, 40.912086486816406],\n",
       " [68.61798095703125, 64.76404571533203]]"
      ]
     },
     "execution_count": 70,
     "metadata": {},
     "output_type": "execute_result"
    }
   ],
   "source": [
    "from pyclustering.utils.metric import type_metric, distance_metric\n",
    "from pyclustering.cluster.center_initializer import kmeans_plusplus_initializer\n",
    "from pyclustering.cluster.kmeans import kmeans\n",
    "import warnings\n",
    "np.warnings = warnings\n",
    "\n",
    "class YeastDetectionDataset(Dataset):\n",
    "    def __init__(\n",
    "        self, subset_dir: Path, image_size: int, grid_size: int = GRID_SIZE\n",
    "    ) -> None:\n",
    "        super().__init__()\n",
    "        self.subset_dir = subset_dir\n",
    "        self.items = list((self.subset_dir / \"inputs\").glob(\"*.pt\"))\n",
    "        # Ignore IoU threshold\n",
    "        self.ignore_iou_thresh = 0.5\n",
    "        self.grid_size = grid_size\n",
    "        self.image_size = image_size\n",
    "\n",
    "    def __len__(self) -> int:\n",
    "        return len(self.items)\n",
    "\n",
    "    def __getitem__(self, index: int) -> Tensor:\n",
    "        image_path = self.items[index]\n",
    "        boxes = torch.load(\n",
    "            self.subset_dir / \"bounding_boxes\" / image_path.parts[-1], weights_only=True\n",
    "        )\n",
    "        boxes = box_convert(boxes, \"xyxy\", \"cxcywh\")\n",
    "        return boxes\n",
    "\n",
    "train_dataset = YeastDetectionDataset(\n",
    "    Path(\"yeast_cell_in_microstructures_dataset/train\"), image_size=256\n",
    ")\n",
    "\n",
    "our_p_w_p_h = list()\n",
    "for i in range(len(train_dataset)):\n",
    "  for j in range(len(train_dataset[i])):\n",
    "    our_p_w_p_h.append([train_dataset[i][j][2], train_dataset[i][j][3]])\n",
    "\n",
    "\n",
    "def metric(x, y):\n",
    "  return 1 - (min(x[0], y[0]) * min(x[1], y[1]) / (x[0] * x[1] + y[0] * y[1] - (min(x[0], y[0]) * min(x[1], y[1]))))\n",
    "\n",
    "manhattan_metric = distance_metric(type_metric.USER_DEFINED, func=metric)\n",
    "initial_centers = kmeans_plusplus_initializer(our_p_w_p_h, 5).initialize()\n",
    "\n",
    "kmeans_instance = kmeans(our_p_w_p_h, initial_centers, metric=manhattan_metric)\n",
    "\n",
    "kmeans_instance.process()\n",
    "clusters = kmeans_instance.get_clusters()\n",
    "kmeans_instance.process()\n",
    "clusters = kmeans_instance.get_clusters()\n",
    "\n",
    "final_centers = kmeans_instance.get_centers()\n",
    "\n",
    "ANCHORS = final_centers\n",
    "\n",
    "rescaled_anchors = torch.tensor(ANCHORS).to(device=device) / IMAGE_SIZE * GRID_SIZE\n",
    "ANCHORS"
   ]
  },
  {
   "cell_type": "markdown",
   "metadata": {},
   "source": [
    "### Задание 4 (4 балла + бонусы за лучшую точность). Обучите модель\n",
    "\n",
    "\n",
    "Ваша цель: $mAP > 0.6$ на валидации.\n",
    "\n",
    "Можете использовать весь арсенал:\n",
    "- использование множества якорных рамок (сформированных вручную или в результате кластеризации)\n",
    "- любые изменения функции ошибки\n",
    "- любые изменения архитектуры модели и регуляризация\n",
    "- аугментации (вспоминаем `torchvision.transforms` и `albumentations`)\n",
    "- любая длительность обучения, оптимизатор, расписание для learning rate\n",
    "\n",
    "Бонусы за повышенную точность:\n",
    "- **5 баллов**: $mAP > 0.65$\n",
    "- **1 балл** за каждые следующие $0.01$ (т. е. за $mAP > 0.72$ в этом задании вы получите $4 + 12 = 16$ баллов)\n",
    "\n",
    "**Важно**: перез запуском обучения зафиксируйте `torch.manual_seed()`"
   ]
  },
  {
   "cell_type": "code",
   "execution_count": 71,
   "metadata": {},
   "outputs": [],
   "source": [
    "class YeastDetectionDataset(Dataset):\n",
    "    def __init__(\n",
    "        self, subset_dir: Path, anchors: list[tuple[int, int]], image_size: int, grid_size: int = GRID_SIZE\n",
    "    ) -> None:\n",
    "        super().__init__()\n",
    "        self.subset_dir = subset_dir\n",
    "        self.items = list((self.subset_dir / \"inputs\").glob(\"*.pt\"))\n",
    "        # Ignore IoU threshold\n",
    "        self.ignore_iou_thresh = 0.5\n",
    "        self.rescaled_anchors = torch.tensor(anchors) / image_size * grid_size\n",
    "        self.grid_size = grid_size\n",
    "        self.image_size = image_size\n",
    "\n",
    "    def __len__(self) -> int:\n",
    "        return len(self.items)\n",
    "\n",
    "    def __getitem__(self, index: int) -> tuple[Tensor, Tensor]:\n",
    "        image_path = self.items[index]\n",
    "        # load everything\n",
    "        image = torch.load(image_path, weights_only=True).unsqueeze(0)\n",
    "        classes = (\n",
    "            torch.load(self.subset_dir / \"classes\" / image_path.parts[-1], weights_only=True) + 1\n",
    "        )\n",
    "        boxes = torch.load(\n",
    "            self.subset_dir / \"bounding_boxes\" / image_path.parts[-1], weights_only=True\n",
    "        )\n",
    "        boxes = box_convert(boxes, \"xyxy\", \"cxcywh\") / self.image_size\n",
    "\n",
    "        # convert boxes to cells\n",
    "        targets = boxes_to_cells(\n",
    "            boxes, classes, self.rescaled_anchors, self.grid_size, self.ignore_iou_thresh\n",
    "        )\n",
    "        return image.to(device), targets.to(device)"
   ]
  },
  {
   "cell_type": "code",
   "execution_count": 72,
   "metadata": {},
   "outputs": [],
   "source": [
    "class YOLOLoss(nn.Module):\n",
    "    def __init__(self):\n",
    "        super().__init__()\n",
    "        self.mse = nn.MSELoss()\n",
    "        self.bce = nn.BCEWithLogitsLoss()\n",
    "        self.cross_entropy = nn.CrossEntropyLoss()\n",
    "\n",
    "    def forward(self, pred: Tensor, target: Tensor, anchors: Tensor) -> Tensor:\n",
    "        # ниже входные тензоры будут меняться на месте, так что склонируем их\n",
    "        pred = pred.clone()\n",
    "        target = target.clone()\n",
    "\n",
    "        # разделяем рамки на содержащие объекты и не содержащие\n",
    "        # NB: ещё могут быть -1, куда отнеслось более 1 объекта - их не учитываем\n",
    "        obj = target[..., 0] == 1\n",
    "        no_obj = target[..., 0] == 0\n",
    "\n",
    "        # преобразуем предсказания bbox\n",
    "        scores, pred_boxes, logits = process_yolo_preds(pred, anchors)\n",
    "\n",
    "        # no object loss: кросс-энтропия вместо MSE\n",
    "        no_object_loss = self.bce(\n",
    "            (scores[no_obj]),\n",
    "            (target[..., 0:1][no_obj]),\n",
    "        )\n",
    "\n",
    "        # object loss: учим предсказывать IoU\n",
    "        ious = intersection_over_union(pred_boxes[obj], target[..., 1:5][obj]).detach()\n",
    "        object_loss = self.mse(scores[obj].sigmoid(), ious * target[..., 0:1][obj])\n",
    "\n",
    "        # box coordinate loss: логарифмируем размеры рамок перед расчётом MSE\n",
    "        anchors = anchors.reshape(1, len(anchors), 1, 1, 2)\n",
    "        pred[..., 1:3] = pred[..., 1:3].sigmoid()\n",
    "        target[..., 3:5] = torch.log(1e-6 + target[..., 3:5] / anchors)\n",
    "        box_loss = self.mse(pred[..., 1:5][obj], target[..., 1:5][obj])\n",
    "\n",
    "        # class loss: здесь всё обычно\n",
    "        class_loss = self.cross_entropy(logits[obj], target[..., 5][obj].long() - 1)\n",
    "\n",
    "        # Total loss\n",
    "        return box_loss + object_loss + no_object_loss + class_loss"
   ]
  },
  {
   "cell_type": "code",
   "execution_count": 73,
   "metadata": {},
   "outputs": [],
   "source": [
    "class Lit(L.LightningModule):\n",
    "    def __init__(self, model: nn.Module, learning_rate: float) -> None:\n",
    "        super().__init__()\n",
    "        self.save_hyperparameters()\n",
    "        self.model = model\n",
    "        self.learning_rate = learning_rate\n",
    "        self.loss_fn = YOLOLoss()\n",
    "\n",
    "    def training_step(\n",
    "        self, batch: tuple[Tensor, Tensor], batch_idx: int\n",
    "    ) -> STEP_OUTPUT:\n",
    "        x, y = batch\n",
    "        y_hat = self.model(x)\n",
    "        loss = self.loss_fn.forward(y_hat, y, rescaled_anchors)\n",
    "        self.log(\"train_loss\", loss, on_epoch=True, on_step=False)\n",
    "       \n",
    "\n",
    "        return loss\n",
    "\n",
    "    def validation_step(\n",
    "        self, batch: tuple[Tensor, Tensor], batch_idx: int\n",
    "    ) -> STEP_OUTPUT | None:\n",
    "        x, y = batch\n",
    "        y_hat = self.model(x)\n",
    "        loss = self.loss_fn.forward(y_hat, y, rescaled_anchors)\n",
    "        self.log(\"val_loss\", loss, on_epoch=True, on_step=False)\n",
    "        return {\n",
    "            \"loss\": loss,\n",
    "            \"preds\": y_hat,\n",
    "        }\n",
    "    \n",
    "    def on_validation_epoch_end(self) -> None:\n",
    "        val_loss = self.trainer.callback_metrics[\"val_loss\"]\n",
    "        print(f\" Val. Loss: {val_loss:.4f}\")\n",
    "    \n",
    "\n",
    "    def configure_optimizers(self) -> dict[str, Any]:\n",
    "        optimizer = torch.optim.Adam(self.model.parameters(), lr=self.learning_rate, weight_decay=1e-5)\n",
    "        return {\n",
    "            \"optimizer\": optimizer,\n",
    "            \"lr_scheduler\": torch.optim.lr_scheduler.MultiStepLR(\n",
    "                optimizer, milestones=[5, 10, 15]\n",
    "            ),\n",
    "        }"
   ]
  },
  {
   "cell_type": "code",
   "execution_count": 74,
   "metadata": {},
   "outputs": [
    {
     "name": "stdout",
     "output_type": "stream",
     "text": [
      "109431\n"
     ]
    },
    {
     "data": {
      "text/plain": [
       "torch.Size([2, 1, 8, 8, 7])"
      ]
     },
     "execution_count": 74,
     "metadata": {},
     "output_type": "execute_result"
    }
   ],
   "source": [
    "class CNNBlock(nn.Module):\n",
    "    def __init__(self, in_channels: int, out_channels: int, **kwargs):\n",
    "        super().__init__()\n",
    "        self.conv = nn.Conv2d(in_channels, out_channels, bias=False, **kwargs)\n",
    "        self.bn = nn.BatchNorm2d(out_channels)\n",
    "        self.activation = nn.LogSigmoid()\n",
    "\n",
    "    def forward(self, x):\n",
    "        x = self.conv(x)\n",
    "        x = self.bn(x)\n",
    "        return self.activation(x)\n",
    "\n",
    "class TinyYOLO(nn.Module):\n",
    "    def __init__(self, num_classes: int = 2, num_anchors: int = 1, in_channels: int = 1) -> None:\n",
    "        super().__init__()\n",
    "        self.num_classes = num_classes\n",
    "        self.in_channels = in_channels\n",
    "        self.num_anchors = num_anchors\n",
    "        self.layers = nn.Sequential(\n",
    "            CNNBlock(1, 16, kernel_size=3, stride=2, padding=1, dilation=2),\n",
    "            CNNBlock(16, 32, kernel_size=3, stride=2, padding=1, dilation=2),\n",
    "            CNNBlock(32, 64, kernel_size=3, stride=2, padding=1, dilation=2),\n",
    "            CNNBlock(64, 128, kernel_size=3, stride=2, padding=1, groups=8),\n",
    "            CNNBlock(128, 256, kernel_size=3, stride=1, padding=1, groups=8),\n",
    "            CNNBlock(256, 256, kernel_size=3, stride=1, padding=1, groups=16),\n",
    "            nn.MaxPool2d(2, 2),\n",
    "            nn.Conv2d(256, num_anchors * (num_classes + 5), kernel_size=1)\n",
    "        )\n",
    "    \n",
    "    def forward(self, x: Tensor) -> Tensor:\n",
    "        x = self.layers(x)\n",
    "        B, _, W, H = x.shape\n",
    "        x = x.view(B, self.num_anchors, self.num_classes + 5, W, H)  # B A F W H\n",
    "        x = x.permute(0, 1, 3, 4, 2)  # B A W H F\n",
    "        return x\n",
    "\n",
    "\n",
    "model = TinyYOLO(in_channels=1, num_anchors=1, num_classes=2)\n",
    "print(sum(p.numel() for p in model.parameters()))\n",
    "model.forward(torch.randn(2, 1, 256, 256)).shape"
   ]
  },
  {
   "cell_type": "code",
   "execution_count": 75,
   "metadata": {},
   "outputs": [
    {
     "name": "stderr",
     "output_type": "stream",
     "text": [
      "GPU available: True (cuda), used: True\n",
      "TPU available: False, using: 0 TPU cores\n",
      "HPU available: False, using: 0 HPUs\n",
      "/home/ne_ravilka/miniconda3/envs/dl-mcs/lib/python3.12/site-packages/lightning/pytorch/utilities/parsing.py:209: Attribute 'model' is an instance of `nn.Module` and is already saved during checkpointing. It is recommended to ignore them using `self.save_hyperparameters(ignore=['model'])`.\n",
      "LOCAL_RANK: 0 - CUDA_VISIBLE_DEVICES: [0]\n",
      "\n",
      "  | Name    | Type     | Params | Mode \n",
      "---------------------------------------------\n",
      "0 | model   | TinyYOLO | 116 K  | train\n",
      "1 | loss_fn | YOLOLoss | 0      | train\n",
      "---------------------------------------------\n",
      "116 K     Trainable params\n",
      "0         Non-trainable params\n",
      "116 K     Total params\n",
      "0.467     Total estimated model params size (MB)\n",
      "32        Modules in train mode\n",
      "0         Modules in eval mode\n"
     ]
    },
    {
     "data": {
      "application/vnd.jupyter.widget-view+json": {
       "model_id": "3468094d6c5c4fdb8e20af39872dda72",
       "version_major": 2,
       "version_minor": 0
      },
      "text/plain": [
       "Sanity Checking: |          | 0/? [00:00<?, ?it/s]"
      ]
     },
     "metadata": {},
     "output_type": "display_data"
    },
    {
     "name": "stdout",
     "output_type": "stream",
     "text": [
      " Val. Loss: 1.8530\n"
     ]
    },
    {
     "name": "stderr",
     "output_type": "stream",
     "text": [
      "/home/ne_ravilka/miniconda3/envs/dl-mcs/lib/python3.12/site-packages/lightning/pytorch/trainer/connectors/data_connector.py:425: The 'val_dataloader' does not have many workers which may be a bottleneck. Consider increasing the value of the `num_workers` argument` to `num_workers=11` in the `DataLoader` to improve performance.\n",
      "/home/ne_ravilka/miniconda3/envs/dl-mcs/lib/python3.12/site-packages/lightning/pytorch/trainer/connectors/data_connector.py:425: The 'train_dataloader' does not have many workers which may be a bottleneck. Consider increasing the value of the `num_workers` argument` to `num_workers=11` in the `DataLoader` to improve performance.\n"
     ]
    },
    {
     "data": {
      "application/vnd.jupyter.widget-view+json": {
       "model_id": "b4c00b6a98ed4f509484f6f96e7b6b29",
       "version_major": 2,
       "version_minor": 0
      },
      "text/plain": [
       "Training: |          | 0/? [00:00<?, ?it/s]"
      ]
     },
     "metadata": {},
     "output_type": "display_data"
    },
    {
     "data": {
      "application/vnd.jupyter.widget-view+json": {
       "model_id": "88f2a57d475646e7b9247290c000e0e7",
       "version_major": 2,
       "version_minor": 0
      },
      "text/plain": [
       "Validation: |          | 0/? [00:00<?, ?it/s]"
      ]
     },
     "metadata": {},
     "output_type": "display_data"
    },
    {
     "name": "stdout",
     "output_type": "stream",
     "text": [
      " Val. Loss: 0.4545\n"
     ]
    },
    {
     "data": {
      "application/vnd.jupyter.widget-view+json": {
       "model_id": "961f5bc0e68e44f8adf4e200d6676502",
       "version_major": 2,
       "version_minor": 0
      },
      "text/plain": [
       "Validation: |          | 0/? [00:00<?, ?it/s]"
      ]
     },
     "metadata": {},
     "output_type": "display_data"
    },
    {
     "name": "stdout",
     "output_type": "stream",
     "text": [
      " Val. Loss: 0.2943\n"
     ]
    },
    {
     "data": {
      "application/vnd.jupyter.widget-view+json": {
       "model_id": "489fba9b281f4c15b2cb32fa32a89205",
       "version_major": 2,
       "version_minor": 0
      },
      "text/plain": [
       "Validation: |          | 0/? [00:00<?, ?it/s]"
      ]
     },
     "metadata": {},
     "output_type": "display_data"
    },
    {
     "name": "stdout",
     "output_type": "stream",
     "text": [
      " Val. Loss: 0.2347\n"
     ]
    },
    {
     "data": {
      "application/vnd.jupyter.widget-view+json": {
       "model_id": "223b0562e29741c79f8ca63b4b642cd2",
       "version_major": 2,
       "version_minor": 0
      },
      "text/plain": [
       "Validation: |          | 0/? [00:00<?, ?it/s]"
      ]
     },
     "metadata": {},
     "output_type": "display_data"
    },
    {
     "name": "stdout",
     "output_type": "stream",
     "text": [
      " Val. Loss: 0.2030\n"
     ]
    },
    {
     "data": {
      "application/vnd.jupyter.widget-view+json": {
       "model_id": "2015eed0c014492b8ab56c4c80561f62",
       "version_major": 2,
       "version_minor": 0
      },
      "text/plain": [
       "Validation: |          | 0/? [00:00<?, ?it/s]"
      ]
     },
     "metadata": {},
     "output_type": "display_data"
    },
    {
     "name": "stdout",
     "output_type": "stream",
     "text": [
      " Val. Loss: 0.1796\n"
     ]
    },
    {
     "data": {
      "application/vnd.jupyter.widget-view+json": {
       "model_id": "b33d4f64fefb4886be14b8188e8b9415",
       "version_major": 2,
       "version_minor": 0
      },
      "text/plain": [
       "Validation: |          | 0/? [00:00<?, ?it/s]"
      ]
     },
     "metadata": {},
     "output_type": "display_data"
    },
    {
     "name": "stdout",
     "output_type": "stream",
     "text": [
      " Val. Loss: 0.1775\n"
     ]
    },
    {
     "data": {
      "application/vnd.jupyter.widget-view+json": {
       "model_id": "621348e4028c4dbe8f5079f5a217e3d6",
       "version_major": 2,
       "version_minor": 0
      },
      "text/plain": [
       "Validation: |          | 0/? [00:00<?, ?it/s]"
      ]
     },
     "metadata": {},
     "output_type": "display_data"
    },
    {
     "name": "stdout",
     "output_type": "stream",
     "text": [
      " Val. Loss: 0.1749\n"
     ]
    },
    {
     "data": {
      "application/vnd.jupyter.widget-view+json": {
       "model_id": "c6f4164624e0484fae9608249f3574b9",
       "version_major": 2,
       "version_minor": 0
      },
      "text/plain": [
       "Validation: |          | 0/? [00:00<?, ?it/s]"
      ]
     },
     "metadata": {},
     "output_type": "display_data"
    },
    {
     "name": "stdout",
     "output_type": "stream",
     "text": [
      " Val. Loss: 0.1719\n"
     ]
    },
    {
     "data": {
      "application/vnd.jupyter.widget-view+json": {
       "model_id": "5205f407688644b4920d3470750ae726",
       "version_major": 2,
       "version_minor": 0
      },
      "text/plain": [
       "Validation: |          | 0/? [00:00<?, ?it/s]"
      ]
     },
     "metadata": {},
     "output_type": "display_data"
    },
    {
     "name": "stdout",
     "output_type": "stream",
     "text": [
      " Val. Loss: 0.1701\n"
     ]
    },
    {
     "data": {
      "application/vnd.jupyter.widget-view+json": {
       "model_id": "9274f2d60656419c9aec7eaa9fd28d66",
       "version_major": 2,
       "version_minor": 0
      },
      "text/plain": [
       "Validation: |          | 0/? [00:00<?, ?it/s]"
      ]
     },
     "metadata": {},
     "output_type": "display_data"
    },
    {
     "name": "stdout",
     "output_type": "stream",
     "text": [
      " Val. Loss: 0.1672\n"
     ]
    },
    {
     "data": {
      "application/vnd.jupyter.widget-view+json": {
       "model_id": "78d89ba3778c4bf0a6a11d9c39107ff6",
       "version_major": 2,
       "version_minor": 0
      },
      "text/plain": [
       "Validation: |          | 0/? [00:00<?, ?it/s]"
      ]
     },
     "metadata": {},
     "output_type": "display_data"
    },
    {
     "name": "stdout",
     "output_type": "stream",
     "text": [
      " Val. Loss: 0.1672\n"
     ]
    },
    {
     "data": {
      "application/vnd.jupyter.widget-view+json": {
       "model_id": "d0e047bc06d545c4ae522eceaa1125dc",
       "version_major": 2,
       "version_minor": 0
      },
      "text/plain": [
       "Validation: |          | 0/? [00:00<?, ?it/s]"
      ]
     },
     "metadata": {},
     "output_type": "display_data"
    },
    {
     "name": "stdout",
     "output_type": "stream",
     "text": [
      " Val. Loss: 0.1675\n"
     ]
    },
    {
     "data": {
      "application/vnd.jupyter.widget-view+json": {
       "model_id": "996fd26149904c01b657f2cf9d185186",
       "version_major": 2,
       "version_minor": 0
      },
      "text/plain": [
       "Validation: |          | 0/? [00:00<?, ?it/s]"
      ]
     },
     "metadata": {},
     "output_type": "display_data"
    },
    {
     "name": "stdout",
     "output_type": "stream",
     "text": [
      " Val. Loss: 0.1668\n"
     ]
    },
    {
     "data": {
      "application/vnd.jupyter.widget-view+json": {
       "model_id": "67b15dd5966a40f988cc6e846ff4723f",
       "version_major": 2,
       "version_minor": 0
      },
      "text/plain": [
       "Validation: |          | 0/? [00:00<?, ?it/s]"
      ]
     },
     "metadata": {},
     "output_type": "display_data"
    },
    {
     "name": "stdout",
     "output_type": "stream",
     "text": [
      " Val. Loss: 0.1666\n"
     ]
    },
    {
     "data": {
      "application/vnd.jupyter.widget-view+json": {
       "model_id": "899726c536a5402ba2b53160c6045dcc",
       "version_major": 2,
       "version_minor": 0
      },
      "text/plain": [
       "Validation: |          | 0/? [00:00<?, ?it/s]"
      ]
     },
     "metadata": {},
     "output_type": "display_data"
    },
    {
     "name": "stdout",
     "output_type": "stream",
     "text": [
      " Val. Loss: 0.1665\n"
     ]
    },
    {
     "data": {
      "application/vnd.jupyter.widget-view+json": {
       "model_id": "6ef8027ab7714901b0dfb74534fb6875",
       "version_major": 2,
       "version_minor": 0
      },
      "text/plain": [
       "Validation: |          | 0/? [00:00<?, ?it/s]"
      ]
     },
     "metadata": {},
     "output_type": "display_data"
    },
    {
     "name": "stdout",
     "output_type": "stream",
     "text": [
      " Val. Loss: 0.1667\n"
     ]
    },
    {
     "data": {
      "application/vnd.jupyter.widget-view+json": {
       "model_id": "eb907d4034ca49e7a6f09449f7fbec0e",
       "version_major": 2,
       "version_minor": 0
      },
      "text/plain": [
       "Validation: |          | 0/? [00:00<?, ?it/s]"
      ]
     },
     "metadata": {},
     "output_type": "display_data"
    },
    {
     "name": "stdout",
     "output_type": "stream",
     "text": [
      " Val. Loss: 0.1666\n"
     ]
    },
    {
     "data": {
      "application/vnd.jupyter.widget-view+json": {
       "model_id": "05e09626dd734de7bc3d337d09791cd0",
       "version_major": 2,
       "version_minor": 0
      },
      "text/plain": [
       "Validation: |          | 0/? [00:00<?, ?it/s]"
      ]
     },
     "metadata": {},
     "output_type": "display_data"
    },
    {
     "name": "stdout",
     "output_type": "stream",
     "text": [
      " Val. Loss: 0.1666\n"
     ]
    },
    {
     "data": {
      "application/vnd.jupyter.widget-view+json": {
       "model_id": "f865d587187043bc977b74460e0d9e1a",
       "version_major": 2,
       "version_minor": 0
      },
      "text/plain": [
       "Validation: |          | 0/? [00:00<?, ?it/s]"
      ]
     },
     "metadata": {},
     "output_type": "display_data"
    },
    {
     "name": "stdout",
     "output_type": "stream",
     "text": [
      " Val. Loss: 0.1666\n"
     ]
    },
    {
     "data": {
      "application/vnd.jupyter.widget-view+json": {
       "model_id": "98f1a733af274175a7ce6533f402ca02",
       "version_major": 2,
       "version_minor": 0
      },
      "text/plain": [
       "Validation: |          | 0/? [00:00<?, ?it/s]"
      ]
     },
     "metadata": {},
     "output_type": "display_data"
    },
    {
     "name": "stdout",
     "output_type": "stream",
     "text": [
      " Val. Loss: 0.1667\n"
     ]
    },
    {
     "data": {
      "application/vnd.jupyter.widget-view+json": {
       "model_id": "ad0109ea5fb0482496bd2177a922b2dc",
       "version_major": 2,
       "version_minor": 0
      },
      "text/plain": [
       "Validation: |          | 0/? [00:00<?, ?it/s]"
      ]
     },
     "metadata": {},
     "output_type": "display_data"
    },
    {
     "name": "stdout",
     "output_type": "stream",
     "text": [
      " Val. Loss: 0.1663\n"
     ]
    },
    {
     "data": {
      "application/vnd.jupyter.widget-view+json": {
       "model_id": "e5e6094a4e90441296cc59fc92d9fa25",
       "version_major": 2,
       "version_minor": 0
      },
      "text/plain": [
       "Validation: |          | 0/? [00:00<?, ?it/s]"
      ]
     },
     "metadata": {},
     "output_type": "display_data"
    },
    {
     "name": "stdout",
     "output_type": "stream",
     "text": [
      " Val. Loss: 0.1666\n"
     ]
    },
    {
     "data": {
      "application/vnd.jupyter.widget-view+json": {
       "model_id": "08cfecc513a44635a74b9b2867d87f11",
       "version_major": 2,
       "version_minor": 0
      },
      "text/plain": [
       "Validation: |          | 0/? [00:00<?, ?it/s]"
      ]
     },
     "metadata": {},
     "output_type": "display_data"
    },
    {
     "name": "stdout",
     "output_type": "stream",
     "text": [
      " Val. Loss: 0.1664\n"
     ]
    },
    {
     "data": {
      "application/vnd.jupyter.widget-view+json": {
       "model_id": "f9b8d4fc632c452a8a2e951a59a65aeb",
       "version_major": 2,
       "version_minor": 0
      },
      "text/plain": [
       "Validation: |          | 0/? [00:00<?, ?it/s]"
      ]
     },
     "metadata": {},
     "output_type": "display_data"
    },
    {
     "name": "stdout",
     "output_type": "stream",
     "text": [
      " Val. Loss: 0.1664\n"
     ]
    },
    {
     "data": {
      "application/vnd.jupyter.widget-view+json": {
       "model_id": "b995d436be764a90912cea797592d925",
       "version_major": 2,
       "version_minor": 0
      },
      "text/plain": [
       "Validation: |          | 0/? [00:00<?, ?it/s]"
      ]
     },
     "metadata": {},
     "output_type": "display_data"
    },
    {
     "name": "stdout",
     "output_type": "stream",
     "text": [
      " Val. Loss: 0.1660\n"
     ]
    },
    {
     "data": {
      "application/vnd.jupyter.widget-view+json": {
       "model_id": "69a90e0466994bf79965a91845d0b867",
       "version_major": 2,
       "version_minor": 0
      },
      "text/plain": [
       "Validation: |          | 0/? [00:00<?, ?it/s]"
      ]
     },
     "metadata": {},
     "output_type": "display_data"
    },
    {
     "name": "stdout",
     "output_type": "stream",
     "text": [
      " Val. Loss: 0.1667\n"
     ]
    },
    {
     "data": {
      "application/vnd.jupyter.widget-view+json": {
       "model_id": "92f6e274b6e5485e92a41f44556190f2",
       "version_major": 2,
       "version_minor": 0
      },
      "text/plain": [
       "Validation: |          | 0/? [00:00<?, ?it/s]"
      ]
     },
     "metadata": {},
     "output_type": "display_data"
    },
    {
     "name": "stdout",
     "output_type": "stream",
     "text": [
      " Val. Loss: 0.1664\n"
     ]
    },
    {
     "data": {
      "application/vnd.jupyter.widget-view+json": {
       "model_id": "85a0ed43c9884f578db507065b284f63",
       "version_major": 2,
       "version_minor": 0
      },
      "text/plain": [
       "Validation: |          | 0/? [00:00<?, ?it/s]"
      ]
     },
     "metadata": {},
     "output_type": "display_data"
    },
    {
     "name": "stdout",
     "output_type": "stream",
     "text": [
      " Val. Loss: 0.1659\n"
     ]
    },
    {
     "data": {
      "application/vnd.jupyter.widget-view+json": {
       "model_id": "7a4d3f4e5e3e4e4bb57a4c1904a5da34",
       "version_major": 2,
       "version_minor": 0
      },
      "text/plain": [
       "Validation: |          | 0/? [00:00<?, ?it/s]"
      ]
     },
     "metadata": {},
     "output_type": "display_data"
    },
    {
     "name": "stdout",
     "output_type": "stream",
     "text": [
      " Val. Loss: 0.1661\n"
     ]
    },
    {
     "data": {
      "application/vnd.jupyter.widget-view+json": {
       "model_id": "8db0dbc261b6448d84d70d2ddb184671",
       "version_major": 2,
       "version_minor": 0
      },
      "text/plain": [
       "Validation: |          | 0/? [00:00<?, ?it/s]"
      ]
     },
     "metadata": {},
     "output_type": "display_data"
    },
    {
     "name": "stdout",
     "output_type": "stream",
     "text": [
      " Val. Loss: 0.1661\n"
     ]
    },
    {
     "data": {
      "application/vnd.jupyter.widget-view+json": {
       "model_id": "26780066eaa3413c953b250a993dd669",
       "version_major": 2,
       "version_minor": 0
      },
      "text/plain": [
       "Validation: |          | 0/? [00:00<?, ?it/s]"
      ]
     },
     "metadata": {},
     "output_type": "display_data"
    },
    {
     "name": "stdout",
     "output_type": "stream",
     "text": [
      " Val. Loss: 0.1661\n"
     ]
    },
    {
     "data": {
      "application/vnd.jupyter.widget-view+json": {
       "model_id": "143fa5c7f00144e7bb62ddb86feb11b1",
       "version_major": 2,
       "version_minor": 0
      },
      "text/plain": [
       "Validation: |          | 0/? [00:00<?, ?it/s]"
      ]
     },
     "metadata": {},
     "output_type": "display_data"
    },
    {
     "name": "stdout",
     "output_type": "stream",
     "text": [
      " Val. Loss: 0.1660\n"
     ]
    },
    {
     "data": {
      "application/vnd.jupyter.widget-view+json": {
       "model_id": "601feab99e52443ea2b0ada81c255409",
       "version_major": 2,
       "version_minor": 0
      },
      "text/plain": [
       "Validation: |          | 0/? [00:00<?, ?it/s]"
      ]
     },
     "metadata": {},
     "output_type": "display_data"
    },
    {
     "name": "stdout",
     "output_type": "stream",
     "text": [
      " Val. Loss: 0.1661\n"
     ]
    },
    {
     "data": {
      "application/vnd.jupyter.widget-view+json": {
       "model_id": "f3ac7e09e69f4d4d8805f0b3d363ad6b",
       "version_major": 2,
       "version_minor": 0
      },
      "text/plain": [
       "Validation: |          | 0/? [00:00<?, ?it/s]"
      ]
     },
     "metadata": {},
     "output_type": "display_data"
    },
    {
     "name": "stdout",
     "output_type": "stream",
     "text": [
      " Val. Loss: 0.1657\n"
     ]
    },
    {
     "data": {
      "application/vnd.jupyter.widget-view+json": {
       "model_id": "c903e0298b8e4122b380ae4feacfd539",
       "version_major": 2,
       "version_minor": 0
      },
      "text/plain": [
       "Validation: |          | 0/? [00:00<?, ?it/s]"
      ]
     },
     "metadata": {},
     "output_type": "display_data"
    },
    {
     "name": "stdout",
     "output_type": "stream",
     "text": [
      " Val. Loss: 0.1660\n"
     ]
    },
    {
     "data": {
      "application/vnd.jupyter.widget-view+json": {
       "model_id": "b06ad2945a79483a85136d0c278d99ae",
       "version_major": 2,
       "version_minor": 0
      },
      "text/plain": [
       "Validation: |          | 0/? [00:00<?, ?it/s]"
      ]
     },
     "metadata": {},
     "output_type": "display_data"
    },
    {
     "name": "stdout",
     "output_type": "stream",
     "text": [
      " Val. Loss: 0.1659\n"
     ]
    },
    {
     "data": {
      "application/vnd.jupyter.widget-view+json": {
       "model_id": "25bfcf2121794b978e9834e2f88fc04c",
       "version_major": 2,
       "version_minor": 0
      },
      "text/plain": [
       "Validation: |          | 0/? [00:00<?, ?it/s]"
      ]
     },
     "metadata": {},
     "output_type": "display_data"
    },
    {
     "name": "stdout",
     "output_type": "stream",
     "text": [
      " Val. Loss: 0.1659\n"
     ]
    },
    {
     "data": {
      "application/vnd.jupyter.widget-view+json": {
       "model_id": "daa5b562ea594bf3963ffc831c082eed",
       "version_major": 2,
       "version_minor": 0
      },
      "text/plain": [
       "Validation: |          | 0/? [00:00<?, ?it/s]"
      ]
     },
     "metadata": {},
     "output_type": "display_data"
    },
    {
     "name": "stdout",
     "output_type": "stream",
     "text": [
      " Val. Loss: 0.1661\n"
     ]
    },
    {
     "data": {
      "application/vnd.jupyter.widget-view+json": {
       "model_id": "da4c54ee5a7a47b68a77d2157391771e",
       "version_major": 2,
       "version_minor": 0
      },
      "text/plain": [
       "Validation: |          | 0/? [00:00<?, ?it/s]"
      ]
     },
     "metadata": {},
     "output_type": "display_data"
    },
    {
     "name": "stdout",
     "output_type": "stream",
     "text": [
      " Val. Loss: 0.1659\n"
     ]
    },
    {
     "data": {
      "application/vnd.jupyter.widget-view+json": {
       "model_id": "1c39ff478e194654bfdf28ece3302ccd",
       "version_major": 2,
       "version_minor": 0
      },
      "text/plain": [
       "Validation: |          | 0/? [00:00<?, ?it/s]"
      ]
     },
     "metadata": {},
     "output_type": "display_data"
    },
    {
     "name": "stderr",
     "output_type": "stream",
     "text": [
      "`Trainer.fit` stopped: `max_epochs=40` reached.\n",
      "LOCAL_RANK: 0 - CUDA_VISIBLE_DEVICES: [0]\n"
     ]
    },
    {
     "name": "stdout",
     "output_type": "stream",
     "text": [
      " Val. Loss: 0.1656\n"
     ]
    },
    {
     "data": {
      "application/vnd.jupyter.widget-view+json": {
       "model_id": "23cecae475594f83a4009bb836973d75",
       "version_major": 2,
       "version_minor": 0
      },
      "text/plain": [
       "Validation: |          | 0/? [00:00<?, ?it/s]"
      ]
     },
     "metadata": {},
     "output_type": "display_data"
    },
    {
     "name": "stdout",
     "output_type": "stream",
     "text": [
      " Val. Loss: 0.1656\n",
      "────────────────────────────────────────────────────────────────────────────────────────────────────────────────────────\n",
      "     Validate metric           DataLoader 0\n",
      "────────────────────────────────────────────────────────────────────────────────────────────────────────────────────────\n",
      "        val_loss            0.16558054089546204\n",
      "────────────────────────────────────────────────────────────────────────────────────────────────────────────────────────\n"
     ]
    },
    {
     "data": {
      "text/plain": [
       "[{'val_loss': 0.16558054089546204}]"
      ]
     },
     "execution_count": 75,
     "metadata": {},
     "output_type": "execute_result"
    }
   ],
   "source": [
    "datamodule = Datamodule(\n",
    "    datadir=Path(\"yeast_cell_in_microstructures_dataset\"),\n",
    "    dataset_class=YeastDetectionDataset,\n",
    "    batch_size=8,\n",
    ")\n",
    "\n",
    "datamodule.setup(\"fit\")\n",
    "\n",
    "trainer = L.Trainer(\n",
    "    accelerator=\"auto\",\n",
    "    max_epochs=40,\n",
    "    limit_train_batches=None,\n",
    "    limit_val_batches=None,\n",
    "    log_every_n_steps=10,\n",
    ")\n",
    "lit_module = Lit(\n",
    "    model=TinyYOLO(in_channels=1, num_anchors=len(rescaled_anchors), num_classes=2),\n",
    "    learning_rate=0.0005,\n",
    ")\n",
    "trainer.fit(\n",
    "    model=lit_module,\n",
    "    datamodule=datamodule,\n",
    ")\n",
    "trainer.validate(model=lit_module, datamodule=datamodule,)"
   ]
  }
 ],
 "metadata": {
  "kernelspec": {
   "display_name": "dl-mcs",
   "language": "python",
   "name": "python3"
  },
  "language_info": {
   "codemirror_mode": {
    "name": "ipython",
    "version": 3
   },
   "file_extension": ".py",
   "mimetype": "text/x-python",
   "name": "python",
   "nbconvert_exporter": "python",
   "pygments_lexer": "ipython3",
   "version": "3.12.9"
  }
 },
 "nbformat": 4,
 "nbformat_minor": 2
}
