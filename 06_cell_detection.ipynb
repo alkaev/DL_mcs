{
 "cells": [
  {
   "cell_type": "markdown",
   "metadata": {},
   "source": [
    "## Детекция клеток"
   ]
  },
  {
   "cell_type": "markdown",
   "metadata": {},
   "source": [
    "Ваша задача: обучить YOLO для детекции дрожжевых клеток и микроструктур (см. [07_object_detection.ipynb](../workshops/07_object_detection.ipynb)). Всё необходимое для запуска обучения вы можете взять из ноутбука с практикой, доделать нужно будет самую малость:\n",
    "- реализовать расчёт Mean Average Precision для всего валидационного сета\n",
    "- попробовать привести regression loss к виду, который используется в Yolo9000 и YoloV3\n",
    "- подобрать лучшие размеры якорных рамок с помощью кластеризации\n",
    "\n",
    "Основная цель: любыми средствами добиться $mAP > 0.6$ на валидации.\n",
    "\n",
    "Используйте класс `torchmetrics.detection.MeanAveragePrecision` для расчёта $mAP$.\n",
    "\n",
    "Нас будет интересовать именно значение `map` в словаре со всеми метриками - это mean average precision, усреднённый по всем отсечкам intersection over union в диапазоне $[0.5, 0.95]$ (см. документацию к классу).\n",
    "\n",
    "При решении можно пользоваться `lightning` или писать цикл обучения вручную. В последнем случае не забудьте вручную отправить модель и батчи на GPU, чтобы обучалось быстрее"
   ]
  },
  {
   "cell_type": "markdown",
   "metadata": {},
   "source": [
    "### Задание 1 (3 балла). Цикл обучения с расчётом Mean Average Precision\n",
    "\n",
    "Запустите обучение модели из практики на всём обучающем датасете, выведите значение $mAP$ на валидационном датасете после окончания обучения.\n",
    "\n",
    "В этом задании добейтесь $mAP > 0.3$, если всё сделано правильно - для этого должно хватать 30-50 эпох."
   ]
  },
  {
   "cell_type": "code",
   "execution_count": 2,
   "metadata": {},
   "outputs": [],
   "source": [
    "from pathlib import Path\n",
    "\n",
    "import matplotlib.patches as patches\n",
    "import matplotlib.pyplot as plt\n",
    "import numpy as np\n",
    "import torch\n",
    "from matplotlib.figure import Figure\n",
    "from torch import Tensor, nn\n",
    "from torch.utils.data import DataLoader, Dataset\n",
    "from torchmetrics.functional.detection import intersection_over_union\n",
    "from torchvision.ops.boxes import box_convert"
   ]
  },
  {
   "cell_type": "code",
   "execution_count": 3,
   "metadata": {},
   "outputs": [],
   "source": [
    "\n",
    "torch.manual_seed(42)\n",
    "device = torch.device(\"cuda\")"
   ]
  },
  {
   "cell_type": "code",
   "execution_count": 4,
   "metadata": {},
   "outputs": [],
   "source": [
    "def process_yolo_preds(preds: Tensor, rescaled_anchors: Tensor) -> tuple[Tensor, Tensor, Tensor]:\n",
    "    \"\"\"\n",
    "    Преобразование выходов модели в\n",
    "    1. Логит наличия объекта (вероятность получается применением сигмоиды)\n",
    "    2. Положение рамки относительно ячейки в формате cxcywh\n",
    "    3. Логиты классов (вероятности получаются применением softmax)\n",
    "    \"\"\"\n",
    "    rescaled_anchors = rescaled_anchors.view(1, len(rescaled_anchors), 1, 1, 2)\n",
    "    box_predictions = preds[..., 1:5].clone()\n",
    "\n",
    "    box_predictions[..., 0:2] = torch.sigmoid(box_predictions[..., 0:2])\n",
    "    box_predictions[..., 2:] = torch.exp(box_predictions[..., 2:]) * rescaled_anchors\n",
    "\n",
    "    scores = preds[..., 0:1]\n",
    "    return scores, box_predictions, preds[..., 5:]"
   ]
  },
  {
   "cell_type": "code",
   "execution_count": 5,
   "metadata": {},
   "outputs": [],
   "source": [
    "GRID_SIZE = 8\n",
    "IMAGE_SIZE = 256\n",
    "ANCHORS = [\n",
    "    [48, 72],\n",
    "    # [64, 64],\n",
    "    # [72, 48],\n",
    "]\n",
    "\n",
    "rescaled_anchors = torch.tensor(ANCHORS).to(device=device) / IMAGE_SIZE * GRID_SIZE"
   ]
  },
  {
   "cell_type": "code",
   "execution_count": 6,
   "metadata": {},
   "outputs": [
    {
     "name": "stdout",
     "output_type": "stream",
     "text": [
      "109431\n"
     ]
    },
    {
     "data": {
      "text/plain": [
       "torch.Size([2, 1, 8, 8, 7])"
      ]
     },
     "execution_count": 6,
     "metadata": {},
     "output_type": "execute_result"
    }
   ],
   "source": [
    "class CNNBlock(nn.Module):\n",
    "    def __init__(self, in_channels: int, out_channels: int, **kwargs):\n",
    "        super().__init__()\n",
    "        self.conv = nn.Conv2d(in_channels, out_channels, bias=False, **kwargs)\n",
    "        self.bn = nn.BatchNorm2d(out_channels)\n",
    "        self.activation = nn.LeakyReLU(0.1)\n",
    "\n",
    "    def forward(self, x):\n",
    "        x = self.conv(x)\n",
    "        x = self.bn(x)\n",
    "        return self.activation(x)\n",
    "\n",
    "class TinyYOLO(nn.Module):\n",
    "    def __init__(self, num_classes: int = 2, num_anchors: int = 1, in_channels: int = 1) -> None:\n",
    "        super().__init__()\n",
    "        self.num_classes = num_classes\n",
    "        self.in_channels = in_channels\n",
    "        self.num_anchors = num_anchors\n",
    "        self.layers = nn.Sequential(\n",
    "            CNNBlock(1, 16, kernel_size=3, stride=2, padding=1, dilation=2),\n",
    "            CNNBlock(16, 32, kernel_size=3, stride=2, padding=1, dilation=2),\n",
    "            CNNBlock(32, 64, kernel_size=3, stride=2, padding=1, dilation=2),\n",
    "            CNNBlock(64, 128, kernel_size=3, stride=2, padding=1, groups=8),\n",
    "            CNNBlock(128, 256, kernel_size=3, stride=1, padding=1, groups=8),\n",
    "            CNNBlock(256, 256, kernel_size=3, stride=1, padding=1, groups=16),\n",
    "            nn.MaxPool2d(2, 2),\n",
    "            nn.Conv2d(256, num_anchors * (num_classes + 5), kernel_size=1)\n",
    "        )\n",
    "    \n",
    "    def forward(self, x: Tensor) -> Tensor:\n",
    "        x = self.layers(x)\n",
    "        B, _, W, H = x.shape\n",
    "        x = x.view(B, self.num_anchors, self.num_classes + 5, W, H)  # B A F W H\n",
    "        x = x.permute(0, 1, 3, 4, 2)  # B A W H F\n",
    "        return x\n",
    "\n",
    "\n",
    "model = TinyYOLO(in_channels=1, num_anchors=1, num_classes=2)\n",
    "print(sum(p.numel() for p in model.parameters()))\n",
    "model.forward(torch.randn(2, 1, 256, 256)).shape"
   ]
  },
  {
   "cell_type": "code",
   "execution_count": 7,
   "metadata": {},
   "outputs": [],
   "source": [
    "def iou_wh(wh1: Tensor, wh2: Tensor) -> Tensor:\n",
    "    # IoU based on width and height of bboxes\n",
    "\n",
    "    # intersection\n",
    "    intersection_area = torch.min(wh1[..., 0], wh2[..., 0]) * torch.min(wh1[..., 1], wh2[..., 1])\n",
    "\n",
    "    # union\n",
    "    box1_area = wh1[..., 0] * wh1[..., 1]\n",
    "    box2_area = wh2[..., 0] * wh2[..., 1]\n",
    "    union_area = box1_area + box2_area - intersection_area\n",
    "\n",
    "    iou_score = intersection_area / union_area\n",
    "    return iou_score\n",
    "\n",
    "\n",
    "def boxes_to_cells(\n",
    "    boxes: Tensor,\n",
    "    classes: Tensor,\n",
    "    rescaled_anchors: Tensor,\n",
    "    grid_size: int = 8,\n",
    "    ignore_iou_thresh: float = 0.5,\n",
    ") -> Tensor:\n",
    "    \"\"\"\n",
    "    Переводит bbox представление в клеточное представление, где каждая рамка -\n",
    "    (id класса, вероятность нахождения объекта, cx, cy, w, h), а клеточное представление\n",
    "    имеет размер (batch_size, n_anchors, grid_size, grid_size, 6), в последней размерности\n",
    "    хранятся признаки ячейки: класс объекта, вероятность объекта, координаты и размеры рамки\n",
    "    относительно ячейки\n",
    "\n",
    "    Args:\n",
    "        boxes (Tensor): тензор со всеми рамками\n",
    "        classes (Tensor): тензор с id классов объектов\n",
    "        rescaled_anchors (Tensor): тензор размера (n_anchors, 2) с размерами якорей в долях от размеров ячейки\n",
    "        grid_size (int): размер сетки,\n",
    "        ignore_iou_thresh (float, optional): значение IoU для рамок, при котором ячейка,\n",
    "            занятая более чем одним объектом, будет специально помечена для игнорирования\n",
    "    \"\"\"\n",
    "    targets = torch.zeros((len(rescaled_anchors), grid_size, grid_size, 6))\n",
    "\n",
    "    # Каждой рамке сопоставляем клетку и наиболее подходящий якорь\n",
    "    for box, class_label in zip(boxes, classes):\n",
    "        iou_anchors = iou_wh(box[2:4], rescaled_anchors / grid_size)\n",
    "        anchor_indices = iou_anchors.argsort(descending=True, dim=0)\n",
    "        x, y, width, height = box\n",
    "\n",
    "        # Относим рамку к наиболее подходящему якорю\n",
    "        has_anchor = False\n",
    "        for anchor_idx in anchor_indices:\n",
    "            s = grid_size\n",
    "\n",
    "            # Определяем клетку, к которой относится рамка\n",
    "            i, j = int(s * y), int(s * x)\n",
    "            anchor_taken = targets[anchor_idx, i, j, 0]\n",
    "\n",
    "            # Проверяем, доступен ли якорная рамка для текущей ячейки\n",
    "            if not anchor_taken and not has_anchor:\n",
    "                # Пересчитываем координаты по отношению к клетке\n",
    "                x_cell, y_cell = s * x - j, s * y - i\n",
    "                width_cell, height_cell = (width * s, height * s)\n",
    "                box_coordinates = torch.tensor([x_cell, y_cell, width_cell, height_cell])\n",
    "\n",
    "                # Заполняем содержимое для выбранной клетки\n",
    "                targets[anchor_idx, i, j, 0] = 1  # указатель, что в клетке есть объект\n",
    "                targets[anchor_idx, i, j, 1:5] = box_coordinates\n",
    "                targets[anchor_idx, i, j, 5] = int(class_label)\n",
    "\n",
    "                has_anchor = True\n",
    "\n",
    "            # Если якорь уже выбран, проверим IoU, если больше threshold - пометим клетку -1\n",
    "            elif not anchor_taken and iou_anchors[anchor_idx] > ignore_iou_thresh:\n",
    "                targets[anchor_idx, i, j, 0] = -1\n",
    "\n",
    "    return targets"
   ]
  },
  {
   "cell_type": "code",
   "execution_count": null,
   "metadata": {},
   "outputs": [],
   "source": []
  },
  {
   "cell_type": "code",
   "execution_count": 8,
   "metadata": {},
   "outputs": [],
   "source": [
    "class YeastDetectionDataset(Dataset):\n",
    "    def __init__(\n",
    "        self, subset_dir: Path, anchors: list[tuple[int, int]], image_size: int, grid_size: int = 8\n",
    "    ) -> None:\n",
    "        super().__init__()\n",
    "        self.subset_dir = subset_dir\n",
    "        self.items = list((self.subset_dir / \"inputs\").glob(\"*.pt\"))\n",
    "        # Ignore IoU threshold\n",
    "        self.ignore_iou_thresh = 0.5\n",
    "        self.rescaled_anchors = torch.tensor(anchors) / image_size * grid_size\n",
    "        self.grid_size = grid_size\n",
    "        self.image_size = image_size\n",
    "\n",
    "    def __len__(self) -> int:\n",
    "        return len(self.items)\n",
    "\n",
    "    def __getitem__(self, index: int) -> tuple[Tensor, Tensor]:\n",
    "        image_path = self.items[index]\n",
    "        # load everything\n",
    "        image = torch.load(image_path, weights_only=True).unsqueeze(0)\n",
    "        classes = (\n",
    "            torch.load(self.subset_dir / \"classes\" / image_path.parts[-1], weights_only=True) + 1\n",
    "        )\n",
    "        boxes = torch.load(\n",
    "            self.subset_dir / \"bounding_boxes\" / image_path.parts[-1], weights_only=True\n",
    "        )\n",
    "        boxes = box_convert(boxes, \"xyxy\", \"cxcywh\") / self.image_size\n",
    "\n",
    "        # convert boxes to cells\n",
    "        targets = boxes_to_cells(\n",
    "            boxes, classes, self.rescaled_anchors, self.grid_size, self.ignore_iou_thresh\n",
    "        )\n",
    "        return image, targets"
   ]
  },
  {
   "cell_type": "code",
   "execution_count": 9,
   "metadata": {},
   "outputs": [],
   "source": [
    "train_dataset = YeastDetectionDataset(\n",
    "    Path(\"yeast_cell_in_microstructures_dataset/train\"), anchors=ANCHORS, image_size=256\n",
    ")\n",
    "val_dataset = YeastDetectionDataset(Path(\"yeast_cell_in_microstructures_dataset/val\"), anchors=ANCHORS, image_size=256)\n",
    "\n",
    "batch_size = 32\n",
    "train_loader = DataLoader(dataset=train_dataset, batch_size=batch_size, shuffle=True)\n",
    "val_loader = DataLoader(dataset=val_dataset, batch_size=batch_size, shuffle=False)"
   ]
  },
  {
   "cell_type": "code",
   "execution_count": 10,
   "metadata": {},
   "outputs": [],
   "source": [
    "def cells_to_bboxes(cells: Tensor, rescaled_anchors: Tensor, is_predictions=False) -> Tensor:\n",
    "    \"\"\"\n",
    "    Переводит клеточное представление в bbox представление, где каждая рамка -\n",
    "    (id класса, вероятность нахождения объекта, cx, cy, w, h), а клеточное представление\n",
    "    имеет размер (batch_size, n_anchors, grid_size, grid_size, 6), в последней размерности\n",
    "    хранятся признаки ячейки: класс объекта, вероятность объекта, координаты и размеры рамки\n",
    "    относительно ячейки\n",
    "\n",
    "    Args:\n",
    "        cells (Tensor): тензор размера (batch_size, n_anchors, width, height, 6)\n",
    "        rescaled_anchors (Tensor): тензор размера (n_anchors, 2) с размерами якорей в долях от размеров ячейки\n",
    "        is_predictions (bool, optional): являются ли входные ячейки предсказаниями или верной аннотацией.\n",
    "    \"\"\"\n",
    "\n",
    "    if is_predictions:\n",
    "        scores, box_predictions, logits = process_yolo_preds(cells, rescaled_anchors)\n",
    "        scores = torch.sigmoid(scores)\n",
    "        best_class = torch.argmax(logits, dim=-1).unsqueeze(-1) + 1\n",
    "\n",
    "    else:\n",
    "        box_predictions = cells[..., 1:5].clone()\n",
    "        scores = cells[..., 0:1]\n",
    "        best_class = cells[..., 5:6]\n",
    "\n",
    "    # масштабируем размер рамок [0, grid_size] -> [0, 1]\n",
    "    _, _, H, W, _ = cells.shape\n",
    "    range_y, range_x = torch.meshgrid(\n",
    "        torch.arange(H, dtype=cells.dtype, device=cells.device),\n",
    "        torch.arange(W, dtype=cells.dtype, device=cells.device),\n",
    "        indexing=\"ij\",\n",
    "    )\n",
    "    x = torch.cat(\n",
    "        [\n",
    "            best_class,\n",
    "            scores,\n",
    "            (box_predictions[..., 0:1] + range_x[None, None, :, :, None]) / W,  # X center\n",
    "            (box_predictions[..., 1:2] + range_y[None, None, :, :, None]) / H,  # Y center\n",
    "            box_predictions[..., 2:3] / W,  # Width\n",
    "            box_predictions[..., 3:4] / H,  # Height\n",
    "        ],\n",
    "        -1,\n",
    "    )\n",
    "\n",
    "    return x.view(-1, 6)"
   ]
  },
  {
   "cell_type": "code",
   "execution_count": 11,
   "metadata": {},
   "outputs": [],
   "source": [
    "def plot_image(image: Tensor, boxes: Tensor, class_labels: list[str]) -> Figure:\n",
    "    # назначим цвета для классов\n",
    "    colour_map = plt.get_cmap(\"tab20b\")\n",
    "    colors = [colour_map(i) for i in np.linspace(0, 1, len(class_labels))]\n",
    "\n",
    "    fig, ax = plt.subplots(1)\n",
    "    ax.imshow(image, cmap=\"gray\")\n",
    "    h, w = image.shape\n",
    "    for box in boxes:\n",
    "        # добавляем прямоугольник\n",
    "        class_pred = box[0] - 1\n",
    "        box = box[2:]\n",
    "        upper_left_x = box[0] - box[2] / 2\n",
    "        upper_left_y = box[1] - box[3] / 2\n",
    "\n",
    "        rect = patches.Rectangle(\n",
    "            (upper_left_x * w, upper_left_y * h),\n",
    "            box[2] * w,\n",
    "            box[3] * h,\n",
    "            linewidth=2,\n",
    "            edgecolor=colors[int(class_pred)],\n",
    "            facecolor=\"none\",\n",
    "        )\n",
    "        ax.add_patch(rect)\n",
    "\n",
    "        # добавляем подпись\n",
    "        ax.text(\n",
    "            upper_left_x * w,\n",
    "            upper_left_y * h,\n",
    "            s=class_labels[int(class_pred)],\n",
    "            color=\"white\",\n",
    "            verticalalignment=\"top\",\n",
    "            bbox={\"color\": colors[int(class_pred)], \"pad\": 0},\n",
    "        )\n",
    "\n",
    "    return fig"
   ]
  },
  {
   "cell_type": "code",
   "execution_count": 12,
   "metadata": {},
   "outputs": [
    {
     "name": "stdout",
     "output_type": "stream",
     "text": [
      "109431\n",
      "1.695744276046753\n"
     ]
    }
   ],
   "source": [
    "class YOLOLoss(nn.Module):\n",
    "    def __init__(self):\n",
    "        super().__init__()\n",
    "        self.mse = nn.MSELoss()\n",
    "        self.bce = nn.BCEWithLogitsLoss()\n",
    "        self.cross_entropy = nn.CrossEntropyLoss()\n",
    "\n",
    "    def forward(self, pred: Tensor, target: Tensor, anchors: Tensor) -> Tensor:\n",
    "        # ниже входные тензоры будут меняться на месте, так что склонируем их\n",
    "        pred = pred.clone()\n",
    "        target = target.clone()\n",
    "\n",
    "        # разделяем рамки на содержащие объекты и не содержащие\n",
    "        # NB: ещё могут быть -1, куда отнеслось более 1 объекта - их не учитываем\n",
    "        obj = target[..., 0] == 1\n",
    "        no_obj = target[..., 0] == 0\n",
    "\n",
    "        # преобразуем предсказания bbox\n",
    "        scores, pred_boxes, logits = process_yolo_preds(pred, anchors)\n",
    "\n",
    "        # no object loss: кросс-энтропия вместо MSE\n",
    "        no_object_loss = self.bce(\n",
    "            (scores[no_obj]),\n",
    "            (target[..., 0:1][no_obj]),\n",
    "        )\n",
    "\n",
    "        # object loss: учим предсказывать IoU\n",
    "        ious = intersection_over_union(pred_boxes[obj], target[..., 1:5][obj]).detach()\n",
    "        object_loss = self.mse(scores[obj].sigmoid(), ious * target[..., 0:1][obj])\n",
    "\n",
    "        # box coordinate loss: логарифмируем размеры рамок перед расчётом MSE\n",
    "        anchors = anchors.reshape(1, len(anchors), 1, 1, 2)\n",
    "        pred[..., 1:3] = pred[..., 1:3].sigmoid()\n",
    "        target[..., 3:5] = torch.log(1e-6 + target[..., 3:5] / anchors)\n",
    "        box_loss = self.mse(pred[..., 1:5][obj], target[..., 1:5][obj])\n",
    "\n",
    "        # class loss: здесь всё обычно\n",
    "        class_loss = self.cross_entropy(logits[obj], target[..., 5][obj].long() - 1)\n",
    "\n",
    "        # Total loss\n",
    "        return box_loss + object_loss + no_object_loss + class_loss\n",
    "\n",
    "rescaled_anchors = rescaled_anchors.to(device)  \n",
    "\n",
    "torch.manual_seed(42)\n",
    "x, y = next(iter(train_loader))\n",
    "device = torch.device(\"cuda\")\n",
    "x, y = x.to(device), y.to(device)\n",
    "\n",
    "model = TinyYOLO(in_channels=1, num_classes=2, num_anchors=len(rescaled_anchors)).to(device)\n",
    "print(sum(p.numel() for p in model.parameters()))\n",
    "\n",
    "preds = model(x)\n",
    "\n",
    "loss_fn = YOLOLoss().to(device)\n",
    "\n",
    "# Убеждаемся, что anchors тоже на CUDA\n",
    "rescaled_anchors = rescaled_anchors.to(device)\n",
    "\n",
    "# Теперь вызываем функцию потерь\n",
    "loss = loss_fn(preds, y, rescaled_anchors)\n",
    "print(loss.item())\n"
   ]
  },
  {
   "cell_type": "code",
   "execution_count": 13,
   "metadata": {},
   "outputs": [],
   "source": [
    "from typing import Callable, Type, Any\n",
    "import lightning as L\n",
    "\n",
    "from lightning.pytorch.utilities.types import EVAL_DATALOADERS, TRAIN_DATALOADERS\n",
    "from PIL.Image import Image\n",
    "from torch.utils.data import DataLoader\n",
    "from torchvision import datasets, transforms\n",
    "\n",
    "_collate_fn_t = Callable[[list[tuple[Tensor, Any]]], Any]\n",
    "\n",
    "class Datamodule(L.LightningDataModule):\n",
    "    def __init__(\n",
    "        self,\n",
    "        datadir: Path,\n",
    "        dataset_class: Type[Dataset],\n",
    "        batch_size: int,\n",
    "        train_subdir: str = \"train\",\n",
    "        val_subdir: str = \"val\",\n",
    "        test_subdir: str = \"test\",\n",
    "    ) -> None:\n",
    "        super().__init__()\n",
    "        self.batch_size = batch_size\n",
    "        self.dataset_class = dataset_class\n",
    "        self.train_dir = datadir / train_subdir\n",
    "        self.val_dir = datadir / val_subdir\n",
    "        self.test_dir = datadir / test_subdir\n",
    "\n",
    "    @property\n",
    "    def collate_fn(self) -> _collate_fn_t | None:\n",
    "        if self.dataset_class == YeastDetectionDataset:\n",
    "            return None\n",
    "        else:\n",
    "            return lambda batch: tuple(zip(*batch))\n",
    "\n",
    "    def setup(self, stage: str) -> None:\n",
    "        if stage in (\"fit\", \"validate\"):\n",
    "            self.val_dataset = self.dataset_class(self.val_dir, anchors=ANCHORS, image_size=256)\n",
    "        if stage == \"fit\":\n",
    "            self.train_dataset = self.dataset_class(self.train_dir, anchors=ANCHORS, image_size=256)\n",
    "        elif stage == \"test\":\n",
    "            self.test_dataset = self.dataset_class(self.test_dir, anchors=ANCHORS, image_size=256)\n",
    "\n",
    "    def train_dataloader(self) -> TRAIN_DATALOADERS:\n",
    "        return DataLoader(\n",
    "            self.train_dataset,\n",
    "            batch_size=self.batch_size,\n",
    "            shuffle=True,\n",
    "            collate_fn=self.collate_fn,\n",
    "        )\n",
    "\n",
    "    def val_dataloader(self) -> EVAL_DATALOADERS:\n",
    "        return DataLoader(\n",
    "            self.val_dataset,\n",
    "            batch_size=self.batch_size,\n",
    "            shuffle=False,\n",
    "            collate_fn=self.collate_fn,\n",
    "        )\n",
    "\n",
    "    def test_dataloader(self) -> EVAL_DATALOADERS:\n",
    "        return DataLoader(\n",
    "            self.test_dataset,\n",
    "            batch_size=self.batch_size,\n",
    "            shuffle=False,\n",
    "            collate_fn=self.collate_fn,\n",
    "        )"
   ]
  },
  {
   "cell_type": "code",
   "execution_count": 14,
   "metadata": {},
   "outputs": [],
   "source": [
    "from typing import Any\n",
    "from torchvision.ops.boxes import nms\n",
    "from lightning.pytorch.utilities.types import STEP_OUTPUT\n",
    "import torchmetrics.classification\n",
    "from torchmetrics.detection import MeanAveragePrecision\n",
    "\n",
    "\n",
    "class Lit(L.LightningModule):\n",
    "    def __init__(self, model: nn.Module, learning_rate: float) -> None:\n",
    "        super().__init__()\n",
    "        self.save_hyperparameters()\n",
    "        self.model = model\n",
    "        self.learning_rate = learning_rate\n",
    "        self.loss_fn = YOLOLoss()\n",
    "\n",
    "    def training_step(\n",
    "        self, batch: tuple[Tensor, Tensor], batch_idx: int\n",
    "    ) -> STEP_OUTPUT:\n",
    "        x, y = batch\n",
    "        y_hat = self.model(x)\n",
    "        loss = self.loss_fn.forward(y_hat, y, rescaled_anchors)\n",
    "        self.log(\"train_loss\", loss, on_epoch=True, on_step=False)\n",
    "        # обновляем метрики и логируем раз в эпоху\n",
    "\n",
    "        return loss\n",
    "\n",
    "    def validation_step(\n",
    "        self, batch: tuple[Tensor, Tensor], batch_idx: int\n",
    "    ) -> STEP_OUTPUT | None:\n",
    "        x, y = batch\n",
    "        y_hat = self.model(x)\n",
    "        loss = self.loss_fn.forward(y_hat, y, rescaled_anchors)\n",
    "        self.log(\"val_loss\", loss, on_epoch=True, on_step=False)\n",
    "        # обновляем метрики и логируем раз в эпоху\n",
    "        return {\n",
    "            \"loss\": loss,\n",
    "            \"preds\": y_hat,\n",
    "        }\n",
    "    \n",
    "    def on_validation_epoch_end(self) -> None:\n",
    "        val_loss = self.trainer.callback_metrics[\"val_loss\"]\n",
    "        print(f\" Val. Loss: {val_loss:.4f}\")\n",
    "    \n",
    "\n",
    "    def configure_optimizers(self) -> dict[str, Any]:\n",
    "        optimizer = torch.optim.AdamW(self.model.parameters(), lr=self.learning_rate)\n",
    "        # давайте кроме оптимизатора создадим ещё расписание для шага оптимизации\n",
    "        return {\n",
    "            \"optimizer\": optimizer,\n",
    "            \"lr_scheduler\": torch.optim.lr_scheduler.MultiStepLR(\n",
    "                optimizer, milestones=[5, 10, 15]\n",
    "            ),\n",
    "        }"
   ]
  },
  {
   "cell_type": "code",
   "execution_count": 15,
   "metadata": {},
   "outputs": [
    {
     "name": "stderr",
     "output_type": "stream",
     "text": [
      "GPU available: True (cuda), used: True\n",
      "TPU available: False, using: 0 TPU cores\n",
      "HPU available: False, using: 0 HPUs\n",
      "/home/ne_ravilka/miniconda3/envs/dl-mcs/lib/python3.12/site-packages/lightning/pytorch/utilities/parsing.py:209: Attribute 'model' is an instance of `nn.Module` and is already saved during checkpointing. It is recommended to ignore them using `self.save_hyperparameters(ignore=['model'])`.\n",
      "You are using a CUDA device ('NVIDIA GeForce RTX 3060 Laptop GPU') that has Tensor Cores. To properly utilize them, you should set `torch.set_float32_matmul_precision('medium' | 'high')` which will trade-off precision for performance. For more details, read https://pytorch.org/docs/stable/generated/torch.set_float32_matmul_precision.html#torch.set_float32_matmul_precision\n",
      "LOCAL_RANK: 0 - CUDA_VISIBLE_DEVICES: [0]\n",
      "\n",
      "  | Name    | Type     | Params | Mode \n",
      "---------------------------------------------\n",
      "0 | model   | TinyYOLO | 109 K  | train\n",
      "1 | loss_fn | YOLOLoss | 0      | train\n",
      "---------------------------------------------\n",
      "109 K     Trainable params\n",
      "0         Non-trainable params\n",
      "109 K     Total params\n",
      "0.438     Total estimated model params size (MB)\n",
      "32        Modules in train mode\n",
      "0         Modules in eval mode\n"
     ]
    },
    {
     "data": {
      "application/vnd.jupyter.widget-view+json": {
       "model_id": "6ce976fd0edb4ba2ac315635b5092666",
       "version_major": 2,
       "version_minor": 0
      },
      "text/plain": [
       "Sanity Checking: |          | 0/? [00:00<?, ?it/s]"
      ]
     },
     "metadata": {},
     "output_type": "display_data"
    },
    {
     "name": "stderr",
     "output_type": "stream",
     "text": [
      "/home/ne_ravilka/miniconda3/envs/dl-mcs/lib/python3.12/site-packages/lightning/pytorch/trainer/connectors/data_connector.py:425: The 'val_dataloader' does not have many workers which may be a bottleneck. Consider increasing the value of the `num_workers` argument` to `num_workers=11` in the `DataLoader` to improve performance.\n"
     ]
    },
    {
     "name": "stdout",
     "output_type": "stream",
     "text": [
      " Val. Loss: 1.4646\n"
     ]
    },
    {
     "name": "stderr",
     "output_type": "stream",
     "text": [
      "/home/ne_ravilka/miniconda3/envs/dl-mcs/lib/python3.12/site-packages/lightning/pytorch/trainer/connectors/data_connector.py:425: The 'train_dataloader' does not have many workers which may be a bottleneck. Consider increasing the value of the `num_workers` argument` to `num_workers=11` in the `DataLoader` to improve performance.\n"
     ]
    },
    {
     "data": {
      "application/vnd.jupyter.widget-view+json": {
       "model_id": "177c7a60629847d0ab726fa5ce325731",
       "version_major": 2,
       "version_minor": 0
      },
      "text/plain": [
       "Training: |          | 0/? [00:00<?, ?it/s]"
      ]
     },
     "metadata": {},
     "output_type": "display_data"
    },
    {
     "data": {
      "application/vnd.jupyter.widget-view+json": {
       "model_id": "ef40cddb9e354b20b91fb23fa93e4690",
       "version_major": 2,
       "version_minor": 0
      },
      "text/plain": [
       "Validation: |          | 0/? [00:00<?, ?it/s]"
      ]
     },
     "metadata": {},
     "output_type": "display_data"
    },
    {
     "name": "stdout",
     "output_type": "stream",
     "text": [
      " Val. Loss: 0.2532\n"
     ]
    },
    {
     "data": {
      "application/vnd.jupyter.widget-view+json": {
       "model_id": "1ed022ecde2046ef921e4d16a2539435",
       "version_major": 2,
       "version_minor": 0
      },
      "text/plain": [
       "Validation: |          | 0/? [00:00<?, ?it/s]"
      ]
     },
     "metadata": {},
     "output_type": "display_data"
    },
    {
     "name": "stdout",
     "output_type": "stream",
     "text": [
      " Val. Loss: 0.1566\n"
     ]
    },
    {
     "data": {
      "application/vnd.jupyter.widget-view+json": {
       "model_id": "a4e72b94e351411197f2dd80d52b394f",
       "version_major": 2,
       "version_minor": 0
      },
      "text/plain": [
       "Validation: |          | 0/? [00:00<?, ?it/s]"
      ]
     },
     "metadata": {},
     "output_type": "display_data"
    },
    {
     "name": "stdout",
     "output_type": "stream",
     "text": [
      " Val. Loss: 0.1341\n"
     ]
    },
    {
     "data": {
      "application/vnd.jupyter.widget-view+json": {
       "model_id": "0f308daa6d454128906e57ade89b8e44",
       "version_major": 2,
       "version_minor": 0
      },
      "text/plain": [
       "Validation: |          | 0/? [00:00<?, ?it/s]"
      ]
     },
     "metadata": {},
     "output_type": "display_data"
    },
    {
     "name": "stdout",
     "output_type": "stream",
     "text": [
      " Val. Loss: 0.1297\n"
     ]
    },
    {
     "data": {
      "application/vnd.jupyter.widget-view+json": {
       "model_id": "1f6b97f807094d619c2e6b94108a0c4d",
       "version_major": 2,
       "version_minor": 0
      },
      "text/plain": [
       "Validation: |          | 0/? [00:00<?, ?it/s]"
      ]
     },
     "metadata": {},
     "output_type": "display_data"
    },
    {
     "name": "stdout",
     "output_type": "stream",
     "text": [
      " Val. Loss: 0.1109\n"
     ]
    },
    {
     "data": {
      "application/vnd.jupyter.widget-view+json": {
       "model_id": "0d4041d380a64b6b93c73300f4227f9e",
       "version_major": 2,
       "version_minor": 0
      },
      "text/plain": [
       "Validation: |          | 0/? [00:00<?, ?it/s]"
      ]
     },
     "metadata": {},
     "output_type": "display_data"
    },
    {
     "name": "stdout",
     "output_type": "stream",
     "text": [
      " Val. Loss: 0.1215\n"
     ]
    },
    {
     "data": {
      "application/vnd.jupyter.widget-view+json": {
       "model_id": "dde3c47cfeb34671a9e1290efd403264",
       "version_major": 2,
       "version_minor": 0
      },
      "text/plain": [
       "Validation: |          | 0/? [00:00<?, ?it/s]"
      ]
     },
     "metadata": {},
     "output_type": "display_data"
    },
    {
     "name": "stdout",
     "output_type": "stream",
     "text": [
      " Val. Loss: 0.1211\n"
     ]
    },
    {
     "data": {
      "application/vnd.jupyter.widget-view+json": {
       "model_id": "29a096f6499e4d6eac42a7b982a223a9",
       "version_major": 2,
       "version_minor": 0
      },
      "text/plain": [
       "Validation: |          | 0/? [00:00<?, ?it/s]"
      ]
     },
     "metadata": {},
     "output_type": "display_data"
    },
    {
     "name": "stdout",
     "output_type": "stream",
     "text": [
      " Val. Loss: 0.1207\n"
     ]
    },
    {
     "data": {
      "application/vnd.jupyter.widget-view+json": {
       "model_id": "80263cf6a2494f4e91f4b9ee507748af",
       "version_major": 2,
       "version_minor": 0
      },
      "text/plain": [
       "Validation: |          | 0/? [00:00<?, ?it/s]"
      ]
     },
     "metadata": {},
     "output_type": "display_data"
    },
    {
     "name": "stdout",
     "output_type": "stream",
     "text": [
      " Val. Loss: 0.1224\n"
     ]
    },
    {
     "data": {
      "application/vnd.jupyter.widget-view+json": {
       "model_id": "099f207fd056471fa392382ef4b50cde",
       "version_major": 2,
       "version_minor": 0
      },
      "text/plain": [
       "Validation: |          | 0/? [00:00<?, ?it/s]"
      ]
     },
     "metadata": {},
     "output_type": "display_data"
    },
    {
     "name": "stdout",
     "output_type": "stream",
     "text": [
      " Val. Loss: 0.1221\n"
     ]
    },
    {
     "data": {
      "application/vnd.jupyter.widget-view+json": {
       "model_id": "e5f97209c0534e1e9017d247301ba97c",
       "version_major": 2,
       "version_minor": 0
      },
      "text/plain": [
       "Validation: |          | 0/? [00:00<?, ?it/s]"
      ]
     },
     "metadata": {},
     "output_type": "display_data"
    },
    {
     "name": "stdout",
     "output_type": "stream",
     "text": [
      " Val. Loss: 0.1256\n"
     ]
    },
    {
     "data": {
      "application/vnd.jupyter.widget-view+json": {
       "model_id": "e449185b1dca4347bf3f4beef985be1d",
       "version_major": 2,
       "version_minor": 0
      },
      "text/plain": [
       "Validation: |          | 0/? [00:00<?, ?it/s]"
      ]
     },
     "metadata": {},
     "output_type": "display_data"
    },
    {
     "name": "stdout",
     "output_type": "stream",
     "text": [
      " Val. Loss: 0.1261\n"
     ]
    },
    {
     "data": {
      "application/vnd.jupyter.widget-view+json": {
       "model_id": "78c14104c7b94e4e9a4421e44966aee3",
       "version_major": 2,
       "version_minor": 0
      },
      "text/plain": [
       "Validation: |          | 0/? [00:00<?, ?it/s]"
      ]
     },
     "metadata": {},
     "output_type": "display_data"
    },
    {
     "name": "stdout",
     "output_type": "stream",
     "text": [
      " Val. Loss: 0.1260\n"
     ]
    },
    {
     "data": {
      "application/vnd.jupyter.widget-view+json": {
       "model_id": "10f892ebf4c14c06825a9855a6f85425",
       "version_major": 2,
       "version_minor": 0
      },
      "text/plain": [
       "Validation: |          | 0/? [00:00<?, ?it/s]"
      ]
     },
     "metadata": {},
     "output_type": "display_data"
    },
    {
     "name": "stdout",
     "output_type": "stream",
     "text": [
      " Val. Loss: 0.1258\n"
     ]
    },
    {
     "data": {
      "application/vnd.jupyter.widget-view+json": {
       "model_id": "0333be9101b240e5819400f1817c0a28",
       "version_major": 2,
       "version_minor": 0
      },
      "text/plain": [
       "Validation: |          | 0/? [00:00<?, ?it/s]"
      ]
     },
     "metadata": {},
     "output_type": "display_data"
    },
    {
     "name": "stdout",
     "output_type": "stream",
     "text": [
      " Val. Loss: 0.1262\n"
     ]
    },
    {
     "data": {
      "application/vnd.jupyter.widget-view+json": {
       "model_id": "17c4b5563d5d46e2be643623d707d6dd",
       "version_major": 2,
       "version_minor": 0
      },
      "text/plain": [
       "Validation: |          | 0/? [00:00<?, ?it/s]"
      ]
     },
     "metadata": {},
     "output_type": "display_data"
    },
    {
     "name": "stdout",
     "output_type": "stream",
     "text": [
      " Val. Loss: 0.1296\n"
     ]
    },
    {
     "data": {
      "application/vnd.jupyter.widget-view+json": {
       "model_id": "85654824e7f54afd92377677199939b9",
       "version_major": 2,
       "version_minor": 0
      },
      "text/plain": [
       "Validation: |          | 0/? [00:00<?, ?it/s]"
      ]
     },
     "metadata": {},
     "output_type": "display_data"
    },
    {
     "name": "stdout",
     "output_type": "stream",
     "text": [
      " Val. Loss: 0.1293\n"
     ]
    },
    {
     "data": {
      "application/vnd.jupyter.widget-view+json": {
       "model_id": "ed57b927aae94007879625114a07323d",
       "version_major": 2,
       "version_minor": 0
      },
      "text/plain": [
       "Validation: |          | 0/? [00:00<?, ?it/s]"
      ]
     },
     "metadata": {},
     "output_type": "display_data"
    },
    {
     "name": "stdout",
     "output_type": "stream",
     "text": [
      " Val. Loss: 0.1263\n"
     ]
    },
    {
     "data": {
      "application/vnd.jupyter.widget-view+json": {
       "model_id": "3cca4f4e376e41f5bf48908617d40a9f",
       "version_major": 2,
       "version_minor": 0
      },
      "text/plain": [
       "Validation: |          | 0/? [00:00<?, ?it/s]"
      ]
     },
     "metadata": {},
     "output_type": "display_data"
    },
    {
     "name": "stdout",
     "output_type": "stream",
     "text": [
      " Val. Loss: 0.1274\n"
     ]
    },
    {
     "data": {
      "application/vnd.jupyter.widget-view+json": {
       "model_id": "54825f4905984754b0b24d72b2a53fa2",
       "version_major": 2,
       "version_minor": 0
      },
      "text/plain": [
       "Validation: |          | 0/? [00:00<?, ?it/s]"
      ]
     },
     "metadata": {},
     "output_type": "display_data"
    },
    {
     "name": "stdout",
     "output_type": "stream",
     "text": [
      " Val. Loss: 0.1287\n"
     ]
    },
    {
     "data": {
      "application/vnd.jupyter.widget-view+json": {
       "model_id": "dc1b3304553c4ea0931a38220dc1fde2",
       "version_major": 2,
       "version_minor": 0
      },
      "text/plain": [
       "Validation: |          | 0/? [00:00<?, ?it/s]"
      ]
     },
     "metadata": {},
     "output_type": "display_data"
    },
    {
     "name": "stdout",
     "output_type": "stream",
     "text": [
      " Val. Loss: 0.1256\n"
     ]
    },
    {
     "data": {
      "application/vnd.jupyter.widget-view+json": {
       "model_id": "137931b825af4233a1892f2208d78160",
       "version_major": 2,
       "version_minor": 0
      },
      "text/plain": [
       "Validation: |          | 0/? [00:00<?, ?it/s]"
      ]
     },
     "metadata": {},
     "output_type": "display_data"
    },
    {
     "name": "stdout",
     "output_type": "stream",
     "text": [
      " Val. Loss: 0.1274\n"
     ]
    },
    {
     "data": {
      "application/vnd.jupyter.widget-view+json": {
       "model_id": "676ce62100a64653a863d7c6cb6de024",
       "version_major": 2,
       "version_minor": 0
      },
      "text/plain": [
       "Validation: |          | 0/? [00:00<?, ?it/s]"
      ]
     },
     "metadata": {},
     "output_type": "display_data"
    },
    {
     "name": "stdout",
     "output_type": "stream",
     "text": [
      " Val. Loss: 0.1304\n"
     ]
    },
    {
     "data": {
      "application/vnd.jupyter.widget-view+json": {
       "model_id": "6b3e9deec01d4e57a250c878cd197d9c",
       "version_major": 2,
       "version_minor": 0
      },
      "text/plain": [
       "Validation: |          | 0/? [00:00<?, ?it/s]"
      ]
     },
     "metadata": {},
     "output_type": "display_data"
    },
    {
     "name": "stdout",
     "output_type": "stream",
     "text": [
      " Val. Loss: 0.1269\n"
     ]
    },
    {
     "data": {
      "application/vnd.jupyter.widget-view+json": {
       "model_id": "d812a51e11c14a15a3f2ed5b2ec8b9d9",
       "version_major": 2,
       "version_minor": 0
      },
      "text/plain": [
       "Validation: |          | 0/? [00:00<?, ?it/s]"
      ]
     },
     "metadata": {},
     "output_type": "display_data"
    },
    {
     "name": "stdout",
     "output_type": "stream",
     "text": [
      " Val. Loss: 0.1267\n"
     ]
    },
    {
     "data": {
      "application/vnd.jupyter.widget-view+json": {
       "model_id": "4b8db0e1db634ad8a91384a183447de5",
       "version_major": 2,
       "version_minor": 0
      },
      "text/plain": [
       "Validation: |          | 0/? [00:00<?, ?it/s]"
      ]
     },
     "metadata": {},
     "output_type": "display_data"
    },
    {
     "name": "stdout",
     "output_type": "stream",
     "text": [
      " Val. Loss: 0.1270\n"
     ]
    },
    {
     "data": {
      "application/vnd.jupyter.widget-view+json": {
       "model_id": "355d479501224842843a23bfc118ad22",
       "version_major": 2,
       "version_minor": 0
      },
      "text/plain": [
       "Validation: |          | 0/? [00:00<?, ?it/s]"
      ]
     },
     "metadata": {},
     "output_type": "display_data"
    },
    {
     "name": "stdout",
     "output_type": "stream",
     "text": [
      " Val. Loss: 0.1276\n"
     ]
    },
    {
     "data": {
      "application/vnd.jupyter.widget-view+json": {
       "model_id": "bcb2c98b81ed407aa173678a36250dba",
       "version_major": 2,
       "version_minor": 0
      },
      "text/plain": [
       "Validation: |          | 0/? [00:00<?, ?it/s]"
      ]
     },
     "metadata": {},
     "output_type": "display_data"
    },
    {
     "name": "stdout",
     "output_type": "stream",
     "text": [
      " Val. Loss: 0.1283\n"
     ]
    },
    {
     "data": {
      "application/vnd.jupyter.widget-view+json": {
       "model_id": "4048a54166134b34b4430b31d87f2ce8",
       "version_major": 2,
       "version_minor": 0
      },
      "text/plain": [
       "Validation: |          | 0/? [00:00<?, ?it/s]"
      ]
     },
     "metadata": {},
     "output_type": "display_data"
    },
    {
     "name": "stdout",
     "output_type": "stream",
     "text": [
      " Val. Loss: 0.1284\n"
     ]
    },
    {
     "data": {
      "application/vnd.jupyter.widget-view+json": {
       "model_id": "c30c8f3457844c00a4d5ab3f59f5257d",
       "version_major": 2,
       "version_minor": 0
      },
      "text/plain": [
       "Validation: |          | 0/? [00:00<?, ?it/s]"
      ]
     },
     "metadata": {},
     "output_type": "display_data"
    },
    {
     "name": "stdout",
     "output_type": "stream",
     "text": [
      " Val. Loss: 0.1303\n"
     ]
    },
    {
     "data": {
      "application/vnd.jupyter.widget-view+json": {
       "model_id": "b45f686e9df14effb32c7ac858c6ba9f",
       "version_major": 2,
       "version_minor": 0
      },
      "text/plain": [
       "Validation: |          | 0/? [00:00<?, ?it/s]"
      ]
     },
     "metadata": {},
     "output_type": "display_data"
    },
    {
     "name": "stdout",
     "output_type": "stream",
     "text": [
      " Val. Loss: 0.1244\n"
     ]
    },
    {
     "data": {
      "application/vnd.jupyter.widget-view+json": {
       "model_id": "c0d0c4c304bb420d9bdc1a6de63edd08",
       "version_major": 2,
       "version_minor": 0
      },
      "text/plain": [
       "Validation: |          | 0/? [00:00<?, ?it/s]"
      ]
     },
     "metadata": {},
     "output_type": "display_data"
    },
    {
     "name": "stdout",
     "output_type": "stream",
     "text": [
      " Val. Loss: 0.1264\n"
     ]
    },
    {
     "data": {
      "application/vnd.jupyter.widget-view+json": {
       "model_id": "1b646c0fca614f5682559df7a4cca080",
       "version_major": 2,
       "version_minor": 0
      },
      "text/plain": [
       "Validation: |          | 0/? [00:00<?, ?it/s]"
      ]
     },
     "metadata": {},
     "output_type": "display_data"
    },
    {
     "name": "stdout",
     "output_type": "stream",
     "text": [
      " Val. Loss: 0.1285\n"
     ]
    },
    {
     "data": {
      "application/vnd.jupyter.widget-view+json": {
       "model_id": "309a13a9c85e43fe83b46b524aa09ce2",
       "version_major": 2,
       "version_minor": 0
      },
      "text/plain": [
       "Validation: |          | 0/? [00:00<?, ?it/s]"
      ]
     },
     "metadata": {},
     "output_type": "display_data"
    },
    {
     "name": "stdout",
     "output_type": "stream",
     "text": [
      " Val. Loss: 0.1273\n"
     ]
    },
    {
     "data": {
      "application/vnd.jupyter.widget-view+json": {
       "model_id": "0701f4c1967f4ca98ae38371ef319893",
       "version_major": 2,
       "version_minor": 0
      },
      "text/plain": [
       "Validation: |          | 0/? [00:00<?, ?it/s]"
      ]
     },
     "metadata": {},
     "output_type": "display_data"
    },
    {
     "name": "stdout",
     "output_type": "stream",
     "text": [
      " Val. Loss: 0.1292\n"
     ]
    },
    {
     "data": {
      "application/vnd.jupyter.widget-view+json": {
       "model_id": "4dec419ee6b246f2b3b278c75599321d",
       "version_major": 2,
       "version_minor": 0
      },
      "text/plain": [
       "Validation: |          | 0/? [00:00<?, ?it/s]"
      ]
     },
     "metadata": {},
     "output_type": "display_data"
    },
    {
     "name": "stdout",
     "output_type": "stream",
     "text": [
      " Val. Loss: 0.1270\n"
     ]
    },
    {
     "data": {
      "application/vnd.jupyter.widget-view+json": {
       "model_id": "7f02ba84c2be46d9884e1d90681f3192",
       "version_major": 2,
       "version_minor": 0
      },
      "text/plain": [
       "Validation: |          | 0/? [00:00<?, ?it/s]"
      ]
     },
     "metadata": {},
     "output_type": "display_data"
    },
    {
     "name": "stdout",
     "output_type": "stream",
     "text": [
      " Val. Loss: 0.1252\n"
     ]
    },
    {
     "data": {
      "application/vnd.jupyter.widget-view+json": {
       "model_id": "dda63f9e18a342f2b481bbf80f0c9ef5",
       "version_major": 2,
       "version_minor": 0
      },
      "text/plain": [
       "Validation: |          | 0/? [00:00<?, ?it/s]"
      ]
     },
     "metadata": {},
     "output_type": "display_data"
    },
    {
     "name": "stdout",
     "output_type": "stream",
     "text": [
      " Val. Loss: 0.1266\n"
     ]
    },
    {
     "data": {
      "application/vnd.jupyter.widget-view+json": {
       "model_id": "e4fd95a3f0224952a54aa725e1603ed8",
       "version_major": 2,
       "version_minor": 0
      },
      "text/plain": [
       "Validation: |          | 0/? [00:00<?, ?it/s]"
      ]
     },
     "metadata": {},
     "output_type": "display_data"
    },
    {
     "name": "stdout",
     "output_type": "stream",
     "text": [
      " Val. Loss: 0.1261\n"
     ]
    },
    {
     "data": {
      "application/vnd.jupyter.widget-view+json": {
       "model_id": "8a23c1ed544749ecb41093230be5e26a",
       "version_major": 2,
       "version_minor": 0
      },
      "text/plain": [
       "Validation: |          | 0/? [00:00<?, ?it/s]"
      ]
     },
     "metadata": {},
     "output_type": "display_data"
    },
    {
     "name": "stderr",
     "output_type": "stream",
     "text": [
      "`Trainer.fit` stopped: `max_epochs=40` reached.\n",
      "LOCAL_RANK: 0 - CUDA_VISIBLE_DEVICES: [0]\n"
     ]
    },
    {
     "name": "stdout",
     "output_type": "stream",
     "text": [
      " Val. Loss: 0.1272\n"
     ]
    },
    {
     "data": {
      "application/vnd.jupyter.widget-view+json": {
       "model_id": "3faed6bbb9c14eb389ec3088f1b36e6e",
       "version_major": 2,
       "version_minor": 0
      },
      "text/plain": [
       "Validation: |          | 0/? [00:00<?, ?it/s]"
      ]
     },
     "metadata": {},
     "output_type": "display_data"
    },
    {
     "name": "stdout",
     "output_type": "stream",
     "text": [
      " Val. Loss: 0.1272\n",
      "────────────────────────────────────────────────────────────────────────────────────────────────────────────────────────\n",
      "     Validate metric           DataLoader 0\n",
      "────────────────────────────────────────────────────────────────────────────────────────────────────────────────────────\n",
      "        val_loss            0.12720608711242676\n",
      "────────────────────────────────────────────────────────────────────────────────────────────────────────────────────────\n"
     ]
    },
    {
     "data": {
      "text/plain": [
       "[{'val_loss': 0.12720608711242676}]"
      ]
     },
     "execution_count": 15,
     "metadata": {},
     "output_type": "execute_result"
    }
   ],
   "source": [
    "from lightning.pytorch.loggers import TensorBoardLogger\n",
    "\n",
    "datamodule = Datamodule(\n",
    "    datadir=Path(\"yeast_cell_in_microstructures_dataset\"),\n",
    "    dataset_class=YeastDetectionDataset,\n",
    "    batch_size=8,\n",
    ")\n",
    "\n",
    "datamodule.setup(\"fit\")\n",
    "\n",
    "trainer = L.Trainer(\n",
    "    accelerator=\"auto\",\n",
    "    max_epochs=40,\n",
    "    limit_train_batches=None,\n",
    "    limit_val_batches=None,\n",
    "    log_every_n_steps=10\n",
    ")\n",
    "lit_module = Lit(\n",
    "    model=TinyYOLO(in_channels=1, num_anchors=len(rescaled_anchors), num_classes=2),\n",
    "    learning_rate=1e-3,\n",
    ")\n",
    "trainer.fit(\n",
    "    model=lit_module,\n",
    "    datamodule=datamodule,\n",
    ")\n",
    "\n",
    "trainer.validate(model=lit_module, dataloaders=datamodule.val_dataloader())"
   ]
  },
  {
   "cell_type": "code",
   "execution_count": 16,
   "metadata": {},
   "outputs": [
    {
     "name": "stdout",
     "output_type": "stream",
     "text": [
      "{'map': tensor(0.3543), 'map_50': tensor(0.8072), 'map_75': tensor(0.2262), 'map_small': tensor(0.3543), 'map_medium': tensor(-1.), 'map_large': tensor(-1.), 'mar_1': tensor(0.2228), 'mar_10': tensor(0.4424), 'mar_100': tensor(0.4424), 'mar_small': tensor(0.4424), 'mar_medium': tensor(-1.), 'mar_large': tensor(-1.), 'map_per_class': tensor([0.4744, 0.2342]), 'mar_100_per_class': tensor([0.5653, 0.3194]), 'classes': tensor([1, 2], dtype=torch.int32)}\n"
     ]
    }
   ],
   "source": [
    "from pprint import pprint\n",
    "from torchmetrics.detection import MeanAveragePrecision \n",
    "\n",
    "val_loader = DataLoader(dataset=val_dataset, batch_size=batch_size, shuffle=False)\n",
    "\n",
    "metric = MeanAveragePrecision(iou_type=\"bbox\", box_format=\"cxcywh\", class_metrics=True).to(device)\n",
    "\n",
    "for x, y in val_loader:\n",
    "    predicted_boxes = []\n",
    "    target_boxes = []\n",
    "\n",
    "    preds = lit_module.model.to(device)(x.to(device))\n",
    "\n",
    "    for i in range(len(y)):\n",
    "        pred_boxes = cells_to_bboxes(preds[i:i+1], rescaled_anchors.to(device), is_predictions=True)\n",
    "        pred_boxes = pred_boxes.to(device)  \n",
    "\n",
    "        \n",
    "        pred_boxes = pred_boxes[nms(\n",
    "            box_convert(pred_boxes[:, 2:], \"cxcywh\", \"xyxy\"),\n",
    "            pred_boxes[:, 1],\n",
    "            iou_threshold=0.3\n",
    "        )]\n",
    "\n",
    "        predicted_boxes.append(\n",
    "            dict(\n",
    "                boxes=pred_boxes[:, 2:].to(device),  \n",
    "                scores=pred_boxes[:, 1].to(device),  \n",
    "                labels=pred_boxes[:, 0].long().to(device),  \n",
    "            )\n",
    "        )\n",
    "\n",
    "        true_boxes = cells_to_bboxes(y[i:i+1].to(device), rescaled_anchors.to(device))\n",
    "        true_boxes = true_boxes[true_boxes[:, 1] == 1]\n",
    "\n",
    "        target_boxes.append(\n",
    "            dict(\n",
    "                boxes=true_boxes[:, 2:].to(device), \n",
    "                labels=true_boxes[:, 0].long().to(device),  \n",
    "            )\n",
    "        )\n",
    "\n",
    "    metric.update(predicted_boxes, target_boxes)\n",
    "\n",
    "print(metric.compute())\n"
   ]
  },
  {
   "cell_type": "markdown",
   "metadata": {},
   "source": [
    "### Задание 2 (2 балла). YoloV3 loss\n",
    "\n",
    "Мы упоминали, что на практике использовалась не совсем та же самая ошибка, что и в YOLO. В этом задании исправьте в классе YoloLoss ошибку регрессии, приведя её в соответствие с тем, как она описана в статье [YOLOv3: An Incremental Improvement](https://arxiv.org/abs/1804.02767) (см. раздел 2.1. Bounding Box Prediction).\n",
    "\n",
    "Запустите обучение с изменённой ошибкой, добейтесь $mAP > 0.3$"
   ]
  },
  {
   "cell_type": "code",
   "execution_count": 17,
   "metadata": {},
   "outputs": [],
   "source": [
    "class YOLOLoss(nn.Module):\n",
    "    def __init__(self):\n",
    "        super().__init__()\n",
    "        self.mse = nn.MSELoss()\n",
    "        self.bce = nn.BCEWithLogitsLoss()\n",
    "        self.ce = nn.CrossEntropyLoss()\n",
    "\n",
    "    def forward(self, pred: Tensor, target: Tensor, anchors: Tensor) -> Tensor:\n",
    "        # ниже входные тензоры будут меняться на месте, так что склонируем их\n",
    "        pred = pred.clone()\n",
    "        target = target.clone()\n",
    "\n",
    "        # разделяем рамки на содержащие объекты и не содержащие\n",
    "        # NB: ещё могут быть -1, куда отнеслось более 1 объекта - их не учитываем\n",
    "        obj = target[..., 0] == 1\n",
    "        no_obj = target[..., 0] == 0\n",
    "\n",
    "        # преобразуем предсказания bbox\n",
    "        scores, pred_boxes, logits = process_yolo_preds(pred, anchors)\n",
    "\n",
    "        # no object loss: кросс-энтропия вместо MSE\n",
    "        no_object_loss = self.bce(\n",
    "            (scores[no_obj]),\n",
    "            (target[..., 0:1][no_obj]),\n",
    "        )\n",
    "\n",
    "        # object loss: учим предсказывать IoU\n",
    "        ious = intersection_over_union(pred_boxes[obj], target[..., 1:5][obj]).detach()\n",
    "        object_loss = self.mse(scores[obj].sigmoid(), ious * target[..., 0:1][obj])\n",
    "\n",
    "        # box coordinate loss: логарифмируем размеры рамок перед расчётом MSE\n",
    "        anchors = anchors.reshape(1, len(anchors), 1, 1, 2)\n",
    "        pred[..., 1:3] = pred[..., 1:3].sigmoid()\n",
    "        pred[..., 3:5] = torch.sqrt(anchors * torch.exp(pred[..., 3:5]))\n",
    "        target[..., 3:5] = torch.sqrt(target[..., 3:5])\n",
    "        box_loss = self.mse(pred[..., 1:5][obj], target[..., 1:5][obj])\n",
    "\n",
    "        # class loss: здесь всё обычно\n",
    "        class_loss = self.ce(logits[obj], target[..., 5][obj].long() - 1)\n",
    "\n",
    "        # Total loss\n",
    "        return box_loss + object_loss + no_object_loss + class_loss"
   ]
  },
  {
   "cell_type": "code",
   "execution_count": 18,
   "metadata": {},
   "outputs": [
    {
     "name": "stderr",
     "output_type": "stream",
     "text": [
      "GPU available: True (cuda), used: True\n",
      "TPU available: False, using: 0 TPU cores\n",
      "HPU available: False, using: 0 HPUs\n",
      "LOCAL_RANK: 0 - CUDA_VISIBLE_DEVICES: [0]\n",
      "\n",
      "  | Name    | Type     | Params | Mode \n",
      "---------------------------------------------\n",
      "0 | model   | TinyYOLO | 109 K  | train\n",
      "1 | loss_fn | YOLOLoss | 0      | train\n",
      "---------------------------------------------\n",
      "109 K     Trainable params\n",
      "0         Non-trainable params\n",
      "109 K     Total params\n",
      "0.438     Total estimated model params size (MB)\n",
      "32        Modules in train mode\n",
      "0         Modules in eval mode\n"
     ]
    },
    {
     "data": {
      "application/vnd.jupyter.widget-view+json": {
       "model_id": "9e341c7e5af843b68343a7da8494a078",
       "version_major": 2,
       "version_minor": 0
      },
      "text/plain": [
       "Sanity Checking: |          | 0/? [00:00<?, ?it/s]"
      ]
     },
     "metadata": {},
     "output_type": "display_data"
    },
    {
     "name": "stdout",
     "output_type": "stream",
     "text": [
      " Val. Loss: 1.4873\n"
     ]
    },
    {
     "data": {
      "application/vnd.jupyter.widget-view+json": {
       "model_id": "3860fc84a8134d0bba5816c0a424e1c1",
       "version_major": 2,
       "version_minor": 0
      },
      "text/plain": [
       "Training: |          | 0/? [00:00<?, ?it/s]"
      ]
     },
     "metadata": {},
     "output_type": "display_data"
    },
    {
     "data": {
      "application/vnd.jupyter.widget-view+json": {
       "model_id": "f60f7f1b9865460dae558c5890e980dc",
       "version_major": 2,
       "version_minor": 0
      },
      "text/plain": [
       "Validation: |          | 0/? [00:00<?, ?it/s]"
      ]
     },
     "metadata": {},
     "output_type": "display_data"
    },
    {
     "name": "stdout",
     "output_type": "stream",
     "text": [
      " Val. Loss: 0.2585\n"
     ]
    },
    {
     "data": {
      "application/vnd.jupyter.widget-view+json": {
       "model_id": "d24c274f0d7f4f6da714add028dc3e8c",
       "version_major": 2,
       "version_minor": 0
      },
      "text/plain": [
       "Validation: |          | 0/? [00:00<?, ?it/s]"
      ]
     },
     "metadata": {},
     "output_type": "display_data"
    },
    {
     "name": "stdout",
     "output_type": "stream",
     "text": [
      " Val. Loss: 0.4191\n"
     ]
    },
    {
     "data": {
      "application/vnd.jupyter.widget-view+json": {
       "model_id": "54d53d6fff1e45f48b54bfe3eb0bc340",
       "version_major": 2,
       "version_minor": 0
      },
      "text/plain": [
       "Validation: |          | 0/? [00:00<?, ?it/s]"
      ]
     },
     "metadata": {},
     "output_type": "display_data"
    },
    {
     "name": "stdout",
     "output_type": "stream",
     "text": [
      " Val. Loss: 0.4419\n"
     ]
    },
    {
     "data": {
      "application/vnd.jupyter.widget-view+json": {
       "model_id": "a3133173788d4752a01b33e39a82c7a4",
       "version_major": 2,
       "version_minor": 0
      },
      "text/plain": [
       "Validation: |          | 0/? [00:00<?, ?it/s]"
      ]
     },
     "metadata": {},
     "output_type": "display_data"
    },
    {
     "name": "stdout",
     "output_type": "stream",
     "text": [
      " Val. Loss: 0.1254\n"
     ]
    },
    {
     "data": {
      "application/vnd.jupyter.widget-view+json": {
       "model_id": "d6eb35ea26394804b05bb69cc9d9af24",
       "version_major": 2,
       "version_minor": 0
      },
      "text/plain": [
       "Validation: |          | 0/? [00:00<?, ?it/s]"
      ]
     },
     "metadata": {},
     "output_type": "display_data"
    },
    {
     "name": "stdout",
     "output_type": "stream",
     "text": [
      " Val. Loss: 0.0915\n"
     ]
    },
    {
     "data": {
      "application/vnd.jupyter.widget-view+json": {
       "model_id": "0091a878acaf4f1086335e3a330810a7",
       "version_major": 2,
       "version_minor": 0
      },
      "text/plain": [
       "Validation: |          | 0/? [00:00<?, ?it/s]"
      ]
     },
     "metadata": {},
     "output_type": "display_data"
    },
    {
     "name": "stdout",
     "output_type": "stream",
     "text": [
      " Val. Loss: 0.0894\n"
     ]
    },
    {
     "data": {
      "application/vnd.jupyter.widget-view+json": {
       "model_id": "f9718837b440463d83510d14a1dce93d",
       "version_major": 2,
       "version_minor": 0
      },
      "text/plain": [
       "Validation: |          | 0/? [00:00<?, ?it/s]"
      ]
     },
     "metadata": {},
     "output_type": "display_data"
    },
    {
     "name": "stdout",
     "output_type": "stream",
     "text": [
      " Val. Loss: 0.0874\n"
     ]
    },
    {
     "data": {
      "application/vnd.jupyter.widget-view+json": {
       "model_id": "c15fc75b50b64fe2aac49ff24d646f73",
       "version_major": 2,
       "version_minor": 0
      },
      "text/plain": [
       "Validation: |          | 0/? [00:00<?, ?it/s]"
      ]
     },
     "metadata": {},
     "output_type": "display_data"
    },
    {
     "name": "stdout",
     "output_type": "stream",
     "text": [
      " Val. Loss: 0.0849\n"
     ]
    },
    {
     "data": {
      "application/vnd.jupyter.widget-view+json": {
       "model_id": "5936c76eea1745d093f84d3860057568",
       "version_major": 2,
       "version_minor": 0
      },
      "text/plain": [
       "Validation: |          | 0/? [00:00<?, ?it/s]"
      ]
     },
     "metadata": {},
     "output_type": "display_data"
    },
    {
     "name": "stdout",
     "output_type": "stream",
     "text": [
      " Val. Loss: 0.0840\n"
     ]
    },
    {
     "data": {
      "application/vnd.jupyter.widget-view+json": {
       "model_id": "08bdc9026fbe485b8a5610dbbc518f6f",
       "version_major": 2,
       "version_minor": 0
      },
      "text/plain": [
       "Validation: |          | 0/? [00:00<?, ?it/s]"
      ]
     },
     "metadata": {},
     "output_type": "display_data"
    },
    {
     "name": "stdout",
     "output_type": "stream",
     "text": [
      " Val. Loss: 0.0819\n"
     ]
    },
    {
     "data": {
      "application/vnd.jupyter.widget-view+json": {
       "model_id": "29a630f059514f2ebd1ce3eca6dbc965",
       "version_major": 2,
       "version_minor": 0
      },
      "text/plain": [
       "Validation: |          | 0/? [00:00<?, ?it/s]"
      ]
     },
     "metadata": {},
     "output_type": "display_data"
    },
    {
     "name": "stdout",
     "output_type": "stream",
     "text": [
      " Val. Loss: 0.0810\n"
     ]
    },
    {
     "data": {
      "application/vnd.jupyter.widget-view+json": {
       "model_id": "bf38e01692214ddba58b6f0aae7a883e",
       "version_major": 2,
       "version_minor": 0
      },
      "text/plain": [
       "Validation: |          | 0/? [00:00<?, ?it/s]"
      ]
     },
     "metadata": {},
     "output_type": "display_data"
    },
    {
     "name": "stdout",
     "output_type": "stream",
     "text": [
      " Val. Loss: 0.0808\n"
     ]
    },
    {
     "data": {
      "application/vnd.jupyter.widget-view+json": {
       "model_id": "80e3b351d23c4b1d96c2c12612b6628a",
       "version_major": 2,
       "version_minor": 0
      },
      "text/plain": [
       "Validation: |          | 0/? [00:00<?, ?it/s]"
      ]
     },
     "metadata": {},
     "output_type": "display_data"
    },
    {
     "name": "stdout",
     "output_type": "stream",
     "text": [
      " Val. Loss: 0.0802\n"
     ]
    },
    {
     "data": {
      "application/vnd.jupyter.widget-view+json": {
       "model_id": "b28ad2ee76b24985ba9c3d5e8d96060c",
       "version_major": 2,
       "version_minor": 0
      },
      "text/plain": [
       "Validation: |          | 0/? [00:00<?, ?it/s]"
      ]
     },
     "metadata": {},
     "output_type": "display_data"
    },
    {
     "name": "stdout",
     "output_type": "stream",
     "text": [
      " Val. Loss: 0.0801\n"
     ]
    },
    {
     "data": {
      "application/vnd.jupyter.widget-view+json": {
       "model_id": "670b957ff5ba4e1fb9e92ef01912881f",
       "version_major": 2,
       "version_minor": 0
      },
      "text/plain": [
       "Validation: |          | 0/? [00:00<?, ?it/s]"
      ]
     },
     "metadata": {},
     "output_type": "display_data"
    },
    {
     "name": "stdout",
     "output_type": "stream",
     "text": [
      " Val. Loss: 0.0800\n"
     ]
    },
    {
     "data": {
      "application/vnd.jupyter.widget-view+json": {
       "model_id": "ab8feeac40454d34ae28c80e6218f230",
       "version_major": 2,
       "version_minor": 0
      },
      "text/plain": [
       "Validation: |          | 0/? [00:00<?, ?it/s]"
      ]
     },
     "metadata": {},
     "output_type": "display_data"
    },
    {
     "name": "stdout",
     "output_type": "stream",
     "text": [
      " Val. Loss: 0.0801\n"
     ]
    },
    {
     "data": {
      "application/vnd.jupyter.widget-view+json": {
       "model_id": "82460ad00b1b4d15840d7b6a4485fd1b",
       "version_major": 2,
       "version_minor": 0
      },
      "text/plain": [
       "Validation: |          | 0/? [00:00<?, ?it/s]"
      ]
     },
     "metadata": {},
     "output_type": "display_data"
    },
    {
     "name": "stdout",
     "output_type": "stream",
     "text": [
      " Val. Loss: 0.0803\n"
     ]
    },
    {
     "data": {
      "application/vnd.jupyter.widget-view+json": {
       "model_id": "b044f8b0db474ad3b4c988f473b526ff",
       "version_major": 2,
       "version_minor": 0
      },
      "text/plain": [
       "Validation: |          | 0/? [00:00<?, ?it/s]"
      ]
     },
     "metadata": {},
     "output_type": "display_data"
    },
    {
     "name": "stdout",
     "output_type": "stream",
     "text": [
      " Val. Loss: 0.0797\n"
     ]
    },
    {
     "data": {
      "application/vnd.jupyter.widget-view+json": {
       "model_id": "411cffb49e914a3b88d98239ec8ffce5",
       "version_major": 2,
       "version_minor": 0
      },
      "text/plain": [
       "Validation: |          | 0/? [00:00<?, ?it/s]"
      ]
     },
     "metadata": {},
     "output_type": "display_data"
    },
    {
     "name": "stdout",
     "output_type": "stream",
     "text": [
      " Val. Loss: 0.0797\n"
     ]
    },
    {
     "data": {
      "application/vnd.jupyter.widget-view+json": {
       "model_id": "110a1c50228d4701b28e097e3d551537",
       "version_major": 2,
       "version_minor": 0
      },
      "text/plain": [
       "Validation: |          | 0/? [00:00<?, ?it/s]"
      ]
     },
     "metadata": {},
     "output_type": "display_data"
    },
    {
     "name": "stdout",
     "output_type": "stream",
     "text": [
      " Val. Loss: 0.0799\n"
     ]
    },
    {
     "data": {
      "application/vnd.jupyter.widget-view+json": {
       "model_id": "507b33b4cd3142c18c24130ec546a659",
       "version_major": 2,
       "version_minor": 0
      },
      "text/plain": [
       "Validation: |          | 0/? [00:00<?, ?it/s]"
      ]
     },
     "metadata": {},
     "output_type": "display_data"
    },
    {
     "name": "stdout",
     "output_type": "stream",
     "text": [
      " Val. Loss: 0.0797\n"
     ]
    },
    {
     "data": {
      "application/vnd.jupyter.widget-view+json": {
       "model_id": "dd31201ca44643fe9edcd243c37fdf50",
       "version_major": 2,
       "version_minor": 0
      },
      "text/plain": [
       "Validation: |          | 0/? [00:00<?, ?it/s]"
      ]
     },
     "metadata": {},
     "output_type": "display_data"
    },
    {
     "name": "stdout",
     "output_type": "stream",
     "text": [
      " Val. Loss: 0.0800\n"
     ]
    },
    {
     "data": {
      "application/vnd.jupyter.widget-view+json": {
       "model_id": "91594c51fcec4c1b8dba6f64758eccc4",
       "version_major": 2,
       "version_minor": 0
      },
      "text/plain": [
       "Validation: |          | 0/? [00:00<?, ?it/s]"
      ]
     },
     "metadata": {},
     "output_type": "display_data"
    },
    {
     "name": "stdout",
     "output_type": "stream",
     "text": [
      " Val. Loss: 0.0797\n"
     ]
    },
    {
     "data": {
      "application/vnd.jupyter.widget-view+json": {
       "model_id": "9abbf98ea44d48c183657171c15feaec",
       "version_major": 2,
       "version_minor": 0
      },
      "text/plain": [
       "Validation: |          | 0/? [00:00<?, ?it/s]"
      ]
     },
     "metadata": {},
     "output_type": "display_data"
    },
    {
     "name": "stdout",
     "output_type": "stream",
     "text": [
      " Val. Loss: 0.0798\n"
     ]
    },
    {
     "data": {
      "application/vnd.jupyter.widget-view+json": {
       "model_id": "3df6b06664b04415b02195b704cb7501",
       "version_major": 2,
       "version_minor": 0
      },
      "text/plain": [
       "Validation: |          | 0/? [00:00<?, ?it/s]"
      ]
     },
     "metadata": {},
     "output_type": "display_data"
    },
    {
     "name": "stdout",
     "output_type": "stream",
     "text": [
      " Val. Loss: 0.0797\n"
     ]
    },
    {
     "data": {
      "application/vnd.jupyter.widget-view+json": {
       "model_id": "932169afdd60496e9014e1b13659c744",
       "version_major": 2,
       "version_minor": 0
      },
      "text/plain": [
       "Validation: |          | 0/? [00:00<?, ?it/s]"
      ]
     },
     "metadata": {},
     "output_type": "display_data"
    },
    {
     "name": "stdout",
     "output_type": "stream",
     "text": [
      " Val. Loss: 0.0797\n"
     ]
    },
    {
     "data": {
      "application/vnd.jupyter.widget-view+json": {
       "model_id": "a64fce534fab463f884679dd97eee996",
       "version_major": 2,
       "version_minor": 0
      },
      "text/plain": [
       "Validation: |          | 0/? [00:00<?, ?it/s]"
      ]
     },
     "metadata": {},
     "output_type": "display_data"
    },
    {
     "name": "stdout",
     "output_type": "stream",
     "text": [
      " Val. Loss: 0.0795\n"
     ]
    },
    {
     "data": {
      "application/vnd.jupyter.widget-view+json": {
       "model_id": "620df212fe414dbcb6b7de2ae783ce0c",
       "version_major": 2,
       "version_minor": 0
      },
      "text/plain": [
       "Validation: |          | 0/? [00:00<?, ?it/s]"
      ]
     },
     "metadata": {},
     "output_type": "display_data"
    },
    {
     "name": "stdout",
     "output_type": "stream",
     "text": [
      " Val. Loss: 0.0803\n"
     ]
    },
    {
     "data": {
      "application/vnd.jupyter.widget-view+json": {
       "model_id": "c8e390434dd14c8a9e8c6ba6ac9470b9",
       "version_major": 2,
       "version_minor": 0
      },
      "text/plain": [
       "Validation: |          | 0/? [00:00<?, ?it/s]"
      ]
     },
     "metadata": {},
     "output_type": "display_data"
    },
    {
     "name": "stdout",
     "output_type": "stream",
     "text": [
      " Val. Loss: 0.0803\n"
     ]
    },
    {
     "data": {
      "application/vnd.jupyter.widget-view+json": {
       "model_id": "41b9deb6900e445791394fee30407a8f",
       "version_major": 2,
       "version_minor": 0
      },
      "text/plain": [
       "Validation: |          | 0/? [00:00<?, ?it/s]"
      ]
     },
     "metadata": {},
     "output_type": "display_data"
    },
    {
     "name": "stdout",
     "output_type": "stream",
     "text": [
      " Val. Loss: 0.0799\n"
     ]
    },
    {
     "data": {
      "application/vnd.jupyter.widget-view+json": {
       "model_id": "ebf9af1fbb3e44218f6aa3f5937f388a",
       "version_major": 2,
       "version_minor": 0
      },
      "text/plain": [
       "Validation: |          | 0/? [00:00<?, ?it/s]"
      ]
     },
     "metadata": {},
     "output_type": "display_data"
    },
    {
     "name": "stdout",
     "output_type": "stream",
     "text": [
      " Val. Loss: 0.0797\n"
     ]
    },
    {
     "data": {
      "application/vnd.jupyter.widget-view+json": {
       "model_id": "7555d824ea6e48a388d069a226a9571b",
       "version_major": 2,
       "version_minor": 0
      },
      "text/plain": [
       "Validation: |          | 0/? [00:00<?, ?it/s]"
      ]
     },
     "metadata": {},
     "output_type": "display_data"
    },
    {
     "name": "stdout",
     "output_type": "stream",
     "text": [
      " Val. Loss: 0.0797\n"
     ]
    },
    {
     "data": {
      "application/vnd.jupyter.widget-view+json": {
       "model_id": "f283c1bd44294b0ca6e752dc0027db44",
       "version_major": 2,
       "version_minor": 0
      },
      "text/plain": [
       "Validation: |          | 0/? [00:00<?, ?it/s]"
      ]
     },
     "metadata": {},
     "output_type": "display_data"
    },
    {
     "name": "stdout",
     "output_type": "stream",
     "text": [
      " Val. Loss: 0.0796\n"
     ]
    },
    {
     "data": {
      "application/vnd.jupyter.widget-view+json": {
       "model_id": "1fe73739daa84a09bcef325d82cfbc1e",
       "version_major": 2,
       "version_minor": 0
      },
      "text/plain": [
       "Validation: |          | 0/? [00:00<?, ?it/s]"
      ]
     },
     "metadata": {},
     "output_type": "display_data"
    },
    {
     "name": "stdout",
     "output_type": "stream",
     "text": [
      " Val. Loss: 0.0792\n"
     ]
    },
    {
     "data": {
      "application/vnd.jupyter.widget-view+json": {
       "model_id": "3a89b36294b340809909830d6650021d",
       "version_major": 2,
       "version_minor": 0
      },
      "text/plain": [
       "Validation: |          | 0/? [00:00<?, ?it/s]"
      ]
     },
     "metadata": {},
     "output_type": "display_data"
    },
    {
     "name": "stdout",
     "output_type": "stream",
     "text": [
      " Val. Loss: 0.0793\n"
     ]
    },
    {
     "data": {
      "application/vnd.jupyter.widget-view+json": {
       "model_id": "8a59015b629244e8af4eb682f6a5d926",
       "version_major": 2,
       "version_minor": 0
      },
      "text/plain": [
       "Validation: |          | 0/? [00:00<?, ?it/s]"
      ]
     },
     "metadata": {},
     "output_type": "display_data"
    },
    {
     "name": "stdout",
     "output_type": "stream",
     "text": [
      " Val. Loss: 0.0801\n"
     ]
    },
    {
     "data": {
      "application/vnd.jupyter.widget-view+json": {
       "model_id": "393a8d5d9f254286a05e9b8545de308f",
       "version_major": 2,
       "version_minor": 0
      },
      "text/plain": [
       "Validation: |          | 0/? [00:00<?, ?it/s]"
      ]
     },
     "metadata": {},
     "output_type": "display_data"
    },
    {
     "name": "stdout",
     "output_type": "stream",
     "text": [
      " Val. Loss: 0.0796\n"
     ]
    },
    {
     "data": {
      "application/vnd.jupyter.widget-view+json": {
       "model_id": "68688f3462404bdb9892194b333f47e4",
       "version_major": 2,
       "version_minor": 0
      },
      "text/plain": [
       "Validation: |          | 0/? [00:00<?, ?it/s]"
      ]
     },
     "metadata": {},
     "output_type": "display_data"
    },
    {
     "name": "stdout",
     "output_type": "stream",
     "text": [
      " Val. Loss: 0.0797\n"
     ]
    },
    {
     "data": {
      "application/vnd.jupyter.widget-view+json": {
       "model_id": "bcdb7865528444279a50b7b433fc28bf",
       "version_major": 2,
       "version_minor": 0
      },
      "text/plain": [
       "Validation: |          | 0/? [00:00<?, ?it/s]"
      ]
     },
     "metadata": {},
     "output_type": "display_data"
    },
    {
     "name": "stdout",
     "output_type": "stream",
     "text": [
      " Val. Loss: 0.0793\n"
     ]
    },
    {
     "data": {
      "application/vnd.jupyter.widget-view+json": {
       "model_id": "eb58935c4a3945e7b65a7b6f0dfb88f2",
       "version_major": 2,
       "version_minor": 0
      },
      "text/plain": [
       "Validation: |          | 0/? [00:00<?, ?it/s]"
      ]
     },
     "metadata": {},
     "output_type": "display_data"
    },
    {
     "name": "stderr",
     "output_type": "stream",
     "text": [
      "`Trainer.fit` stopped: `max_epochs=40` reached.\n",
      "LOCAL_RANK: 0 - CUDA_VISIBLE_DEVICES: [0]\n"
     ]
    },
    {
     "name": "stdout",
     "output_type": "stream",
     "text": [
      " Val. Loss: 0.0791\n"
     ]
    },
    {
     "data": {
      "application/vnd.jupyter.widget-view+json": {
       "model_id": "e53b1ac0d87d40168c0b5c71160872cf",
       "version_major": 2,
       "version_minor": 0
      },
      "text/plain": [
       "Validation: |          | 0/? [00:00<?, ?it/s]"
      ]
     },
     "metadata": {},
     "output_type": "display_data"
    },
    {
     "name": "stdout",
     "output_type": "stream",
     "text": [
      " Val. Loss: 0.0791\n",
      "────────────────────────────────────────────────────────────────────────────────────────────────────────────────────────\n",
      "     Validate metric           DataLoader 0\n",
      "────────────────────────────────────────────────────────────────────────────────────────────────────────────────────────\n",
      "        val_loss            0.07911716401576996\n",
      "────────────────────────────────────────────────────────────────────────────────────────────────────────────────────────\n"
     ]
    },
    {
     "data": {
      "text/plain": [
       "[{'val_loss': 0.07911716401576996}]"
      ]
     },
     "execution_count": 18,
     "metadata": {},
     "output_type": "execute_result"
    }
   ],
   "source": [
    "datamodule = Datamodule(\n",
    "    datadir=Path(\"yeast_cell_in_microstructures_dataset\"),\n",
    "    dataset_class=YeastDetectionDataset,\n",
    "    batch_size=8,\n",
    ")\n",
    "\n",
    "datamodule.setup(\"fit\")\n",
    "\n",
    "trainer = L.Trainer(\n",
    "    accelerator=\"auto\",\n",
    "    max_epochs=40,\n",
    "    limit_train_batches=None,\n",
    "    limit_val_batches=None,\n",
    "    log_every_n_steps=10\n",
    ")\n",
    "lit_module = Lit(\n",
    "    model=TinyYOLO(in_channels=1, num_anchors=len(rescaled_anchors), num_classes=2),\n",
    "    learning_rate=0.005,\n",
    ")\n",
    "trainer.fit(\n",
    "    model=lit_module,\n",
    "    datamodule=datamodule,\n",
    ")\n",
    "\n",
    "trainer.validate(model=lit_module, dataloaders=datamodule.val_dataloader())"
   ]
  },
  {
   "cell_type": "code",
   "execution_count": 19,
   "metadata": {},
   "outputs": [
    {
     "name": "stdout",
     "output_type": "stream",
     "text": [
      "{'map': tensor(0.5645), 'map_50': tensor(0.9188), 'map_75': tensor(0.6326), 'map_small': tensor(0.5645), 'map_medium': tensor(-1.), 'map_large': tensor(-1.), 'mar_1': tensor(0.3164), 'mar_10': tensor(0.6288), 'mar_100': tensor(0.6293), 'mar_small': tensor(0.6293), 'mar_medium': tensor(-1.), 'mar_large': tensor(-1.), 'map_per_class': tensor([0.7387, 0.3903]), 'mar_100_per_class': tensor([0.7918, 0.4667]), 'classes': tensor([1, 2], dtype=torch.int32)}\n"
     ]
    }
   ],
   "source": [
    "val_loader = DataLoader(dataset=val_dataset, batch_size=batch_size, shuffle=False)\n",
    "\n",
    "metric = MeanAveragePrecision(iou_type=\"bbox\", box_format=\"cxcywh\", class_metrics=True).to(device)\n",
    "\n",
    "for x, y in val_loader:\n",
    "    predicted_boxes = []\n",
    "    target_boxes = []\n",
    "\n",
    "    preds = lit_module.model.to(device)(x.to(device))\n",
    "\n",
    "    # итерируемся по элементам батча, собирая пердсказанные и верные рамки\n",
    "    for i in range(len(y)):\n",
    "        # получаем предсказанные рамки\n",
    "        pred_boxes = cells_to_bboxes(preds[i:i+1], rescaled_anchors.to(device), is_predictions=True)\n",
    "        # ВАЖНО: делаем non-max suppression ДО расчёта метрик\n",
    "        pred_boxes = pred_boxes[nms(box_convert(pred_boxes[:, 2:], \"cxcywh\", \"xyxy\"), pred_boxes[:, 1], iou_threshold=0.3)]\n",
    "        predicted_boxes.append(\n",
    "            dict(\n",
    "                boxes=pred_boxes[:, 2:],\n",
    "                scores=pred_boxes[:, 1],\n",
    "                labels=pred_boxes[:, 0].long(),\n",
    "            )\n",
    "        )\n",
    "        # достаём правильные рамки\n",
    "        true_boxes = cells_to_bboxes(y[i:i+1], rescaled_anchors)\n",
    "        true_boxes = true_boxes[true_boxes[:, 1] == 1]\n",
    "\n",
    "        target_boxes.append(\n",
    "            dict(\n",
    "                boxes=true_boxes[:, 2:],\n",
    "                labels=true_boxes[:, 0].long(),\n",
    "            )\n",
    "        )\n",
    "    metric.update(predicted_boxes, target_boxes)\n",
    "    \n",
    "metric = metric.to(device)\n",
    "print(metric.compute())"
   ]
  },
  {
   "cell_type": "markdown",
   "metadata": {},
   "source": [
    "### Задание 3 (3 балла). Выбор anchors с помощью кластеризации\n",
    "\n",
    "В статье [YOLO9000: Better, Faster, Stronger](https://arxiv.org/abs/1612.08242) в разделе 2. Better. Dimension clusters описан способ выбора anchor boxes через кластеризацию обучающего датасета.\n",
    "\n",
    "Проделайте то же самое с вашим обучающим датасетом, чтобы выбрать несколько anchor boxes.\n",
    "\n",
    "В качестве результата выведите получившиеся размеры anchors для # Clusters = 5"
   ]
  },
  {
   "cell_type": "code",
   "execution_count": 20,
   "metadata": {},
   "outputs": [
    {
     "data": {
      "text/plain": [
       "[[72.55555725097656, 104.40351104736328],\n",
       " [50.23958206176758, 59.40625],\n",
       " [68.61798095703125, 64.76404571533203],\n",
       " [57.22222137451172, 86.61111450195312],\n",
       " [41.61538314819336, 40.912086486816406]]"
      ]
     },
     "execution_count": 20,
     "metadata": {},
     "output_type": "execute_result"
    }
   ],
   "source": [
    "from pyclustering.utils.metric import type_metric, distance_metric\n",
    "from pyclustering.cluster.center_initializer import kmeans_plusplus_initializer\n",
    "from pyclustering.cluster.kmeans import kmeans\n",
    "import warnings\n",
    "np.warnings = warnings\n",
    "\n",
    "class YeastDetectionDataset(Dataset):\n",
    "    def __init__(\n",
    "        self, subset_dir: Path, image_size: int, grid_size: int = GRID_SIZE\n",
    "    ) -> None:\n",
    "        super().__init__()\n",
    "        self.subset_dir = subset_dir\n",
    "        self.items = list((self.subset_dir / \"inputs\").glob(\"*.pt\"))\n",
    "        # Ignore IoU threshold\n",
    "        self.ignore_iou_thresh = 0.5\n",
    "        self.grid_size = grid_size\n",
    "        self.image_size = image_size\n",
    "\n",
    "    def __len__(self) -> int:\n",
    "        return len(self.items)\n",
    "\n",
    "    def __getitem__(self, index: int) -> Tensor:\n",
    "        image_path = self.items[index]\n",
    "        boxes = torch.load(\n",
    "            self.subset_dir / \"bounding_boxes\" / image_path.parts[-1], weights_only=True\n",
    "        )\n",
    "        boxes = box_convert(boxes, \"xyxy\", \"cxcywh\")\n",
    "        return boxes\n",
    "\n",
    "train_dataset = YeastDetectionDataset(\n",
    "    Path(\"yeast_cell_in_microstructures_dataset/train\"), image_size=256\n",
    ")\n",
    "\n",
    "our_p_w_p_h = list()\n",
    "for i in range(len(train_dataset)):\n",
    "  for j in range(len(train_dataset[i])):\n",
    "    our_p_w_p_h.append([train_dataset[i][j][2], train_dataset[i][j][3]])\n",
    "\n",
    "\n",
    "def metric(x, y):\n",
    "  return 1 - (min(x[0], y[0]) * min(x[1], y[1]) / (x[0] * x[1] + y[0] * y[1] - (min(x[0], y[0]) * min(x[1], y[1]))))\n",
    "\n",
    "manhattan_metric = distance_metric(type_metric.USER_DEFINED, func=metric)\n",
    "initial_centers = kmeans_plusplus_initializer(our_p_w_p_h, 5).initialize()\n",
    "\n",
    "kmeans_instance = kmeans(our_p_w_p_h, initial_centers, metric=manhattan_metric)\n",
    "\n",
    "kmeans_instance.process()\n",
    "clusters = kmeans_instance.get_clusters()\n",
    "kmeans_instance.process()\n",
    "clusters = kmeans_instance.get_clusters()\n",
    "\n",
    "final_centers = kmeans_instance.get_centers()\n",
    "\n",
    "ANCHORS = final_centers\n",
    "\n",
    "rescaled_anchors = torch.tensor(ANCHORS).to(device=device) / IMAGE_SIZE * GRID_SIZE\n",
    "ANCHORS"
   ]
  },
  {
   "cell_type": "markdown",
   "metadata": {},
   "source": [
    "### Задание 4 (4 балла + бонусы за лучшую точность). Обучите модель\n",
    "\n",
    "\n",
    "Ваша цель: $mAP > 0.6$ на валидации.\n",
    "\n",
    "Можете использовать весь арсенал:\n",
    "- использование множества якорных рамок (сформированных вручную или в результате кластеризации)\n",
    "- любые изменения функции ошибки\n",
    "- любые изменения архитектуры модели и регуляризация\n",
    "- аугментации (вспоминаем `torchvision.transforms` и `albumentations`)\n",
    "- любая длительность обучения, оптимизатор, расписание для learning rate\n",
    "\n",
    "Бонусы за повышенную точность:\n",
    "- **5 баллов**: $mAP > 0.65$\n",
    "- **1 балл** за каждые следующие $0.01$ (т. е. за $mAP > 0.72$ в этом задании вы получите $4 + 12 = 16$ баллов)\n",
    "\n",
    "**Важно**: перез запуском обучения зафиксируйте `torch.manual_seed()`"
   ]
  },
  {
   "cell_type": "code",
   "execution_count": 21,
   "metadata": {},
   "outputs": [],
   "source": [
    "class YeastDetectionDataset(Dataset):\n",
    "    def __init__(\n",
    "        self, subset_dir: Path, anchors: list[tuple[int, int]], image_size: int, grid_size: int = GRID_SIZE\n",
    "    ) -> None:\n",
    "        super().__init__()\n",
    "        self.subset_dir = subset_dir\n",
    "        self.items = list((self.subset_dir / \"inputs\").glob(\"*.pt\"))\n",
    "        # Ignore IoU threshold\n",
    "        self.ignore_iou_thresh = 0.5\n",
    "        self.rescaled_anchors = torch.tensor(anchors) / image_size * grid_size\n",
    "        self.grid_size = grid_size\n",
    "        self.image_size = image_size\n",
    "\n",
    "    def __len__(self) -> int:\n",
    "        return len(self.items)\n",
    "\n",
    "    def __getitem__(self, index: int) -> tuple[Tensor, Tensor]:\n",
    "        image_path = self.items[index]\n",
    "        # load everything\n",
    "        image = torch.load(image_path, weights_only=True).unsqueeze(0)\n",
    "        classes = (\n",
    "            torch.load(self.subset_dir / \"classes\" / image_path.parts[-1], weights_only=True) + 1\n",
    "        )\n",
    "        boxes = torch.load(\n",
    "            self.subset_dir / \"bounding_boxes\" / image_path.parts[-1], weights_only=True\n",
    "        )\n",
    "        boxes = box_convert(boxes, \"xyxy\", \"cxcywh\") / self.image_size\n",
    "\n",
    "        # convert boxes to cells\n",
    "        targets = boxes_to_cells(\n",
    "            boxes, classes, self.rescaled_anchors, self.grid_size, self.ignore_iou_thresh\n",
    "        )\n",
    "        return image.to(device), targets.to(device)"
   ]
  },
  {
   "cell_type": "code",
   "execution_count": 22,
   "metadata": {},
   "outputs": [],
   "source": [
    "class YOLOLoss(nn.Module):\n",
    "    def __init__(self):\n",
    "        super().__init__()\n",
    "        self.mse = nn.MSELoss()\n",
    "        self.bce = nn.BCEWithLogitsLoss()\n",
    "        self.cross_entropy = nn.CrossEntropyLoss()\n",
    "\n",
    "    def forward(self, pred: Tensor, target: Tensor, anchors: Tensor) -> Tensor:\n",
    "        # ниже входные тензоры будут меняться на месте, так что склонируем их\n",
    "        pred = pred.clone()\n",
    "        target = target.clone()\n",
    "\n",
    "        # разделяем рамки на содержащие объекты и не содержащие\n",
    "        # NB: ещё могут быть -1, куда отнеслось более 1 объекта - их не учитываем\n",
    "        obj = target[..., 0] == 1\n",
    "        no_obj = target[..., 0] == 0\n",
    "\n",
    "        # преобразуем предсказания bbox\n",
    "        scores, pred_boxes, logits = process_yolo_preds(pred, anchors)\n",
    "\n",
    "        # no object loss: кросс-энтропия вместо MSE\n",
    "        no_object_loss = self.bce(\n",
    "            (scores[no_obj]),\n",
    "            (target[..., 0:1][no_obj]),\n",
    "        )\n",
    "\n",
    "        # object loss: учим предсказывать IoU\n",
    "        ious = intersection_over_union(pred_boxes[obj], target[..., 1:5][obj]).detach()\n",
    "        object_loss = self.mse(scores[obj].sigmoid(), ious * target[..., 0:1][obj])\n",
    "\n",
    "        # box coordinate loss: логарифмируем размеры рамок перед расчётом MSE\n",
    "        anchors = anchors.reshape(1, len(anchors), 1, 1, 2)\n",
    "        pred[..., 1:3] = pred[..., 1:3].sigmoid()\n",
    "        target[..., 3:5] = torch.log(1e-6 + target[..., 3:5] / anchors)\n",
    "        box_loss = self.mse(pred[..., 1:5][obj], target[..., 1:5][obj])\n",
    "\n",
    "        # class loss: здесь всё обычно\n",
    "        class_loss = self.cross_entropy(logits[obj], target[..., 5][obj].long() - 1)\n",
    "\n",
    "        # Total loss\n",
    "        return box_loss + object_loss + no_object_loss + class_loss"
   ]
  },
  {
   "cell_type": "code",
   "execution_count": 23,
   "metadata": {},
   "outputs": [],
   "source": [
    "class Lit(L.LightningModule):\n",
    "    def __init__(self, model: nn.Module, learning_rate: float) -> None:\n",
    "        super().__init__()\n",
    "        self.save_hyperparameters()\n",
    "        self.model = model\n",
    "        self.learning_rate = learning_rate\n",
    "        self.loss_fn = YOLOLoss()\n",
    "\n",
    "    def training_step(\n",
    "        self, batch: tuple[Tensor, Tensor], batch_idx: int\n",
    "    ) -> STEP_OUTPUT:\n",
    "        x, y = batch\n",
    "        y_hat = self.model(x)\n",
    "        loss = self.loss_fn.forward(y_hat, y, rescaled_anchors)\n",
    "        self.log(\"train_loss\", loss, on_epoch=True, on_step=False)\n",
    "       \n",
    "\n",
    "        return loss\n",
    "\n",
    "    def validation_step(\n",
    "        self, batch: tuple[Tensor, Tensor], batch_idx: int\n",
    "    ) -> STEP_OUTPUT | None:\n",
    "        x, y = batch\n",
    "        y_hat = self.model(x)\n",
    "        loss = self.loss_fn.forward(y_hat, y, rescaled_anchors)\n",
    "        self.log(\"val_loss\", loss, on_epoch=True, on_step=False)\n",
    "        return {\n",
    "            \"loss\": loss,\n",
    "            \"preds\": y_hat,\n",
    "        }\n",
    "    \n",
    "    def on_validation_epoch_end(self) -> None:\n",
    "        val_loss = self.trainer.callback_metrics[\"val_loss\"]\n",
    "        print(f\" Val. Loss: {val_loss:.4f}\")\n",
    "    \n",
    "\n",
    "    def configure_optimizers(self) -> dict[str, Any]:\n",
    "        optimizer = torch.optim.Adam(self.model.parameters(), lr=self.learning_rate, weight_decay=1e-5)\n",
    "        return {\n",
    "            \"optimizer\": optimizer,\n",
    "            \"lr_scheduler\": torch.optim.lr_scheduler.MultiStepLR(\n",
    "                optimizer, milestones=[5, 10, 15]\n",
    "            ),\n",
    "        }"
   ]
  },
  {
   "cell_type": "code",
   "execution_count": 24,
   "metadata": {},
   "outputs": [
    {
     "name": "stdout",
     "output_type": "stream",
     "text": [
      "109431\n"
     ]
    },
    {
     "data": {
      "text/plain": [
       "torch.Size([2, 1, 8, 8, 7])"
      ]
     },
     "execution_count": 24,
     "metadata": {},
     "output_type": "execute_result"
    }
   ],
   "source": [
    "class CNNBlock(nn.Module):\n",
    "    def __init__(self, in_channels: int, out_channels: int, **kwargs):\n",
    "        super().__init__()\n",
    "        self.conv = nn.Conv2d(in_channels, out_channels, bias=False, **kwargs)\n",
    "        self.bn = nn.BatchNorm2d(out_channels)\n",
    "        self.activation = nn.LogSigmoid()\n",
    "\n",
    "    def forward(self, x):\n",
    "        x = self.conv(x)\n",
    "        x = self.bn(x)\n",
    "        return self.activation(x)\n",
    "\n",
    "class TinyYOLO(nn.Module):\n",
    "    def __init__(self, num_classes: int = 2, num_anchors: int = 1, in_channels: int = 1) -> None:\n",
    "        super().__init__()\n",
    "        self.num_classes = num_classes\n",
    "        self.in_channels = in_channels\n",
    "        self.num_anchors = num_anchors\n",
    "        self.layers = nn.Sequential(\n",
    "            CNNBlock(1, 16, kernel_size=3, stride=2, padding=1, dilation=2),\n",
    "            CNNBlock(16, 32, kernel_size=3, stride=2, padding=1, dilation=2),\n",
    "            CNNBlock(32, 64, kernel_size=3, stride=2, padding=1, dilation=2),\n",
    "            CNNBlock(64, 128, kernel_size=3, stride=2, padding=1, groups=8),\n",
    "            CNNBlock(128, 256, kernel_size=3, stride=1, padding=1, groups=8),\n",
    "            CNNBlock(256, 256, kernel_size=3, stride=1, padding=1, groups=16),\n",
    "            nn.MaxPool2d(2, 2),\n",
    "            nn.Conv2d(256, num_anchors * (num_classes + 5), kernel_size=1)\n",
    "        )\n",
    "    \n",
    "    def forward(self, x: Tensor) -> Tensor:\n",
    "        x = self.layers(x)\n",
    "        B, _, W, H = x.shape\n",
    "        x = x.view(B, self.num_anchors, self.num_classes + 5, W, H)  # B A F W H\n",
    "        x = x.permute(0, 1, 3, 4, 2)  # B A W H F\n",
    "        return x\n",
    "\n",
    "\n",
    "model = TinyYOLO(in_channels=1, num_anchors=1, num_classes=2)\n",
    "print(sum(p.numel() for p in model.parameters()))\n",
    "model.forward(torch.randn(2, 1, 256, 256)).shape"
   ]
  },
  {
   "cell_type": "code",
   "execution_count": 25,
   "metadata": {},
   "outputs": [
    {
     "name": "stderr",
     "output_type": "stream",
     "text": [
      "GPU available: True (cuda), used: True\n",
      "TPU available: False, using: 0 TPU cores\n",
      "HPU available: False, using: 0 HPUs\n",
      "/home/ne_ravilka/miniconda3/envs/dl-mcs/lib/python3.12/site-packages/lightning/pytorch/utilities/parsing.py:209: Attribute 'model' is an instance of `nn.Module` and is already saved during checkpointing. It is recommended to ignore them using `self.save_hyperparameters(ignore=['model'])`.\n",
      "LOCAL_RANK: 0 - CUDA_VISIBLE_DEVICES: [0]\n",
      "\n",
      "  | Name    | Type     | Params | Mode \n",
      "---------------------------------------------\n",
      "0 | model   | TinyYOLO | 116 K  | train\n",
      "1 | loss_fn | YOLOLoss | 0      | train\n",
      "---------------------------------------------\n",
      "116 K     Trainable params\n",
      "0         Non-trainable params\n",
      "116 K     Total params\n",
      "0.467     Total estimated model params size (MB)\n",
      "32        Modules in train mode\n",
      "0         Modules in eval mode\n"
     ]
    },
    {
     "data": {
      "application/vnd.jupyter.widget-view+json": {
       "model_id": "c76df1f502a040f79efb1b7a61d21aab",
       "version_major": 2,
       "version_minor": 0
      },
      "text/plain": [
       "Sanity Checking: |          | 0/? [00:00<?, ?it/s]"
      ]
     },
     "metadata": {},
     "output_type": "display_data"
    },
    {
     "name": "stderr",
     "output_type": "stream",
     "text": [
      "/home/ne_ravilka/miniconda3/envs/dl-mcs/lib/python3.12/site-packages/lightning/pytorch/trainer/connectors/data_connector.py:425: The 'val_dataloader' does not have many workers which may be a bottleneck. Consider increasing the value of the `num_workers` argument` to `num_workers=11` in the `DataLoader` to improve performance.\n"
     ]
    },
    {
     "name": "stdout",
     "output_type": "stream",
     "text": [
      " Val. Loss: 1.7915\n"
     ]
    },
    {
     "name": "stderr",
     "output_type": "stream",
     "text": [
      "/home/ne_ravilka/miniconda3/envs/dl-mcs/lib/python3.12/site-packages/lightning/pytorch/trainer/connectors/data_connector.py:425: The 'train_dataloader' does not have many workers which may be a bottleneck. Consider increasing the value of the `num_workers` argument` to `num_workers=11` in the `DataLoader` to improve performance.\n"
     ]
    },
    {
     "data": {
      "application/vnd.jupyter.widget-view+json": {
       "model_id": "a6db0ad9567049938b8d1b5834ce3780",
       "version_major": 2,
       "version_minor": 0
      },
      "text/plain": [
       "Training: |          | 0/? [00:00<?, ?it/s]"
      ]
     },
     "metadata": {},
     "output_type": "display_data"
    },
    {
     "data": {
      "application/vnd.jupyter.widget-view+json": {
       "model_id": "9c4d6ab1728a45ae87c26fd8ea321bf9",
       "version_major": 2,
       "version_minor": 0
      },
      "text/plain": [
       "Validation: |          | 0/? [00:00<?, ?it/s]"
      ]
     },
     "metadata": {},
     "output_type": "display_data"
    },
    {
     "name": "stdout",
     "output_type": "stream",
     "text": [
      " Val. Loss: 0.4490\n"
     ]
    },
    {
     "data": {
      "application/vnd.jupyter.widget-view+json": {
       "model_id": "45f31c1fe9924ee886912341b7113369",
       "version_major": 2,
       "version_minor": 0
      },
      "text/plain": [
       "Validation: |          | 0/? [00:00<?, ?it/s]"
      ]
     },
     "metadata": {},
     "output_type": "display_data"
    },
    {
     "name": "stdout",
     "output_type": "stream",
     "text": [
      " Val. Loss: 0.2872\n"
     ]
    },
    {
     "data": {
      "application/vnd.jupyter.widget-view+json": {
       "model_id": "2688b24372f24a0b83b1ecee3ed11b47",
       "version_major": 2,
       "version_minor": 0
      },
      "text/plain": [
       "Validation: |          | 0/? [00:00<?, ?it/s]"
      ]
     },
     "metadata": {},
     "output_type": "display_data"
    },
    {
     "name": "stdout",
     "output_type": "stream",
     "text": [
      " Val. Loss: 0.2319\n"
     ]
    },
    {
     "data": {
      "application/vnd.jupyter.widget-view+json": {
       "model_id": "d84bfdbeeee441fdaf11f3a6fbd3c30e",
       "version_major": 2,
       "version_minor": 0
      },
      "text/plain": [
       "Validation: |          | 0/? [00:00<?, ?it/s]"
      ]
     },
     "metadata": {},
     "output_type": "display_data"
    },
    {
     "name": "stdout",
     "output_type": "stream",
     "text": [
      " Val. Loss: 0.2044\n"
     ]
    },
    {
     "data": {
      "application/vnd.jupyter.widget-view+json": {
       "model_id": "bdbf3d371f3b443c8238ee63a990a1f9",
       "version_major": 2,
       "version_minor": 0
      },
      "text/plain": [
       "Validation: |          | 0/? [00:00<?, ?it/s]"
      ]
     },
     "metadata": {},
     "output_type": "display_data"
    },
    {
     "name": "stdout",
     "output_type": "stream",
     "text": [
      " Val. Loss: 0.1867\n"
     ]
    },
    {
     "data": {
      "application/vnd.jupyter.widget-view+json": {
       "model_id": "574875cd044b4f83b7c08e049c179d32",
       "version_major": 2,
       "version_minor": 0
      },
      "text/plain": [
       "Validation: |          | 0/? [00:00<?, ?it/s]"
      ]
     },
     "metadata": {},
     "output_type": "display_data"
    },
    {
     "name": "stdout",
     "output_type": "stream",
     "text": [
      " Val. Loss: 0.1793\n"
     ]
    },
    {
     "data": {
      "application/vnd.jupyter.widget-view+json": {
       "model_id": "e15a34e3b0db41c999d22dc296b4ad8a",
       "version_major": 2,
       "version_minor": 0
      },
      "text/plain": [
       "Validation: |          | 0/? [00:00<?, ?it/s]"
      ]
     },
     "metadata": {},
     "output_type": "display_data"
    },
    {
     "name": "stdout",
     "output_type": "stream",
     "text": [
      " Val. Loss: 0.1772\n"
     ]
    },
    {
     "data": {
      "application/vnd.jupyter.widget-view+json": {
       "model_id": "afaeba8ae69d4b61afec1f8c5b7187c8",
       "version_major": 2,
       "version_minor": 0
      },
      "text/plain": [
       "Validation: |          | 0/? [00:00<?, ?it/s]"
      ]
     },
     "metadata": {},
     "output_type": "display_data"
    },
    {
     "name": "stdout",
     "output_type": "stream",
     "text": [
      " Val. Loss: 0.1745\n"
     ]
    },
    {
     "data": {
      "application/vnd.jupyter.widget-view+json": {
       "model_id": "000b99cb6be84764ac55be3065db5597",
       "version_major": 2,
       "version_minor": 0
      },
      "text/plain": [
       "Validation: |          | 0/? [00:00<?, ?it/s]"
      ]
     },
     "metadata": {},
     "output_type": "display_data"
    },
    {
     "name": "stdout",
     "output_type": "stream",
     "text": [
      " Val. Loss: 0.1727\n"
     ]
    },
    {
     "data": {
      "application/vnd.jupyter.widget-view+json": {
       "model_id": "db67d37fc96c48498be564bdd9ede17b",
       "version_major": 2,
       "version_minor": 0
      },
      "text/plain": [
       "Validation: |          | 0/? [00:00<?, ?it/s]"
      ]
     },
     "metadata": {},
     "output_type": "display_data"
    },
    {
     "name": "stdout",
     "output_type": "stream",
     "text": [
      " Val. Loss: 0.1698\n"
     ]
    },
    {
     "data": {
      "application/vnd.jupyter.widget-view+json": {
       "model_id": "f1e82c1588024e90b4d4d3636aeaa0d4",
       "version_major": 2,
       "version_minor": 0
      },
      "text/plain": [
       "Validation: |          | 0/? [00:00<?, ?it/s]"
      ]
     },
     "metadata": {},
     "output_type": "display_data"
    },
    {
     "name": "stdout",
     "output_type": "stream",
     "text": [
      " Val. Loss: 0.1702\n"
     ]
    },
    {
     "data": {
      "application/vnd.jupyter.widget-view+json": {
       "model_id": "b0670dc3c109408d8b493f38cc334fec",
       "version_major": 2,
       "version_minor": 0
      },
      "text/plain": [
       "Validation: |          | 0/? [00:00<?, ?it/s]"
      ]
     },
     "metadata": {},
     "output_type": "display_data"
    },
    {
     "name": "stdout",
     "output_type": "stream",
     "text": [
      " Val. Loss: 0.1703\n"
     ]
    },
    {
     "data": {
      "application/vnd.jupyter.widget-view+json": {
       "model_id": "a3e73a22439d4709a35d03e55e63c277",
       "version_major": 2,
       "version_minor": 0
      },
      "text/plain": [
       "Validation: |          | 0/? [00:00<?, ?it/s]"
      ]
     },
     "metadata": {},
     "output_type": "display_data"
    },
    {
     "name": "stdout",
     "output_type": "stream",
     "text": [
      " Val. Loss: 0.1702\n"
     ]
    },
    {
     "data": {
      "application/vnd.jupyter.widget-view+json": {
       "model_id": "c5ed76e6a9d54e7d88f457899f9e4699",
       "version_major": 2,
       "version_minor": 0
      },
      "text/plain": [
       "Validation: |          | 0/? [00:00<?, ?it/s]"
      ]
     },
     "metadata": {},
     "output_type": "display_data"
    },
    {
     "name": "stdout",
     "output_type": "stream",
     "text": [
      " Val. Loss: 0.1701\n"
     ]
    },
    {
     "data": {
      "application/vnd.jupyter.widget-view+json": {
       "model_id": "bf62b32a114e4eb992416d2ffd942a92",
       "version_major": 2,
       "version_minor": 0
      },
      "text/plain": [
       "Validation: |          | 0/? [00:00<?, ?it/s]"
      ]
     },
     "metadata": {},
     "output_type": "display_data"
    },
    {
     "name": "stdout",
     "output_type": "stream",
     "text": [
      " Val. Loss: 0.1699\n"
     ]
    },
    {
     "data": {
      "application/vnd.jupyter.widget-view+json": {
       "model_id": "923a8dba770c4d478275f6d9291cd21b",
       "version_major": 2,
       "version_minor": 0
      },
      "text/plain": [
       "Validation: |          | 0/? [00:00<?, ?it/s]"
      ]
     },
     "metadata": {},
     "output_type": "display_data"
    },
    {
     "name": "stdout",
     "output_type": "stream",
     "text": [
      " Val. Loss: 0.1694\n"
     ]
    },
    {
     "data": {
      "application/vnd.jupyter.widget-view+json": {
       "model_id": "9a1a1c24feb745c7ae72f82d827d1a95",
       "version_major": 2,
       "version_minor": 0
      },
      "text/plain": [
       "Validation: |          | 0/? [00:00<?, ?it/s]"
      ]
     },
     "metadata": {},
     "output_type": "display_data"
    },
    {
     "name": "stdout",
     "output_type": "stream",
     "text": [
      " Val. Loss: 0.1698\n"
     ]
    },
    {
     "data": {
      "application/vnd.jupyter.widget-view+json": {
       "model_id": "0dd6cf92a7fd4d67b01b8814c83c3192",
       "version_major": 2,
       "version_minor": 0
      },
      "text/plain": [
       "Validation: |          | 0/? [00:00<?, ?it/s]"
      ]
     },
     "metadata": {},
     "output_type": "display_data"
    },
    {
     "name": "stdout",
     "output_type": "stream",
     "text": [
      " Val. Loss: 0.1701\n"
     ]
    },
    {
     "data": {
      "application/vnd.jupyter.widget-view+json": {
       "model_id": "15180774828c4a1ca58417e857217ab2",
       "version_major": 2,
       "version_minor": 0
      },
      "text/plain": [
       "Validation: |          | 0/? [00:00<?, ?it/s]"
      ]
     },
     "metadata": {},
     "output_type": "display_data"
    },
    {
     "name": "stdout",
     "output_type": "stream",
     "text": [
      " Val. Loss: 0.1699\n"
     ]
    },
    {
     "data": {
      "application/vnd.jupyter.widget-view+json": {
       "model_id": "d19cbc1198c54e67a2892db1ecb57ea5",
       "version_major": 2,
       "version_minor": 0
      },
      "text/plain": [
       "Validation: |          | 0/? [00:00<?, ?it/s]"
      ]
     },
     "metadata": {},
     "output_type": "display_data"
    },
    {
     "name": "stdout",
     "output_type": "stream",
     "text": [
      " Val. Loss: 0.1693\n"
     ]
    },
    {
     "data": {
      "application/vnd.jupyter.widget-view+json": {
       "model_id": "7ed47379a6fe44f899131584e0b980f0",
       "version_major": 2,
       "version_minor": 0
      },
      "text/plain": [
       "Validation: |          | 0/? [00:00<?, ?it/s]"
      ]
     },
     "metadata": {},
     "output_type": "display_data"
    },
    {
     "name": "stdout",
     "output_type": "stream",
     "text": [
      " Val. Loss: 0.1696\n"
     ]
    },
    {
     "data": {
      "application/vnd.jupyter.widget-view+json": {
       "model_id": "5eb405f62ee646b3a235f6704943d6e5",
       "version_major": 2,
       "version_minor": 0
      },
      "text/plain": [
       "Validation: |          | 0/? [00:00<?, ?it/s]"
      ]
     },
     "metadata": {},
     "output_type": "display_data"
    },
    {
     "name": "stdout",
     "output_type": "stream",
     "text": [
      " Val. Loss: 0.1701\n"
     ]
    },
    {
     "data": {
      "application/vnd.jupyter.widget-view+json": {
       "model_id": "828e2008c1594fa190ac96fd0b482f49",
       "version_major": 2,
       "version_minor": 0
      },
      "text/plain": [
       "Validation: |          | 0/? [00:00<?, ?it/s]"
      ]
     },
     "metadata": {},
     "output_type": "display_data"
    },
    {
     "name": "stdout",
     "output_type": "stream",
     "text": [
      " Val. Loss: 0.1694\n"
     ]
    },
    {
     "data": {
      "application/vnd.jupyter.widget-view+json": {
       "model_id": "35b22340d5e4490dabfde289f540a6a5",
       "version_major": 2,
       "version_minor": 0
      },
      "text/plain": [
       "Validation: |          | 0/? [00:00<?, ?it/s]"
      ]
     },
     "metadata": {},
     "output_type": "display_data"
    },
    {
     "name": "stdout",
     "output_type": "stream",
     "text": [
      " Val. Loss: 0.1695\n"
     ]
    },
    {
     "data": {
      "application/vnd.jupyter.widget-view+json": {
       "model_id": "c8c410cc66b24b86bee1b54f639e4f1a",
       "version_major": 2,
       "version_minor": 0
      },
      "text/plain": [
       "Validation: |          | 0/? [00:00<?, ?it/s]"
      ]
     },
     "metadata": {},
     "output_type": "display_data"
    },
    {
     "name": "stdout",
     "output_type": "stream",
     "text": [
      " Val. Loss: 0.1693\n"
     ]
    },
    {
     "data": {
      "application/vnd.jupyter.widget-view+json": {
       "model_id": "af6ac53f80134629916077bf3530b44b",
       "version_major": 2,
       "version_minor": 0
      },
      "text/plain": [
       "Validation: |          | 0/? [00:00<?, ?it/s]"
      ]
     },
     "metadata": {},
     "output_type": "display_data"
    },
    {
     "name": "stdout",
     "output_type": "stream",
     "text": [
      " Val. Loss: 0.1696\n"
     ]
    },
    {
     "data": {
      "application/vnd.jupyter.widget-view+json": {
       "model_id": "b8d855dd2f6747cd80740cd8f70a90f8",
       "version_major": 2,
       "version_minor": 0
      },
      "text/plain": [
       "Validation: |          | 0/? [00:00<?, ?it/s]"
      ]
     },
     "metadata": {},
     "output_type": "display_data"
    },
    {
     "name": "stdout",
     "output_type": "stream",
     "text": [
      " Val. Loss: 0.1697\n"
     ]
    },
    {
     "data": {
      "application/vnd.jupyter.widget-view+json": {
       "model_id": "5aa5a13c34bd45679999e93634de42ce",
       "version_major": 2,
       "version_minor": 0
      },
      "text/plain": [
       "Validation: |          | 0/? [00:00<?, ?it/s]"
      ]
     },
     "metadata": {},
     "output_type": "display_data"
    },
    {
     "name": "stdout",
     "output_type": "stream",
     "text": [
      " Val. Loss: 0.1694\n"
     ]
    },
    {
     "data": {
      "application/vnd.jupyter.widget-view+json": {
       "model_id": "1d0fe50bfcd74055b3f7920be4b9fd18",
       "version_major": 2,
       "version_minor": 0
      },
      "text/plain": [
       "Validation: |          | 0/? [00:00<?, ?it/s]"
      ]
     },
     "metadata": {},
     "output_type": "display_data"
    },
    {
     "name": "stdout",
     "output_type": "stream",
     "text": [
      " Val. Loss: 0.1692\n"
     ]
    },
    {
     "data": {
      "application/vnd.jupyter.widget-view+json": {
       "model_id": "1bce20093399413a9003a0f452d74828",
       "version_major": 2,
       "version_minor": 0
      },
      "text/plain": [
       "Validation: |          | 0/? [00:00<?, ?it/s]"
      ]
     },
     "metadata": {},
     "output_type": "display_data"
    },
    {
     "name": "stdout",
     "output_type": "stream",
     "text": [
      " Val. Loss: 0.1693\n"
     ]
    },
    {
     "data": {
      "application/vnd.jupyter.widget-view+json": {
       "model_id": "b4ced5a4d3de4dbba6fd0a7c1d832372",
       "version_major": 2,
       "version_minor": 0
      },
      "text/plain": [
       "Validation: |          | 0/? [00:00<?, ?it/s]"
      ]
     },
     "metadata": {},
     "output_type": "display_data"
    },
    {
     "name": "stdout",
     "output_type": "stream",
     "text": [
      " Val. Loss: 0.1694\n"
     ]
    },
    {
     "data": {
      "application/vnd.jupyter.widget-view+json": {
       "model_id": "3a144dd2f8fa41a8935a4a0858a24b18",
       "version_major": 2,
       "version_minor": 0
      },
      "text/plain": [
       "Validation: |          | 0/? [00:00<?, ?it/s]"
      ]
     },
     "metadata": {},
     "output_type": "display_data"
    },
    {
     "name": "stdout",
     "output_type": "stream",
     "text": [
      " Val. Loss: 0.1694\n"
     ]
    },
    {
     "data": {
      "application/vnd.jupyter.widget-view+json": {
       "model_id": "a54ca7c6a9544806bfc730efbad6a745",
       "version_major": 2,
       "version_minor": 0
      },
      "text/plain": [
       "Validation: |          | 0/? [00:00<?, ?it/s]"
      ]
     },
     "metadata": {},
     "output_type": "display_data"
    },
    {
     "name": "stdout",
     "output_type": "stream",
     "text": [
      " Val. Loss: 0.1688\n"
     ]
    },
    {
     "data": {
      "application/vnd.jupyter.widget-view+json": {
       "model_id": "e8dc2eef99a34d18899a6d67523ab7a2",
       "version_major": 2,
       "version_minor": 0
      },
      "text/plain": [
       "Validation: |          | 0/? [00:00<?, ?it/s]"
      ]
     },
     "metadata": {},
     "output_type": "display_data"
    },
    {
     "name": "stdout",
     "output_type": "stream",
     "text": [
      " Val. Loss: 0.1687\n"
     ]
    },
    {
     "data": {
      "application/vnd.jupyter.widget-view+json": {
       "model_id": "eec24881cb264610959b23866d67bbc9",
       "version_major": 2,
       "version_minor": 0
      },
      "text/plain": [
       "Validation: |          | 0/? [00:00<?, ?it/s]"
      ]
     },
     "metadata": {},
     "output_type": "display_data"
    },
    {
     "name": "stdout",
     "output_type": "stream",
     "text": [
      " Val. Loss: 0.1689\n"
     ]
    },
    {
     "data": {
      "application/vnd.jupyter.widget-view+json": {
       "model_id": "910a6266dc6e488f99a29881ce56e01a",
       "version_major": 2,
       "version_minor": 0
      },
      "text/plain": [
       "Validation: |          | 0/? [00:00<?, ?it/s]"
      ]
     },
     "metadata": {},
     "output_type": "display_data"
    },
    {
     "name": "stdout",
     "output_type": "stream",
     "text": [
      " Val. Loss: 0.1691\n"
     ]
    },
    {
     "data": {
      "application/vnd.jupyter.widget-view+json": {
       "model_id": "5585ce44d6ff4f49ae9eb905463d9fca",
       "version_major": 2,
       "version_minor": 0
      },
      "text/plain": [
       "Validation: |          | 0/? [00:00<?, ?it/s]"
      ]
     },
     "metadata": {},
     "output_type": "display_data"
    },
    {
     "name": "stdout",
     "output_type": "stream",
     "text": [
      " Val. Loss: 0.1692\n"
     ]
    },
    {
     "data": {
      "application/vnd.jupyter.widget-view+json": {
       "model_id": "75a1daa37f7a485894a8466a65623c47",
       "version_major": 2,
       "version_minor": 0
      },
      "text/plain": [
       "Validation: |          | 0/? [00:00<?, ?it/s]"
      ]
     },
     "metadata": {},
     "output_type": "display_data"
    },
    {
     "name": "stdout",
     "output_type": "stream",
     "text": [
      " Val. Loss: 0.1693\n"
     ]
    },
    {
     "data": {
      "application/vnd.jupyter.widget-view+json": {
       "model_id": "e10295b59ab349a69a11c5625cced2c8",
       "version_major": 2,
       "version_minor": 0
      },
      "text/plain": [
       "Validation: |          | 0/? [00:00<?, ?it/s]"
      ]
     },
     "metadata": {},
     "output_type": "display_data"
    },
    {
     "name": "stdout",
     "output_type": "stream",
     "text": [
      " Val. Loss: 0.1689\n"
     ]
    },
    {
     "data": {
      "application/vnd.jupyter.widget-view+json": {
       "model_id": "291989169d8549a3979d098b54bf71d9",
       "version_major": 2,
       "version_minor": 0
      },
      "text/plain": [
       "Validation: |          | 0/? [00:00<?, ?it/s]"
      ]
     },
     "metadata": {},
     "output_type": "display_data"
    },
    {
     "name": "stderr",
     "output_type": "stream",
     "text": [
      "`Trainer.fit` stopped: `max_epochs=40` reached.\n",
      "LOCAL_RANK: 0 - CUDA_VISIBLE_DEVICES: [0]\n"
     ]
    },
    {
     "name": "stdout",
     "output_type": "stream",
     "text": [
      " Val. Loss: 0.1688\n"
     ]
    },
    {
     "data": {
      "application/vnd.jupyter.widget-view+json": {
       "model_id": "e9c0a62636da4dcebe942391d3f4b032",
       "version_major": 2,
       "version_minor": 0
      },
      "text/plain": [
       "Validation: |          | 0/? [00:00<?, ?it/s]"
      ]
     },
     "metadata": {},
     "output_type": "display_data"
    },
    {
     "name": "stdout",
     "output_type": "stream",
     "text": [
      " Val. Loss: 0.1688\n",
      "────────────────────────────────────────────────────────────────────────────────────────────────────────────────────────\n",
      "     Validate metric           DataLoader 0\n",
      "────────────────────────────────────────────────────────────────────────────────────────────────────────────────────────\n",
      "        val_loss            0.16884340345859528\n",
      "────────────────────────────────────────────────────────────────────────────────────────────────────────────────────────\n"
     ]
    },
    {
     "data": {
      "text/plain": [
       "[{'val_loss': 0.16884340345859528}]"
      ]
     },
     "execution_count": 25,
     "metadata": {},
     "output_type": "execute_result"
    }
   ],
   "source": [
    "datamodule = Datamodule(\n",
    "    datadir=Path(\"yeast_cell_in_microstructures_dataset\"),\n",
    "    dataset_class=YeastDetectionDataset,\n",
    "    batch_size=8,\n",
    ")\n",
    "\n",
    "datamodule.setup(\"fit\")\n",
    "\n",
    "trainer = L.Trainer(\n",
    "    accelerator=\"auto\",\n",
    "    max_epochs=40,\n",
    "    limit_train_batches=None,\n",
    "    limit_val_batches=None,\n",
    "    log_every_n_steps=10,\n",
    ")\n",
    "lit_module = Lit(\n",
    "    model=TinyYOLO(in_channels=1, num_anchors=len(rescaled_anchors), num_classes=2),\n",
    "    learning_rate=0.0005,\n",
    ")\n",
    "trainer.fit(\n",
    "    model=lit_module,\n",
    "    datamodule=datamodule,\n",
    ")\n",
    "trainer.validate(model=lit_module, datamodule=datamodule,)"
   ]
  },
  {
   "cell_type": "code",
   "execution_count": 49,
   "metadata": {},
   "outputs": [
    {
     "name": "stdout",
     "output_type": "stream",
     "text": [
      "{'classes': tensor([1, 2], dtype=torch.int32),\n",
      " 'map': tensor(0.4429),\n",
      " 'map_50': tensor(0.8272),\n",
      " 'map_75': tensor(0.4818),\n",
      " 'map_large': tensor(-1.),\n",
      " 'map_medium': tensor(-1.),\n",
      " 'map_per_class': tensor([0.6476, 0.2383]),\n",
      " 'map_small': tensor(0.4429),\n",
      " 'mar_1': tensor(0.2462),\n",
      " 'mar_10': tensor(0.5063),\n",
      " 'mar_100': tensor(0.5088),\n",
      " 'mar_100_per_class': tensor([0.7029, 0.3146]),\n",
      " 'mar_large': tensor(-1.),\n",
      " 'mar_medium': tensor(-1.),\n",
      " 'mar_small': tensor(0.5088)}\n"
     ]
    }
   ],
   "source": [
    "from pprint import pprint\n",
    "from torchmetrics.detection import MeanAveragePrecision\n",
    "\n",
    "metric = MeanAveragePrecision(iou_type=\"bbox\", box_format=\"cxcywh\", class_metrics=True).to(device)\n",
    "predicted_boxes = []\n",
    "target_boxes = []\n",
    "# итерируемся по элементам батча, собирая пердсказанные и верные рамки\n",
    "for i in range(len(y)):\n",
    "    # получаем предсказанные рамки\n",
    "    pred_boxes = cells_to_bboxes(preds[i:i+1], rescaled_anchors.to(device), is_predictions=True)\n",
    "    # ВАЖНО: делаем non-max suppression ДО расчёта метрик\n",
    "    pred_boxes = pred_boxes[nms(box_convert(pred_boxes[:, 2:], \"cxcywh\", \"xyxy\"), pred_boxes[:, 1], iou_threshold=0.3)]\n",
    "    predicted_boxes.append(\n",
    "        dict(\n",
    "            boxes=pred_boxes[:, 2:],\n",
    "            scores=pred_boxes[:, 1],\n",
    "            labels=pred_boxes[:, 0].long(),\n",
    "        )\n",
    "    )\n",
    "    # достаём правильные рамки\n",
    "    true_boxes = cells_to_bboxes(y[i:i+1], rescaled_anchors)\n",
    "    true_boxes = true_boxes[true_boxes[:, 1] == 1]\n",
    "\n",
    "    target_boxes.append(\n",
    "        dict(\n",
    "            boxes=true_boxes[:, 2:].to(device),\n",
    "            labels=true_boxes[:, 0].long().to(device),\n",
    "        )\n",
    "    )\n",
    "\n",
    "# обновляем состояние метрики\n",
    "# можно было и сразу посчитать, но мы имитируем ситуацию,\n",
    "# когда метрики используется для сбора данных по всем батчам\n",
    "metric.update(predicted_boxes, target_boxes)\n",
    "\n",
    "pprint(metric.compute())"
   ]
  }
 ],
 "metadata": {
  "kernelspec": {
   "display_name": "dl-mcs",
   "language": "python",
   "name": "python3"
  },
  "language_info": {
   "codemirror_mode": {
    "name": "ipython",
    "version": 3
   },
   "file_extension": ".py",
   "mimetype": "text/x-python",
   "name": "python",
   "nbconvert_exporter": "python",
   "pygments_lexer": "ipython3",
   "version": "3.12.9"
  }
 },
 "nbformat": 4,
 "nbformat_minor": 2
}
