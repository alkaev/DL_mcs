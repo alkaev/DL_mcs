{
  "cells": [
    {
      "cell_type": "markdown",
      "metadata": {
        "id": "OECyOwdHPNqC"
      },
      "source": [
        "## Обучаем первую модель на MNIST"
      ]
    },
    {
      "cell_type": "markdown",
      "metadata": {
        "id": "PUFQmv7IPNqE"
      },
      "source": [
        "План на сегодня: пишем первый пайплайн для обучения\n",
        "\n",
        "1. Пытаемся понять, какие компоненты нам нужны для обучения любой модели\n",
        "2. Выясняем, что многое уже есть в Pytorch\n",
        "3. Собираем наш первый скрипт для обучения на датасете MNIST"
      ]
    },
    {
      "cell_type": "markdown",
      "metadata": {
        "id": "m8hKqhpxPNqF"
      },
      "source": [
        "### 1. Разбираемся с данными\n",
        "\n",
        "https://pytorch.org/tutorials/beginner/basics/data_tutorial.html"
      ]
    },
    {
      "cell_type": "markdown",
      "metadata": {
        "id": "U5DG8upePNqF"
      },
      "source": [
        "#### 1.1. Организуем доступ к данным с `torch.utils.data.Dataset`"
      ]
    },
    {
      "cell_type": "markdown",
      "metadata": {
        "id": "4RHrTpQmPNqF"
      },
      "source": [
        "Датасет в pytorch - это объект класса, в котором реализовано два обязательных метода: `__getitem__(self, index: int)` (получение одиночного примера по индексу) и `__len__(self)` (получение общего количества примеров). Этих методов достаточно, чтобы разбивать датасет на минибатчи  - это работу делает класс `torch.utils.DataLoader` с помощью различных семплеров, с ними мы понакомимся позже"
      ]
    },
    {
      "cell_type": "code",
      "execution_count": null,
      "metadata": {
        "colab": {
          "base_uri": "https://localhost:8080/"
        },
        "id": "-mfK9MbQPNqG",
        "outputId": "dfdbf96a-676c-45e7-a014-8c6f7b093282"
      },
      "outputs": [
        {
          "output_type": "execute_result",
          "data": {
            "text/plain": [
              "<torch._C.Generator at 0x7a6b2c154a10>"
            ]
          },
          "metadata": {},
          "execution_count": 1
        }
      ],
      "source": [
        "import torch\n",
        "\n",
        "torch.manual_seed(42)"
      ]
    },
    {
      "cell_type": "code",
      "execution_count": null,
      "metadata": {
        "colab": {
          "base_uri": "https://localhost:8080/"
        },
        "id": "RGdfpc2IPNqG",
        "outputId": "60a7ac15-7b8a-4e01-c9f1-d7262a2af820"
      },
      "outputs": [
        {
          "output_type": "stream",
          "name": "stdout",
          "text": [
            "(tensor([0, 1, 2]), tensor(2))\n",
            "10\n"
          ]
        }
      ],
      "source": [
        "from torch.utils.data import Dataset\n",
        "\n",
        "\n",
        "class MyDataset(Dataset):\n",
        "    def __init__(self, n: int) -> None:\n",
        "        super().__init__()\n",
        "        self.data = torch.arange(n * 3).view((n, 3))\n",
        "        self.labels = torch.randint(0, 5, size=(n,))\n",
        "\n",
        "    def __getitem__(self, index: int) -> tuple[torch.Tensor, torch.Tensor]:\n",
        "        return self.data[index], self.labels[index]\n",
        "\n",
        "    def __len__(self) -> int:\n",
        "        return len(self.data)\n",
        "\n",
        "\n",
        "dataset = MyDataset(n=10)\n",
        "print(dataset[0])\n",
        "print(len(dataset))"
      ]
    },
    {
      "cell_type": "markdown",
      "metadata": {
        "id": "HQowv57aPNqH"
      },
      "source": [
        "Итерируемся по датасету:"
      ]
    },
    {
      "cell_type": "code",
      "execution_count": null,
      "metadata": {
        "colab": {
          "base_uri": "https://localhost:8080/"
        },
        "id": "7gBAHC4fPNqH",
        "outputId": "42027129-30b3-4dcf-e01c-a08f79f874a6"
      },
      "outputs": [
        {
          "output_type": "stream",
          "name": "stdout",
          "text": [
            "(tensor([0, 1, 2]), tensor(3))\n",
            "(tensor([3, 4, 5]), tensor(4))\n",
            "(tensor([6, 7, 8]), tensor(0))\n",
            "(tensor([ 9, 10, 11]), tensor(4))\n",
            "(tensor([12, 13, 14]), tensor(1))\n",
            "(tensor([15, 16, 17]), tensor(2))\n",
            "(tensor([18, 19, 20]), tensor(0))\n",
            "(tensor([21, 22, 23]), tensor(0))\n",
            "(tensor([24, 25, 26]), tensor(2))\n",
            "(tensor([27, 28, 29]), tensor(1))\n"
          ]
        }
      ],
      "source": [
        "dataset = MyDataset(10)\n",
        "for i in range(len(dataset)):\n",
        "    print(dataset[i])"
      ]
    },
    {
      "cell_type": "markdown",
      "metadata": {
        "id": "qxMhh64-PNqH"
      },
      "source": [
        "#### 1.2. Пакуем данные в батчи с `torch.utils.data.Dataloader`"
      ]
    },
    {
      "cell_type": "markdown",
      "metadata": {
        "id": "4OUP9Q6HPNqH"
      },
      "source": [
        "У `torch.utils.data.Dataloader` много аргументов, на практике чаще всего используются\n",
        "- `dataset` - объект, поддерживающий методы `__getitem__` и `__len__` (вопрос: можно ли передать список? словарь? множество?)\n",
        "- `batch_size` - размер мини-батча\n",
        "- `shuffle` - нужно ли перетасовать индексы перед нарезкой на минибатчи (это всегда стоит делать с обучающими данными, почему?)\n",
        "- `num_workers` - количество процессов, которые будут загружать данные - иногда позволяет ускорить обучение (подумайте, в каком случае?)"
      ]
    },
    {
      "cell_type": "code",
      "execution_count": null,
      "metadata": {
        "id": "tUpPZ_uRPNqI"
      },
      "outputs": [],
      "source": [
        "from torch.utils.data import DataLoader\n",
        "\n",
        "my_loader = DataLoader(\n",
        "    dataset=dataset,\n",
        "    batch_size=4,\n",
        "    shuffle=True,\n",
        "    # drop_last=\n",
        ")"
      ]
    },
    {
      "cell_type": "code",
      "execution_count": null,
      "metadata": {
        "colab": {
          "base_uri": "https://localhost:8080/"
        },
        "id": "u2z3KXJKPNqI",
        "outputId": "1fcfaec7-d5f7-42ab-9552-d7cf3b13cc63"
      },
      "outputs": [
        {
          "output_type": "stream",
          "name": "stdout",
          "text": [
            "tensor([[24, 25, 26],\n",
            "        [ 6,  7,  8],\n",
            "        [21, 22, 23],\n",
            "        [15, 16, 17]])\n",
            "tensor([2, 0, 0, 2])\n"
          ]
        }
      ],
      "source": [
        "for i, batch in enumerate(my_loader):\n",
        "    x, y = batch\n",
        "    if i == 0:\n",
        "        print(x)\n",
        "        print(y)"
      ]
    },
    {
      "cell_type": "markdown",
      "metadata": {
        "id": "X-JdnqoIPNqI"
      },
      "source": [
        "#### 1.3. Посмотрим на MNIST\n",
        "\n",
        "- какие атрибуты есть у объекта `torchvision.datasets.MNIST`?\n",
        "- как выглядит одно наблюдение?"
      ]
    },
    {
      "cell_type": "code",
      "execution_count": null,
      "metadata": {
        "colab": {
          "base_uri": "https://localhost:8080/"
        },
        "id": "UD2wV2hoPNqI",
        "outputId": "002706fe-82f3-4339-e007-0f291194d07f"
      },
      "outputs": [
        {
          "output_type": "stream",
          "name": "stdout",
          "text": [
            "Downloading http://yann.lecun.com/exdb/mnist/train-images-idx3-ubyte.gz\n",
            "Failed to download (trying next):\n",
            "HTTP Error 403: Forbidden\n",
            "\n",
            "Downloading https://ossci-datasets.s3.amazonaws.com/mnist/train-images-idx3-ubyte.gz\n",
            "Downloading https://ossci-datasets.s3.amazonaws.com/mnist/train-images-idx3-ubyte.gz to data/MNIST/raw/train-images-idx3-ubyte.gz\n"
          ]
        },
        {
          "output_type": "stream",
          "name": "stderr",
          "text": [
            "100%|██████████| 9912422/9912422 [00:00<00:00, 34336141.77it/s]\n"
          ]
        },
        {
          "output_type": "stream",
          "name": "stdout",
          "text": [
            "Extracting data/MNIST/raw/train-images-idx3-ubyte.gz to data/MNIST/raw\n",
            "\n",
            "Downloading http://yann.lecun.com/exdb/mnist/train-labels-idx1-ubyte.gz\n",
            "Failed to download (trying next):\n",
            "HTTP Error 403: Forbidden\n",
            "\n",
            "Downloading https://ossci-datasets.s3.amazonaws.com/mnist/train-labels-idx1-ubyte.gz\n",
            "Downloading https://ossci-datasets.s3.amazonaws.com/mnist/train-labels-idx1-ubyte.gz to data/MNIST/raw/train-labels-idx1-ubyte.gz\n"
          ]
        },
        {
          "output_type": "stream",
          "name": "stderr",
          "text": [
            "100%|██████████| 28881/28881 [00:00<00:00, 1098796.25it/s]\n"
          ]
        },
        {
          "output_type": "stream",
          "name": "stdout",
          "text": [
            "Extracting data/MNIST/raw/train-labels-idx1-ubyte.gz to data/MNIST/raw\n",
            "\n",
            "Downloading http://yann.lecun.com/exdb/mnist/t10k-images-idx3-ubyte.gz\n",
            "Failed to download (trying next):\n",
            "HTTP Error 403: Forbidden\n",
            "\n",
            "Downloading https://ossci-datasets.s3.amazonaws.com/mnist/t10k-images-idx3-ubyte.gz\n",
            "Downloading https://ossci-datasets.s3.amazonaws.com/mnist/t10k-images-idx3-ubyte.gz to data/MNIST/raw/t10k-images-idx3-ubyte.gz\n"
          ]
        },
        {
          "output_type": "stream",
          "name": "stderr",
          "text": [
            "100%|██████████| 1648877/1648877 [00:00<00:00, 9345054.11it/s]\n"
          ]
        },
        {
          "output_type": "stream",
          "name": "stdout",
          "text": [
            "Extracting data/MNIST/raw/t10k-images-idx3-ubyte.gz to data/MNIST/raw\n",
            "\n",
            "Downloading http://yann.lecun.com/exdb/mnist/t10k-labels-idx1-ubyte.gz\n",
            "Failed to download (trying next):\n",
            "HTTP Error 403: Forbidden\n",
            "\n",
            "Downloading https://ossci-datasets.s3.amazonaws.com/mnist/t10k-labels-idx1-ubyte.gz\n",
            "Downloading https://ossci-datasets.s3.amazonaws.com/mnist/t10k-labels-idx1-ubyte.gz to data/MNIST/raw/t10k-labels-idx1-ubyte.gz\n"
          ]
        },
        {
          "output_type": "stream",
          "name": "stderr",
          "text": [
            "100%|██████████| 4542/4542 [00:00<00:00, 3226715.58it/s]"
          ]
        },
        {
          "output_type": "stream",
          "name": "stdout",
          "text": [
            "Extracting data/MNIST/raw/t10k-labels-idx1-ubyte.gz to data/MNIST/raw\n",
            "\n"
          ]
        },
        {
          "output_type": "stream",
          "name": "stderr",
          "text": [
            "\n"
          ]
        }
      ],
      "source": [
        "from torchvision import datasets, transforms\n",
        "\n",
        "train_dataset = datasets.MNIST(\n",
        "    \"data\",\n",
        "    train=True,\n",
        "    download=True,\n",
        "    transform=transforms.ToTensor(),  # что это?\n",
        ")\n",
        "test_dataset = datasets.MNIST(\n",
        "    \"data\",\n",
        "    train=False,\n",
        "    download=True,\n",
        "    transform=transforms.ToTensor(),\n",
        ")"
      ]
    },
    {
      "cell_type": "code",
      "execution_count": null,
      "metadata": {
        "colab": {
          "base_uri": "https://localhost:8080/"
        },
        "id": "dOsnsfpaPNqI",
        "outputId": "d003ae2c-719c-4f87-a7e9-6b0ba68e76c8"
      },
      "outputs": [
        {
          "output_type": "execute_result",
          "data": {
            "text/plain": [
              "True"
            ]
          },
          "metadata": {},
          "execution_count": 7
        }
      ],
      "source": [
        "isinstance(train_dataset, Dataset)"
      ]
    },
    {
      "cell_type": "code",
      "execution_count": null,
      "metadata": {
        "colab": {
          "base_uri": "https://localhost:8080/"
        },
        "id": "02NQtCbOPNqI",
        "outputId": "12e35be9-4a45-4f82-828d-3b7ef7ec1a31"
      },
      "outputs": [
        {
          "output_type": "stream",
          "name": "stdout",
          "text": [
            "torch.Size([1, 28, 28])\n",
            "5\n"
          ]
        }
      ],
      "source": [
        "x, y = train_dataset[0]\n",
        "print(x.shape)\n",
        "print(y)"
      ]
    },
    {
      "cell_type": "markdown",
      "metadata": {
        "id": "ParcQFHXPNqI"
      },
      "source": [
        "**Задание 1 (1 балл)**. Используя `matplotlib`, выведите по одному примеру изображения для всех классов"
      ]
    },
    {
      "cell_type": "code",
      "execution_count": null,
      "metadata": {
        "id": "9_UewkpLPNqJ",
        "colab": {
          "base_uri": "https://localhost:8080/",
          "height": 445
        },
        "outputId": "c7744f94-f0b3-4215-9cf4-0838a49d4d80"
      },
      "outputs": [
        {
          "output_type": "stream",
          "name": "stdout",
          "text": [
            "Downloading data from https://storage.googleapis.com/tensorflow/tf-keras-datasets/mnist.npz\n",
            "\u001b[1m11490434/11490434\u001b[0m \u001b[32m━━━━━━━━━━━━━━━━━━━━\u001b[0m\u001b[37m\u001b[0m \u001b[1m0s\u001b[0m 0us/step\n"
          ]
        },
        {
          "output_type": "display_data",
          "data": {
            "text/plain": [
              "<Figure size 1000x400 with 10 Axes>"
            ],
            "image/png": "[encoded data removed]"
          },
          "metadata": {}
        }
      ],
      "source": [
        "import matplotlib.pyplot as plt\n",
        "import numpy as np\n",
        "from tensorflow.keras.datasets import mnist\n",
        "\n",
        "# Загрузка данных MNIST\n",
        "(train_images, train_labels), (_, _) = mnist.load_data()\n",
        "\n",
        "# Создаем список для хранения примеров каждого класса\n",
        "classes = np.unique(train_labels)\n",
        "class_examples = {}\n",
        "\n",
        "# Отбираем по одному примеру каждого класса\n",
        "for label in classes:\n",
        "    idx = np.where(train_labels == label)[0][0]\n",
        "    class_examples[label] = train_images[idx]\n",
        "\n",
        "# Выводим изображения\n",
        "plt.figure(figsize=(10, 4))\n",
        "for i, (label, image) in enumerate(class_examples.items()):\n",
        "    plt.subplot(2, 5, i+1)\n",
        "    plt.imshow(image, cmap='gray')\n",
        "    plt.title(f'Class {label}')\n",
        "    plt.axis('off')\n",
        "\n",
        "plt.tight_layout()\n",
        "plt.show()"
      ]
    },
    {
      "cell_type": "markdown",
      "metadata": {
        "id": "hqdEZrPiPNqJ"
      },
      "source": [
        "Попробуем получить минибатч:"
      ]
    },
    {
      "cell_type": "code",
      "execution_count": null,
      "metadata": {
        "id": "Qe2xOT-jPNqJ"
      },
      "outputs": [],
      "source": [
        "batch_size = 4\n",
        "train_loader = DataLoader(train_dataset, batch_size=batch_size, shuffle=True)\n",
        "test_loader = DataLoader(test_dataset, batch_size=batch_size, shuffle=False)"
      ]
    },
    {
      "cell_type": "markdown",
      "metadata": {
        "id": "pOfRHY7jPNqJ"
      },
      "source": [
        "Что возвращает `iter()`?"
      ]
    },
    {
      "cell_type": "code",
      "execution_count": null,
      "metadata": {
        "id": "sVvklwYvPNqJ",
        "outputId": "1a84d53e-cc24-4b89-c967-cc700aaf7737",
        "colab": {
          "base_uri": "https://localhost:8080/"
        }
      },
      "outputs": [
        {
          "output_type": "stream",
          "name": "stdout",
          "text": [
            "torch.Size([4, 1, 28, 28])\n",
            "torch.Size([4])\n"
          ]
        }
      ],
      "source": [
        "batch: tuple[torch.Tensor, torch.Tensor] = next(iter(train_loader))\n",
        "x, y = batch\n",
        "print(x.shape)\n",
        "print(y.shape)"
      ]
    },
    {
      "cell_type": "markdown",
      "metadata": {
        "id": "zLuWmNhSPNqJ"
      },
      "source": [
        "Со свёрточными сетями мы познакомимся позже, сейчас же мы будем экспериментировать с обычными полносвязными сетями, но для этого нам нужно будет преобразовать форму батча из `(batch_size, channels, width, height)` в `(batch_size, channels * width * height)`:"
      ]
    },
    {
      "cell_type": "markdown",
      "metadata": {
        "id": "pvsKkQVDPNqJ"
      },
      "source": [
        "**Задание 2 (1 балл)**. Есть несколько способов изменить форму (shape) тензора. Приведите все знаковые вам способы привести батч с изображениями в форму `(batch_size, channels * width * height)`"
      ]
    },
    {
      "cell_type": "code",
      "execution_count": null,
      "metadata": {
        "id": "0BRfYfK6PNqJ",
        "colab": {
          "base_uri": "https://localhost:8080/",
          "height": 36
        },
        "outputId": "fa521eda-b875-4fb6-8573-8bbdfdfd90f4"
      },
      "outputs": [
        {
          "output_type": "execute_result",
          "data": {
            "text/plain": [
              "'\\n.view() \\n.reshape() \\n.flatten() \\n.permute() \\n.contiguous() \\n'"
            ],
            "application/vnd.google.colaboratory.intrinsic+json": {
              "type": "string"
            }
          },
          "metadata": {},
          "execution_count": 15
        }
      ],
      "source": [
        "batch_size, channels, width, height = x.shape\n",
        "input_dim = channels * width * height\n",
        "\"\"\"\n",
        ".view()\n",
        ".reshape()\n",
        ".flatten()\n",
        ".permute()\n",
        ".contiguous()\n",
        "\"\"\""
      ]
    },
    {
      "cell_type": "markdown",
      "metadata": {
        "id": "GRnK4mviPNqJ"
      },
      "source": [
        "Ура, с данными вроде разобрались! Теперь разберёмся с моделью"
      ]
    },
    {
      "cell_type": "markdown",
      "metadata": {
        "id": "6BV-t-pxPNqJ"
      },
      "source": [
        "### 2. Реализуем модель с помощью `torch.nn.Module`"
      ]
    },
    {
      "cell_type": "markdown",
      "metadata": {
        "id": "HCL2_m-JPNqJ"
      },
      "source": [
        "#### 2.1. Описываем параметры модели и прямой проход"
      ]
    },
    {
      "cell_type": "markdown",
      "metadata": {
        "id": "roZjsk21PNqK"
      },
      "source": [
        "Для простоты будем строить небольшую нейронку из двух полносвязных слоёв и `tanh` в качестве функции активации.\n",
        "\n",
        "$\\text{logits} = w_2^T(\\tanh(w_1^T x + b_1)) + b_2$\n",
        "\n",
        "Какие параметры должны быть в линейном слое?"
      ]
    },
    {
      "cell_type": "code",
      "execution_count": null,
      "metadata": {
        "id": "6tWyDNbBPNqK"
      },
      "outputs": [],
      "source": [
        "hidden_dim = 128  # размерность скрытого слоя\n",
        "n_classes = 10\n",
        "\n",
        "# первый слой\n",
        "w1 = torch.randn((input_dim, hidden_dim), requires_grad=True)\n",
        "b1 = torch.randn(hidden_dim, requires_grad=True)\n",
        "\n",
        "# второй слой\n",
        "w2 = torch.randn((hidden_dim, n_classes), requires_grad=True)\n",
        "b2 = torch.randn(n_classes, requires_grad=True)\n",
        "\n",
        "h = x.flatten(1) @ w1 + b1\n",
        "print(h.grad_fn)\n",
        "print(h.shape)\n",
        "\n",
        "# применяем нелинейность перед применением следующего слоя\n",
        "h = h.tanh()\n",
        "\n",
        "h = h @ w2 + b2\n",
        "print(h.grad_fn)\n",
        "print(h.shape)"
      ]
    },
    {
      "cell_type": "code",
      "execution_count": null,
      "metadata": {
        "id": "Frf8HKjkPNqK"
      },
      "outputs": [],
      "source": [
        "h"
      ]
    },
    {
      "cell_type": "markdown",
      "metadata": {
        "id": "QjmU0S91PNqK"
      },
      "source": [
        "Из этих выходных данных нам хотелось бы получить вероятностное распределение над возможными классами, то есть нужно как-то нормализовать эти активации, для этого обычно используется функция `softmax`:"
      ]
    },
    {
      "cell_type": "code",
      "execution_count": null,
      "metadata": {
        "id": "WMLIGqlWPNqK",
        "colab": {
          "base_uri": "https://localhost:8080/"
        },
        "outputId": "c895b89f-3428-483b-c446-a3c682836da6"
      },
      "outputs": [
        {
          "output_type": "execute_result",
          "data": {
            "text/plain": [
              "tensor([0.0875, 0.1361, 0.3852, 0.0321, 0.1009, 0.1273, 0.0733, 0.0299, 0.0156,\n",
              "        0.0121])"
            ]
          },
          "metadata": {},
          "execution_count": 51
        }
      ],
      "source": [
        "z = torch.randn(10)\n",
        "torch.softmax(z, 0)\n",
        "# zz = torch.exp(z) / torch.exp(z).sum()\n",
        "# zz.sum()"
      ]
    },
    {
      "cell_type": "markdown",
      "metadata": {
        "id": "2sKdHBBaPNqK"
      },
      "source": [
        "Применим к нашим данным:"
      ]
    },
    {
      "cell_type": "code",
      "execution_count": null,
      "metadata": {
        "id": "J3vcWlSfPNqK",
        "colab": {
          "base_uri": "https://localhost:8080/",
          "height": 141
        },
        "outputId": "550ed2d9-6400-491c-e36b-d14b5ddf248f"
      },
      "outputs": [
        {
          "output_type": "error",
          "ename": "NameError",
          "evalue": "name 'h' is not defined",
          "traceback": [
            "\u001b[0;31m---------------------------------------------------------------------------\u001b[0m",
            "\u001b[0;31mNameError\u001b[0m                                 Traceback (most recent call last)",
            "\u001b[0;32m<ipython-input-52-0bbea8a895c7>\u001b[0m in \u001b[0;36m<cell line: 1>\u001b[0;34m()\u001b[0m\n\u001b[0;32m----> 1\u001b[0;31m \u001b[0mh\u001b[0m\u001b[0;34m.\u001b[0m\u001b[0msoftmax\u001b[0m\u001b[0;34m(\u001b[0m\u001b[0mdim\u001b[0m\u001b[0;34m=\u001b[0m\u001b[0;36m1\u001b[0m\u001b[0;34m)\u001b[0m\u001b[0;34m\u001b[0m\u001b[0;34m\u001b[0m\u001b[0m\n\u001b[0m",
            "\u001b[0;31mNameError\u001b[0m: name 'h' is not defined"
          ]
        }
      ],
      "source": [
        "h.softmax(dim=1)"
      ]
    },
    {
      "cell_type": "markdown",
      "metadata": {
        "id": "lEIBjx8rPNqK"
      },
      "source": [
        "Обратите внимание: классы получились совсем не равновероятны, хотя мы ещё не учили модель. Подумайте, почему так произошло?\n",
        "Подробнее это мы обсудим на следующей практике."
      ]
    },
    {
      "cell_type": "markdown",
      "metadata": {
        "id": "letuNX_wPNqK"
      },
      "source": [
        "Параметры нашей модели находятся в глобальной области видимости. Решение - спрятать всё внутрь класса-наследника `torch.nn.Module`"
      ]
    },
    {
      "cell_type": "markdown",
      "metadata": {
        "id": "aowbQzF4PNqK"
      },
      "source": [
        "#### 2.2. Реализуем двуслойный перцептрон как наследник `nn.Module`"
      ]
    },
    {
      "cell_type": "markdown",
      "metadata": {
        "id": "TAyRPR9oPNqO"
      },
      "source": [
        "**Задание 3 (1 балл)**. Прочитайте документацию к классам `torch.nn.Module` и `torch.nn.Parameter`. Почему при задании параметров модели не стоит их создавать просто как `torch.tensor(..., requires_grad=True)`?"
      ]
    },
    {
      "cell_type": "code",
      "execution_count": null,
      "metadata": {
        "id": "7atzxf70PNqO",
        "colab": {
          "base_uri": "https://localhost:8080/",
          "height": 53
        },
        "outputId": "0a1b82e1-a29e-4548-9498-19efad2865f0"
      },
      "outputs": [
        {
          "output_type": "execute_result",
          "data": {
            "text/plain": [
              "'Использование torch.tensor(..., requires_grad=True) не регистрирует тензор как параметр модели.\\nЗначит оптимизаторы и другие механизмы не будут знать,что этот тензор нужно обновлять во время обратного распространения.'"
            ],
            "application/vnd.google.colaboratory.intrinsic+json": {
              "type": "string"
            }
          },
          "metadata": {},
          "execution_count": 17
        }
      ],
      "source": [
        "\"\"\"Использование torch.tensor(..., requires_grad=True) не регистрирует тензор как параметр модели.\n",
        "Значит оптимизаторы и другие механизмы не будут знать,что этот тензор нужно обновлять во время обратного распространения.\"\"\""
      ]
    },
    {
      "cell_type": "markdown",
      "metadata": {
        "id": "dxJ-pRegPNqO"
      },
      "source": [
        "**Задание 4 (1 балл)**. Чтобы сделать наш модуль рабочим, нужно определить два метода: `__init__` и `forward`. Реализуйте метод `forward`, который возвращает логиты, т. е. выход последнего линейного слоя без применения функции активации `softmax`"
      ]
    },
    {
      "cell_type": "code",
      "execution_count": null,
      "metadata": {
        "id": "DurLvyLAPNqO"
      },
      "outputs": [],
      "source": [
        "class SimpleNet(torch.nn.Module):\n",
        "    def __init__(self, input_dim: int, hidden_dim: int, output_dim: int) -> None:\n",
        "        super().__init__()\n",
        "        self.w1 = torch.nn.Parameter(torch.randn(input_dim, hidden_dim))\n",
        "        self.b1 = torch.nn.Parameter(torch.randn(hidden_dim))\n",
        "\n",
        "        self.w2 = torch.nn.Parameter(torch.randn(hidden_dim, output_dim))\n",
        "        self.b2 = torch.nn.Parameter(torch.randn(output_dim))\n",
        "\n",
        "    def forward(self, x: torch.Tensor) -> torch.Tensor:\n",
        "        hidden = torch.matmul(x, self.w1) + self.b1\n",
        "        hidden = torch.relu(hidden)\n",
        "        logits = torch.matmul(hidden, self.w2) + self.b2\n",
        "        return logits"
      ]
    },
    {
      "cell_type": "code",
      "execution_count": null,
      "metadata": {
        "id": "sVUMSWw6PNqO",
        "colab": {
          "base_uri": "https://localhost:8080/"
        },
        "outputId": "ecc9caa8-4af1-4ae7-8e83-ab453e1a2fa5"
      },
      "outputs": [
        {
          "output_type": "execute_result",
          "data": {
            "text/plain": [
              "torch.Size([32, 10])"
            ]
          },
          "metadata": {},
          "execution_count": 53
        }
      ],
      "source": [
        "model = SimpleNet(input_dim, hidden_dim, n_classes)\n",
        "model(x).shape"
      ]
    },
    {
      "cell_type": "markdown",
      "metadata": {
        "id": "k9kNjllFPNqO"
      },
      "source": [
        "Параметры модели:"
      ]
    },
    {
      "cell_type": "code",
      "execution_count": null,
      "metadata": {
        "id": "VlaIsuDFPNqO",
        "colab": {
          "base_uri": "https://localhost:8080/"
        },
        "outputId": "e46f1555-beb4-4d04-e156-87951983d378"
      },
      "outputs": [
        {
          "output_type": "execute_result",
          "data": {
            "text/plain": [
              "[('w1',\n",
              "  Parameter containing:\n",
              "  tensor([[-0.4833,  1.1003,  1.6497,  ..., -0.4619,  0.3176,  0.3544],\n",
              "          [ 0.1323, -0.3789, -0.2160,  ..., -0.4942,  0.5313,  0.0694],\n",
              "          [-1.9792, -0.8956, -0.3710,  ..., -0.8225,  0.8167, -0.7712],\n",
              "          ...,\n",
              "          [-0.2524,  1.3724,  0.7869,  ..., -0.7087,  1.0261,  0.0431],\n",
              "          [ 1.0059,  0.5968, -2.6199,  ...,  0.5565, -0.6058,  0.3181],\n",
              "          [ 0.3067, -1.1977,  0.8383,  ...,  0.0406,  0.0630,  0.0855]],\n",
              "         requires_grad=True)),\n",
              " ('b1',\n",
              "  Parameter containing:\n",
              "  tensor([ 1.1557e+00, -4.4822e-01,  1.9142e-01, -1.3616e+00,  7.1722e-01,\n",
              "           6.6379e-01, -6.1405e-01,  1.3502e+00,  5.9717e-01, -1.1031e+00,\n",
              "          -4.8588e-01, -1.4613e+00, -8.7228e-01,  8.9916e-01,  5.5902e-01,\n",
              "          -1.4034e+00, -4.4950e-02,  2.7086e-02, -1.2089e+00, -2.0392e-01,\n",
              "          -4.3619e-01, -4.1470e-04,  1.7490e+00, -1.6310e-01, -1.5554e+00,\n",
              "          -1.2879e+00, -1.5209e+00, -8.8056e-01,  1.8646e-02,  6.7518e-01,\n",
              "           1.0008e+00,  2.6435e+00,  1.8769e-01, -2.5043e+00,  6.9530e-01,\n",
              "           4.6901e-01, -1.7589e+00,  7.6134e-01, -8.3427e-01,  6.0055e-01,\n",
              "          -1.1446e+00, -1.2434e-01, -2.7047e-01,  8.3484e-01,  2.2499e+00,\n",
              "           8.1904e-02, -1.0347e+00, -4.1888e-02,  2.0093e+00,  5.0409e-02,\n",
              "           1.4091e+00,  4.1648e-02, -2.2337e-02,  1.0475e+00,  2.1332e-02,\n",
              "           1.1428e+00,  8.6800e-01, -1.9020e+00,  1.4810e-01, -9.7854e-01,\n",
              "           2.5342e-01,  3.9251e-01, -1.2603e+00, -1.5347e+00, -8.9366e-01,\n",
              "          -8.5602e-01,  5.5393e-01, -3.6713e-01,  2.7323e-01,  3.5508e-02,\n",
              "          -3.4361e-01, -2.0425e+00, -7.2689e-01,  1.6579e+00,  1.4123e+00,\n",
              "          -6.7296e-01, -1.6095e+00, -3.1187e-01, -1.1032e+00, -4.0689e-02,\n",
              "          -7.2346e-01,  9.1853e-01, -1.0466e-01, -5.0028e-01,  3.5403e-01,\n",
              "          -8.5942e-01,  2.1001e-01,  1.0709e-02, -9.0711e-01, -2.3880e-01,\n",
              "          -2.3605e+00, -2.6509e-01, -2.9011e+00, -4.0221e-01,  6.2128e-01,\n",
              "           4.7710e-01, -1.9940e+00,  2.3552e+00, -8.2786e-01, -1.4486e+00,\n",
              "          -9.2680e-01, -2.3931e+00, -6.0513e-02, -8.9464e-01,  2.5876e-01,\n",
              "           3.8625e-02, -6.4330e-01, -5.5846e-01,  1.1683e+00,  3.6619e-01,\n",
              "          -9.1004e-01, -8.6577e-01, -1.0390e+00, -1.2591e+00, -1.4103e+00,\n",
              "          -1.1525e+00, -2.6140e-02,  1.8443e-01,  1.2268e+00,  3.6477e-01,\n",
              "           1.3458e+00, -3.2933e-01,  1.1843e+00,  3.2383e-01,  1.0273e+00,\n",
              "          -6.9868e-01,  3.3952e-01,  1.6140e+00], requires_grad=True)),\n",
              " ('w2',\n",
              "  Parameter containing:\n",
              "  tensor([[-1.5074,  0.6582,  1.1909,  ...,  0.7734,  0.1627, -0.1330],\n",
              "          [-0.1078, -1.4610,  0.5012,  ..., -1.1195,  0.9576,  1.8190],\n",
              "          [ 0.0849, -1.4316,  1.4030,  ...,  1.2995, -0.1737, -1.0720],\n",
              "          ...,\n",
              "          [ 0.0422, -0.4631, -0.3181,  ...,  0.5446,  0.1737, -0.5834],\n",
              "          [-0.8591,  1.8435, -0.6747,  ...,  0.1216,  0.9762,  0.6557],\n",
              "          [ 1.0698, -1.1308, -0.4541,  ..., -0.4578, -1.3459,  0.6097]],\n",
              "         requires_grad=True)),\n",
              " ('b2',\n",
              "  Parameter containing:\n",
              "  tensor([ 0.3525, -1.6534, -0.1331, -0.3039, -0.7553,  0.9003,  1.8898, -0.4745,\n",
              "           0.6274, -1.7279], requires_grad=True))]"
            ]
          },
          "metadata": {},
          "execution_count": 54
        }
      ],
      "source": [
        "list(model.named_parameters())"
      ]
    },
    {
      "cell_type": "markdown",
      "metadata": {
        "id": "-Zke-9mgPNqO"
      },
      "source": [
        "Вручную обновлять значения многих параметров очень неудобно. К счастью, за нас это сделает оптимизатор"
      ]
    },
    {
      "cell_type": "code",
      "execution_count": null,
      "metadata": {
        "id": "8OL0OtQQPNqP",
        "colab": {
          "base_uri": "https://localhost:8080/"
        },
        "outputId": "854bc28e-fed4-4073-eb78-1ebe339831e4"
      },
      "outputs": [
        {
          "output_type": "stream",
          "name": "stdout",
          "text": [
            "SGD (\n",
            "Parameter Group 0\n",
            "    dampening: 0\n",
            "    differentiable: False\n",
            "    foreach: None\n",
            "    fused: None\n",
            "    lr: 0.01\n",
            "    maximize: False\n",
            "    momentum: 0\n",
            "    nesterov: False\n",
            "    weight_decay: 0\n",
            ")\n"
          ]
        }
      ],
      "source": [
        "optimizer = torch.optim.SGD(params=model.parameters(), lr=0.01)\n",
        "print(optimizer)"
      ]
    },
    {
      "cell_type": "markdown",
      "metadata": {
        "id": "fDCmjddJPNqP"
      },
      "source": [
        "#### 2.1. Считаем ошибку и градиенты на одном минибатче"
      ]
    },
    {
      "cell_type": "code",
      "execution_count": null,
      "metadata": {
        "id": "bnxEefCzPNqP",
        "colab": {
          "base_uri": "https://localhost:8080/"
        },
        "outputId": "14e00516-725d-484b-9d61-3abc2154faac"
      },
      "outputs": [
        {
          "output_type": "stream",
          "name": "stdout",
          "text": [
            "tensor(378.5316, grad_fn=<NllLossBackward0>)\n"
          ]
        }
      ],
      "source": [
        "# получим предсказания и посчитаем ошибку\n",
        "predictions = model.forward(x)\n",
        "loss = torch.nn.functional.cross_entropy(predictions, y)\n",
        "print(loss)\n",
        "# рассчитаем градиенты и обновим параметры\n",
        "loss.backward()\n",
        "optimizer.step()\n",
        "\n",
        "# не забудем почистить градиенты, мы не хотим их накапливать\n",
        "optimizer.zero_grad()"
      ]
    },
    {
      "cell_type": "markdown",
      "metadata": {
        "id": "LUsrB8XsPNqP"
      },
      "source": [
        "**Задание 5 (1 балл)**: Посчитайте значение перекрёстной энтропии самостоятельно по формуле, сверьтесь с результатом выше"
      ]
    },
    {
      "cell_type": "code",
      "execution_count": null,
      "metadata": {
        "id": "QeLRNR7_PNqP",
        "colab": {
          "base_uri": "https://localhost:8080/",
          "height": 176
        },
        "outputId": "398ad921-7749-4c42-a324-c7b7d5c44a78"
      },
      "outputs": [
        {
          "output_type": "error",
          "ename": "AssertionError",
          "evalue": "9.126385688781738 != 378.5315856933594",
          "traceback": [
            "\u001b[0;31m---------------------------------------------------------------------------\u001b[0m",
            "\u001b[0;31mAssertionError\u001b[0m                            Traceback (most recent call last)",
            "\u001b[0;32m<ipython-input-60-774eacd4d52e>\u001b[0m in \u001b[0;36m<cell line: 8>\u001b[0;34m()\u001b[0m\n\u001b[1;32m      6\u001b[0m         \u001b[0;32mif\u001b[0m \u001b[0my\u001b[0m\u001b[0;34m[\u001b[0m\u001b[0mi\u001b[0m\u001b[0;34m]\u001b[0m \u001b[0;34m==\u001b[0m \u001b[0mclass_num\u001b[0m\u001b[0;34m:\u001b[0m\u001b[0;34m\u001b[0m\u001b[0;34m\u001b[0m\u001b[0m\n\u001b[1;32m      7\u001b[0m             \u001b[0mce_loss\u001b[0m \u001b[0;34m-=\u001b[0m \u001b[0mpredictions\u001b[0m\u001b[0;34m[\u001b[0m\u001b[0mi\u001b[0m\u001b[0;34m]\u001b[0m\u001b[0;34m[\u001b[0m\u001b[0mclass_num\u001b[0m\u001b[0;34m]\u001b[0m\u001b[0;34m.\u001b[0m\u001b[0mlog\u001b[0m\u001b[0;34m(\u001b[0m\u001b[0;34m)\u001b[0m\u001b[0;34m\u001b[0m\u001b[0;34m\u001b[0m\u001b[0m\n\u001b[0;32m----> 8\u001b[0;31m \u001b[0;32massert\u001b[0m \u001b[0mtorch\u001b[0m\u001b[0;34m.\u001b[0m\u001b[0mallclose\u001b[0m\u001b[0;34m(\u001b[0m\u001b[0mce_loss\u001b[0m\u001b[0;34m,\u001b[0m \u001b[0mloss\u001b[0m\u001b[0;34m)\u001b[0m\u001b[0;34m,\u001b[0m \u001b[0;34mf\"{ce_loss} != {loss}\"\u001b[0m\u001b[0;34m\u001b[0m\u001b[0;34m\u001b[0m\u001b[0m\n\u001b[0m",
            "\u001b[0;31mAssertionError\u001b[0m: 9.126385688781738 != 378.5315856933594"
          ]
        }
      ],
      "source": [
        "# посчитайте ce_loss на основе значений переменных `predictions` и `y`\n",
        "ce_loss = torch.tensor(0.0)\n",
        "predictions = predictions.softmax(dim=1)\n",
        "for i in range(batch_size):\n",
        "    for class_num in range(10):\n",
        "        if y[i] == class_num:\n",
        "            ce_loss -= predictions[i][class_num].log()\n",
        "assert torch.allclose(ce_loss, loss), f\"{ce_loss} != {loss}\""
      ]
    },
    {
      "cell_type": "markdown",
      "metadata": {
        "id": "-0VF7xzPPNqP"
      },
      "source": [
        "### 3. Обучение"
      ]
    },
    {
      "cell_type": "markdown",
      "metadata": {
        "id": "4UKr2LsXPNqP"
      },
      "source": [
        "#### 3.1. Шаг обучения: что мы делаем с каждым минибатчем данных"
      ]
    },
    {
      "cell_type": "code",
      "execution_count": null,
      "metadata": {
        "id": "w4KNLgxaPNqP"
      },
      "outputs": [],
      "source": [
        "def training_step(\n",
        "    batch: tuple[torch.Tensor, torch.Tensor],\n",
        "    model: torch.nn.Module,\n",
        "    optimizer: torch.optim.Optimizer,\n",
        ") -> tuple[torch.Tensor, torch.Tensor]:\n",
        "    # прогоняем батч через модель\n",
        "    x, y = batch\n",
        "    predictions = model(x)\n",
        "    # оцениваем значение ошибки\n",
        "    loss = torch.nn.functional.cross_entropy(predictions, y)\n",
        "    # обновляем параметры\n",
        "    loss.backward()\n",
        "    optimizer.step()\n",
        "    optimizer.zero_grad()\n",
        "    # возвращаем значение функции ошибки для логирования\n",
        "    return loss, predictions"
      ]
    },
    {
      "cell_type": "markdown",
      "metadata": {
        "id": "zl_DLuZLPNqP"
      },
      "source": [
        "Для тестовых батчей нам не нужны градиенты, поэтому расчёты делаем внутри контекста `torch.no_grad`"
      ]
    },
    {
      "cell_type": "code",
      "execution_count": null,
      "metadata": {
        "id": "Z81zmxGGPNqP"
      },
      "outputs": [],
      "source": [
        "def test_step(\n",
        "    batch: tuple[torch.Tensor, torch.Tensor], model: torch.nn.Module\n",
        ") -> tuple[torch.Tensor, torch.Tensor]:\n",
        "    x, y = batch\n",
        "    with torch.no_grad():\n",
        "        predictions = model(x)\n",
        "        # оцениваем значение ошибки\n",
        "        loss = torch.nn.functional.cross_entropy(predictions, y)\n",
        "    return loss, predictions"
      ]
    },
    {
      "cell_type": "markdown",
      "metadata": {
        "id": "1KHZDRzwPNqQ"
      },
      "source": [
        "#### 3.2. А теперь: что мы хотим делать в каждой эпохе?"
      ]
    },
    {
      "cell_type": "markdown",
      "metadata": {
        "id": "vAyvPBYpPNqQ"
      },
      "source": [
        "**Задание 6 (2 балла)**: Напишите функцию для запуска одной эпохи (обучающей или тестовой), которая итерируется по минибатчам, обрабатывает их и в конце выводит среднюю ошибку и точность классификации. Запустите обучение на 10-15 эпох, добейтесь точности более 92% на тестовой выборке."
      ]
    },
    {
      "cell_type": "code",
      "execution_count": null,
      "metadata": {
        "id": "mnKfkSd0PNqQ"
      },
      "outputs": [],
      "source": [
        "def run_epoch(\n",
        "    is_train: bool,\n",
        "    dataloader: DataLoader,\n",
        "    model: torch.nn.Module,\n",
        "    optimizer: torch.optim.Optimizer,\n",
        ") -> None:\n",
        "    # ВАШ ХОД\n",
        "\n",
        "    for batch in dataloader:\n",
        "        ...\n",
        "\n",
        "    epoch_loss = ...\n",
        "    accuracy = ...\n",
        "    print(f\"Loss: {epoch_loss:.4f}, Accuracy: {accuracy:.4f}\")"
      ]
    },
    {
      "cell_type": "markdown",
      "metadata": {
        "id": "4OgVeMGMPNqQ"
      },
      "source": [
        "Создадим модель, оптимизатор и загрузчики данных и запустим обучение:"
      ]
    },
    {
      "cell_type": "code",
      "execution_count": null,
      "metadata": {
        "id": "aRFfLWF2PNqQ"
      },
      "outputs": [],
      "source": [
        "n_epochs = 15\n",
        "for i in range(n_epochs):\n",
        "    print(f\"Epoch {i} train:\")\n",
        "    run_epoch(True, train_loader, model, optimizer)\n",
        "    print(f\"Epoch {i} test:\")\n",
        "    run_epoch(False, test_loader, model, optimizer)"
      ]
    }
  ],
  "metadata": {
    "kernelspec": {
      "display_name": "dl-course",
      "language": "python",
      "name": "python3"
    },
    "language_info": {
      "codemirror_mode": {
        "name": "ipython",
        "version": 3
      },
      "file_extension": ".py",
      "mimetype": "text/x-python",
      "name": "python",
      "nbconvert_exporter": "python",
      "pygments_lexer": "ipython3",
      "version": "3.12.5"
    },
    "orig_nbformat": 4,
    "colab": {
      "provenance": []
    }
  },
  "nbformat": 4,
  "nbformat_minor": 0
}