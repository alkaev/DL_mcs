{
  "cells": [
    {
      "cell_type": "markdown",
      "metadata": {
        "id": "BTDYoA5tbYXZ"
      },
      "source": [
        "## Основы pytorch"
      ]
    },
    {
      "cell_type": "markdown",
      "metadata": {
        "id": "i7pZAmIRbYXb"
      },
      "source": [
        "Для выполнения ДЗ создайте приватный репозиторий и добавьте `https://github.com/norsage` в collaborators (Settings -> Collaborators -> Add people)"
      ]
    },
    {
      "cell_type": "code",
      "execution_count": 2,
      "metadata": {
        "id": "ZIEC7jW0bYXc"
      },
      "outputs": [],
      "source": [
        "import torch"
      ]
    },
    {
      "cell_type": "markdown",
      "metadata": {
        "id": "tcTNVVgfbYXc"
      },
      "source": [
        "#### 1. Операции над тензорами (1 балл)"
      ]
    },
    {
      "cell_type": "markdown",
      "metadata": {
        "id": "668S5XGHbYXd"
      },
      "source": [
        "##### 1.1 Среднее значение по столбцам"
      ]
    },
    {
      "cell_type": "code",
      "execution_count": 5,
      "metadata": {
        "colab": {
          "base_uri": "https://localhost:8080/"
        },
        "id": "lPxlO8FHbYXd",
        "outputId": "0f6eb487-d2cc-4dbb-c4b6-06f27fd7fe62"
      },
      "outputs": [
        {
          "output_type": "execute_result",
          "data": {
            "text/plain": [
              "tensor([[2., 7., 6.],\n",
              "        [4., 6., 5.]])"
            ]
          },
          "metadata": {},
          "execution_count": 5
        }
      ],
      "source": [
        "torch.manual_seed(42)\n",
        "x = torch.randint(10, size=(2, 3)).float()\n",
        "x"
      ]
    },
    {
      "cell_type": "code",
      "execution_count": 6,
      "metadata": {
        "id": "5uKknN5vbYXd"
      },
      "outputs": [],
      "source": [
        "mean_by_row = x.mean(axis = 0)\n",
        "assert torch.allclose(\n",
        "    mean_by_row, _expected := torch.tensor([3.0, 6.5, 5.5])\n",
        "), f\"{mean_by_row} != {_expected}\""
      ]
    },
    {
      "cell_type": "markdown",
      "metadata": {
        "id": "Yv5lxcdFbYXe"
      },
      "source": [
        "##### 1.2. Взвешенное среднее\n",
        "В тензоре `w` находятся ненормализованные веса для расчёта взвешенных средних тензора `x` по строкам.\n",
        "\n",
        "Найдите эти взвешенные средние, получая нормализованные веса с помощью функции `torch.softmax` (или метода `.softmax`)"
      ]
    },
    {
      "cell_type": "code",
      "execution_count": 7,
      "metadata": {
        "colab": {
          "base_uri": "https://localhost:8080/"
        },
        "id": "N0IUSxAVbYXe",
        "outputId": "a8a8d2bc-4b2b-43d8-ad9f-2fdeff045954"
      },
      "outputs": [
        {
          "output_type": "stream",
          "name": "stdout",
          "text": [
            "tensor([[2., 7., 6.],\n",
            "        [4., 6., 5.]])\n",
            "tensor([[0., 4., 0.],\n",
            "        [3., 8., 4.]])\n"
          ]
        }
      ],
      "source": [
        "torch.manual_seed(42)\n",
        "x = torch.randint(10, size=(2, 3)).float()\n",
        "w = torch.randint(10, size=(2, 3)).float()\n",
        "print(x)\n",
        "print(w)"
      ]
    },
    {
      "cell_type": "code",
      "execution_count": 10,
      "metadata": {
        "id": "6ZH_aebybYXe"
      },
      "outputs": [],
      "source": [
        "w_avg = torch.sum(torch.softmax(w, dim=1) * x, dim=1)\n",
        "assert torch.allclose(\n",
        "    w_avg, _expected := torch.tensor([6.8940, 5.9690])\n",
        "), f\"{w_avg} != {_expected}\""
      ]
    },
    {
      "cell_type": "markdown",
      "metadata": {
        "id": "BaZoLTXNbYXf"
      },
      "source": [
        "##### 1.3. Умножение матриц на векторы\n",
        "\n",
        "В тензоре `m` - две матрицы, нужно сделать тензор, в котором i-й элемент - результат умножения матрицы `m[i]` на вектор `x[i]`.\n",
        "\n",
        "Это можно было бы сделать так: `torch.stack([m[i] @ x[i] for i in len(m)])`.\n",
        "\n",
        "Попробуйте найти решение без цикла."
      ]
    },
    {
      "cell_type": "code",
      "execution_count": 14,
      "metadata": {
        "colab": {
          "base_uri": "https://localhost:8080/"
        },
        "id": "nCpdk0kEbYXf",
        "outputId": "2408bd54-5c4f-4512-c293-b2de6321f375"
      },
      "outputs": [
        {
          "output_type": "stream",
          "name": "stdout",
          "text": [
            "tensor([[[0., 4., 0.],\n",
            "         [3., 8., 4.],\n",
            "         [0., 4., 1.]],\n",
            "\n",
            "        [[2., 5., 5.],\n",
            "         [7., 6., 9.],\n",
            "         [6., 3., 1.]]])\n",
            "tensor([[2., 7., 6.],\n",
            "        [4., 6., 5.]])\n"
          ]
        }
      ],
      "source": [
        "torch.manual_seed(42)\n",
        "x = torch.randint(10, size=(2, 3)).float()\n",
        "m = torch.randint(10, size=(2, 3, 3)).float()\n",
        "print(m)\n",
        "print(x)"
      ]
    },
    {
      "cell_type": "code",
      "execution_count": 16,
      "metadata": {
        "id": "b8Jev6KdbYXf"
      },
      "outputs": [],
      "source": [
        "matmul = torch.bmm(m, x.unsqueeze(2)).squeeze(2)\n",
        "assert torch.allclose(\n",
        "    matmul, _expected := torch.tensor([[28.0, 86.0, 34.0], [63.0, 109.0, 47.0]])\n",
        "), f\"{matmul} != {_expected}\""
      ]
    },
    {
      "cell_type": "markdown",
      "metadata": {
        "id": "gXFNvtGebYXf"
      },
      "source": [
        "##### 1.4. Матрица попарных расстояний\n",
        "\n",
        "Даны две матрицы `x` и `y`, нужно получить матрицу `d`, где `d[i, j]` - евклидово расстояние между векторами `x[i]` и `y[j]`.\n",
        "\n",
        "Подсказка 1: воспользуйтесь broadcasting и добавлением размерностей в исходные тензоры.\n",
        "\n",
        "Подсказка 2: можно не считать евклидово расстояние вручную, есть функция `torch.linalg.norm`\n",
        "\n"
      ]
    },
    {
      "cell_type": "code",
      "execution_count": 18,
      "metadata": {
        "colab": {
          "base_uri": "https://localhost:8080/"
        },
        "id": "9PYItnVjbYXf",
        "outputId": "bdd2106c-a7e6-402b-adf8-6028e717283f"
      },
      "outputs": [
        {
          "output_type": "stream",
          "name": "stdout",
          "text": [
            "tensor([[2., 7., 6.],\n",
            "        [4., 6., 5.]])\n",
            "tensor([[0., 4., 0.],\n",
            "        [3., 8., 4.],\n",
            "        [0., 4., 1.]])\n"
          ]
        }
      ],
      "source": [
        "torch.manual_seed(42)\n",
        "x = torch.randint(10, size=(2, 3)).float()\n",
        "y = torch.randint(10, size=(3, 3)).float()\n",
        "print(x)\n",
        "print(y)"
      ]
    },
    {
      "cell_type": "code",
      "execution_count": 19,
      "metadata": {
        "id": "J7Lb2hDVbYXf"
      },
      "outputs": [],
      "source": [
        "pdist = torch.linalg.norm(x.reshape(2,1,3)-y, dim=2)\n",
        "assert torch.allclose(\n",
        "    pdist,\n",
        "    _expected := torch.tensor([[7.0000, 2.4495, 6.1644], [6.7082, 2.4495, 6.0000]]),\n",
        "), f\"{pdist} != {_expected}\""
      ]
    },
    {
      "cell_type": "markdown",
      "metadata": {
        "id": "a1NF3lIebYXg"
      },
      "source": [
        "#### 2. Функция Power (1 балл)\n",
        "Используя сложение и умножение, реализуйте возведение в целочисленную степень FloatTensor как функцию autograd (т.е. наследника `torch.autograd.Function`)"
      ]
    },
    {
      "cell_type": "code",
      "execution_count": 39,
      "metadata": {
        "id": "6mW8-nwhbYXg"
      },
      "outputs": [],
      "source": [
        "class Power(torch.autograd.Function):\n",
        "    @staticmethod\n",
        "    def forward(tensor, p):\n",
        "        result = torch.ones_like(tensor)\n",
        "        if p == 0:\n",
        "            return result\n",
        "        for _ in range(abs(p)):\n",
        "            result *= tensor\n",
        "        if p < 0:\n",
        "            return torch.ones_like(result) / result\n",
        "        return result\n",
        "\n",
        "    @staticmethod\n",
        "    def setup_context(ctx, inputs, output):\n",
        "        # ctx is a context object that can be used to stash information\n",
        "        # for backward computation\n",
        "        tensor, p = inputs\n",
        "        ctx.tensor = tensor\n",
        "        ctx.p = p\n",
        "\n",
        "    @staticmethod\n",
        "    def backward(ctx, grad_output):\n",
        "        tensor = ctx.tensor\n",
        "        p = ctx.p\n",
        "\n",
        "        # Вычисляем градиент по входному тензору: p * x^(p-1)\n",
        "        grad_tensor = None\n",
        "        if p != 0:\n",
        "            grad_tensor = grad_output * p * tensor.Power(p - 1)\n",
        "        else:\n",
        "            grad_tensor = torch.zeros_like(tensor)\n",
        "\n",
        "        return grad_tensor, None"
      ]
    },
    {
      "cell_type": "code",
      "execution_count": 41,
      "metadata": {
        "id": "gstMCvOwbYXg"
      },
      "outputs": [],
      "source": [
        "assert torch.all(Power.apply(torch.tensor([1, 2, 3]), 0) == torch.tensor([1, 1, 1]))\n",
        "assert torch.all(Power.apply(torch.tensor([1, 2, 3]), 2) == torch.tensor([1, 4, 9]))"
      ]
    },
    {
      "cell_type": "markdown",
      "metadata": {
        "id": "YToRcERkbYXg"
      },
      "source": [
        "#### 3. Многочлен (3 балла)\n",
        "Найдите корень (он один) заданного полинома (очень хорошего!) с точностью до пяти знаков после запятой:\n",
        "1. Используя бинарный поиск https://en.wikipedia.org/wiki/Binary_search_algorithm\n",
        "2. Используя метод Ньютона https://en.wikipedia.org/wiki/Newton%27s_method\n",
        "   \n",
        "   Задаётся начальное приближение вблизи предположительного корня, после чего строится касательная к графику исследуемой функции в точке приближения, для которой находится пересечение с осью абсцисс. Эта точка берётся в качестве следующего приближения. И так далее, пока не будет достигнута необходимая точность.\n",
        "   \n",
        "   (hint: для вычисления производных используйте метод `backward()`)\n",
        "   \n",
        "   $x_{n+1} = x_{n} - \\frac{f(x_n)}{f'(x_n)}$\n",
        "\n",
        "Сравните скорость методов с помощью `%%timeit`, т.е. оцените, какой из них найдёт ответ быстрее"
      ]
    },
    {
      "cell_type": "code",
      "execution_count": 42,
      "metadata": {
        "id": "SUX9cWiybYXg"
      },
      "outputs": [],
      "source": [
        "from typing import Callable\n",
        "\n",
        "Polynomial = Callable[[torch.FloatTensor], torch.FloatTensor]\n",
        "\n",
        "\n",
        "def poly(x: torch.FloatTensor) -> torch.FloatTensor:\n",
        "    return x**7 + 5 * x**3 + 17 * x - 9"
      ]
    },
    {
      "cell_type": "code",
      "execution_count": 48,
      "metadata": {
        "id": "kaOjg4iUbYXg"
      },
      "outputs": [],
      "source": [
        "def bin_search_find_zero(poly: Polynomial) -> torch.FloatTensor:\n",
        "    left = -10\n",
        "    right = 10\n",
        "    mid = 0\n",
        "    while abs(poly(mid)) > 10**-5:\n",
        "        mid = (left + right) / 2\n",
        "        if poly(mid) > 0:\n",
        "          right = mid\n",
        "        else:\n",
        "          left = mid\n",
        "    return mid"
      ]
    },
    {
      "cell_type": "code",
      "execution_count": 59,
      "metadata": {
        "id": "EgSrdPZpbYXg"
      },
      "outputs": [],
      "source": [
        "def newton_find_zero(poly: Polynomial) -> torch.FloatTensor:\n",
        "    \"\"\"Функция для метода Ньютона\"\"\"\n",
        "\n",
        "    # первое приближение (не забываем про то, что понадобится градиент!)\n",
        "    x = torch.tensor(0.0, requires_grad=True)\n",
        "\n",
        "    # останавливаемся, если значение функции достаточно близко к нулю\n",
        "    tol = 10**-5\n",
        "\n",
        "    # значение\n",
        "    val = poly(x)\n",
        "\n",
        "    # цикл обновления\n",
        "    while abs(val) > tol:  # когда останавливаемся?\n",
        "        val.backward()\n",
        "\n",
        "        with torch.no_grad():\n",
        "          x -= val/x.grad\n",
        "        # получаем градиент, обновляем значение x, оцениваем f(x)\n",
        "        # hint: нужны ли нам градиенты, когда мы обновляем x?\n",
        "        x.grad = None\n",
        "        # hint: не забываем про обнуление градиента с прошлых шагов\n",
        "        val = poly(x)\n",
        "\n",
        "\n",
        "    return x"
      ]
    },
    {
      "cell_type": "code",
      "execution_count": 60,
      "metadata": {
        "colab": {
          "base_uri": "https://localhost:8080/"
        },
        "id": "OB542j9EbYXg",
        "outputId": "3a89adb2-62d1-4abc-bfe3-def68282e877"
      },
      "outputs": [
        {
          "output_type": "stream",
          "name": "stdout",
          "text": [
            "tensor(0.4936, requires_grad=True)\n",
            "tensor(1.9073e-06, grad_fn=<SubBackward0>)\n"
          ]
        }
      ],
      "source": [
        "x = newton_find_zero(poly)\n",
        "print(x)\n",
        "print(poly(x))"
      ]
    },
    {
      "cell_type": "code",
      "execution_count": 52,
      "metadata": {
        "colab": {
          "base_uri": "https://localhost:8080/"
        },
        "id": "EE85WUvLbYXg",
        "outputId": "27684c3e-f98b-4629-b6d5-cc4ce9590021"
      },
      "outputs": [
        {
          "output_type": "stream",
          "name": "stdout",
          "text": [
            "867 ns ± 3.74 ns per loop (mean ± std. dev. of 7 runs, 1000000 loops each)\n"
          ]
        }
      ],
      "source": [
        "%%timeit\n",
        "x = newton_find_zero(poly)"
      ]
    },
    {
      "cell_type": "code",
      "source": [
        "%%timeit\n",
        "x = bin_search_find_zero(poly)"
      ],
      "metadata": {
        "colab": {
          "base_uri": "https://localhost:8080/"
        },
        "id": "BLKc3OKDz9LP",
        "outputId": "4acb8c2e-9463-4458-80a9-6957559217c5"
      },
      "execution_count": 49,
      "outputs": [
        {
          "output_type": "stream",
          "name": "stdout",
          "text": [
            "21.8 µs ± 552 ns per loop (mean ± std. dev. of 7 runs, 10000 loops each)\n"
          ]
        }
      ]
    }
  ],
  "metadata": {
    "kernelspec": {
      "display_name": "a3d",
      "language": "python",
      "name": "python3"
    },
    "language_info": {
      "codemirror_mode": {
        "name": "ipython",
        "version": 3
      },
      "file_extension": ".py",
      "mimetype": "text/x-python",
      "name": "python",
      "nbconvert_exporter": "python",
      "pygments_lexer": "ipython3",
      "version": "3.12.5"
    },
    "orig_nbformat": 4,
    "colab": {
      "provenance": []
    }
  },
  "nbformat": 4,
  "nbformat_minor": 0
}